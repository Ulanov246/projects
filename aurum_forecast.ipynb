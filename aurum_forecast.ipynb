{
 "cells": [
  {
   "cell_type": "markdown",
   "metadata": {},
   "source": [
    "Привет, меня зовут Артем Хуршудов. Сегодня я проверю твой проект.\n",
    "<br> Дальнейшее общение будет происходить на \"ты\" если это не вызывает никаких проблем.\n",
    "<br> Желательно реагировать на каждый мой комментарий ('исправил', 'не понятно как исправить ошибку', ...)\n",
    "<br> Пожалуйста, не удаляй комментарии ревьюера, так как они повышают качество повторного ревью.\n",
    "\n",
    "Комментарии будут в <font color='green'>зеленой</font>, <font color='blue'>синей</font> или <font color='red'>красной</font> рамках:\n",
    "\n",
    "<div class=\"alert alert-block alert-success\">\n",
    "<b>Успех:</b> Если все сделано отлично\n",
    "</div>\n",
    "\n",
    "<div class=\"alert alert-block alert-info\">\n",
    "<b>Совет: </b> Если можно немного улучшить\n",
    "</div>\n",
    "\n",
    "<div class=\"alert alert-block alert-danger\">\n",
    "<b>Ошибка:</b> Если требуются исправления. Работа не может быть принята с красными комментариями.\n",
    "</div>\n",
    "\n",
    "-------------------\n",
    "\n",
    "Будет очень хорошо, если ты будешь помечать свои действия следующим образом:\n",
    "<div class=\"alert alert-block alert-warning\">\n",
    "<b>Комментарий студента:</b> ...\n",
    "</div>\n",
    "\n",
    "<div class=\"alert alert-block alert-warning\">\n",
    "<b>Изменения:</b> Были внесены следующие изменения ...\n",
    "</div>\n",
    "\n",
    "### <font color='orange'>Общее впечатление</font>\n",
    "* Большое спасибо за проделанную работу. Видно, что приложено много усилий.\n",
    "* Выводы и рассуждения получились содержательными, их было интересно читать.\n",
    "* Работа в целом и каждый шаг в отдельности сделаны хорошо.\n",
    "* Я оставил несколько советов, надеюсь они будут учтены в будущих проектах.\n",
    "* Проект может быть зачтен, но я его отправлю назад, чтобы у тебя была возможность задать вопросы и внести правки, при желании. Однако, ты можешь просто вернуть проект в таком же виде и я его зачту."
   ]
  },
  {
   "cell_type": "markdown",
   "metadata": {},
   "source": [
    "### <font color='orange'>Общее впечатление (ревью 2)</font>\n",
    "* Проект зачтен!\n",
    "* Для удобства все новые комментарии обозначены фразой \"ревью 2\".\n",
    "* Удачи в дальнейшем обучении и следующих работах!"
   ]
  },
  {
   "cell_type": "markdown",
   "metadata": {
    "toc": true
   },
   "source": [
    "<h1>Содержание<span class=\"tocSkip\"></span></h1>\n",
    "<div class=\"toc\"><ul class=\"toc-item\"><li><ul class=\"toc-item\"><li><span><a href=\"#Общее-впечатление\" data-toc-modified-id=\"Общее-впечатление-0.1\"><span class=\"toc-item-num\">0.1&nbsp;&nbsp;</span><font color=\"orange\">Общее впечатление</font></a></span></li><li><span><a href=\"#Общее-впечатление-(ревью-2)\" data-toc-modified-id=\"Общее-впечатление-(ревью-2)-0.2\"><span class=\"toc-item-num\">0.2&nbsp;&nbsp;</span><font color=\"orange\">Общее впечатление (ревью 2)</font></a></span></li></ul></li><li><span><a href=\"#Подготовка-данных\" data-toc-modified-id=\"Подготовка-данных-1\"><span class=\"toc-item-num\">1&nbsp;&nbsp;</span>Подготовка данных</a></span></li><li><span><a href=\"#Анализ-данных\" data-toc-modified-id=\"Анализ-данных-2\"><span class=\"toc-item-num\">2&nbsp;&nbsp;</span>Анализ данных</a></span><ul class=\"toc-item\"><li><span><a href=\"#Исследование-концентрации-металлов-(Au,-Ag,-Pb)-на-различных-этапах-очистки\" data-toc-modified-id=\"Исследование-концентрации-металлов-(Au,-Ag,-Pb)-на-различных-этапах-очистки-2.1\"><span class=\"toc-item-num\">2.1&nbsp;&nbsp;</span>Исследование концентрации металлов (Au, Ag, Pb) на различных этапах очистки</a></span></li><li><span><a href=\"#Исследование-размеров-гранул-сырья-на-обучающей-и-тестовой-выборках\" data-toc-modified-id=\"Исследование-размеров-гранул-сырья-на-обучающей-и-тестовой-выборках-2.2\"><span class=\"toc-item-num\">2.2&nbsp;&nbsp;</span>Исследование размеров гранул сырья на обучающей и тестовой выборках</a></span></li><li><span><a href=\"#Исследование-суммарной-концентрации-всех-веществ-в-сырье,-в-черновом-и-финальном-концентратах\" data-toc-modified-id=\"Исследование-суммарной-концентрации-всех-веществ-в-сырье,-в-черновом-и-финальном-концентратах-2.3\"><span class=\"toc-item-num\">2.3&nbsp;&nbsp;</span>Исследование суммарной концентрации всех веществ в сырье, в черновом и финальном концентратах</a></span></li><li><span><a href=\"#Вывод\" data-toc-modified-id=\"Вывод-2.4\"><span class=\"toc-item-num\">2.4&nbsp;&nbsp;</span>Вывод</a></span></li></ul></li><li><span><a href=\"#Модель\" data-toc-modified-id=\"Модель-3\"><span class=\"toc-item-num\">3&nbsp;&nbsp;</span>Модель</a></span><ul class=\"toc-item\"><li><span><a href=\"#Метрика-sMAPE\" data-toc-modified-id=\"Метрика-sMAPE-3.1\"><span class=\"toc-item-num\">3.1&nbsp;&nbsp;</span>Метрика sMAPE</a></span></li><li><span><a href=\"#Подготовка-признаков\" data-toc-modified-id=\"Подготовка-признаков-3.2\"><span class=\"toc-item-num\">3.2&nbsp;&nbsp;</span>Подготовка признаков</a></span></li><li><span><a href=\"#Выбор-модели\" data-toc-modified-id=\"Выбор-модели-3.3\"><span class=\"toc-item-num\">3.3&nbsp;&nbsp;</span>Выбор модели</a></span></li></ul></li><li><span><a href=\"#Вывод\" data-toc-modified-id=\"Вывод-4\"><span class=\"toc-item-num\">4&nbsp;&nbsp;</span>Вывод</a></span></li><li><span><a href=\"#Чек-лист-готовности-проекта\" data-toc-modified-id=\"Чек-лист-готовности-проекта-5\"><span class=\"toc-item-num\">5&nbsp;&nbsp;</span>Чек-лист готовности проекта</a></span></li></ul></div>"
   ]
  },
  {
   "cell_type": "markdown",
   "metadata": {},
   "source": [
    "# Восстановление золота из руды"
   ]
  },
  {
   "cell_type": "markdown",
   "metadata": {},
   "source": [
    "Подготовьте прототип модели машинного обучения для «Цифры». Компания разрабатывает решения для эффективной работы промышленных предприятий.\n",
    "\n",
    "Модель должна предсказать коэффициент восстановления золота из золотосодержащей руды. Используйте данные с параметрами добычи и очистки. \n",
    "\n",
    "Модель поможет оптимизировать производство, чтобы не запускать предприятие с убыточными характеристиками.\n",
    "\n",
    "Вам нужно:\n",
    "\n",
    "1. Подготовить данные;\n",
    "2. Провести исследовательский анализ данных;\n",
    "3. Построить и обучить модель.\n",
    "\n",
    "Чтобы выполнить проект, обращайтесь к библиотекам *pandas*, *matplotlib* и *sklearn.* Вам поможет их документация."
   ]
  },
  {
   "cell_type": "markdown",
   "metadata": {},
   "source": [
    "## Подготовка данных"
   ]
  },
  {
   "cell_type": "code",
   "execution_count": 2,
   "metadata": {},
   "outputs": [],
   "source": [
    "import pandas as pd\n",
    "import numpy as np\n",
    "import matplotlib.pyplot as plt\n",
    "import seaborn as sns\n",
    "from scipy import stats as st\n",
    "from sklearn.model_selection import GridSearchCV\n",
    "#from sklearn.model_selection import train_test_split\n",
    "from sklearn.metrics import make_scorer\n",
    "from sklearn.linear_model import LinearRegression\n",
    "from sklearn.ensemble import RandomForestRegressor\n",
    "from sklearn.tree import DecisionTreeRegressor\n",
    "from sklearn.metrics import mean_absolute_error\n",
    "#from sklearn.metrics import confusion_matrix\n",
    "#from sklearn.metrics import f1_score\n",
    "#from sklearn.metrics import accuracy_score"
   ]
  },
  {
   "cell_type": "markdown",
   "metadata": {},
   "source": [
    "<div class=\"alert alert-block alert-success\">\n",
    "<b>Успех:</b> Отлично, что все импорты собраны в первой ячейке ноутбука! Если у того, кто будет запускать твой ноутбук будут отсутствовать некоторые библиотеки, то он это увидит сразу, а не в процессе!\n",
    "</div>"
   ]
  },
  {
   "cell_type": "code",
   "execution_count": 3,
   "metadata": {},
   "outputs": [],
   "source": [
    "df_train = pd.read_csv('/datasets/gold_recovery_train_new.csv')\n",
    "df_test = pd.read_csv('/datasets/gold_recovery_test_new.csv')\n",
    "df = pd.read_csv('/datasets/gold_recovery_full_new.csv')"
   ]
  },
  {
   "cell_type": "code",
   "execution_count": 4,
   "metadata": {},
   "outputs": [
    {
     "name": "stdout",
     "output_type": "stream",
     "text": [
      "<class 'pandas.core.frame.DataFrame'>\n",
      "RangeIndex: 19439 entries, 0 to 19438\n",
      "Data columns (total 87 columns):\n",
      "date                                                  19439 non-null object\n",
      "final.output.concentrate_ag                           19438 non-null float64\n",
      "final.output.concentrate_pb                           19438 non-null float64\n",
      "final.output.concentrate_sol                          19228 non-null float64\n",
      "final.output.concentrate_au                           19439 non-null float64\n",
      "final.output.recovery                                 19439 non-null float64\n",
      "final.output.tail_ag                                  19438 non-null float64\n",
      "final.output.tail_pb                                  19338 non-null float64\n",
      "final.output.tail_sol                                 19433 non-null float64\n",
      "final.output.tail_au                                  19439 non-null float64\n",
      "primary_cleaner.input.sulfate                         19415 non-null float64\n",
      "primary_cleaner.input.depressant                      19402 non-null float64\n",
      "primary_cleaner.input.feed_size                       19439 non-null float64\n",
      "primary_cleaner.input.xanthate                        19335 non-null float64\n",
      "primary_cleaner.output.concentrate_ag                 19439 non-null float64\n",
      "primary_cleaner.output.concentrate_pb                 19323 non-null float64\n",
      "primary_cleaner.output.concentrate_sol                19069 non-null float64\n",
      "primary_cleaner.output.concentrate_au                 19439 non-null float64\n",
      "primary_cleaner.output.tail_ag                        19435 non-null float64\n",
      "primary_cleaner.output.tail_pb                        19418 non-null float64\n",
      "primary_cleaner.output.tail_sol                       19377 non-null float64\n",
      "primary_cleaner.output.tail_au                        19439 non-null float64\n",
      "primary_cleaner.state.floatbank8_a_air                19435 non-null float64\n",
      "primary_cleaner.state.floatbank8_a_level              19438 non-null float64\n",
      "primary_cleaner.state.floatbank8_b_air                19435 non-null float64\n",
      "primary_cleaner.state.floatbank8_b_level              19438 non-null float64\n",
      "primary_cleaner.state.floatbank8_c_air                19437 non-null float64\n",
      "primary_cleaner.state.floatbank8_c_level              19438 non-null float64\n",
      "primary_cleaner.state.floatbank8_d_air                19436 non-null float64\n",
      "primary_cleaner.state.floatbank8_d_level              19438 non-null float64\n",
      "rougher.calculation.sulfate_to_au_concentrate         19437 non-null float64\n",
      "rougher.calculation.floatbank10_sulfate_to_au_feed    19437 non-null float64\n",
      "rougher.calculation.floatbank11_sulfate_to_au_feed    19437 non-null float64\n",
      "rougher.calculation.au_pb_ratio                       19439 non-null float64\n",
      "rougher.input.feed_ag                                 19439 non-null float64\n",
      "rougher.input.feed_pb                                 19339 non-null float64\n",
      "rougher.input.feed_rate                               19428 non-null float64\n",
      "rougher.input.feed_size                               19294 non-null float64\n",
      "rougher.input.feed_sol                                19340 non-null float64\n",
      "rougher.input.feed_au                                 19439 non-null float64\n",
      "rougher.input.floatbank10_sulfate                     19405 non-null float64\n",
      "rougher.input.floatbank10_xanthate                    19431 non-null float64\n",
      "rougher.input.floatbank11_sulfate                     19395 non-null float64\n",
      "rougher.input.floatbank11_xanthate                    18986 non-null float64\n",
      "rougher.output.concentrate_ag                         19439 non-null float64\n",
      "rougher.output.concentrate_pb                         19439 non-null float64\n",
      "rougher.output.concentrate_sol                        19416 non-null float64\n",
      "rougher.output.concentrate_au                         19439 non-null float64\n",
      "rougher.output.recovery                               19439 non-null float64\n",
      "rougher.output.tail_ag                                19438 non-null float64\n",
      "rougher.output.tail_pb                                19439 non-null float64\n",
      "rougher.output.tail_sol                               19439 non-null float64\n",
      "rougher.output.tail_au                                19439 non-null float64\n",
      "rougher.state.floatbank10_a_air                       19438 non-null float64\n",
      "rougher.state.floatbank10_a_level                     19438 non-null float64\n",
      "rougher.state.floatbank10_b_air                       19438 non-null float64\n",
      "rougher.state.floatbank10_b_level                     19438 non-null float64\n",
      "rougher.state.floatbank10_c_air                       19438 non-null float64\n",
      "rougher.state.floatbank10_c_level                     19438 non-null float64\n",
      "rougher.state.floatbank10_d_air                       19439 non-null float64\n",
      "rougher.state.floatbank10_d_level                     19439 non-null float64\n",
      "rougher.state.floatbank10_e_air                       19003 non-null float64\n",
      "rougher.state.floatbank10_e_level                     19439 non-null float64\n",
      "rougher.state.floatbank10_f_air                       19439 non-null float64\n",
      "rougher.state.floatbank10_f_level                     19439 non-null float64\n",
      "secondary_cleaner.output.tail_ag                      19437 non-null float64\n",
      "secondary_cleaner.output.tail_pb                      19427 non-null float64\n",
      "secondary_cleaner.output.tail_sol                     17691 non-null float64\n",
      "secondary_cleaner.output.tail_au                      19439 non-null float64\n",
      "secondary_cleaner.state.floatbank2_a_air              19219 non-null float64\n",
      "secondary_cleaner.state.floatbank2_a_level            19438 non-null float64\n",
      "secondary_cleaner.state.floatbank2_b_air              19416 non-null float64\n",
      "secondary_cleaner.state.floatbank2_b_level            19438 non-null float64\n",
      "secondary_cleaner.state.floatbank3_a_air              19426 non-null float64\n",
      "secondary_cleaner.state.floatbank3_a_level            19438 non-null float64\n",
      "secondary_cleaner.state.floatbank3_b_air              19438 non-null float64\n",
      "secondary_cleaner.state.floatbank3_b_level            19438 non-null float64\n",
      "secondary_cleaner.state.floatbank4_a_air              19433 non-null float64\n",
      "secondary_cleaner.state.floatbank4_a_level            19438 non-null float64\n",
      "secondary_cleaner.state.floatbank4_b_air              19438 non-null float64\n",
      "secondary_cleaner.state.floatbank4_b_level            19438 non-null float64\n",
      "secondary_cleaner.state.floatbank5_a_air              19438 non-null float64\n",
      "secondary_cleaner.state.floatbank5_a_level            19438 non-null float64\n",
      "secondary_cleaner.state.floatbank5_b_air              19438 non-null float64\n",
      "secondary_cleaner.state.floatbank5_b_level            19438 non-null float64\n",
      "secondary_cleaner.state.floatbank6_a_air              19437 non-null float64\n",
      "secondary_cleaner.state.floatbank6_a_level            19438 non-null float64\n",
      "dtypes: float64(86), object(1)\n",
      "memory usage: 12.9+ MB\n"
     ]
    }
   ],
   "source": [
    "df.info()"
   ]
  },
  {
   "cell_type": "code",
   "execution_count": 5,
   "metadata": {
    "scrolled": true
   },
   "outputs": [
    {
     "data": {
      "text/plain": [
       "4481"
      ]
     },
     "execution_count": 5,
     "metadata": {},
     "output_type": "execute_result"
    }
   ],
   "source": [
    "df.isnull().sum().sum()"
   ]
  },
  {
   "cell_type": "code",
   "execution_count": 6,
   "metadata": {},
   "outputs": [
    {
     "name": "stdout",
     "output_type": "stream",
     "text": [
      "<class 'pandas.core.frame.DataFrame'>\n",
      "RangeIndex: 5290 entries, 0 to 5289\n",
      "Data columns (total 53 columns):\n",
      "date                                          5290 non-null object\n",
      "primary_cleaner.input.sulfate                 5286 non-null float64\n",
      "primary_cleaner.input.depressant              5285 non-null float64\n",
      "primary_cleaner.input.feed_size               5290 non-null float64\n",
      "primary_cleaner.input.xanthate                5286 non-null float64\n",
      "primary_cleaner.state.floatbank8_a_air        5290 non-null float64\n",
      "primary_cleaner.state.floatbank8_a_level      5290 non-null float64\n",
      "primary_cleaner.state.floatbank8_b_air        5290 non-null float64\n",
      "primary_cleaner.state.floatbank8_b_level      5290 non-null float64\n",
      "primary_cleaner.state.floatbank8_c_air        5290 non-null float64\n",
      "primary_cleaner.state.floatbank8_c_level      5290 non-null float64\n",
      "primary_cleaner.state.floatbank8_d_air        5290 non-null float64\n",
      "primary_cleaner.state.floatbank8_d_level      5290 non-null float64\n",
      "rougher.input.feed_ag                         5290 non-null float64\n",
      "rougher.input.feed_pb                         5290 non-null float64\n",
      "rougher.input.feed_rate                       5287 non-null float64\n",
      "rougher.input.feed_size                       5289 non-null float64\n",
      "rougher.input.feed_sol                        5269 non-null float64\n",
      "rougher.input.feed_au                         5290 non-null float64\n",
      "rougher.input.floatbank10_sulfate             5285 non-null float64\n",
      "rougher.input.floatbank10_xanthate            5290 non-null float64\n",
      "rougher.input.floatbank11_sulfate             5282 non-null float64\n",
      "rougher.input.floatbank11_xanthate            5265 non-null float64\n",
      "rougher.state.floatbank10_a_air               5290 non-null float64\n",
      "rougher.state.floatbank10_a_level             5290 non-null float64\n",
      "rougher.state.floatbank10_b_air               5290 non-null float64\n",
      "rougher.state.floatbank10_b_level             5290 non-null float64\n",
      "rougher.state.floatbank10_c_air               5290 non-null float64\n",
      "rougher.state.floatbank10_c_level             5290 non-null float64\n",
      "rougher.state.floatbank10_d_air               5290 non-null float64\n",
      "rougher.state.floatbank10_d_level             5290 non-null float64\n",
      "rougher.state.floatbank10_e_air               5290 non-null float64\n",
      "rougher.state.floatbank10_e_level             5290 non-null float64\n",
      "rougher.state.floatbank10_f_air               5290 non-null float64\n",
      "rougher.state.floatbank10_f_level             5290 non-null float64\n",
      "secondary_cleaner.state.floatbank2_a_air      5287 non-null float64\n",
      "secondary_cleaner.state.floatbank2_a_level    5290 non-null float64\n",
      "secondary_cleaner.state.floatbank2_b_air      5288 non-null float64\n",
      "secondary_cleaner.state.floatbank2_b_level    5290 non-null float64\n",
      "secondary_cleaner.state.floatbank3_a_air      5281 non-null float64\n",
      "secondary_cleaner.state.floatbank3_a_level    5290 non-null float64\n",
      "secondary_cleaner.state.floatbank3_b_air      5290 non-null float64\n",
      "secondary_cleaner.state.floatbank3_b_level    5290 non-null float64\n",
      "secondary_cleaner.state.floatbank4_a_air      5290 non-null float64\n",
      "secondary_cleaner.state.floatbank4_a_level    5290 non-null float64\n",
      "secondary_cleaner.state.floatbank4_b_air      5290 non-null float64\n",
      "secondary_cleaner.state.floatbank4_b_level    5290 non-null float64\n",
      "secondary_cleaner.state.floatbank5_a_air      5290 non-null float64\n",
      "secondary_cleaner.state.floatbank5_a_level    5290 non-null float64\n",
      "secondary_cleaner.state.floatbank5_b_air      5290 non-null float64\n",
      "secondary_cleaner.state.floatbank5_b_level    5290 non-null float64\n",
      "secondary_cleaner.state.floatbank6_a_air      5290 non-null float64\n",
      "secondary_cleaner.state.floatbank6_a_level    5290 non-null float64\n",
      "dtypes: float64(52), object(1)\n",
      "memory usage: 2.1+ MB\n"
     ]
    }
   ],
   "source": [
    "df_test.info()"
   ]
  },
  {
   "cell_type": "code",
   "execution_count": 7,
   "metadata": {},
   "outputs": [
    {
     "data": {
      "text/plain": [
       "90"
      ]
     },
     "execution_count": 7,
     "metadata": {},
     "output_type": "execute_result"
    }
   ],
   "source": [
    "df_test.isnull().sum().sum()"
   ]
  },
  {
   "cell_type": "code",
   "execution_count": 8,
   "metadata": {
    "scrolled": false
   },
   "outputs": [
    {
     "name": "stdout",
     "output_type": "stream",
     "text": [
      "<class 'pandas.core.frame.DataFrame'>\n",
      "RangeIndex: 14149 entries, 0 to 14148\n",
      "Data columns (total 87 columns):\n",
      "date                                                  14149 non-null object\n",
      "final.output.concentrate_ag                           14148 non-null float64\n",
      "final.output.concentrate_pb                           14148 non-null float64\n",
      "final.output.concentrate_sol                          13938 non-null float64\n",
      "final.output.concentrate_au                           14149 non-null float64\n",
      "final.output.recovery                                 14149 non-null float64\n",
      "final.output.tail_ag                                  14149 non-null float64\n",
      "final.output.tail_pb                                  14049 non-null float64\n",
      "final.output.tail_sol                                 14144 non-null float64\n",
      "final.output.tail_au                                  14149 non-null float64\n",
      "primary_cleaner.input.sulfate                         14129 non-null float64\n",
      "primary_cleaner.input.depressant                      14117 non-null float64\n",
      "primary_cleaner.input.feed_size                       14149 non-null float64\n",
      "primary_cleaner.input.xanthate                        14049 non-null float64\n",
      "primary_cleaner.output.concentrate_ag                 14149 non-null float64\n",
      "primary_cleaner.output.concentrate_pb                 14063 non-null float64\n",
      "primary_cleaner.output.concentrate_sol                13863 non-null float64\n",
      "primary_cleaner.output.concentrate_au                 14149 non-null float64\n",
      "primary_cleaner.output.tail_ag                        14148 non-null float64\n",
      "primary_cleaner.output.tail_pb                        14134 non-null float64\n",
      "primary_cleaner.output.tail_sol                       14103 non-null float64\n",
      "primary_cleaner.output.tail_au                        14149 non-null float64\n",
      "primary_cleaner.state.floatbank8_a_air                14145 non-null float64\n",
      "primary_cleaner.state.floatbank8_a_level              14148 non-null float64\n",
      "primary_cleaner.state.floatbank8_b_air                14145 non-null float64\n",
      "primary_cleaner.state.floatbank8_b_level              14148 non-null float64\n",
      "primary_cleaner.state.floatbank8_c_air                14147 non-null float64\n",
      "primary_cleaner.state.floatbank8_c_level              14148 non-null float64\n",
      "primary_cleaner.state.floatbank8_d_air                14146 non-null float64\n",
      "primary_cleaner.state.floatbank8_d_level              14148 non-null float64\n",
      "rougher.calculation.sulfate_to_au_concentrate         14148 non-null float64\n",
      "rougher.calculation.floatbank10_sulfate_to_au_feed    14148 non-null float64\n",
      "rougher.calculation.floatbank11_sulfate_to_au_feed    14148 non-null float64\n",
      "rougher.calculation.au_pb_ratio                       14149 non-null float64\n",
      "rougher.input.feed_ag                                 14149 non-null float64\n",
      "rougher.input.feed_pb                                 14049 non-null float64\n",
      "rougher.input.feed_rate                               14141 non-null float64\n",
      "rougher.input.feed_size                               14005 non-null float64\n",
      "rougher.input.feed_sol                                14071 non-null float64\n",
      "rougher.input.feed_au                                 14149 non-null float64\n",
      "rougher.input.floatbank10_sulfate                     14120 non-null float64\n",
      "rougher.input.floatbank10_xanthate                    14141 non-null float64\n",
      "rougher.input.floatbank11_sulfate                     14113 non-null float64\n",
      "rougher.input.floatbank11_xanthate                    13721 non-null float64\n",
      "rougher.output.concentrate_ag                         14149 non-null float64\n",
      "rougher.output.concentrate_pb                         14149 non-null float64\n",
      "rougher.output.concentrate_sol                        14127 non-null float64\n",
      "rougher.output.concentrate_au                         14149 non-null float64\n",
      "rougher.output.recovery                               14149 non-null float64\n",
      "rougher.output.tail_ag                                14148 non-null float64\n",
      "rougher.output.tail_pb                                14149 non-null float64\n",
      "rougher.output.tail_sol                               14149 non-null float64\n",
      "rougher.output.tail_au                                14149 non-null float64\n",
      "rougher.state.floatbank10_a_air                       14148 non-null float64\n",
      "rougher.state.floatbank10_a_level                     14148 non-null float64\n",
      "rougher.state.floatbank10_b_air                       14148 non-null float64\n",
      "rougher.state.floatbank10_b_level                     14148 non-null float64\n",
      "rougher.state.floatbank10_c_air                       14148 non-null float64\n",
      "rougher.state.floatbank10_c_level                     14148 non-null float64\n",
      "rougher.state.floatbank10_d_air                       14149 non-null float64\n",
      "rougher.state.floatbank10_d_level                     14149 non-null float64\n",
      "rougher.state.floatbank10_e_air                       13713 non-null float64\n",
      "rougher.state.floatbank10_e_level                     14149 non-null float64\n",
      "rougher.state.floatbank10_f_air                       14149 non-null float64\n",
      "rougher.state.floatbank10_f_level                     14149 non-null float64\n",
      "secondary_cleaner.output.tail_ag                      14147 non-null float64\n",
      "secondary_cleaner.output.tail_pb                      14139 non-null float64\n",
      "secondary_cleaner.output.tail_sol                     12544 non-null float64\n",
      "secondary_cleaner.output.tail_au                      14149 non-null float64\n",
      "secondary_cleaner.state.floatbank2_a_air              13932 non-null float64\n",
      "secondary_cleaner.state.floatbank2_a_level            14148 non-null float64\n",
      "secondary_cleaner.state.floatbank2_b_air              14128 non-null float64\n",
      "secondary_cleaner.state.floatbank2_b_level            14148 non-null float64\n",
      "secondary_cleaner.state.floatbank3_a_air              14145 non-null float64\n",
      "secondary_cleaner.state.floatbank3_a_level            14148 non-null float64\n",
      "secondary_cleaner.state.floatbank3_b_air              14148 non-null float64\n",
      "secondary_cleaner.state.floatbank3_b_level            14148 non-null float64\n",
      "secondary_cleaner.state.floatbank4_a_air              14143 non-null float64\n",
      "secondary_cleaner.state.floatbank4_a_level            14148 non-null float64\n",
      "secondary_cleaner.state.floatbank4_b_air              14148 non-null float64\n",
      "secondary_cleaner.state.floatbank4_b_level            14148 non-null float64\n",
      "secondary_cleaner.state.floatbank5_a_air              14148 non-null float64\n",
      "secondary_cleaner.state.floatbank5_a_level            14148 non-null float64\n",
      "secondary_cleaner.state.floatbank5_b_air              14148 non-null float64\n",
      "secondary_cleaner.state.floatbank5_b_level            14148 non-null float64\n",
      "secondary_cleaner.state.floatbank6_a_air              14147 non-null float64\n",
      "secondary_cleaner.state.floatbank6_a_level            14148 non-null float64\n",
      "dtypes: float64(86), object(1)\n",
      "memory usage: 9.4+ MB\n"
     ]
    }
   ],
   "source": [
    "df_train.info()"
   ]
  },
  {
   "cell_type": "code",
   "execution_count": 9,
   "metadata": {},
   "outputs": [
    {
     "data": {
      "text/plain": [
       "4100"
      ]
     },
     "execution_count": 9,
     "metadata": {},
     "output_type": "execute_result"
    }
   ],
   "source": [
    "df_train.isnull().sum().sum()"
   ]
  },
  {
   "cell_type": "markdown",
   "metadata": {},
   "source": [
    "В данных очень много атрибутов. Пропуски тоже есть, хотя не очень много.  \n",
    "  \n",
    "В полном датасете пропусков немного больше, чем в обучающей и тестовой выборке вместе взятых. Это странно. Наверное, сказалось влияние ошибок при выгрузке.   \n",
    "Посчитаем MAE для целевого признака rougher.output.recovery на обучающей выборке."
   ]
  },
  {
   "cell_type": "markdown",
   "metadata": {},
   "source": [
    "<div class=\"alert alert-block alert-success\">\n",
    "<b>Успех:</b> Данные загружены корректно, первичный осмотр проведен.\n",
    "</div>"
   ]
  },
  {
   "cell_type": "code",
   "execution_count": 10,
   "metadata": {},
   "outputs": [],
   "source": [
    "df_for_mae_calc = df_train[['rougher.output.concentrate_au', 'rougher.input.feed_au',\n",
    "                            'rougher.output.tail_au', 'rougher.output.recovery']].copy()"
   ]
  },
  {
   "cell_type": "code",
   "execution_count": 11,
   "metadata": {},
   "outputs": [],
   "source": [
    "df_for_mae_calc = df_for_mae_calc.dropna()\n",
    "c = df_for_mae_calc['rougher.output.concentrate_au']\n",
    "f = df_for_mae_calc['rougher.input.feed_au']\n",
    "t = df_for_mae_calc['rougher.output.tail_au']\n",
    "recovery_calc = c * (f - t) / (f * (c - t))*100"
   ]
  },
  {
   "cell_type": "code",
   "execution_count": 12,
   "metadata": {},
   "outputs": [
    {
     "data": {
      "text/plain": [
       "9.682896147825551e-15"
      ]
     },
     "execution_count": 12,
     "metadata": {},
     "output_type": "execute_result"
    }
   ],
   "source": [
    "mean_absolute_error(df_for_mae_calc['rougher.output.recovery'], recovery_calc)"
   ]
  },
  {
   "cell_type": "markdown",
   "metadata": {},
   "source": [
    "Средняя абсолютная ошибка МАЕ практически нулевая. Значит в данных, применяемых для расчета показателя эффективности обогащения руды данных, все в норме."
   ]
  },
  {
   "cell_type": "markdown",
   "metadata": {},
   "source": [
    "<div class=\"alert alert-block alert-success\">\n",
    "<b>Успех:</b> Эта проверка была сделана абсолютно верно.\n",
    "</div>"
   ]
  },
  {
   "cell_type": "code",
   "execution_count": 13,
   "metadata": {
    "scrolled": true
   },
   "outputs": [
    {
     "data": {
      "text/plain": [
       "87"
      ]
     },
     "execution_count": 13,
     "metadata": {},
     "output_type": "execute_result"
    }
   ],
   "source": [
    "len(df.columns)"
   ]
  },
  {
   "cell_type": "code",
   "execution_count": 14,
   "metadata": {},
   "outputs": [
    {
     "data": {
      "text/plain": [
       "53"
      ]
     },
     "execution_count": 14,
     "metadata": {},
     "output_type": "execute_result"
    }
   ],
   "source": [
    "len(df_test.columns)"
   ]
  },
  {
   "cell_type": "code",
   "execution_count": 15,
   "metadata": {
    "scrolled": true
   },
   "outputs": [
    {
     "data": {
      "text/plain": [
       "['final.output.tail_sol',\n",
       " 'rougher.output.tail_pb',\n",
       " 'secondary_cleaner.output.tail_au',\n",
       " 'final.output.concentrate_pb',\n",
       " 'rougher.output.tail_ag',\n",
       " 'final.output.tail_au',\n",
       " 'primary_cleaner.output.concentrate_ag',\n",
       " 'rougher.output.tail_au',\n",
       " 'primary_cleaner.output.tail_sol',\n",
       " 'rougher.output.recovery',\n",
       " 'rougher.calculation.au_pb_ratio',\n",
       " 'final.output.concentrate_ag',\n",
       " 'primary_cleaner.output.concentrate_au',\n",
       " 'final.output.recovery',\n",
       " 'rougher.calculation.floatbank10_sulfate_to_au_feed',\n",
       " 'primary_cleaner.output.tail_ag',\n",
       " 'primary_cleaner.output.tail_au',\n",
       " 'rougher.output.concentrate_pb',\n",
       " 'secondary_cleaner.output.tail_ag',\n",
       " 'final.output.concentrate_au',\n",
       " 'primary_cleaner.output.tail_pb',\n",
       " 'rougher.output.concentrate_sol',\n",
       " 'rougher.output.tail_sol',\n",
       " 'rougher.calculation.floatbank11_sulfate_to_au_feed',\n",
       " 'final.output.tail_pb',\n",
       " 'secondary_cleaner.output.tail_pb',\n",
       " 'final.output.tail_ag',\n",
       " 'rougher.calculation.sulfate_to_au_concentrate',\n",
       " 'rougher.output.concentrate_au',\n",
       " 'final.output.concentrate_sol',\n",
       " 'rougher.output.concentrate_ag',\n",
       " 'primary_cleaner.output.concentrate_pb',\n",
       " 'primary_cleaner.output.concentrate_sol',\n",
       " 'secondary_cleaner.output.tail_sol']"
      ]
     },
     "execution_count": 15,
     "metadata": {},
     "output_type": "execute_result"
    }
   ],
   "source": [
    "features = list(set(df.columns) - set(df_test.columns))\n",
    "features"
   ]
  },
  {
   "cell_type": "code",
   "execution_count": 16,
   "metadata": {},
   "outputs": [
    {
     "data": {
      "text/plain": [
       "34"
      ]
     },
     "execution_count": 16,
     "metadata": {},
     "output_type": "execute_result"
    }
   ],
   "source": [
    "len(features)"
   ]
  },
  {
   "cell_type": "markdown",
   "metadata": {},
   "source": [
    "В тестовой выборке отсутствуют 34 атрибута - по результативности очистки руды на всех этапах, в том числе и целевой признак эффективности обогащения rougher.output.recovery. Это выходные параметры - то, что нужно спрогнозировать.  \n",
    "Займемся предобработкой."
   ]
  },
  {
   "cell_type": "markdown",
   "metadata": {},
   "source": [
    "<div class=\"alert alert-block alert-success\">\n",
    "<b>Успех:</b> Согласен.\n",
    "</div>"
   ]
  },
  {
   "cell_type": "code",
   "execution_count": 17,
   "metadata": {},
   "outputs": [
    {
     "data": {
      "text/plain": [
       "1103    2016-03-04 18:00:00\n",
       "Name: date, dtype: object"
      ]
     },
     "execution_count": 17,
     "metadata": {},
     "output_type": "execute_result"
    }
   ],
   "source": [
    "df_train['date'].sample()"
   ]
  },
  {
   "cell_type": "code",
   "execution_count": 18,
   "metadata": {},
   "outputs": [],
   "source": [
    "df_train['date'] = pd.to_datetime(df_train['date'], format='%Y-%m-%d %H:%M:%S')"
   ]
  },
  {
   "cell_type": "code",
   "execution_count": 19,
   "metadata": {},
   "outputs": [],
   "source": [
    "df_test['date'] = pd.to_datetime(df_test['date'], format='%Y-%m-%d %H:%M:%S')"
   ]
  },
  {
   "cell_type": "code",
   "execution_count": 20,
   "metadata": {},
   "outputs": [],
   "source": [
    "df['date'] = pd.to_datetime(df['date'], format='%Y-%m-%d %H:%M:%S')"
   ]
  },
  {
   "cell_type": "markdown",
   "metadata": {},
   "source": [
    "Данные расположены в хронологическом порядке. Заполним пропуски соседними значениями методом 'ffill'."
   ]
  },
  {
   "cell_type": "code",
   "execution_count": 21,
   "metadata": {},
   "outputs": [],
   "source": [
    "df = df.ffill(axis = 0)\n",
    "df_train = df_train.ffill(axis = 0)\n",
    "df_test = df_test.ffill(axis = 0)"
   ]
  },
  {
   "cell_type": "code",
   "execution_count": 22,
   "metadata": {},
   "outputs": [
    {
     "data": {
      "text/plain": [
       "0"
      ]
     },
     "execution_count": 22,
     "metadata": {},
     "output_type": "execute_result"
    }
   ],
   "source": [
    "df_train.isnull().sum().sum()"
   ]
  },
  {
   "cell_type": "markdown",
   "metadata": {},
   "source": [
    "Привели в порядок дату и время, заполнили пропуски в данных.  \n",
    "Идем дальше - к исследовательскому анализу."
   ]
  },
  {
   "cell_type": "markdown",
   "metadata": {},
   "source": [
    "<div class=\"alert alert-block alert-success\">\n",
    "<b>Успех:</b> В данном случае это наиболее подходящий метод заполнить пропуски.\n",
    "</div>"
   ]
  },
  {
   "cell_type": "markdown",
   "metadata": {},
   "source": [
    "## Анализ данных"
   ]
  },
  {
   "cell_type": "markdown",
   "metadata": {},
   "source": [
    "### Исследование концентрации металлов (Au, Ag, Pb) на различных этапах очистки"
   ]
  },
  {
   "cell_type": "markdown",
   "metadata": {},
   "source": [
    "Посмотрим, как меняется концентрация металлов (Au, Ag, Pb) на различных этапах очистки. "
   ]
  },
  {
   "cell_type": "code",
   "execution_count": 23,
   "metadata": {},
   "outputs": [
    {
     "data": {
      "image/png": "[encoded data removed]",
      "text/plain": [
       "<Figure size 432x288 with 1 Axes>"
      ]
     },
     "metadata": {
      "needs_background": "light"
     },
     "output_type": "display_data"
    }
   ],
   "source": [
    "plt.xlabel(\"Концентрация золота\")\n",
    "plt.ylabel('частота')\n",
    "\n",
    "plt.hist([df['rougher.input.feed_au'],df['rougher.output.concentrate_au'], \n",
    "         df['primary_cleaner.output.concentrate_au'], df['final.output.concentrate_au']], \n",
    "         bins= 130, label=['в руде', 'после грубой очистки', 'после 1-й очистки', 'после 2-й очистки'])\n",
    "plt.legend(loc='upper right')\n",
    "\n",
    "plt.show()"
   ]
  },
  {
   "cell_type": "markdown",
   "metadata": {},
   "source": [
    "<div class=\"alert alert-block alert-info\">\n",
    "<b>Совет: </b> Не стоит объединять в массив. Лучше 4 раза применить метод hist.\n",
    "</div>"
   ]
  },
  {
   "cell_type": "markdown",
   "metadata": {},
   "source": [
    "<div class=\"alert alert-block alert-warning\">\n",
    "<b>Изменения:</b> Попробую...\n",
    "</div>"
   ]
  },
  {
   "cell_type": "code",
   "execution_count": 26,
   "metadata": {},
   "outputs": [
    {
     "data": {
      "image/png": "[encoded data removed]",
      "text/plain": [
       "<Figure size 432x288 with 1 Axes>"
      ]
     },
     "metadata": {
      "needs_background": "light"
     },
     "output_type": "display_data"
    }
   ],
   "source": [
    "plt.xlabel(\"Концентрация золота\")\n",
    "plt.ylabel('частота')\n",
    "\n",
    "plt.hist(df['rougher.input.feed_au'], bins=130)\n",
    "plt.hist(df['rougher.output.concentrate_au'], bins= 130) \n",
    "plt.hist(df['primary_cleaner.output.concentrate_au'], bins = 130)       \n",
    "plt.hist(df['final.output.concentrate_au'], bins= 130)\n",
    "plt.legend(['в руде', 'после грубой очистки', 'после 1-й очистки', 'после 2-й очистки'], loc='upper right')\n",
    "\n",
    "plt.show()"
   ]
  },
  {
   "cell_type": "markdown",
   "metadata": {},
   "source": [
    "<div class=\"alert alert-block alert-warning\">\n",
    "<b>Изменения:</b> Сасибо, так действительно лучше. Графики получаются посимпатичнее, учту на будущее.\n",
    "</div>"
   ]
  },
  {
   "cell_type": "markdown",
   "metadata": {},
   "source": [
    "<div class=\"alert alert-block alert-info\">\n",
    "<b>Совет (ревью 2): </b> ОК.\n",
    "</div>"
   ]
  },
  {
   "cell_type": "markdown",
   "metadata": {},
   "source": [
    "Концентрация золота стабильно увеличивается от этапа к этапу - от среднего содержания 7 единиц в руде  до 45 - в очиценном концентрате.  \n",
    "Перейдем к серебру. "
   ]
  },
  {
   "cell_type": "code",
   "execution_count": 65,
   "metadata": {},
   "outputs": [
    {
     "data": {
      "image/png": "[encoded data removed]",
      "text/plain": [
       "<Figure size 432x288 with 1 Axes>"
      ]
     },
     "metadata": {
      "needs_background": "light"
     },
     "output_type": "display_data"
    }
   ],
   "source": [
    "plt.xlabel(\"Концентрация серебра\")\n",
    "plt.ylabel('частота')\n",
    "\n",
    "plt.hist([df['rougher.input.feed_ag'],df['rougher.output.concentrate_ag'], \n",
    "         df['primary_cleaner.output.concentrate_ag'], df['final.output.concentrate_ag']], \n",
    "         bins= 130, label=['в руде', 'после грубой очистки', 'после 1-й очистки', 'после 2-й очистки'])\n",
    "plt.legend(loc='upper right')\n",
    "\n",
    "plt.show()"
   ]
  },
  {
   "cell_type": "markdown",
   "metadata": {},
   "source": [
    "С серебром картина совершенно иная - после грубой очистки его концентрация резко возрастает, а затем резко снижается на 1-м и 2-м этапах.  \n",
    "А как ведет себя свинец?"
   ]
  },
  {
   "cell_type": "code",
   "execution_count": 66,
   "metadata": {},
   "outputs": [
    {
     "data": {
      "image/png": "[encoded data removed]",
      "text/plain": [
       "<Figure size 432x288 with 1 Axes>"
      ]
     },
     "metadata": {
      "needs_background": "light"
     },
     "output_type": "display_data"
    }
   ],
   "source": [
    "plt.xlabel(\"Концентрация свинца\")\n",
    "plt.ylabel('частота')\n",
    "\n",
    "plt.hist([df['rougher.input.feed_pb'],df['rougher.output.concentrate_pb'], \n",
    "         df['primary_cleaner.output.concentrate_pb'], df['final.output.concentrate_pb']], \n",
    "         bins= 130, label=['в руде', 'после грубой очистки', 'после 1-й очистки', 'после 2-й очистки'])\n",
    "plt.legend(loc='upper right')\n",
    "\n",
    "plt.show()"
   ]
  },
  {
   "cell_type": "markdown",
   "metadata": {},
   "source": [
    "Концентрация свинца возрастает после грубой очистки, а затем практически не меняется.  \n",
    "  \n",
    "Очевидно, главная цель - выработка золота. При этом другие металлы - серебро и свинец - в финальном концентрате уменьшаются.  \n",
    "Средняя концентрация после всех этапов очистки составляет:\n",
    "- золота -  45 ед.;\n",
    "- серебра -  5 ед.;\n",
    "- свинца - 10 ед.  \n",
    "\n",
    "Также в некторорых данных присутствуют выбросы около нулевых значений."
   ]
  },
  {
   "cell_type": "markdown",
   "metadata": {},
   "source": [
    "<div class=\"alert alert-block alert-success\">\n",
    "<b>Успех:</b> Графики получились хорошо.\n",
    "</div>"
   ]
  },
  {
   "cell_type": "markdown",
   "metadata": {},
   "source": [
    "### Исследование размеров гранул сырья на обучающей и тестовой выборках"
   ]
  },
  {
   "cell_type": "markdown",
   "metadata": {},
   "source": [
    "Далее сравним распределения размеров гранул сырья на обучающей и тестовой выборках. Если распределения сильно отличаются друг от друга, оценки модели будут неправильными."
   ]
  },
  {
   "cell_type": "code",
   "execution_count": 67,
   "metadata": {},
   "outputs": [
    {
     "name": "stdout",
     "output_type": "stream",
     "text": [
      "Средний размер гранул в обучающей выборке: 60.24\n",
      "Средний размер гранул в тестовой выборке: 55.95\n"
     ]
    }
   ],
   "source": [
    "print('Средний размер гранул в обучающей выборке: {:.2f}'.format(df_train['rougher.input.feed_size'].mean()))\n",
    "print('Средний размер гранул в тестовой выборке: {:.2f}'.format(df_test['rougher.input.feed_size'].mean()))"
   ]
  },
  {
   "cell_type": "code",
   "execution_count": 68,
   "metadata": {},
   "outputs": [
    {
     "name": "stderr",
     "output_type": "stream",
     "text": [
      "/opt/conda/lib/python3.7/site-packages/numpy/core/_asarray.py:83: VisibleDeprecationWarning: Creating an ndarray from ragged nested sequences (which is a list-or-tuple of lists-or-tuples-or ndarrays with different lengths or shapes) is deprecated. If you meant to do this, you must specify 'dtype=object' when creating the ndarray\n",
      "  return array(a, dtype, copy=False, order=order)\n"
     ]
    },
    {
     "data": {
      "image/png": "[encoded data removed]",
      "text/plain": [
       "<Figure size 432x288 with 1 Axes>"
      ]
     },
     "metadata": {
      "needs_background": "light"
     },
     "output_type": "display_data"
    }
   ],
   "source": [
    "plt.xlabel(\"Размер гранул\")\n",
    "plt.ylabel('частота')\n",
    "\n",
    "plt.hist([df_train['rougher.input.feed_size'],df_test['rougher.input.feed_size']], \n",
    "         bins= 50, label=['в обучающей выборке', 'в тестовой выборке'])\n",
    "plt.legend(loc='upper right')\n",
    "plt.show()"
   ]
  },
  {
   "cell_type": "markdown",
   "metadata": {},
   "source": [
    "<div class=\"alert alert-block alert-info\">\n",
    "<b>Совет: </b> В данном случае желательно было использовать параметр \"density=True\" в методе \".hist()\". Так бы нам удалось перейти от количества к доле.\n",
    "</div>"
   ]
  },
  {
   "cell_type": "markdown",
   "metadata": {},
   "source": [
    "<div class=\"alert alert-block alert-warning\">\n",
    "<b>Изменения:</b> Попробую...\n",
    "</div>"
   ]
  },
  {
   "cell_type": "code",
   "execution_count": 27,
   "metadata": {},
   "outputs": [
    {
     "name": "stderr",
     "output_type": "stream",
     "text": [
      "/opt/conda/lib/python3.7/site-packages/numpy/core/_asarray.py:83: VisibleDeprecationWarning: Creating an ndarray from ragged nested sequences (which is a list-or-tuple of lists-or-tuples-or ndarrays with different lengths or shapes) is deprecated. If you meant to do this, you must specify 'dtype=object' when creating the ndarray\n",
      "  return array(a, dtype, copy=False, order=order)\n"
     ]
    },
    {
     "data": {
      "image/png": "[encoded data removed]",
      "text/plain": [
       "<Figure size 432x288 with 1 Axes>"
      ]
     },
     "metadata": {
      "needs_background": "light"
     },
     "output_type": "display_data"
    }
   ],
   "source": [
    "plt.xlabel(\"Размер гранул\")\n",
    "plt.ylabel('частота')\n",
    "\n",
    "plt.hist([df_train['rougher.input.feed_size'],df_test['rougher.input.feed_size']], \n",
    "         bins= 50, label=['в обучающей выборке', 'в тестовой выборке'], density=True)\n",
    "plt.legend(loc='upper right')\n",
    "plt.show()"
   ]
  },
  {
   "cell_type": "markdown",
   "metadata": {},
   "source": [
    "<div class=\"alert alert-block alert-warning\">\n",
    "<b>Изменения:</b> Вот теперь видно сходство распределений. Спасибо!\n",
    "</div>"
   ]
  },
  {
   "cell_type": "markdown",
   "metadata": {},
   "source": [
    "<div class=\"alert alert-block alert-success\">\n",
    "<b>Успех (ревью 2):</b> Отлично!\n",
    "</div>"
   ]
  },
  {
   "cell_type": "markdown",
   "metadata": {},
   "source": [
    "Гистограммы немного отличаются. Посмотрим на боксплот. "
   ]
  },
  {
   "cell_type": "code",
   "execution_count": 69,
   "metadata": {},
   "outputs": [
    {
     "data": {
      "text/plain": [
       "<matplotlib.axes._subplots.AxesSubplot at 0x7f656fa6a910>"
      ]
     },
     "execution_count": 69,
     "metadata": {},
     "output_type": "execute_result"
    },
    {
     "data": {
      "image/png": "[encoded data removed]",
      "text/plain": [
       "<Figure size 432x288 with 1 Axes>"
      ]
     },
     "metadata": {
      "needs_background": "light"
     },
     "output_type": "display_data"
    }
   ],
   "source": [
    "sns.boxplot(data=[df_train['rougher.input.feed_size'], df_test['rougher.input.feed_size']])"
   ]
  },
  {
   "cell_type": "markdown",
   "metadata": {},
   "source": [
    "На боксплоте видно, что распределения примерно одинаковые, хотя в обучающей выборке больше аномалий.  \n",
    "Проведем тест."
   ]
  },
  {
   "cell_type": "code",
   "execution_count": 30,
   "metadata": {},
   "outputs": [
    {
     "name": "stdout",
     "output_type": "stream",
     "text": [
      "pvalue =  1.6081245670847274e-33\n",
      "Отвергаем нулевую гипотезу\n"
     ]
    }
   ],
   "source": [
    "alpha = .05\n",
    "result = st.ttest_ind(df_train['rougher.input.feed_size'], df_test['rougher.input.feed_size'])\n",
    "print('pvalue = ', result.pvalue)\n",
    "if result.pvalue < alpha:\n",
    "    print('Отвергаем нулевую гипотезу')\n",
    "else:\n",
    "    print('Принимаем нулевую гипотезу')"
   ]
  },
  {
   "cell_type": "markdown",
   "metadata": {},
   "source": [
    "Тест предлагает отвергнуть нулевую гипотезу. Т.е. разница в выборках статистически значима. Это проблема...  \n",
    "Попробуем взять данные без выбросов."
   ]
  },
  {
   "cell_type": "code",
   "execution_count": 71,
   "metadata": {},
   "outputs": [],
   "source": [
    "train_feed_size = df_train['rougher.input.feed_size'].dropna()\n",
    "train_feed_size = train_feed_size[train_feed_size < 100]"
   ]
  },
  {
   "cell_type": "code",
   "execution_count": 72,
   "metadata": {},
   "outputs": [
    {
     "data": {
      "text/plain": [
       "<matplotlib.axes._subplots.AxesSubplot at 0x7f656fb12dd0>"
      ]
     },
     "execution_count": 72,
     "metadata": {},
     "output_type": "execute_result"
    },
    {
     "data": {
      "image/png": "[encoded data removed]",
      "text/plain": [
       "<Figure size 432x288 with 1 Axes>"
      ]
     },
     "metadata": {
      "needs_background": "light"
     },
     "output_type": "display_data"
    }
   ],
   "source": [
    "sns.boxplot(train_feed_size)"
   ]
  },
  {
   "cell_type": "code",
   "execution_count": 73,
   "metadata": {},
   "outputs": [],
   "source": [
    "test_feed_size = df_test['rougher.input.feed_size'].dropna()\n",
    "test_feed_size = test_feed_size[test_feed_size < 85]"
   ]
  },
  {
   "cell_type": "code",
   "execution_count": 74,
   "metadata": {},
   "outputs": [
    {
     "data": {
      "text/plain": [
       "<matplotlib.axes._subplots.AxesSubplot at 0x7f656f07bbd0>"
      ]
     },
     "execution_count": 74,
     "metadata": {},
     "output_type": "execute_result"
    },
    {
     "data": {
      "image/png": "[encoded data removed]",
      "text/plain": [
       "<Figure size 432x288 with 1 Axes>"
      ]
     },
     "metadata": {
      "needs_background": "light"
     },
     "output_type": "display_data"
    }
   ],
   "source": [
    "sns.boxplot(test_feed_size)"
   ]
  },
  {
   "cell_type": "code",
   "execution_count": 75,
   "metadata": {},
   "outputs": [
    {
     "name": "stdout",
     "output_type": "stream",
     "text": [
      "pvalue =  6.830506564588483e-124\n",
      "Отвергаем нулевую гипотезу\n"
     ]
    }
   ],
   "source": [
    "alpha = .05\n",
    "result = st.ttest_ind(train_feed_size, test_feed_size)\n",
    "print('pvalue = ', result.pvalue)\n",
    "if result.pvalue < alpha:\n",
    "    print('Отвергаем нулевую гипотезу')\n",
    "else:\n",
    "    print('Принимаем нулевую гипотезу')"
   ]
  },
  {
   "cell_type": "markdown",
   "metadata": {},
   "source": [
    "Все равно разница значительная и по идее необходимо переопределять выборки. Но \"на глаз\" и по ответам из Slack'a считаем иначе - разницы нет."
   ]
  },
  {
   "cell_type": "markdown",
   "metadata": {},
   "source": [
    "<div class=\"alert alert-block alert-success\">\n",
    "<b>Успех:</b> верно.\n",
    "</div>"
   ]
  },
  {
   "cell_type": "markdown",
   "metadata": {},
   "source": [
    "### Исследование суммарной концентрации всех веществ в сырье, в черновом и финальном концентратах"
   ]
  },
  {
   "cell_type": "markdown",
   "metadata": {},
   "source": [
    "Найдем суммарные концентрации всех веществ - просуммируем строки с концентрацией Au, Ag, Pb, Sol отдельно для каждого из трех этапов очистки."
   ]
  },
  {
   "cell_type": "code",
   "execution_count": 76,
   "metadata": {
    "scrolled": true
   },
   "outputs": [
    {
     "data": {
      "text/plain": [
       "Index(['date', 'final.output.concentrate_ag', 'final.output.concentrate_pb',\n",
       "       'final.output.concentrate_sol', 'final.output.concentrate_au',\n",
       "       'final.output.recovery', 'final.output.tail_ag', 'final.output.tail_pb',\n",
       "       'final.output.tail_sol', 'final.output.tail_au',\n",
       "       'primary_cleaner.input.sulfate', 'primary_cleaner.input.depressant',\n",
       "       'primary_cleaner.input.feed_size', 'primary_cleaner.input.xanthate',\n",
       "       'primary_cleaner.output.concentrate_ag',\n",
       "       'primary_cleaner.output.concentrate_pb',\n",
       "       'primary_cleaner.output.concentrate_sol',\n",
       "       'primary_cleaner.output.concentrate_au',\n",
       "       'primary_cleaner.output.tail_ag', 'primary_cleaner.output.tail_pb',\n",
       "       'primary_cleaner.output.tail_sol', 'primary_cleaner.output.tail_au',\n",
       "       'primary_cleaner.state.floatbank8_a_air',\n",
       "       'primary_cleaner.state.floatbank8_a_level',\n",
       "       'primary_cleaner.state.floatbank8_b_air',\n",
       "       'primary_cleaner.state.floatbank8_b_level',\n",
       "       'primary_cleaner.state.floatbank8_c_air',\n",
       "       'primary_cleaner.state.floatbank8_c_level',\n",
       "       'primary_cleaner.state.floatbank8_d_air',\n",
       "       'primary_cleaner.state.floatbank8_d_level',\n",
       "       'rougher.calculation.sulfate_to_au_concentrate',\n",
       "       'rougher.calculation.floatbank10_sulfate_to_au_feed',\n",
       "       'rougher.calculation.floatbank11_sulfate_to_au_feed',\n",
       "       'rougher.calculation.au_pb_ratio', 'rougher.input.feed_ag',\n",
       "       'rougher.input.feed_pb', 'rougher.input.feed_rate',\n",
       "       'rougher.input.feed_size', 'rougher.input.feed_sol',\n",
       "       'rougher.input.feed_au', 'rougher.input.floatbank10_sulfate',\n",
       "       'rougher.input.floatbank10_xanthate',\n",
       "       'rougher.input.floatbank11_sulfate',\n",
       "       'rougher.input.floatbank11_xanthate', 'rougher.output.concentrate_ag',\n",
       "       'rougher.output.concentrate_pb', 'rougher.output.concentrate_sol',\n",
       "       'rougher.output.concentrate_au', 'rougher.output.recovery',\n",
       "       'rougher.output.tail_ag', 'rougher.output.tail_pb',\n",
       "       'rougher.output.tail_sol', 'rougher.output.tail_au',\n",
       "       'rougher.state.floatbank10_a_air', 'rougher.state.floatbank10_a_level',\n",
       "       'rougher.state.floatbank10_b_air', 'rougher.state.floatbank10_b_level',\n",
       "       'rougher.state.floatbank10_c_air', 'rougher.state.floatbank10_c_level',\n",
       "       'rougher.state.floatbank10_d_air', 'rougher.state.floatbank10_d_level',\n",
       "       'rougher.state.floatbank10_e_air', 'rougher.state.floatbank10_e_level',\n",
       "       'rougher.state.floatbank10_f_air', 'rougher.state.floatbank10_f_level',\n",
       "       'secondary_cleaner.output.tail_ag', 'secondary_cleaner.output.tail_pb',\n",
       "       'secondary_cleaner.output.tail_sol', 'secondary_cleaner.output.tail_au',\n",
       "       'secondary_cleaner.state.floatbank2_a_air',\n",
       "       'secondary_cleaner.state.floatbank2_a_level',\n",
       "       'secondary_cleaner.state.floatbank2_b_air',\n",
       "       'secondary_cleaner.state.floatbank2_b_level',\n",
       "       'secondary_cleaner.state.floatbank3_a_air',\n",
       "       'secondary_cleaner.state.floatbank3_a_level',\n",
       "       'secondary_cleaner.state.floatbank3_b_air',\n",
       "       'secondary_cleaner.state.floatbank3_b_level',\n",
       "       'secondary_cleaner.state.floatbank4_a_air',\n",
       "       'secondary_cleaner.state.floatbank4_a_level',\n",
       "       'secondary_cleaner.state.floatbank4_b_air',\n",
       "       'secondary_cleaner.state.floatbank4_b_level',\n",
       "       'secondary_cleaner.state.floatbank5_a_air',\n",
       "       'secondary_cleaner.state.floatbank5_a_level',\n",
       "       'secondary_cleaner.state.floatbank5_b_air',\n",
       "       'secondary_cleaner.state.floatbank5_b_level',\n",
       "       'secondary_cleaner.state.floatbank6_a_air',\n",
       "       'secondary_cleaner.state.floatbank6_a_level'],\n",
       "      dtype='object')"
      ]
     },
     "execution_count": 76,
     "metadata": {},
     "output_type": "execute_result"
    }
   ],
   "source": [
    "df.columns"
   ]
  },
  {
   "cell_type": "code",
   "execution_count": 77,
   "metadata": {},
   "outputs": [
    {
     "data": {
      "text/html": [
       "<div>\n",
       "<style scoped>\n",
       "    .dataframe tbody tr th:only-of-type {\n",
       "        vertical-align: middle;\n",
       "    }\n",
       "\n",
       "    .dataframe tbody tr th {\n",
       "        vertical-align: top;\n",
       "    }\n",
       "\n",
       "    .dataframe thead th {\n",
       "        text-align: right;\n",
       "    }\n",
       "</style>\n",
       "<table border=\"1\" class=\"dataframe\">\n",
       "  <thead>\n",
       "    <tr style=\"text-align: right;\">\n",
       "      <th></th>\n",
       "      <th>rougher.output.concentrate_ag</th>\n",
       "      <th>rougher.output.concentrate_pb</th>\n",
       "      <th>rougher.output.concentrate_sol</th>\n",
       "      <th>rougher.output.concentrate_au</th>\n",
       "    </tr>\n",
       "  </thead>\n",
       "  <tbody>\n",
       "    <tr>\n",
       "      <td>1605</td>\n",
       "      <td>9.798697</td>\n",
       "      <td>7.320039</td>\n",
       "      <td>17.887471</td>\n",
       "      <td>16.535227</td>\n",
       "    </tr>\n",
       "  </tbody>\n",
       "</table>\n",
       "</div>"
      ],
      "text/plain": [
       "      rougher.output.concentrate_ag  rougher.output.concentrate_pb  \\\n",
       "1605                       9.798697                       7.320039   \n",
       "\n",
       "      rougher.output.concentrate_sol  rougher.output.concentrate_au  \n",
       "1605                       17.887471                      16.535227  "
      ]
     },
     "execution_count": 77,
     "metadata": {},
     "output_type": "execute_result"
    }
   ],
   "source": [
    "df.filter(like='rougher.output.concentrate').sample()"
   ]
  },
  {
   "cell_type": "code",
   "execution_count": 78,
   "metadata": {
    "scrolled": true
   },
   "outputs": [],
   "source": [
    "df_sum = pd.DataFrame()\n",
    "df_sum['date'] = df['date']\n",
    "df_sum['rougher.output.concentrate'] = df.filter(like='rougher.output.concentrate').sum(axis=1)"
   ]
  },
  {
   "cell_type": "code",
   "execution_count": 79,
   "metadata": {},
   "outputs": [],
   "source": [
    "df_sum['primary_cleaner.output.concentrate'] = df.filter(like='primary_cleaner.output.concentrate').sum(axis=1)"
   ]
  },
  {
   "cell_type": "code",
   "execution_count": 80,
   "metadata": {},
   "outputs": [],
   "source": [
    "df_sum['final.output.concentrate'] = df.filter(like='final.output.concentrate').sum(axis=1)"
   ]
  },
  {
   "cell_type": "code",
   "execution_count": 81,
   "metadata": {
    "scrolled": true
   },
   "outputs": [
    {
     "data": {
      "text/html": [
       "<div>\n",
       "<style scoped>\n",
       "    .dataframe tbody tr th:only-of-type {\n",
       "        vertical-align: middle;\n",
       "    }\n",
       "\n",
       "    .dataframe tbody tr th {\n",
       "        vertical-align: top;\n",
       "    }\n",
       "\n",
       "    .dataframe thead th {\n",
       "        text-align: right;\n",
       "    }\n",
       "</style>\n",
       "<table border=\"1\" class=\"dataframe\">\n",
       "  <thead>\n",
       "    <tr style=\"text-align: right;\">\n",
       "      <th></th>\n",
       "      <th>date</th>\n",
       "      <th>rougher.output.concentrate</th>\n",
       "      <th>primary_cleaner.output.concentrate</th>\n",
       "      <th>final.output.concentrate</th>\n",
       "    </tr>\n",
       "  </thead>\n",
       "  <tbody>\n",
       "    <tr>\n",
       "      <td>0</td>\n",
       "      <td>2016-01-15 00:00:00</td>\n",
       "      <td>66.424950</td>\n",
       "      <td>72.640924</td>\n",
       "      <td>63.644396</td>\n",
       "    </tr>\n",
       "    <tr>\n",
       "      <td>1</td>\n",
       "      <td>2016-01-15 01:00:00</td>\n",
       "      <td>67.012710</td>\n",
       "      <td>72.543485</td>\n",
       "      <td>63.957723</td>\n",
       "    </tr>\n",
       "    <tr>\n",
       "      <td>2</td>\n",
       "      <td>2016-01-15 02:00:00</td>\n",
       "      <td>66.103793</td>\n",
       "      <td>72.095042</td>\n",
       "      <td>64.311180</td>\n",
       "    </tr>\n",
       "    <tr>\n",
       "      <td>3</td>\n",
       "      <td>2016-01-15 03:00:00</td>\n",
       "      <td>65.752751</td>\n",
       "      <td>59.957723</td>\n",
       "      <td>63.573449</td>\n",
       "    </tr>\n",
       "    <tr>\n",
       "      <td>4</td>\n",
       "      <td>2016-01-15 04:00:00</td>\n",
       "      <td>65.908382</td>\n",
       "      <td>71.321010</td>\n",
       "      <td>64.004667</td>\n",
       "    </tr>\n",
       "  </tbody>\n",
       "</table>\n",
       "</div>"
      ],
      "text/plain": [
       "                 date  rougher.output.concentrate  \\\n",
       "0 2016-01-15 00:00:00                   66.424950   \n",
       "1 2016-01-15 01:00:00                   67.012710   \n",
       "2 2016-01-15 02:00:00                   66.103793   \n",
       "3 2016-01-15 03:00:00                   65.752751   \n",
       "4 2016-01-15 04:00:00                   65.908382   \n",
       "\n",
       "   primary_cleaner.output.concentrate  final.output.concentrate  \n",
       "0                           72.640924                 63.644396  \n",
       "1                           72.543485                 63.957723  \n",
       "2                           72.095042                 64.311180  \n",
       "3                           59.957723                 63.573449  \n",
       "4                           71.321010                 64.004667  "
      ]
     },
     "execution_count": 81,
     "metadata": {},
     "output_type": "execute_result"
    }
   ],
   "source": [
    "df_sum.head()"
   ]
  },
  {
   "cell_type": "code",
   "execution_count": 82,
   "metadata": {},
   "outputs": [
    {
     "data": {
      "image/png": "[encoded data removed]",
      "text/plain": [
       "<Figure size 432x288 with 1 Axes>"
      ]
     },
     "metadata": {
      "needs_background": "light"
     },
     "output_type": "display_data"
    }
   ],
   "source": [
    "plt.xlabel(\"Концентрация всех веществ\")\n",
    "plt.ylabel('частота')\n",
    "\n",
    "plt.hist([df_sum['rougher.output.concentrate'], df_sum['primary_cleaner.output.concentrate'], \n",
    "          df_sum['final.output.concentrate']], \n",
    "         bins= 130, label=['после грубой очистки', 'после 1-й очистки', 'после 2-й очистки'])\n",
    "plt.legend(loc='upper right')\n",
    "\n",
    "plt.show()"
   ]
  },
  {
   "cell_type": "markdown",
   "metadata": {},
   "source": [
    "По графику видно, что в общих данных имеются выбросы в нуле для первого и второго этапа очистки. Значит они имеются и в выборках. Это не нормально, чтобы вообще не было вещества, такие штуки необходимо  удалить."
   ]
  },
  {
   "cell_type": "code",
   "execution_count": 83,
   "metadata": {},
   "outputs": [
    {
     "data": {
      "text/plain": [
       "count    19439.000000\n",
       "mean        68.653624\n",
       "std          7.427536\n",
       "min          0.000000\n",
       "25%         67.932362\n",
       "50%         69.598444\n",
       "75%         71.368472\n",
       "max         80.210644\n",
       "Name: final.output.concentrate, dtype: float64"
      ]
     },
     "execution_count": 83,
     "metadata": {},
     "output_type": "execute_result"
    }
   ],
   "source": [
    "df_sum['final.output.concentrate'].describe()"
   ]
  },
  {
   "cell_type": "markdown",
   "metadata": {},
   "source": [
    "Взглянем еще раз на распределение суммы всех веществ в финальном концентрате."
   ]
  },
  {
   "cell_type": "code",
   "execution_count": 84,
   "metadata": {},
   "outputs": [
    {
     "data": {
      "text/plain": [
       "<matplotlib.axes._subplots.AxesSubplot at 0x7f656f697d90>"
      ]
     },
     "execution_count": 84,
     "metadata": {},
     "output_type": "execute_result"
    },
    {
     "data": {
      "image/png": "[encoded data removed]",
      "text/plain": [
       "<Figure size 432x288 with 1 Axes>"
      ]
     },
     "metadata": {
      "needs_background": "light"
     },
     "output_type": "display_data"
    }
   ],
   "source": [
    "df_sum['final.output.concentrate'].hist()"
   ]
  },
  {
   "cell_type": "markdown",
   "metadata": {},
   "source": [
    "Очевидно, что концентрация менее 40 ед. является очень редким событием. Но мы удалим лишь те значения, которые меньше 10. Ничего особо мы не потеряем, тем более золота в диапазоне от 0 до 10 тоже практически нет (см. п. 2.1)."
   ]
  },
  {
   "cell_type": "code",
   "execution_count": 85,
   "metadata": {
    "scrolled": true
   },
   "outputs": [
    {
     "data": {
      "text/plain": [
       "105"
      ]
     },
     "execution_count": 85,
     "metadata": {},
     "output_type": "execute_result"
    }
   ],
   "source": [
    "sum(df_sum['final.output.concentrate'] < 10)"
   ]
  },
  {
   "cell_type": "code",
   "execution_count": 86,
   "metadata": {},
   "outputs": [],
   "source": [
    "nes = df_sum.loc[df_sum['final.output.concentrate'] > 10, 'date']"
   ]
  },
  {
   "cell_type": "code",
   "execution_count": 87,
   "metadata": {},
   "outputs": [],
   "source": [
    "new_df = df.loc[df['date'].isin(nes)]"
   ]
  },
  {
   "cell_type": "code",
   "execution_count": 88,
   "metadata": {},
   "outputs": [
    {
     "data": {
      "text/plain": [
       "19334"
      ]
     },
     "execution_count": 88,
     "metadata": {},
     "output_type": "execute_result"
    }
   ],
   "source": [
    "new_df.shape[0]"
   ]
  },
  {
   "cell_type": "code",
   "execution_count": 89,
   "metadata": {},
   "outputs": [],
   "source": [
    "new_df_test = df_test.loc[df_test['date'].isin(nes)]"
   ]
  },
  {
   "cell_type": "code",
   "execution_count": 90,
   "metadata": {},
   "outputs": [],
   "source": [
    "new_df_train = df_train.loc[df_train['date'].isin(nes)]"
   ]
  },
  {
   "cell_type": "markdown",
   "metadata": {},
   "source": [
    "<div class=\"alert alert-block alert-success\">\n",
    "<b>Успех:</b> Аномалии были удалены абсолютно корректно!\n",
    "</div>"
   ]
  },
  {
   "cell_type": "markdown",
   "metadata": {},
   "source": [
    "### Вывод"
   ]
  },
  {
   "cell_type": "markdown",
   "metadata": {},
   "source": [
    "В результате анализа данных удалось выяснить, что после грубой очистки концентрация всех трех металлов увеличивается, а после первой и второй концентрация золота увеличивается, серебра - уменьшается, а свинца - практически не меняется.  \n",
    "Размеры гранул руды в тестовой и обучающей выборке отличаются, но незначительно. При этом в данных имелись аномальные значения, которые соответствовали нулевой концентрации всех веществ в концентрате после первой и второй очистки. Их мы удалили.  \n",
    "Осталось обучить модель."
   ]
  },
  {
   "cell_type": "markdown",
   "metadata": {},
   "source": [
    "## Модель"
   ]
  },
  {
   "cell_type": "markdown",
   "metadata": {},
   "source": [
    "### Метрика sMAPE"
   ]
  },
  {
   "cell_type": "markdown",
   "metadata": {},
   "source": [
    "Определим функцию, которая вычисляет новую метрику качества — взвешенное sMAPE (англ. Symmetric Mean Absolute Percentage Error, «симметричное среднее абсолютное процентное отклонение»)."
   ]
  },
  {
   "cell_type": "code",
   "execution_count": 91,
   "metadata": {},
   "outputs": [],
   "source": [
    "def smape(target, predicted):\n",
    "    target_rough = target['rougher.output.recovery']\n",
    "    pred_rough = predicted[:,0]\n",
    "    target_final = target['final.output.recovery']\n",
    "    pred_final = predicted[:,1]\n",
    "    smape_rough = 200 * (abs(target_rough - pred_rough) / (abs(target_rough) + abs(pred_rough))).mean()\n",
    "    smape_final = 200 * (abs(target_final - pred_final) / (abs(target_final) + abs(pred_final))).mean()\n",
    "    return .25 * smape_rough + .75 * smape_final"
   ]
  },
  {
   "cell_type": "markdown",
   "metadata": {},
   "source": [
    "<div class=\"alert alert-block alert-success\">\n",
    "<b>Успех:</b> Радует, что ты обошлась без циклов в этой функции!\n",
    "</div>"
   ]
  },
  {
   "cell_type": "code",
   "execution_count": 92,
   "metadata": {},
   "outputs": [],
   "source": [
    "def smape_(target, predicted):\n",
    "    pred = pd.Series(predicted, index=target.index)\n",
    "    abs_dif = abs(target - pred)\n",
    "    abs_mean_sum = (abs(target) + abs(pred)) / 2\n",
    "    abs_dif = abs_dif / abs_mean_sum\n",
    "    return abs_dif.mean() * 100"
   ]
  },
  {
   "cell_type": "markdown",
   "metadata": {},
   "source": [
    "### Подготовка признаков"
   ]
  },
  {
   "cell_type": "markdown",
   "metadata": {},
   "source": [
    "В тестовой выборке отсутствуют целевые признаки \"rougher.output.recovery\" и \"final.output.recovery\". Добавим их из полного датасета. Уникальным идентификатором при добавлении будет столбец \"date\"."
   ]
  },
  {
   "cell_type": "code",
   "execution_count": 93,
   "metadata": {},
   "outputs": [],
   "source": [
    "new_df_test = new_df_test.merge(new_df[['date', 'rougher.output.recovery', 'final.output.recovery']], \n",
    "                                how='left', left_on='date', right_on='date')"
   ]
  },
  {
   "cell_type": "markdown",
   "metadata": {},
   "source": [
    "<div class=\"alert alert-block alert-success\">\n",
    "<b>Успех:</b> Верно, что merge проводился по колонке date.\n",
    "</div>"
   ]
  },
  {
   "cell_type": "markdown",
   "metadata": {},
   "source": [
    "Выделим обучающие и целевые признаки.  \n",
    "Заметим, что из обучающей выборки следует удалить признаки 'features', которых нет в тестовой выборке. "
   ]
  },
  {
   "cell_type": "code",
   "execution_count": 94,
   "metadata": {},
   "outputs": [
    {
     "data": {
      "text/plain": [
       "['final.output.concentrate_ag',\n",
       " 'primary_cleaner.output.tail_sol',\n",
       " 'rougher.calculation.sulfate_to_au_concentrate',\n",
       " 'rougher.output.tail_au',\n",
       " 'rougher.output.concentrate_ag',\n",
       " 'final.output.concentrate_pb',\n",
       " 'primary_cleaner.output.tail_au',\n",
       " 'secondary_cleaner.output.tail_pb',\n",
       " 'rougher.output.concentrate_au',\n",
       " 'primary_cleaner.output.concentrate_pb',\n",
       " 'rougher.calculation.floatbank10_sulfate_to_au_feed',\n",
       " 'rougher.output.concentrate_sol',\n",
       " 'rougher.calculation.au_pb_ratio',\n",
       " 'rougher.output.recovery',\n",
       " 'primary_cleaner.output.tail_pb',\n",
       " 'primary_cleaner.output.concentrate_ag',\n",
       " 'rougher.calculation.floatbank11_sulfate_to_au_feed',\n",
       " 'secondary_cleaner.output.tail_au',\n",
       " 'rougher.output.tail_sol',\n",
       " 'rougher.output.concentrate_pb',\n",
       " 'primary_cleaner.output.concentrate_au',\n",
       " 'secondary_cleaner.output.tail_sol',\n",
       " 'final.output.tail_sol',\n",
       " 'final.output.concentrate_au',\n",
       " 'final.output.recovery',\n",
       " 'final.output.tail_pb',\n",
       " 'final.output.tail_au',\n",
       " 'secondary_cleaner.output.tail_ag',\n",
       " 'final.output.tail_ag',\n",
       " 'rougher.output.tail_pb',\n",
       " 'rougher.output.tail_ag',\n",
       " 'final.output.concentrate_sol',\n",
       " 'primary_cleaner.output.tail_ag',\n",
       " 'primary_cleaner.output.concentrate_sol']"
      ]
     },
     "execution_count": 94,
     "metadata": {},
     "output_type": "execute_result"
    }
   ],
   "source": [
    "features"
   ]
  },
  {
   "cell_type": "code",
   "execution_count": 95,
   "metadata": {},
   "outputs": [],
   "source": [
    "df_train_target = new_df_train[['rougher.output.recovery', 'final.output.recovery']]"
   ]
  },
  {
   "cell_type": "code",
   "execution_count": 96,
   "metadata": {},
   "outputs": [],
   "source": [
    "df_train_features = new_df_train.drop(features, axis=1)\n",
    "df_train_features = df_train_features.drop('date', axis=1)"
   ]
  },
  {
   "cell_type": "code",
   "execution_count": 97,
   "metadata": {},
   "outputs": [],
   "source": [
    "df_test_target = new_df_test[['rougher.output.recovery', 'final.output.recovery']]"
   ]
  },
  {
   "cell_type": "code",
   "execution_count": 98,
   "metadata": {},
   "outputs": [],
   "source": [
    "df_test_features = new_df_test.drop(['date','final.output.recovery','rougher.output.recovery'], axis=1)"
   ]
  },
  {
   "cell_type": "markdown",
   "metadata": {},
   "source": [
    "### Выбор модели"
   ]
  },
  {
   "cell_type": "markdown",
   "metadata": {},
   "source": [
    "Найдем наилучшую модель. Оптимальная модель каждого вида будет определяться по итоговому sMape:  \n",
    "итоговоe sMape = 0.25 x sMape(rougher) + 0.75 x sMape(final)."
   ]
  },
  {
   "cell_type": "code",
   "execution_count": 99,
   "metadata": {},
   "outputs": [],
   "source": [
    "smape_scorer = make_scorer(smape, greater_is_better = False)"
   ]
  },
  {
   "cell_type": "markdown",
   "metadata": {},
   "source": [
    "<div class=\"alert alert-block alert-success\">\n",
    "<b>Успех:</b> Скорер определен правильно.\n",
    "</div>"
   ]
  },
  {
   "cell_type": "code",
   "execution_count": 100,
   "metadata": {},
   "outputs": [
    {
     "name": "stdout",
     "output_type": "stream",
     "text": [
      "CPU times: user 1min 35s, sys: 110 ms, total: 1min 35s\n",
      "Wall time: 1min 36s\n"
     ]
    },
    {
     "data": {
      "text/plain": [
       "GridSearchCV(cv=5, error_score='raise-deprecating',\n",
       "             estimator=DecisionTreeRegressor(criterion='mse', max_depth=None,\n",
       "                                             max_features=None,\n",
       "                                             max_leaf_nodes=None,\n",
       "                                             min_impurity_decrease=0.0,\n",
       "                                             min_impurity_split=None,\n",
       "                                             min_samples_leaf=1,\n",
       "                                             min_samples_split=2,\n",
       "                                             min_weight_fraction_leaf=0.0,\n",
       "                                             presort=False, random_state=12,\n",
       "                                             splitter='best'),\n",
       "             iid='warn', n_jobs=None, param_grid={'max_depth': range(1, 50, 2)},\n",
       "             pre_dispatch='2*n_jobs', refit=True, return_train_score=False,\n",
       "             scoring=make_scorer(smape, greater_is_better=False), verbose=0)"
      ]
     },
     "execution_count": 100,
     "metadata": {},
     "output_type": "execute_result"
    }
   ],
   "source": [
    "%%time\n",
    "model = DecisionTreeRegressor(random_state=12)\n",
    "parameters = {'max_depth': range (1,50, 2)}\n",
    "grid = GridSearchCV(model, parameters, cv=5, scoring=smape_scorer)\n",
    "grid.fit(df_train_features, df_train_target)"
   ]
  },
  {
   "cell_type": "markdown",
   "metadata": {},
   "source": [
    "<div class=\"alert alert-block alert-success\">\n",
    "<b>Успех:</b> Отлично, что для подбора параметров использовался метод основанный на кросс-валидации с корректной метрикой!\n",
    "</div>"
   ]
  },
  {
   "cell_type": "code",
   "execution_count": 102,
   "metadata": {},
   "outputs": [
    {
     "data": {
      "text/plain": [
       "{'max_depth': 5}"
      ]
     },
     "execution_count": 102,
     "metadata": {},
     "output_type": "execute_result"
    }
   ],
   "source": [
    "grid.best_params_"
   ]
  },
  {
   "cell_type": "code",
   "execution_count": 103,
   "metadata": {},
   "outputs": [
    {
     "data": {
      "text/plain": [
       "-10.840325012284326"
      ]
     },
     "execution_count": 103,
     "metadata": {},
     "output_type": "execute_result"
    }
   ],
   "source": [
    "grid.best_score_"
   ]
  },
  {
   "cell_type": "markdown",
   "metadata": {},
   "source": [
    "Дерево решений выдает оптимальную итоговую sMAPE = -10,8.  \n",
    "Посмотрим на линейную регрессию."
   ]
  },
  {
   "cell_type": "code",
   "execution_count": 107,
   "metadata": {},
   "outputs": [
    {
     "name": "stdout",
     "output_type": "stream",
     "text": [
      "Fitting 5 folds for each of 20 candidates, totalling 100 fits\n",
      "[CV] max_depth=3, n_estimators=10 ....................................\n"
     ]
    },
    {
     "name": "stderr",
     "output_type": "stream",
     "text": [
      "[Parallel(n_jobs=1)]: Using backend SequentialBackend with 1 concurrent workers.\n"
     ]
    },
    {
     "name": "stdout",
     "output_type": "stream",
     "text": [
      "[CV] ....... max_depth=3, n_estimators=10, score=-9.962, total=   1.1s\n",
      "[CV] max_depth=3, n_estimators=10 ....................................\n"
     ]
    },
    {
     "name": "stderr",
     "output_type": "stream",
     "text": [
      "[Parallel(n_jobs=1)]: Done   1 out of   1 | elapsed:    1.1s remaining:    0.0s\n"
     ]
    },
    {
     "name": "stdout",
     "output_type": "stream",
     "text": [
      "[CV] ....... max_depth=3, n_estimators=10, score=-7.705, total=   1.1s\n",
      "[CV] max_depth=3, n_estimators=10 ....................................\n"
     ]
    },
    {
     "name": "stderr",
     "output_type": "stream",
     "text": [
      "[Parallel(n_jobs=1)]: Done   2 out of   2 | elapsed:    2.2s remaining:    0.0s\n"
     ]
    },
    {
     "name": "stdout",
     "output_type": "stream",
     "text": [
      "[CV] ...... max_depth=3, n_estimators=10, score=-11.260, total=   1.1s\n",
      "[CV] max_depth=3, n_estimators=10 ....................................\n",
      "[CV] ...... max_depth=3, n_estimators=10, score=-11.832, total=   1.2s\n",
      "[CV] max_depth=3, n_estimators=10 ....................................\n",
      "[CV] ...... max_depth=3, n_estimators=10, score=-10.529, total=   1.1s\n",
      "[CV] max_depth=3, n_estimators=20 ....................................\n",
      "[CV] ....... max_depth=3, n_estimators=20, score=-9.794, total=   2.3s\n",
      "[CV] max_depth=3, n_estimators=20 ....................................\n",
      "[CV] ....... max_depth=3, n_estimators=20, score=-7.662, total=   2.3s\n",
      "[CV] max_depth=3, n_estimators=20 ....................................\n",
      "[CV] ...... max_depth=3, n_estimators=20, score=-11.352, total=   2.2s\n",
      "[CV] max_depth=3, n_estimators=20 ....................................\n",
      "[CV] ...... max_depth=3, n_estimators=20, score=-11.605, total=   2.3s\n",
      "[CV] max_depth=3, n_estimators=20 ....................................\n",
      "[CV] ...... max_depth=3, n_estimators=20, score=-10.553, total=   2.2s\n",
      "[CV] max_depth=3, n_estimators=30 ....................................\n",
      "[CV] ....... max_depth=3, n_estimators=30, score=-9.661, total=   3.4s\n",
      "[CV] max_depth=3, n_estimators=30 ....................................\n",
      "[CV] ....... max_depth=3, n_estimators=30, score=-7.714, total=   3.4s\n",
      "[CV] max_depth=3, n_estimators=30 ....................................\n",
      "[CV] ...... max_depth=3, n_estimators=30, score=-11.369, total=   3.3s\n",
      "[CV] max_depth=3, n_estimators=30 ....................................\n",
      "[CV] ...... max_depth=3, n_estimators=30, score=-11.592, total=   3.5s\n",
      "[CV] max_depth=3, n_estimators=30 ....................................\n",
      "[CV] ...... max_depth=3, n_estimators=30, score=-10.532, total=   3.5s\n",
      "[CV] max_depth=3, n_estimators=40 ....................................\n",
      "[CV] ....... max_depth=3, n_estimators=40, score=-9.609, total=   4.5s\n",
      "[CV] max_depth=3, n_estimators=40 ....................................\n",
      "[CV] ....... max_depth=3, n_estimators=40, score=-7.708, total=   4.4s\n",
      "[CV] max_depth=3, n_estimators=40 ....................................\n",
      "[CV] ...... max_depth=3, n_estimators=40, score=-11.269, total=   4.4s\n",
      "[CV] max_depth=3, n_estimators=40 ....................................\n",
      "[CV] ...... max_depth=3, n_estimators=40, score=-11.636, total=   4.7s\n",
      "[CV] max_depth=3, n_estimators=40 ....................................\n",
      "[CV] ...... max_depth=3, n_estimators=40, score=-10.582, total=   4.4s\n",
      "[CV] max_depth=3, n_estimators=50 ....................................\n",
      "[CV] ....... max_depth=3, n_estimators=50, score=-9.626, total=   5.5s\n",
      "[CV] max_depth=3, n_estimators=50 ....................................\n",
      "[CV] ....... max_depth=3, n_estimators=50, score=-7.696, total=   5.7s\n",
      "[CV] max_depth=3, n_estimators=50 ....................................\n",
      "[CV] ...... max_depth=3, n_estimators=50, score=-11.320, total=   5.4s\n",
      "[CV] max_depth=3, n_estimators=50 ....................................\n",
      "[CV] ...... max_depth=3, n_estimators=50, score=-11.616, total=   5.6s\n",
      "[CV] max_depth=3, n_estimators=50 ....................................\n",
      "[CV] ...... max_depth=3, n_estimators=50, score=-10.564, total=   5.5s\n",
      "[CV] max_depth=5, n_estimators=10 ....................................\n",
      "[CV] ....... max_depth=5, n_estimators=10, score=-9.356, total=   1.8s\n",
      "[CV] max_depth=5, n_estimators=10 ....................................\n",
      "[CV] ....... max_depth=5, n_estimators=10, score=-7.690, total=   1.8s\n",
      "[CV] max_depth=5, n_estimators=10 ....................................\n",
      "[CV] ...... max_depth=5, n_estimators=10, score=-11.084, total=   1.9s\n",
      "[CV] max_depth=5, n_estimators=10 ....................................\n",
      "[CV] ...... max_depth=5, n_estimators=10, score=-11.311, total=   1.7s\n",
      "[CV] max_depth=5, n_estimators=10 ....................................\n",
      "[CV] ....... max_depth=5, n_estimators=10, score=-9.850, total=   1.7s\n",
      "[CV] max_depth=5, n_estimators=20 ....................................\n",
      "[CV] ....... max_depth=5, n_estimators=20, score=-9.210, total=   3.6s\n",
      "[CV] max_depth=5, n_estimators=20 ....................................\n",
      "[CV] ....... max_depth=5, n_estimators=20, score=-7.686, total=   3.5s\n",
      "[CV] max_depth=5, n_estimators=20 ....................................\n",
      "[CV] ...... max_depth=5, n_estimators=20, score=-10.989, total=   3.3s\n",
      "[CV] max_depth=5, n_estimators=20 ....................................\n",
      "[CV] ...... max_depth=5, n_estimators=20, score=-11.078, total=   3.5s\n",
      "[CV] max_depth=5, n_estimators=20 ....................................\n",
      "[CV] ....... max_depth=5, n_estimators=20, score=-9.777, total=   3.5s\n",
      "[CV] max_depth=5, n_estimators=30 ....................................\n",
      "[CV] ....... max_depth=5, n_estimators=30, score=-9.181, total=   5.5s\n",
      "[CV] max_depth=5, n_estimators=30 ....................................\n",
      "[CV] ....... max_depth=5, n_estimators=30, score=-7.733, total=   5.1s\n",
      "[CV] max_depth=5, n_estimators=30 ....................................\n",
      "[CV] ...... max_depth=5, n_estimators=30, score=-10.937, total=   5.2s\n",
      "[CV] max_depth=5, n_estimators=30 ....................................\n",
      "[CV] ...... max_depth=5, n_estimators=30, score=-11.068, total=   5.4s\n",
      "[CV] max_depth=5, n_estimators=30 ....................................\n",
      "[CV] ....... max_depth=5, n_estimators=30, score=-9.780, total=   5.2s\n",
      "[CV] max_depth=5, n_estimators=40 ....................................\n",
      "[CV] ....... max_depth=5, n_estimators=40, score=-9.129, total=   7.3s\n",
      "[CV] max_depth=5, n_estimators=40 ....................................\n",
      "[CV] ....... max_depth=5, n_estimators=40, score=-7.749, total=   6.9s\n",
      "[CV] max_depth=5, n_estimators=40 ....................................\n",
      "[CV] ...... max_depth=5, n_estimators=40, score=-10.909, total=   6.8s\n",
      "[CV] max_depth=5, n_estimators=40 ....................................\n",
      "[CV] ...... max_depth=5, n_estimators=40, score=-11.104, total=   7.1s\n",
      "[CV] max_depth=5, n_estimators=40 ....................................\n",
      "[CV] ....... max_depth=5, n_estimators=40, score=-9.776, total=   6.9s\n",
      "[CV] max_depth=5, n_estimators=50 ....................................\n",
      "[CV] ....... max_depth=5, n_estimators=50, score=-9.176, total=   8.9s\n",
      "[CV] max_depth=5, n_estimators=50 ....................................\n",
      "[CV] ....... max_depth=5, n_estimators=50, score=-7.703, total=   9.2s\n",
      "[CV] max_depth=5, n_estimators=50 ....................................\n",
      "[CV] ...... max_depth=5, n_estimators=50, score=-10.903, total=   8.9s\n",
      "[CV] max_depth=5, n_estimators=50 ....................................\n",
      "[CV] ...... max_depth=5, n_estimators=50, score=-11.032, total=   9.0s\n",
      "[CV] max_depth=5, n_estimators=50 ....................................\n",
      "[CV] ....... max_depth=5, n_estimators=50, score=-9.747, total=   9.1s\n",
      "[CV] max_depth=7, n_estimators=10 ....................................\n",
      "[CV] ....... max_depth=7, n_estimators=10, score=-9.417, total=   2.4s\n",
      "[CV] max_depth=7, n_estimators=10 ....................................\n",
      "[CV] ....... max_depth=7, n_estimators=10, score=-8.555, total=   2.5s\n",
      "[CV] max_depth=7, n_estimators=10 ....................................\n",
      "[CV] ...... max_depth=7, n_estimators=10, score=-10.750, total=   2.4s\n",
      "[CV] max_depth=7, n_estimators=10 ....................................\n",
      "[CV] ...... max_depth=7, n_estimators=10, score=-12.005, total=   2.5s\n",
      "[CV] max_depth=7, n_estimators=10 ....................................\n",
      "[CV] ....... max_depth=7, n_estimators=10, score=-9.840, total=   2.5s\n",
      "[CV] max_depth=7, n_estimators=20 ....................................\n",
      "[CV] ....... max_depth=7, n_estimators=20, score=-9.093, total=   4.8s\n",
      "[CV] max_depth=7, n_estimators=20 ....................................\n",
      "[CV] ....... max_depth=7, n_estimators=20, score=-9.042, total=   4.7s\n",
      "[CV] max_depth=7, n_estimators=20 ....................................\n",
      "[CV] ...... max_depth=7, n_estimators=20, score=-10.468, total=   4.7s\n",
      "[CV] max_depth=7, n_estimators=20 ....................................\n",
      "[CV] ...... max_depth=7, n_estimators=20, score=-11.600, total=   4.8s\n",
      "[CV] max_depth=7, n_estimators=20 ....................................\n",
      "[CV] ....... max_depth=7, n_estimators=20, score=-9.786, total=   5.0s\n",
      "[CV] max_depth=7, n_estimators=30 ....................................\n"
     ]
    },
    {
     "name": "stdout",
     "output_type": "stream",
     "text": [
      "[CV] ....... max_depth=7, n_estimators=30, score=-9.107, total=   7.3s\n",
      "[CV] max_depth=7, n_estimators=30 ....................................\n",
      "[CV] ....... max_depth=7, n_estimators=30, score=-8.914, total=   7.2s\n",
      "[CV] max_depth=7, n_estimators=30 ....................................\n",
      "[CV] ...... max_depth=7, n_estimators=30, score=-10.392, total=   7.1s\n",
      "[CV] max_depth=7, n_estimators=30 ....................................\n",
      "[CV] ...... max_depth=7, n_estimators=30, score=-11.567, total=   7.2s\n",
      "[CV] max_depth=7, n_estimators=30 ....................................\n",
      "[CV] ....... max_depth=7, n_estimators=30, score=-9.811, total=   7.1s\n",
      "[CV] max_depth=7, n_estimators=40 ....................................\n",
      "[CV] ....... max_depth=7, n_estimators=40, score=-9.107, total=   9.7s\n",
      "[CV] max_depth=7, n_estimators=40 ....................................\n",
      "[CV] ....... max_depth=7, n_estimators=40, score=-8.797, total=  10.5s\n",
      "[CV] max_depth=7, n_estimators=40 ....................................\n",
      "[CV] ...... max_depth=7, n_estimators=40, score=-10.303, total=   9.2s\n",
      "[CV] max_depth=7, n_estimators=40 ....................................\n",
      "[CV] ...... max_depth=7, n_estimators=40, score=-11.432, total=   9.8s\n",
      "[CV] max_depth=7, n_estimators=40 ....................................\n",
      "[CV] ....... max_depth=7, n_estimators=40, score=-9.810, total=   9.8s\n",
      "[CV] max_depth=7, n_estimators=50 ....................................\n",
      "[CV] ....... max_depth=7, n_estimators=50, score=-9.121, total=  12.2s\n",
      "[CV] max_depth=7, n_estimators=50 ....................................\n",
      "[CV] ....... max_depth=7, n_estimators=50, score=-8.676, total=  12.4s\n",
      "[CV] max_depth=7, n_estimators=50 ....................................\n",
      "[CV] ...... max_depth=7, n_estimators=50, score=-10.272, total=  12.0s\n",
      "[CV] max_depth=7, n_estimators=50 ....................................\n",
      "[CV] ...... max_depth=7, n_estimators=50, score=-11.263, total=  12.3s\n",
      "[CV] max_depth=7, n_estimators=50 ....................................\n",
      "[CV] ....... max_depth=7, n_estimators=50, score=-9.837, total=  12.3s\n",
      "[CV] max_depth=9, n_estimators=10 ....................................\n",
      "[CV] ...... max_depth=9, n_estimators=10, score=-10.059, total=   3.0s\n",
      "[CV] max_depth=9, n_estimators=10 ....................................\n",
      "[CV] ...... max_depth=9, n_estimators=10, score=-12.266, total=   3.0s\n",
      "[CV] max_depth=9, n_estimators=10 ....................................\n",
      "[CV] ...... max_depth=9, n_estimators=10, score=-10.606, total=   2.9s\n",
      "[CV] max_depth=9, n_estimators=10 ....................................\n",
      "[CV] ...... max_depth=9, n_estimators=10, score=-12.165, total=   3.2s\n",
      "[CV] max_depth=9, n_estimators=10 ....................................\n",
      "[CV] ...... max_depth=9, n_estimators=10, score=-10.382, total=   3.1s\n",
      "[CV] max_depth=9, n_estimators=20 ....................................\n",
      "[CV] ....... max_depth=9, n_estimators=20, score=-9.569, total=   6.2s\n",
      "[CV] max_depth=9, n_estimators=20 ....................................\n",
      "[CV] ...... max_depth=9, n_estimators=20, score=-10.604, total=   6.1s\n",
      "[CV] max_depth=9, n_estimators=20 ....................................\n",
      "[CV] ...... max_depth=9, n_estimators=20, score=-10.305, total=   5.9s\n",
      "[CV] max_depth=9, n_estimators=20 ....................................\n",
      "[CV] ...... max_depth=9, n_estimators=20, score=-11.515, total=   6.1s\n",
      "[CV] max_depth=9, n_estimators=20 ....................................\n",
      "[CV] ...... max_depth=9, n_estimators=20, score=-10.505, total=   6.2s\n",
      "[CV] max_depth=9, n_estimators=30 ....................................\n",
      "[CV] ....... max_depth=9, n_estimators=30, score=-9.284, total=   9.5s\n",
      "[CV] max_depth=9, n_estimators=30 ....................................\n",
      "[CV] ...... max_depth=9, n_estimators=30, score=-10.485, total=   9.1s\n",
      "[CV] max_depth=9, n_estimators=30 ....................................\n",
      "[CV] ...... max_depth=9, n_estimators=30, score=-10.216, total=   8.8s\n",
      "[CV] max_depth=9, n_estimators=30 ....................................\n",
      "[CV] ...... max_depth=9, n_estimators=30, score=-11.557, total=   9.4s\n",
      "[CV] max_depth=9, n_estimators=30 ....................................\n",
      "[CV] ...... max_depth=9, n_estimators=30, score=-10.640, total=   9.5s\n",
      "[CV] max_depth=9, n_estimators=40 ....................................\n",
      "[CV] ....... max_depth=9, n_estimators=40, score=-9.245, total=  12.2s\n",
      "[CV] max_depth=9, n_estimators=40 ....................................\n",
      "[CV] ...... max_depth=9, n_estimators=40, score=-10.198, total=  11.8s\n",
      "[CV] max_depth=9, n_estimators=40 ....................................\n",
      "[CV] ...... max_depth=9, n_estimators=40, score=-10.180, total=  11.2s\n",
      "[CV] max_depth=9, n_estimators=40 ....................................\n",
      "[CV] ...... max_depth=9, n_estimators=40, score=-11.559, total=  11.6s\n",
      "[CV] max_depth=9, n_estimators=40 ....................................\n",
      "[CV] ...... max_depth=9, n_estimators=40, score=-10.483, total=  11.9s\n",
      "[CV] max_depth=9, n_estimators=50 ....................................\n",
      "[CV] ....... max_depth=9, n_estimators=50, score=-9.249, total=  14.7s\n",
      "[CV] max_depth=9, n_estimators=50 ....................................\n",
      "[CV] ....... max_depth=9, n_estimators=50, score=-9.881, total=  15.1s\n",
      "[CV] max_depth=9, n_estimators=50 ....................................\n",
      "[CV] ...... max_depth=9, n_estimators=50, score=-10.145, total=  14.3s\n",
      "[CV] max_depth=9, n_estimators=50 ....................................\n",
      "[CV] ...... max_depth=9, n_estimators=50, score=-11.522, total=  14.9s\n",
      "[CV] max_depth=9, n_estimators=50 ....................................\n",
      "[CV] ...... max_depth=9, n_estimators=50, score=-10.433, total=  14.8s\n"
     ]
    },
    {
     "name": "stderr",
     "output_type": "stream",
     "text": [
      "[Parallel(n_jobs=1)]: Done 100 out of 100 | elapsed: 10.4min finished\n"
     ]
    },
    {
     "name": "stdout",
     "output_type": "stream",
     "text": [
      "CPU times: user 10min 27s, sys: 322 ms, total: 10min 27s\n",
      "Wall time: 10min 34s\n"
     ]
    },
    {
     "data": {
      "text/plain": [
       "GridSearchCV(cv=5, error_score='raise-deprecating',\n",
       "             estimator=RandomForestRegressor(bootstrap=True, criterion='mse',\n",
       "                                             max_depth=None,\n",
       "                                             max_features='auto',\n",
       "                                             max_leaf_nodes=None,\n",
       "                                             min_impurity_decrease=0.0,\n",
       "                                             min_impurity_split=None,\n",
       "                                             min_samples_leaf=1,\n",
       "                                             min_samples_split=2,\n",
       "                                             min_weight_fraction_leaf=0.0,\n",
       "                                             n_estimators='warn', n_jobs=None,\n",
       "                                             oob_score=False, random_state=12,\n",
       "                                             verbose=0, warm_start=False),\n",
       "             iid='warn', n_jobs=None,\n",
       "             param_grid={'max_depth': range(3, 10, 2),\n",
       "                         'n_estimators': range(10, 51, 10)},\n",
       "             pre_dispatch='2*n_jobs', refit=True, return_train_score=False,\n",
       "             scoring=make_scorer(smape, greater_is_better=False), verbose=3)"
      ]
     },
     "execution_count": 107,
     "metadata": {},
     "output_type": "execute_result"
    }
   ],
   "source": [
    "%%time\n",
    "model = RandomForestRegressor(random_state=12)\n",
    "parameters = {'n_estimators': range (10, 51, 10),\n",
    "              'max_depth': range (3,10, 2)}\n",
    "grid = GridSearchCV(model, param_grid=parameters, cv=5, scoring=smape_scorer, verbose=3)\n",
    "grid.fit(df_train_features, df_train_target)"
   ]
  },
  {
   "cell_type": "code",
   "execution_count": 108,
   "metadata": {},
   "outputs": [
    {
     "data": {
      "text/plain": [
       "{'max_depth': 5, 'n_estimators': 50}"
      ]
     },
     "execution_count": 108,
     "metadata": {},
     "output_type": "execute_result"
    }
   ],
   "source": [
    "grid.best_params_"
   ]
  },
  {
   "cell_type": "code",
   "execution_count": 109,
   "metadata": {},
   "outputs": [
    {
     "data": {
      "text/plain": [
       "-9.712003921086733"
      ]
     },
     "execution_count": 109,
     "metadata": {},
     "output_type": "execute_result"
    }
   ],
   "source": [
    "grid.best_score_"
   ]
  },
  {
   "cell_type": "markdown",
   "metadata": {},
   "source": [
    "Оптимизируемая метрика для случайного леса получше, чем у дерева. Посмотрим на линейную регрессию."
   ]
  },
  {
   "cell_type": "code",
   "execution_count": 116,
   "metadata": {},
   "outputs": [
    {
     "name": "stdout",
     "output_type": "stream",
     "text": [
      "CPU times: user 6.86 s, sys: 6.51 s, total: 13.4 s\n",
      "Wall time: 13.3 s\n"
     ]
    },
    {
     "data": {
      "text/plain": [
       "GridSearchCV(cv=5, error_score='raise-deprecating',\n",
       "             estimator=LinearRegression(copy_X=True, fit_intercept=True,\n",
       "                                        n_jobs=None, normalize=False),\n",
       "             iid='warn', n_jobs=None,\n",
       "             param_grid={'copy_X': [True, False],\n",
       "                         'fit_intercept': [True, False],\n",
       "                         'normalize': [True, False]},\n",
       "             pre_dispatch='2*n_jobs', refit=True, return_train_score=False,\n",
       "             scoring=make_scorer(smape, greater_is_better=False), verbose=0)"
      ]
     },
     "execution_count": 116,
     "metadata": {},
     "output_type": "execute_result"
    }
   ],
   "source": [
    "%%time\n",
    "model = LinearRegression()\n",
    "parameters = {'fit_intercept':[True,False], \n",
    "              'normalize':[True,False],\n",
    "              'copy_X':[True, False]}\n",
    "grid = GridSearchCV(model, param_grid=parameters, cv=5, scoring=smape_scorer)\n",
    "grid.fit(df_train_features, df_train_target)"
   ]
  },
  {
   "cell_type": "code",
   "execution_count": 117,
   "metadata": {},
   "outputs": [
    {
     "data": {
      "text/plain": [
       "{'copy_X': True, 'fit_intercept': True, 'normalize': True}"
      ]
     },
     "execution_count": 117,
     "metadata": {},
     "output_type": "execute_result"
    }
   ],
   "source": [
    "grid.best_params_"
   ]
  },
  {
   "cell_type": "code",
   "execution_count": 118,
   "metadata": {},
   "outputs": [
    {
     "data": {
      "text/plain": [
       "-11.436725047232743"
      ]
     },
     "execution_count": 118,
     "metadata": {},
     "output_type": "execute_result"
    }
   ],
   "source": [
    "grid.best_score_"
   ]
  },
  {
   "cell_type": "markdown",
   "metadata": {},
   "source": [
    "Линейная регрессия дает наихудший результат при прогнозировании добычи золота.  \n",
    "Итак, наилучший результат дает модель случайного леса с парамеирами {'max_depth': 5, 'n_estimators': 50}.  \n",
    "Проверим ее на тестовой выборке."
   ]
  },
  {
   "cell_type": "code",
   "execution_count": 120,
   "metadata": {},
   "outputs": [
    {
     "data": {
      "text/plain": [
       "RandomForestRegressor(bootstrap=True, criterion='mse', max_depth=5,\n",
       "                      max_features='auto', max_leaf_nodes=None,\n",
       "                      min_impurity_decrease=0.0, min_impurity_split=None,\n",
       "                      min_samples_leaf=1, min_samples_split=2,\n",
       "                      min_weight_fraction_leaf=0.0, n_estimators=50,\n",
       "                      n_jobs=None, oob_score=False, random_state=12, verbose=0,\n",
       "                      warm_start=False)"
      ]
     },
     "execution_count": 120,
     "metadata": {},
     "output_type": "execute_result"
    }
   ],
   "source": [
    "model =  RandomForestRegressor(random_state=12, max_depth=5, n_estimators=50)\n",
    "model.fit(df_train_features, df_train_target)"
   ]
  },
  {
   "cell_type": "code",
   "execution_count": 121,
   "metadata": {},
   "outputs": [],
   "source": [
    "predictions = model.predict(df_test_features)"
   ]
  },
  {
   "cell_type": "code",
   "execution_count": 122,
   "metadata": {},
   "outputs": [
    {
     "data": {
      "text/plain": [
       "8.148565274524096"
      ]
     },
     "execution_count": 122,
     "metadata": {},
     "output_type": "execute_result"
    }
   ],
   "source": [
    "smape(df_test_target, predictions)"
   ]
  },
  {
   "cell_type": "markdown",
   "metadata": {},
   "source": [
    "На тестовой выборке оценка метрики sMAPE = 8,15. Результат даже лучше, чем  был получен при обучении."
   ]
  },
  {
   "cell_type": "markdown",
   "metadata": {},
   "source": [
    "<div class=\"alert alert-block alert-success\">\n",
    "<b>Успех:</b> Этот шаг был сделан восхитительно!\n",
    "</div>"
   ]
  },
  {
   "cell_type": "markdown",
   "metadata": {},
   "source": [
    "## Вывод\n",
    "По имеющимся данным удалось выяснить, что после грубой очистки концентрация всех трех металлов увеличивается. С последующей обработкой руды концентрация золота увеличивается, серебра - уменьшается, а свинца - практически не меняется. Это логично, поскольку цель всего процесса - получение золота.  \n",
    "Для прогнозирования эффективности очистки руды использовалась особая метрика - взвешенное sMAPE (англ. Symmetric Mean Absolute Percentage Error, «симметричное среднее абсолютное процентное отклонение») - чем меньше эта характеристика, тем лучше. С помощью техники кросс-валидации (метод GridSearchCV) были исследованы три модели - деревья решений, случайный лес и линейная регресссия. Наименьшее значение взвешенного sMAPE выдала модель случайного леса. На тестовой выборке оно равнялось 8,15%. \n",
    "  \n",
    "Таким образом, применение модели случайного леса с обоснованными в проекте гиперпараметрами позволяет получить ошибку прогнозирования выхода золота из руды на уровне 8%."
   ]
  },
  {
   "cell_type": "markdown",
   "metadata": {},
   "source": [
    "<div class=\"alert alert-block alert-success\">\n",
    "<b>Успех:</b> Приятно видеть подробный вывод в конце проекта!\n",
    "</div>"
   ]
  },
  {
   "cell_type": "markdown",
   "metadata": {},
   "source": [
    "<div class=\"alert alert-block alert-warning\">\n",
    "<b>Изменения:</b> Артем, спасибо за оперативность и классные фишки. Я боялся не успеть, а все оказалось не так страшно).\n",
    "</div>"
   ]
  },
  {
   "cell_type": "markdown",
   "metadata": {},
   "source": [
    "## Чек-лист готовности проекта"
   ]
  },
  {
   "cell_type": "markdown",
   "metadata": {},
   "source": [
    "- [x]  Jupyter Notebook открыт\n",
    "- [ ]  Весь код выполняется без ошибок\n",
    "- [ ]  Ячейки с кодом расположены в порядке выполнения\n",
    "- [ ]  Выполнен шаг 1: данные подготовлены\n",
    "    - [ ]  Проверена формула вычисления эффективности обогащения\n",
    "    - [ ]  Проанализированы признаки, недоступные в тестовой выборке\n",
    "    - [ ]  Проведена предобработка данных\n",
    "- [ ]  Выполнен шаг 2: данные проанализированы\n",
    "    - [ ]  Исследовано изменение концентрации элементов на каждом этапе\n",
    "    - [ ]  Проанализированы распределения размеров гранул на обучающей и тестовой выборках\n",
    "    - [ ]  Исследованы суммарные концентрации\n",
    "- [ ]  Выполнен шаг 3: построена модель прогнозирования\n",
    "    - [ ]  Написана функция для вычисления итогового *sMAPE*\n",
    "    - [ ]  Обучено и проверено несколько моделей\n",
    "    - [ ]  Выбрана лучшая модель, её качество проверено на тестовой выборке"
   ]
  }
 ],
 "metadata": {
  "ExecuteTimeLog": [
   {
    "duration": 1473,
    "start_time": "2021-12-22T20:25:16.350Z"
   },
   {
    "duration": 1485,
    "start_time": "2021-12-26T15:59:10.808Z"
   },
   {
    "duration": 457,
    "start_time": "2021-12-26T15:59:13.145Z"
   },
   {
    "duration": 1321,
    "start_time": "2021-12-26T15:59:37.778Z"
   },
   {
    "duration": 26,
    "start_time": "2021-12-26T16:06:38.665Z"
   },
   {
    "duration": 42,
    "start_time": "2021-12-26T16:12:58.232Z"
   },
   {
    "duration": 27,
    "start_time": "2021-12-26T16:13:20.923Z"
   },
   {
    "duration": 14,
    "start_time": "2021-12-26T16:13:27.393Z"
   },
   {
    "duration": 13,
    "start_time": "2021-12-26T16:13:40.742Z"
   },
   {
    "duration": 14,
    "start_time": "2021-12-26T16:14:09.442Z"
   },
   {
    "duration": 13,
    "start_time": "2021-12-26T16:14:41.724Z"
   },
   {
    "duration": 18,
    "start_time": "2021-12-26T16:19:57.772Z"
   },
   {
    "duration": 24,
    "start_time": "2021-12-26T16:21:12.770Z"
   },
   {
    "duration": 391,
    "start_time": "2021-12-28T19:03:53.541Z"
   },
   {
    "duration": 1477,
    "start_time": "2021-12-28T19:04:01.321Z"
   },
   {
    "duration": 862,
    "start_time": "2021-12-28T19:04:02.800Z"
   },
   {
    "duration": 27,
    "start_time": "2021-12-28T19:04:03.669Z"
   },
   {
    "duration": 15,
    "start_time": "2021-12-28T19:04:03.699Z"
   },
   {
    "duration": 18,
    "start_time": "2021-12-28T19:04:03.716Z"
   },
   {
    "duration": 53,
    "start_time": "2021-12-28T19:04:03.736Z"
   },
   {
    "duration": 388,
    "start_time": "2021-12-28T19:04:03.792Z"
   },
   {
    "duration": 6,
    "start_time": "2021-12-28T19:04:37.661Z"
   },
   {
    "duration": 22,
    "start_time": "2021-12-28T19:04:51.780Z"
   },
   {
    "duration": 7,
    "start_time": "2021-12-28T19:05:06.551Z"
   },
   {
    "duration": 5,
    "start_time": "2021-12-28T19:06:19.201Z"
   },
   {
    "duration": 7,
    "start_time": "2021-12-28T19:08:27.491Z"
   },
   {
    "duration": 10,
    "start_time": "2021-12-28T19:08:30.241Z"
   },
   {
    "duration": 103,
    "start_time": "2021-12-28T19:13:41.886Z"
   },
   {
    "duration": 330,
    "start_time": "2021-12-28T19:14:25.343Z"
   },
   {
    "duration": 316,
    "start_time": "2021-12-28T19:15:21.882Z"
   },
   {
    "duration": 15,
    "start_time": "2021-12-28T19:16:12.173Z"
   },
   {
    "duration": 356,
    "start_time": "2021-12-28T19:16:14.463Z"
   },
   {
    "duration": 7,
    "start_time": "2021-12-28T19:16:27.633Z"
   },
   {
    "duration": 11,
    "start_time": "2021-12-28T19:16:55.913Z"
   },
   {
    "duration": 8,
    "start_time": "2021-12-28T19:16:56.391Z"
   },
   {
    "duration": 8512,
    "start_time": "2021-12-28T19:19:24.332Z"
   },
   {
    "duration": 6,
    "start_time": "2021-12-28T19:20:14.284Z"
   },
   {
    "duration": 7749,
    "start_time": "2021-12-28T19:20:20.294Z"
   },
   {
    "duration": 6,
    "start_time": "2021-12-28T19:21:40.974Z"
   },
   {
    "duration": 13,
    "start_time": "2021-12-28T19:21:41.834Z"
   },
   {
    "duration": 8,
    "start_time": "2021-12-28T19:21:42.974Z"
   },
   {
    "duration": 6,
    "start_time": "2021-12-28T19:25:43.501Z"
   },
   {
    "duration": 11,
    "start_time": "2021-12-28T19:25:43.752Z"
   },
   {
    "duration": 7,
    "start_time": "2021-12-28T19:25:44.141Z"
   },
   {
    "duration": 6,
    "start_time": "2021-12-28T19:31:38.351Z"
   },
   {
    "duration": 6,
    "start_time": "2021-12-28T19:32:03.841Z"
   },
   {
    "duration": 5,
    "start_time": "2021-12-28T19:32:33.471Z"
   },
   {
    "duration": 5,
    "start_time": "2021-12-28T19:32:52.771Z"
   },
   {
    "duration": 7,
    "start_time": "2021-12-28T19:34:21.598Z"
   },
   {
    "duration": 323,
    "start_time": "2021-12-28T19:38:24.632Z"
   },
   {
    "duration": 7,
    "start_time": "2021-12-28T19:38:48.472Z"
   },
   {
    "duration": 326,
    "start_time": "2021-12-28T19:46:00.615Z"
   },
   {
    "duration": 6,
    "start_time": "2021-12-28T19:47:47.657Z"
   },
   {
    "duration": 7,
    "start_time": "2021-12-28T19:53:20.520Z"
   },
   {
    "duration": 135,
    "start_time": "2021-12-28T19:54:26.607Z"
   },
   {
    "duration": 9,
    "start_time": "2021-12-28T19:54:37.686Z"
   },
   {
    "duration": 355,
    "start_time": "2021-12-28T19:54:54.425Z"
   },
   {
    "duration": 9,
    "start_time": "2021-12-28T19:56:22.465Z"
   },
   {
    "duration": 11,
    "start_time": "2021-12-28T19:56:34.835Z"
   },
   {
    "duration": 301,
    "start_time": "2021-12-28T19:56:51.438Z"
   },
   {
    "duration": 329,
    "start_time": "2021-12-28T19:58:12.478Z"
   },
   {
    "duration": 8,
    "start_time": "2021-12-28T19:59:39.942Z"
   },
   {
    "duration": 40,
    "start_time": "2021-12-28T20:08:45.137Z"
   },
   {
    "duration": 13,
    "start_time": "2021-12-28T20:08:57.336Z"
   },
   {
    "duration": 265,
    "start_time": "2021-12-30T15:36:33.265Z"
   },
   {
    "duration": 1141,
    "start_time": "2021-12-30T15:36:38.359Z"
   },
   {
    "duration": 750,
    "start_time": "2021-12-30T15:36:39.502Z"
   },
   {
    "duration": 16,
    "start_time": "2021-12-30T15:36:40.254Z"
   },
   {
    "duration": 28,
    "start_time": "2021-12-30T15:36:40.272Z"
   },
   {
    "duration": 32,
    "start_time": "2021-12-30T15:36:40.301Z"
   },
   {
    "duration": 39,
    "start_time": "2021-12-30T15:36:40.335Z"
   },
   {
    "duration": 25,
    "start_time": "2021-12-30T15:36:40.375Z"
   },
   {
    "duration": 47,
    "start_time": "2021-12-30T15:36:40.401Z"
   },
   {
    "duration": 33,
    "start_time": "2021-12-30T15:36:40.451Z"
   },
   {
    "duration": 36,
    "start_time": "2021-12-30T15:36:40.487Z"
   },
   {
    "duration": 19,
    "start_time": "2021-12-30T15:36:40.525Z"
   },
   {
    "duration": 38,
    "start_time": "2021-12-30T15:36:40.546Z"
   },
   {
    "duration": 30,
    "start_time": "2021-12-30T15:36:40.587Z"
   },
   {
    "duration": 41,
    "start_time": "2021-12-30T15:36:40.619Z"
   },
   {
    "duration": 27,
    "start_time": "2021-12-30T15:36:40.662Z"
   },
   {
    "duration": 28,
    "start_time": "2021-12-30T15:36:40.691Z"
   },
   {
    "duration": 4,
    "start_time": "2021-12-30T15:36:43.306Z"
   },
   {
    "duration": 59,
    "start_time": "2021-12-30T15:56:41.676Z"
   },
   {
    "duration": 333,
    "start_time": "2021-12-30T15:58:23.904Z"
   },
   {
    "duration": 249,
    "start_time": "2021-12-30T15:58:37.924Z"
   },
   {
    "duration": 244,
    "start_time": "2021-12-30T15:58:43.598Z"
   },
   {
    "duration": 224,
    "start_time": "2021-12-30T15:59:52.309Z"
   },
   {
    "duration": 680,
    "start_time": "2021-12-30T16:05:51.866Z"
   },
   {
    "duration": 469,
    "start_time": "2021-12-30T16:06:23.124Z"
   },
   {
    "duration": 497,
    "start_time": "2021-12-30T16:06:53.568Z"
   },
   {
    "duration": 473,
    "start_time": "2021-12-30T16:07:39.584Z"
   },
   {
    "duration": 384,
    "start_time": "2021-12-30T16:07:52.003Z"
   },
   {
    "duration": 301,
    "start_time": "2021-12-30T16:09:26.074Z"
   },
   {
    "duration": 263,
    "start_time": "2021-12-30T16:11:38.994Z"
   },
   {
    "duration": 272,
    "start_time": "2021-12-30T16:11:47.432Z"
   },
   {
    "duration": 263,
    "start_time": "2021-12-30T16:11:53.974Z"
   },
   {
    "duration": 395,
    "start_time": "2021-12-30T16:11:59.824Z"
   },
   {
    "duration": 392,
    "start_time": "2021-12-30T16:12:23.736Z"
   },
   {
    "duration": 225,
    "start_time": "2021-12-30T16:12:35.764Z"
   },
   {
    "duration": 184,
    "start_time": "2021-12-30T16:12:41.054Z"
   },
   {
    "duration": 214,
    "start_time": "2021-12-30T16:12:46.384Z"
   },
   {
    "duration": 543,
    "start_time": "2021-12-30T16:12:53.794Z"
   },
   {
    "duration": 915,
    "start_time": "2021-12-30T16:13:49.283Z"
   },
   {
    "duration": 560,
    "start_time": "2021-12-30T16:13:55.464Z"
   },
   {
    "duration": 574,
    "start_time": "2021-12-30T16:14:18.646Z"
   },
   {
    "duration": 402,
    "start_time": "2021-12-30T16:15:55.258Z"
   },
   {
    "duration": 351,
    "start_time": "2021-12-30T16:16:03.844Z"
   },
   {
    "duration": 936,
    "start_time": "2021-12-30T16:16:09.129Z"
   },
   {
    "duration": 948,
    "start_time": "2021-12-30T16:18:55.864Z"
   },
   {
    "duration": 1149,
    "start_time": "2021-12-30T16:20:54.546Z"
   },
   {
    "duration": 2545,
    "start_time": "2021-12-30T16:21:27.403Z"
   },
   {
    "duration": 244,
    "start_time": "2021-12-30T16:21:33.087Z"
   },
   {
    "duration": 262,
    "start_time": "2021-12-30T16:21:37.098Z"
   },
   {
    "duration": 861,
    "start_time": "2021-12-30T16:21:45.938Z"
   },
   {
    "duration": 1196,
    "start_time": "2021-12-30T16:22:11.289Z"
   },
   {
    "duration": 1090,
    "start_time": "2021-12-31T13:25:58.223Z"
   },
   {
    "duration": 676,
    "start_time": "2021-12-31T13:25:59.315Z"
   },
   {
    "duration": 18,
    "start_time": "2021-12-31T13:25:59.993Z"
   },
   {
    "duration": 10,
    "start_time": "2021-12-31T13:26:00.013Z"
   },
   {
    "duration": 25,
    "start_time": "2021-12-31T13:26:00.025Z"
   },
   {
    "duration": 14,
    "start_time": "2021-12-31T13:26:00.051Z"
   },
   {
    "duration": 4,
    "start_time": "2021-12-31T13:26:00.067Z"
   },
   {
    "duration": 11,
    "start_time": "2021-12-31T13:26:00.072Z"
   },
   {
    "duration": 5,
    "start_time": "2021-12-31T13:26:00.085Z"
   },
   {
    "duration": 7,
    "start_time": "2021-12-31T13:26:00.091Z"
   },
   {
    "duration": 7,
    "start_time": "2021-12-31T13:26:00.099Z"
   },
   {
    "duration": 13,
    "start_time": "2021-12-31T13:26:00.107Z"
   },
   {
    "duration": 5,
    "start_time": "2021-12-31T13:26:00.141Z"
   },
   {
    "duration": 12,
    "start_time": "2021-12-31T13:26:00.148Z"
   },
   {
    "duration": 7,
    "start_time": "2021-12-31T13:26:00.161Z"
   },
   {
    "duration": 14,
    "start_time": "2021-12-31T13:26:00.169Z"
   },
   {
    "duration": 1040,
    "start_time": "2021-12-31T13:26:00.185Z"
   },
   {
    "duration": 992,
    "start_time": "2021-12-31T13:26:05.633Z"
   },
   {
    "duration": 1062,
    "start_time": "2021-12-31T13:29:26.785Z"
   },
   {
    "duration": 3,
    "start_time": "2021-12-31T14:07:08.497Z"
   },
   {
    "duration": 5,
    "start_time": "2021-12-31T14:11:25.326Z"
   },
   {
    "duration": 607,
    "start_time": "2021-12-31T14:15:22.197Z"
   },
   {
    "duration": 245,
    "start_time": "2021-12-31T14:15:53.810Z"
   },
   {
    "duration": 339,
    "start_time": "2021-12-31T14:16:15.010Z"
   },
   {
    "duration": 141,
    "start_time": "2021-12-31T14:19:34.321Z"
   },
   {
    "duration": 463,
    "start_time": "2021-12-31T14:19:45.538Z"
   },
   {
    "duration": 132,
    "start_time": "2021-12-31T14:19:53.626Z"
   },
   {
    "duration": 242,
    "start_time": "2021-12-31T14:20:57.463Z"
   },
   {
    "duration": 112,
    "start_time": "2021-12-31T14:21:09.598Z"
   },
   {
    "duration": 116,
    "start_time": "2021-12-31T14:21:43.891Z"
   },
   {
    "duration": 200,
    "start_time": "2021-12-31T14:21:51.321Z"
   },
   {
    "duration": 127,
    "start_time": "2021-12-31T14:22:01.296Z"
   },
   {
    "duration": 126,
    "start_time": "2021-12-31T14:22:30.935Z"
   },
   {
    "duration": 123,
    "start_time": "2021-12-31T14:22:35.391Z"
   },
   {
    "duration": 241,
    "start_time": "2021-12-31T14:23:20.585Z"
   },
   {
    "duration": 125,
    "start_time": "2021-12-31T14:25:10.346Z"
   },
   {
    "duration": 205,
    "start_time": "2021-12-31T14:30:24.074Z"
   },
   {
    "duration": 207,
    "start_time": "2021-12-31T14:30:40.489Z"
   },
   {
    "duration": 111,
    "start_time": "2021-12-31T14:31:57.155Z"
   },
   {
    "duration": 59,
    "start_time": "2021-12-31T14:33:42.245Z"
   },
   {
    "duration": 128,
    "start_time": "2021-12-31T14:33:56.188Z"
   },
   {
    "duration": 154,
    "start_time": "2021-12-31T14:35:50.544Z"
   },
   {
    "duration": 207,
    "start_time": "2021-12-31T14:40:44.959Z"
   },
   {
    "duration": 335,
    "start_time": "2021-12-31T14:41:18.154Z"
   },
   {
    "duration": 135,
    "start_time": "2021-12-31T14:41:34.059Z"
   },
   {
    "duration": 5,
    "start_time": "2021-12-31T14:46:49.778Z"
   },
   {
    "duration": 5,
    "start_time": "2021-12-31T14:47:38.251Z"
   },
   {
    "duration": 6,
    "start_time": "2021-12-31T14:48:47.419Z"
   },
   {
    "duration": 4,
    "start_time": "2021-12-31T14:53:27.358Z"
   },
   {
    "duration": 210,
    "start_time": "2021-12-31T14:54:22.562Z"
   },
   {
    "duration": 5,
    "start_time": "2021-12-31T14:56:50.680Z"
   },
   {
    "duration": 230,
    "start_time": "2021-12-31T14:57:09.537Z"
   },
   {
    "duration": 220,
    "start_time": "2021-12-31T14:57:32.705Z"
   },
   {
    "duration": 4,
    "start_time": "2021-12-31T14:57:40.691Z"
   },
   {
    "duration": 113,
    "start_time": "2021-12-31T14:57:41.318Z"
   },
   {
    "duration": 206,
    "start_time": "2021-12-31T14:58:21.764Z"
   },
   {
    "duration": 15,
    "start_time": "2021-12-31T14:58:28.845Z"
   },
   {
    "duration": 6,
    "start_time": "2021-12-31T14:59:19.752Z"
   },
   {
    "duration": 123,
    "start_time": "2021-12-31T14:59:44.379Z"
   },
   {
    "duration": 6,
    "start_time": "2021-12-31T15:20:46.697Z"
   },
   {
    "duration": 1503,
    "start_time": "2022-01-05T12:40:14.335Z"
   },
   {
    "duration": 855,
    "start_time": "2022-01-05T12:40:15.841Z"
   },
   {
    "duration": 31,
    "start_time": "2022-01-05T12:40:16.699Z"
   },
   {
    "duration": 14,
    "start_time": "2022-01-05T12:40:16.732Z"
   },
   {
    "duration": 15,
    "start_time": "2022-01-05T12:40:16.749Z"
   },
   {
    "duration": 55,
    "start_time": "2022-01-05T12:40:16.767Z"
   },
   {
    "duration": 5,
    "start_time": "2022-01-05T12:40:16.824Z"
   },
   {
    "duration": 15,
    "start_time": "2022-01-05T12:40:16.833Z"
   },
   {
    "duration": 6,
    "start_time": "2022-01-05T12:40:16.851Z"
   },
   {
    "duration": 5,
    "start_time": "2022-01-05T12:40:16.859Z"
   },
   {
    "duration": 6,
    "start_time": "2022-01-05T12:40:16.866Z"
   },
   {
    "duration": 44,
    "start_time": "2022-01-05T12:40:16.874Z"
   },
   {
    "duration": 7,
    "start_time": "2022-01-05T12:40:16.921Z"
   },
   {
    "duration": 13,
    "start_time": "2022-01-05T12:40:16.930Z"
   },
   {
    "duration": 10,
    "start_time": "2022-01-05T12:40:16.945Z"
   },
   {
    "duration": 15,
    "start_time": "2022-01-05T12:40:16.958Z"
   },
   {
    "duration": 1734,
    "start_time": "2022-01-05T12:40:16.975Z"
   },
   {
    "duration": 1782,
    "start_time": "2022-01-05T12:40:18.711Z"
   },
   {
    "duration": 1827,
    "start_time": "2022-01-05T12:40:20.495Z"
   },
   {
    "duration": 6,
    "start_time": "2022-01-05T12:40:22.324Z"
   },
   {
    "duration": 568,
    "start_time": "2022-01-05T12:40:22.332Z"
   },
   {
    "duration": 239,
    "start_time": "2022-01-05T12:40:22.902Z"
   },
   {
    "duration": 8,
    "start_time": "2022-01-05T12:40:23.145Z"
   },
   {
    "duration": 6,
    "start_time": "2022-01-05T12:40:23.155Z"
   },
   {
    "duration": 230,
    "start_time": "2022-01-05T12:40:23.163Z"
   },
   {
    "duration": 6,
    "start_time": "2022-01-05T12:40:32.642Z"
   },
   {
    "duration": 196,
    "start_time": "2022-01-05T12:40:34.223Z"
   },
   {
    "duration": 6,
    "start_time": "2022-01-05T12:40:45.382Z"
   },
   {
    "duration": 213,
    "start_time": "2022-01-05T12:40:46.572Z"
   },
   {
    "duration": 8,
    "start_time": "2022-01-05T12:40:53.252Z"
   },
   {
    "duration": 6,
    "start_time": "2022-01-05T12:41:05.781Z"
   },
   {
    "duration": 194,
    "start_time": "2022-01-05T12:41:06.100Z"
   },
   {
    "duration": 6,
    "start_time": "2022-01-05T12:41:06.472Z"
   },
   {
    "duration": 194,
    "start_time": "2022-01-05T12:41:06.853Z"
   },
   {
    "duration": 570,
    "start_time": "2022-01-05T12:50:22.210Z"
   },
   {
    "duration": 315,
    "start_time": "2022-01-05T19:36:10.312Z"
   },
   {
    "duration": 1267,
    "start_time": "2022-01-05T19:36:14.992Z"
   },
   {
    "duration": 824,
    "start_time": "2022-01-05T19:36:16.261Z"
   },
   {
    "duration": 18,
    "start_time": "2022-01-05T19:36:17.087Z"
   },
   {
    "duration": 19,
    "start_time": "2022-01-05T19:36:17.107Z"
   },
   {
    "duration": 16,
    "start_time": "2022-01-05T19:36:17.127Z"
   },
   {
    "duration": 25,
    "start_time": "2022-01-05T19:36:17.144Z"
   },
   {
    "duration": 11,
    "start_time": "2022-01-05T19:36:17.171Z"
   },
   {
    "duration": 13,
    "start_time": "2022-01-05T19:36:17.184Z"
   },
   {
    "duration": 4,
    "start_time": "2022-01-05T19:36:17.200Z"
   },
   {
    "duration": 10,
    "start_time": "2022-01-05T19:36:17.206Z"
   },
   {
    "duration": 5,
    "start_time": "2022-01-05T19:36:17.217Z"
   },
   {
    "duration": 6,
    "start_time": "2022-01-05T19:36:17.223Z"
   },
   {
    "duration": 6,
    "start_time": "2022-01-05T19:36:17.230Z"
   },
   {
    "duration": 27,
    "start_time": "2022-01-05T19:36:17.237Z"
   },
   {
    "duration": 8,
    "start_time": "2022-01-05T19:36:17.266Z"
   },
   {
    "duration": 8,
    "start_time": "2022-01-05T19:36:17.276Z"
   },
   {
    "duration": 970,
    "start_time": "2022-01-05T19:36:17.286Z"
   },
   {
    "duration": 1041,
    "start_time": "2022-01-05T19:36:18.258Z"
   },
   {
    "duration": 1128,
    "start_time": "2022-01-05T19:36:19.301Z"
   },
   {
    "duration": 5,
    "start_time": "2022-01-05T19:36:20.431Z"
   },
   {
    "duration": 338,
    "start_time": "2022-01-05T19:36:20.437Z"
   },
   {
    "duration": 149,
    "start_time": "2022-01-05T19:36:20.777Z"
   },
   {
    "duration": 6,
    "start_time": "2022-01-05T19:36:20.927Z"
   },
   {
    "duration": 6,
    "start_time": "2022-01-05T19:36:20.935Z"
   },
   {
    "duration": 130,
    "start_time": "2022-01-05T19:36:20.942Z"
   },
   {
    "duration": 5,
    "start_time": "2022-01-05T19:36:21.074Z"
   },
   {
    "duration": 131,
    "start_time": "2022-01-05T19:36:21.082Z"
   },
   {
    "duration": 5,
    "start_time": "2022-01-05T19:36:21.215Z"
   },
   {
    "duration": 7,
    "start_time": "2022-01-05T19:36:21.222Z"
   },
   {
    "duration": 20,
    "start_time": "2022-01-05T19:38:13.650Z"
   },
   {
    "duration": 14,
    "start_time": "2022-01-05T19:39:33.265Z"
   },
   {
    "duration": 20,
    "start_time": "2022-01-05T19:48:57.162Z"
   },
   {
    "duration": 13,
    "start_time": "2022-01-05T19:52:03.235Z"
   },
   {
    "duration": 286,
    "start_time": "2022-01-05T19:52:46.637Z"
   },
   {
    "duration": 218,
    "start_time": "2022-01-05T19:53:09.363Z"
   },
   {
    "duration": 4,
    "start_time": "2022-01-05T19:53:41.360Z"
   },
   {
    "duration": 11,
    "start_time": "2022-01-05T19:56:42.401Z"
   },
   {
    "duration": 9,
    "start_time": "2022-01-05T19:56:51.540Z"
   },
   {
    "duration": 9,
    "start_time": "2022-01-05T19:57:35.500Z"
   },
   {
    "duration": 6,
    "start_time": "2022-01-05T19:59:38.274Z"
   },
   {
    "duration": 9,
    "start_time": "2022-01-05T19:59:39.409Z"
   },
   {
    "duration": 230,
    "start_time": "2022-01-05T20:01:23.820Z"
   },
   {
    "duration": 243,
    "start_time": "2022-01-05T20:01:30.476Z"
   },
   {
    "duration": 217,
    "start_time": "2022-01-05T20:01:50.498Z"
   },
   {
    "duration": 7,
    "start_time": "2022-01-05T20:02:48.420Z"
   },
   {
    "duration": 3,
    "start_time": "2022-01-05T20:03:16.130Z"
   },
   {
    "duration": 5,
    "start_time": "2022-01-05T20:03:21.580Z"
   },
   {
    "duration": 11,
    "start_time": "2022-01-05T20:03:53.260Z"
   },
   {
    "duration": 3,
    "start_time": "2022-01-05T20:04:02.260Z"
   },
   {
    "duration": 11,
    "start_time": "2022-01-05T20:04:02.265Z"
   },
   {
    "duration": 6,
    "start_time": "2022-01-05T20:04:07.300Z"
   },
   {
    "duration": 10,
    "start_time": "2022-01-05T20:04:09.410Z"
   },
   {
    "duration": 6,
    "start_time": "2022-01-05T20:04:10.238Z"
   },
   {
    "duration": 11,
    "start_time": "2022-01-05T20:04:26.188Z"
   },
   {
    "duration": 6,
    "start_time": "2022-01-05T20:04:27.428Z"
   },
   {
    "duration": 6,
    "start_time": "2022-01-05T20:04:29.240Z"
   },
   {
    "duration": 5,
    "start_time": "2022-01-05T20:04:42.380Z"
   },
   {
    "duration": 224,
    "start_time": "2022-01-05T20:04:56.948Z"
   },
   {
    "duration": 10,
    "start_time": "2022-01-05T20:06:51.190Z"
   },
   {
    "duration": 8,
    "start_time": "2022-01-05T20:07:03.810Z"
   },
   {
    "duration": 198,
    "start_time": "2022-01-05T20:07:16.281Z"
   },
   {
    "duration": 10,
    "start_time": "2022-01-05T20:08:03.673Z"
   },
   {
    "duration": 7,
    "start_time": "2022-01-05T20:08:04.828Z"
   },
   {
    "duration": 6,
    "start_time": "2022-01-05T20:08:05.956Z"
   },
   {
    "duration": 9,
    "start_time": "2022-01-05T20:08:19.516Z"
   },
   {
    "duration": 10,
    "start_time": "2022-01-05T20:08:31.418Z"
   },
   {
    "duration": 6,
    "start_time": "2022-01-05T20:08:41.408Z"
   },
   {
    "duration": 6,
    "start_time": "2022-01-05T20:09:23.148Z"
   },
   {
    "duration": 8,
    "start_time": "2022-01-05T20:09:34.658Z"
   },
   {
    "duration": 800,
    "start_time": "2022-01-05T20:11:54.719Z"
   },
   {
    "duration": 72,
    "start_time": "2022-01-05T20:13:26.666Z"
   },
   {
    "duration": 71,
    "start_time": "2022-01-05T20:13:32.271Z"
   },
   {
    "duration": 290,
    "start_time": "2022-01-05T20:13:40.169Z"
   },
   {
    "duration": 10,
    "start_time": "2022-01-05T20:22:26.672Z"
   },
   {
    "duration": 6,
    "start_time": "2022-01-05T20:22:31.231Z"
   },
   {
    "duration": 6,
    "start_time": "2022-01-05T20:22:31.698Z"
   },
   {
    "duration": 9,
    "start_time": "2022-01-05T20:22:32.329Z"
   },
   {
    "duration": 740,
    "start_time": "2022-01-05T20:22:34.441Z"
   },
   {
    "duration": 4,
    "start_time": "2022-01-05T20:23:48.579Z"
   },
   {
    "duration": 12,
    "start_time": "2022-01-05T20:24:01.001Z"
   },
   {
    "duration": 10,
    "start_time": "2022-01-05T20:24:02.509Z"
   },
   {
    "duration": 8,
    "start_time": "2022-01-05T20:24:02.521Z"
   },
   {
    "duration": 9,
    "start_time": "2022-01-05T20:24:02.531Z"
   },
   {
    "duration": 8,
    "start_time": "2022-01-05T20:24:02.601Z"
   },
   {
    "duration": 777,
    "start_time": "2022-01-05T20:24:03.646Z"
   },
   {
    "duration": 7,
    "start_time": "2022-01-05T20:24:10.557Z"
   },
   {
    "duration": 6,
    "start_time": "2022-01-05T20:24:26.632Z"
   },
   {
    "duration": 116,
    "start_time": "2022-01-05T20:24:41.913Z"
   },
   {
    "duration": 6,
    "start_time": "2022-01-05T20:24:46.203Z"
   },
   {
    "duration": 9,
    "start_time": "2022-01-05T20:25:17.792Z"
   },
   {
    "duration": 6,
    "start_time": "2022-01-05T20:25:42.018Z"
   },
   {
    "duration": 203,
    "start_time": "2022-01-05T20:26:19.563Z"
   },
   {
    "duration": 253,
    "start_time": "2022-01-05T20:27:04.234Z"
   },
   {
    "duration": 183,
    "start_time": "2022-01-05T20:27:53.239Z"
   },
   {
    "duration": 6,
    "start_time": "2022-01-05T20:35:04.728Z"
   },
   {
    "duration": 232,
    "start_time": "2022-01-05T20:37:11.973Z"
   },
   {
    "duration": 229,
    "start_time": "2022-01-05T20:38:56.169Z"
   },
   {
    "duration": 219,
    "start_time": "2022-01-05T20:39:50.861Z"
   },
   {
    "duration": 6,
    "start_time": "2022-01-05T20:40:08.617Z"
   },
   {
    "duration": 10,
    "start_time": "2022-01-05T20:41:41.547Z"
   },
   {
    "duration": 8,
    "start_time": "2022-01-05T20:42:29.767Z"
   },
   {
    "duration": 9,
    "start_time": "2022-01-05T20:44:06.067Z"
   },
   {
    "duration": 13,
    "start_time": "2022-01-05T20:44:57.662Z"
   },
   {
    "duration": 3,
    "start_time": "2022-01-05T21:16:26.313Z"
   },
   {
    "duration": 238,
    "start_time": "2022-01-06T11:17:31.387Z"
   },
   {
    "duration": 1228,
    "start_time": "2022-01-06T11:17:41.342Z"
   },
   {
    "duration": 712,
    "start_time": "2022-01-06T11:17:42.572Z"
   },
   {
    "duration": 18,
    "start_time": "2022-01-06T11:17:43.287Z"
   },
   {
    "duration": 14,
    "start_time": "2022-01-06T11:17:43.307Z"
   },
   {
    "duration": 14,
    "start_time": "2022-01-06T11:17:43.322Z"
   },
   {
    "duration": 16,
    "start_time": "2022-01-06T11:17:43.360Z"
   },
   {
    "duration": 4,
    "start_time": "2022-01-06T11:17:43.378Z"
   },
   {
    "duration": 22,
    "start_time": "2022-01-06T11:17:43.383Z"
   },
   {
    "duration": 7,
    "start_time": "2022-01-06T11:17:43.408Z"
   },
   {
    "duration": 33,
    "start_time": "2022-01-06T11:17:43.417Z"
   },
   {
    "duration": 27,
    "start_time": "2022-01-06T11:17:43.452Z"
   },
   {
    "duration": 28,
    "start_time": "2022-01-06T11:17:43.481Z"
   },
   {
    "duration": 15,
    "start_time": "2022-01-06T11:17:43.511Z"
   },
   {
    "duration": 19,
    "start_time": "2022-01-06T11:17:43.528Z"
   },
   {
    "duration": 16,
    "start_time": "2022-01-06T11:17:43.548Z"
   },
   {
    "duration": 18,
    "start_time": "2022-01-06T11:17:43.566Z"
   },
   {
    "duration": 969,
    "start_time": "2022-01-06T11:17:43.585Z"
   },
   {
    "duration": 1053,
    "start_time": "2022-01-06T11:17:44.556Z"
   },
   {
    "duration": 1125,
    "start_time": "2022-01-06T11:17:45.611Z"
   },
   {
    "duration": 5,
    "start_time": "2022-01-06T11:17:46.738Z"
   },
   {
    "duration": 339,
    "start_time": "2022-01-06T11:17:46.745Z"
   },
   {
    "duration": 146,
    "start_time": "2022-01-06T11:17:47.086Z"
   },
   {
    "duration": 6,
    "start_time": "2022-01-06T11:17:47.233Z"
   },
   {
    "duration": 19,
    "start_time": "2022-01-06T11:17:47.241Z"
   },
   {
    "duration": 126,
    "start_time": "2022-01-06T11:17:47.262Z"
   },
   {
    "duration": 5,
    "start_time": "2022-01-06T11:17:47.390Z"
   },
   {
    "duration": 140,
    "start_time": "2022-01-06T11:17:47.398Z"
   },
   {
    "duration": 5,
    "start_time": "2022-01-06T11:17:47.540Z"
   },
   {
    "duration": 14,
    "start_time": "2022-01-06T11:17:47.547Z"
   },
   {
    "duration": 21,
    "start_time": "2022-01-06T11:17:47.563Z"
   },
   {
    "duration": 10,
    "start_time": "2022-01-06T11:17:47.585Z"
   },
   {
    "duration": 11,
    "start_time": "2022-01-06T11:17:47.597Z"
   },
   {
    "duration": 8,
    "start_time": "2022-01-06T11:17:47.609Z"
   },
   {
    "duration": 14,
    "start_time": "2022-01-06T11:17:47.619Z"
   },
   {
    "duration": 764,
    "start_time": "2022-01-06T11:17:47.634Z"
   },
   {
    "duration": 8,
    "start_time": "2022-01-06T11:17:48.400Z"
   },
   {
    "duration": 327,
    "start_time": "2022-01-06T11:17:48.410Z"
   },
   {
    "duration": 7,
    "start_time": "2022-01-06T11:17:48.740Z"
   },
   {
    "duration": 16,
    "start_time": "2022-01-06T11:17:48.748Z"
   },
   {
    "duration": 6173,
    "start_time": "2022-01-06T11:18:41.346Z"
   },
   {
    "duration": 4,
    "start_time": "2022-01-06T11:19:22.427Z"
   },
   {
    "duration": 198,
    "start_time": "2022-01-06T11:20:14.748Z"
   },
   {
    "duration": 13,
    "start_time": "2022-01-06T11:20:26.057Z"
   },
   {
    "duration": 212,
    "start_time": "2022-01-06T11:20:47.540Z"
   },
   {
    "duration": 4,
    "start_time": "2022-01-06T11:20:53.136Z"
   },
   {
    "duration": 4,
    "start_time": "2022-01-06T11:22:08.382Z"
   },
   {
    "duration": 7,
    "start_time": "2022-01-06T11:23:07.383Z"
   },
   {
    "duration": 10,
    "start_time": "2022-01-06T11:23:32.316Z"
   },
   {
    "duration": 12,
    "start_time": "2022-01-06T11:24:36.921Z"
   },
   {
    "duration": 6,
    "start_time": "2022-01-06T15:31:44.967Z"
   },
   {
    "duration": 10,
    "start_time": "2022-01-06T15:32:28.037Z"
   },
   {
    "duration": 1156,
    "start_time": "2022-01-06T15:33:31.003Z"
   },
   {
    "duration": 717,
    "start_time": "2022-01-06T15:33:32.161Z"
   },
   {
    "duration": 19,
    "start_time": "2022-01-06T15:33:32.880Z"
   },
   {
    "duration": 12,
    "start_time": "2022-01-06T15:33:32.901Z"
   },
   {
    "duration": 11,
    "start_time": "2022-01-06T15:33:32.914Z"
   },
   {
    "duration": 35,
    "start_time": "2022-01-06T15:33:32.927Z"
   },
   {
    "duration": 16,
    "start_time": "2022-01-06T15:33:32.964Z"
   },
   {
    "duration": 9,
    "start_time": "2022-01-06T15:33:41.272Z"
   },
   {
    "duration": 3,
    "start_time": "2022-01-06T15:48:02.542Z"
   },
   {
    "duration": 23,
    "start_time": "2022-01-06T15:55:39.605Z"
   },
   {
    "duration": 5,
    "start_time": "2022-01-06T15:55:51.035Z"
   },
   {
    "duration": 23,
    "start_time": "2022-01-06T15:55:51.043Z"
   },
   {
    "duration": 5,
    "start_time": "2022-01-06T15:55:51.224Z"
   },
   {
    "duration": 4,
    "start_time": "2022-01-06T15:55:51.584Z"
   },
   {
    "duration": 4,
    "start_time": "2022-01-06T15:55:51.744Z"
   },
   {
    "duration": 4,
    "start_time": "2022-01-06T15:55:51.935Z"
   },
   {
    "duration": 7,
    "start_time": "2022-01-06T15:55:52.288Z"
   },
   {
    "duration": 14,
    "start_time": "2022-01-06T15:55:52.512Z"
   },
   {
    "duration": 8,
    "start_time": "2022-01-06T15:55:52.636Z"
   },
   {
    "duration": 10,
    "start_time": "2022-01-06T15:55:52.802Z"
   },
   {
    "duration": 1056,
    "start_time": "2022-01-06T15:56:12.735Z"
   },
   {
    "duration": 972,
    "start_time": "2022-01-06T15:56:14.074Z"
   },
   {
    "duration": 1150,
    "start_time": "2022-01-06T15:56:15.048Z"
   },
   {
    "duration": 5,
    "start_time": "2022-01-06T15:56:16.200Z"
   },
   {
    "duration": 350,
    "start_time": "2022-01-06T15:56:16.207Z"
   },
   {
    "duration": 157,
    "start_time": "2022-01-06T15:56:16.560Z"
   },
   {
    "duration": 139,
    "start_time": "2022-01-06T15:57:08.153Z"
   },
   {
    "duration": 8,
    "start_time": "2022-01-06T15:57:10.075Z"
   },
   {
    "duration": 5,
    "start_time": "2022-01-06T15:57:12.275Z"
   },
   {
    "duration": 133,
    "start_time": "2022-01-06T15:57:13.255Z"
   },
   {
    "duration": 5,
    "start_time": "2022-01-06T15:57:15.116Z"
   },
   {
    "duration": 117,
    "start_time": "2022-01-06T15:57:16.016Z"
   },
   {
    "duration": 5,
    "start_time": "2022-01-06T15:57:17.525Z"
   },
   {
    "duration": 5,
    "start_time": "2022-01-06T15:57:32.084Z"
   },
   {
    "duration": 352,
    "start_time": "2022-01-06T15:57:52.215Z"
   },
   {
    "duration": 4,
    "start_time": "2022-01-06T15:57:55.116Z"
   },
   {
    "duration": 14,
    "start_time": "2022-01-06T15:58:01.225Z"
   },
   {
    "duration": 10,
    "start_time": "2022-01-06T15:58:02.275Z"
   },
   {
    "duration": 6,
    "start_time": "2022-01-06T15:58:04.344Z"
   },
   {
    "duration": 10,
    "start_time": "2022-01-06T15:58:21.205Z"
   },
   {
    "duration": 8,
    "start_time": "2022-01-06T15:58:26.125Z"
   },
   {
    "duration": 6,
    "start_time": "2022-01-06T15:58:26.924Z"
   },
   {
    "duration": 6,
    "start_time": "2022-01-06T15:58:40.555Z"
   },
   {
    "duration": 10,
    "start_time": "2022-01-06T15:58:42.344Z"
   },
   {
    "duration": 930,
    "start_time": "2022-01-06T15:58:46.125Z"
   },
   {
    "duration": 9,
    "start_time": "2022-01-06T15:59:19.820Z"
   },
   {
    "duration": 191,
    "start_time": "2022-01-06T15:59:30.384Z"
   },
   {
    "duration": 7,
    "start_time": "2022-01-06T15:59:41.594Z"
   },
   {
    "duration": 5,
    "start_time": "2022-01-06T15:59:42.093Z"
   },
   {
    "duration": 10,
    "start_time": "2022-01-06T15:59:42.834Z"
   },
   {
    "duration": 4,
    "start_time": "2022-01-06T15:59:43.773Z"
   },
   {
    "duration": 8,
    "start_time": "2022-01-06T15:59:44.654Z"
   },
   {
    "duration": 10,
    "start_time": "2022-01-06T15:59:45.792Z"
   },
   {
    "duration": 287,
    "start_time": "2022-01-06T16:34:16.385Z"
   },
   {
    "duration": 221,
    "start_time": "2022-01-06T16:34:58.206Z"
   },
   {
    "duration": 227,
    "start_time": "2022-01-06T16:36:11.006Z"
   },
   {
    "duration": 14,
    "start_time": "2022-01-06T16:37:02.735Z"
   },
   {
    "duration": 1719,
    "start_time": "2022-01-08T13:21:04.448Z"
   },
   {
    "duration": 903,
    "start_time": "2022-01-08T13:21:06.170Z"
   },
   {
    "duration": 27,
    "start_time": "2022-01-08T13:21:07.077Z"
   },
   {
    "duration": 18,
    "start_time": "2022-01-08T13:21:07.107Z"
   },
   {
    "duration": 49,
    "start_time": "2022-01-08T13:21:07.127Z"
   },
   {
    "duration": 9,
    "start_time": "2022-01-08T13:21:07.178Z"
   },
   {
    "duration": 27,
    "start_time": "2022-01-08T13:21:07.190Z"
   },
   {
    "duration": 48,
    "start_time": "2022-01-08T13:21:07.220Z"
   },
   {
    "duration": 5,
    "start_time": "2022-01-08T13:21:07.272Z"
   },
   {
    "duration": 25,
    "start_time": "2022-01-08T13:21:07.280Z"
   },
   {
    "duration": 494,
    "start_time": "2022-01-08T13:21:07.307Z"
   },
   {
    "duration": 4220738,
    "start_time": "2022-01-08T12:10:47.067Z"
   },
   {
    "duration": 4220693,
    "start_time": "2022-01-08T12:10:47.113Z"
   },
   {
    "duration": 4220684,
    "start_time": "2022-01-08T12:10:47.123Z"
   },
   {
    "duration": 4220677,
    "start_time": "2022-01-08T12:10:47.132Z"
   },
   {
    "duration": 4220663,
    "start_time": "2022-01-08T12:10:47.147Z"
   },
   {
    "duration": 4220656,
    "start_time": "2022-01-08T12:10:47.156Z"
   },
   {
    "duration": 4220645,
    "start_time": "2022-01-08T12:10:47.168Z"
   },
   {
    "duration": 4220637,
    "start_time": "2022-01-08T12:10:47.177Z"
   },
   {
    "duration": 4220629,
    "start_time": "2022-01-08T12:10:47.187Z"
   },
   {
    "duration": 4220621,
    "start_time": "2022-01-08T12:10:47.196Z"
   },
   {
    "duration": 4220615,
    "start_time": "2022-01-08T12:10:47.204Z"
   },
   {
    "duration": 4220593,
    "start_time": "2022-01-08T12:10:47.227Z"
   },
   {
    "duration": 4220586,
    "start_time": "2022-01-08T12:10:47.235Z"
   },
   {
    "duration": 4220579,
    "start_time": "2022-01-08T12:10:47.244Z"
   },
   {
    "duration": 4220572,
    "start_time": "2022-01-08T12:10:47.253Z"
   },
   {
    "duration": 4220564,
    "start_time": "2022-01-08T12:10:47.262Z"
   },
   {
    "duration": 4220557,
    "start_time": "2022-01-08T12:10:47.270Z"
   },
   {
    "duration": 4220550,
    "start_time": "2022-01-08T12:10:47.279Z"
   },
   {
    "duration": 4220541,
    "start_time": "2022-01-08T12:10:47.289Z"
   },
   {
    "duration": 4220534,
    "start_time": "2022-01-08T12:10:47.297Z"
   },
   {
    "duration": 4220527,
    "start_time": "2022-01-08T12:10:47.306Z"
   },
   {
    "duration": 4220520,
    "start_time": "2022-01-08T12:10:47.315Z"
   },
   {
    "duration": 4220512,
    "start_time": "2022-01-08T12:10:47.325Z"
   },
   {
    "duration": 4220490,
    "start_time": "2022-01-08T12:10:47.349Z"
   },
   {
    "duration": 4220481,
    "start_time": "2022-01-08T12:10:47.359Z"
   },
   {
    "duration": 4220473,
    "start_time": "2022-01-08T12:10:47.368Z"
   },
   {
    "duration": 4220462,
    "start_time": "2022-01-08T12:10:47.380Z"
   },
   {
    "duration": 4220454,
    "start_time": "2022-01-08T12:10:47.389Z"
   },
   {
    "duration": 4220447,
    "start_time": "2022-01-08T12:10:47.398Z"
   },
   {
    "duration": 4220460,
    "start_time": "2022-01-08T12:10:47.407Z"
   },
   {
    "duration": 4220452,
    "start_time": "2022-01-08T12:10:47.416Z"
   },
   {
    "duration": 4220445,
    "start_time": "2022-01-08T12:10:47.425Z"
   },
   {
    "duration": 4220437,
    "start_time": "2022-01-08T12:10:47.434Z"
   },
   {
    "duration": 4220430,
    "start_time": "2022-01-08T12:10:47.442Z"
   },
   {
    "duration": 4220404,
    "start_time": "2022-01-08T12:10:47.469Z"
   },
   {
    "duration": 4220398,
    "start_time": "2022-01-08T12:10:47.477Z"
   },
   {
    "duration": 6,
    "start_time": "2022-01-08T13:23:31.577Z"
   },
   {
    "duration": 11,
    "start_time": "2022-01-08T13:23:40.565Z"
   },
   {
    "duration": 7,
    "start_time": "2022-01-08T13:23:44.737Z"
   },
   {
    "duration": 6,
    "start_time": "2022-01-08T13:23:44.877Z"
   },
   {
    "duration": 8,
    "start_time": "2022-01-08T13:23:45.177Z"
   },
   {
    "duration": 7,
    "start_time": "2022-01-08T13:23:45.817Z"
   },
   {
    "duration": 10,
    "start_time": "2022-01-08T13:23:46.088Z"
   },
   {
    "duration": 10,
    "start_time": "2022-01-08T13:23:46.237Z"
   },
   {
    "duration": 12,
    "start_time": "2022-01-08T13:23:46.407Z"
   },
   {
    "duration": 2019,
    "start_time": "2022-01-08T13:23:47.947Z"
   },
   {
    "duration": 1930,
    "start_time": "2022-01-08T13:23:49.969Z"
   },
   {
    "duration": 2214,
    "start_time": "2022-01-08T13:23:51.902Z"
   },
   {
    "duration": 6,
    "start_time": "2022-01-08T13:23:54.118Z"
   },
   {
    "duration": 696,
    "start_time": "2022-01-08T13:23:54.127Z"
   },
   {
    "duration": 275,
    "start_time": "2022-01-08T13:23:54.825Z"
   },
   {
    "duration": 9,
    "start_time": "2022-01-08T13:23:55.102Z"
   },
   {
    "duration": 8,
    "start_time": "2022-01-08T13:23:55.114Z"
   },
   {
    "duration": 263,
    "start_time": "2022-01-08T13:23:55.125Z"
   },
   {
    "duration": 6,
    "start_time": "2022-01-08T13:23:55.390Z"
   },
   {
    "duration": 236,
    "start_time": "2022-01-08T13:23:55.398Z"
   },
   {
    "duration": 8,
    "start_time": "2022-01-08T13:23:55.637Z"
   },
   {
    "duration": 23,
    "start_time": "2022-01-08T13:23:55.648Z"
   },
   {
    "duration": 17,
    "start_time": "2022-01-08T13:23:55.674Z"
   },
   {
    "duration": 16,
    "start_time": "2022-01-08T13:23:55.898Z"
   },
   {
    "duration": 8,
    "start_time": "2022-01-08T13:23:56.927Z"
   },
   {
    "duration": 16,
    "start_time": "2022-01-08T13:23:57.068Z"
   },
   {
    "duration": 20,
    "start_time": "2022-01-08T13:23:57.266Z"
   },
   {
    "duration": 1630,
    "start_time": "2022-01-08T13:23:57.498Z"
   },
   {
    "duration": 11,
    "start_time": "2022-01-08T13:23:59.131Z"
   },
   {
    "duration": 342,
    "start_time": "2022-01-08T13:24:00.097Z"
   },
   {
    "duration": 9,
    "start_time": "2022-01-08T13:24:00.448Z"
   },
   {
    "duration": 6,
    "start_time": "2022-01-08T13:24:00.617Z"
   },
   {
    "duration": 17,
    "start_time": "2022-01-08T13:24:00.778Z"
   },
   {
    "duration": 5,
    "start_time": "2022-01-08T13:24:01.508Z"
   },
   {
    "duration": 8,
    "start_time": "2022-01-08T13:24:01.647Z"
   },
   {
    "duration": 12,
    "start_time": "2022-01-08T13:24:01.847Z"
   },
   {
    "duration": 6,
    "start_time": "2022-01-08T13:24:05.867Z"
   },
   {
    "duration": 21,
    "start_time": "2022-01-08T13:24:07.669Z"
   },
   {
    "duration": 6,
    "start_time": "2022-01-08T13:29:59.107Z"
   },
   {
    "duration": 8,
    "start_time": "2022-01-08T13:30:15.178Z"
   },
   {
    "duration": 325,
    "start_time": "2022-01-08T13:30:41.488Z"
   },
   {
    "duration": 4,
    "start_time": "2022-01-08T13:31:57.888Z"
   },
   {
    "duration": 6,
    "start_time": "2022-01-08T13:32:04.055Z"
   },
   {
    "duration": 323,
    "start_time": "2022-01-08T13:33:24.134Z"
   },
   {
    "duration": 334,
    "start_time": "2022-01-08T13:33:38.238Z"
   },
   {
    "duration": 414,
    "start_time": "2022-01-08T13:34:11.579Z"
   },
   {
    "duration": 424,
    "start_time": "2022-01-08T13:34:56.657Z"
   },
   {
    "duration": 432,
    "start_time": "2022-01-08T13:35:10.457Z"
   },
   {
    "duration": 6,
    "start_time": "2022-01-08T13:35:27.458Z"
   },
   {
    "duration": 345,
    "start_time": "2022-01-08T13:38:43.498Z"
   },
   {
    "duration": 374,
    "start_time": "2022-01-08T13:38:50.009Z"
   },
   {
    "duration": 334,
    "start_time": "2022-01-08T13:39:15.737Z"
   },
   {
    "duration": 7,
    "start_time": "2022-01-08T13:39:29.337Z"
   },
   {
    "duration": 7,
    "start_time": "2022-01-08T13:40:06.408Z"
   },
   {
    "duration": 13,
    "start_time": "2022-01-08T13:40:29.628Z"
   },
   {
    "duration": 6,
    "start_time": "2022-01-08T13:40:49.307Z"
   },
   {
    "duration": 6,
    "start_time": "2022-01-08T13:41:24.607Z"
   },
   {
    "duration": 328,
    "start_time": "2022-01-08T13:44:57.978Z"
   },
   {
    "duration": 357,
    "start_time": "2022-01-08T13:45:45.309Z"
   },
   {
    "duration": 319,
    "start_time": "2022-01-08T13:45:56.224Z"
   },
   {
    "duration": 4,
    "start_time": "2022-01-08T13:48:39.998Z"
   },
   {
    "duration": 332,
    "start_time": "2022-01-08T13:48:51.357Z"
   },
   {
    "duration": 325,
    "start_time": "2022-01-08T13:49:29.225Z"
   },
   {
    "duration": 933,
    "start_time": "2022-01-08T13:50:10.088Z"
   },
   {
    "duration": 333,
    "start_time": "2022-01-08T13:51:21.807Z"
   },
   {
    "duration": 313,
    "start_time": "2022-01-08T13:52:10.098Z"
   },
   {
    "duration": 801,
    "start_time": "2022-01-08T13:56:30.857Z"
   },
   {
    "duration": 470,
    "start_time": "2022-01-08T13:57:20.498Z"
   },
   {
    "duration": 6,
    "start_time": "2022-01-08T13:57:31.086Z"
   },
   {
    "duration": 373,
    "start_time": "2022-01-08T13:58:19.057Z"
   },
   {
    "duration": 307,
    "start_time": "2022-01-08T13:58:33.709Z"
   },
   {
    "duration": 359,
    "start_time": "2022-01-08T13:58:42.817Z"
   },
   {
    "duration": 6,
    "start_time": "2022-01-08T13:58:52.015Z"
   },
   {
    "duration": 6,
    "start_time": "2022-01-08T13:59:07.458Z"
   },
   {
    "duration": 329,
    "start_time": "2022-01-08T14:02:37.198Z"
   },
   {
    "duration": 629,
    "start_time": "2022-01-08T14:02:41.618Z"
   },
   {
    "duration": 352,
    "start_time": "2022-01-08T14:02:53.678Z"
   },
   {
    "duration": 369,
    "start_time": "2022-01-08T14:02:58.908Z"
   },
   {
    "duration": 498,
    "start_time": "2022-01-08T14:03:05.847Z"
   },
   {
    "duration": 5,
    "start_time": "2022-01-08T14:03:28.147Z"
   },
   {
    "duration": 6,
    "start_time": "2022-01-08T14:03:38.108Z"
   },
   {
    "duration": 7,
    "start_time": "2022-01-08T14:03:58.407Z"
   },
   {
    "duration": 9,
    "start_time": "2022-01-08T14:04:16.407Z"
   },
   {
    "duration": 11,
    "start_time": "2022-01-08T14:05:16.337Z"
   },
   {
    "duration": 8,
    "start_time": "2022-01-08T14:05:41.208Z"
   },
   {
    "duration": 10,
    "start_time": "2022-01-08T14:05:41.938Z"
   },
   {
    "duration": 1663,
    "start_time": "2022-01-08T14:06:23.895Z"
   },
   {
    "duration": 897,
    "start_time": "2022-01-08T14:06:25.561Z"
   },
   {
    "duration": 26,
    "start_time": "2022-01-08T14:06:26.461Z"
   },
   {
    "duration": 15,
    "start_time": "2022-01-08T14:06:26.490Z"
   },
   {
    "duration": 15,
    "start_time": "2022-01-08T14:06:26.508Z"
   },
   {
    "duration": 46,
    "start_time": "2022-01-08T14:06:26.526Z"
   },
   {
    "duration": 28,
    "start_time": "2022-01-08T14:06:26.574Z"
   },
   {
    "duration": 11,
    "start_time": "2022-01-08T14:06:26.605Z"
   },
   {
    "duration": 6,
    "start_time": "2022-01-08T14:06:26.619Z"
   },
   {
    "duration": 54,
    "start_time": "2022-01-08T14:06:26.627Z"
   },
   {
    "duration": 7,
    "start_time": "2022-01-08T14:06:26.683Z"
   },
   {
    "duration": 7,
    "start_time": "2022-01-08T14:06:26.692Z"
   },
   {
    "duration": 6,
    "start_time": "2022-01-08T14:06:26.701Z"
   },
   {
    "duration": 6,
    "start_time": "2022-01-08T14:06:26.710Z"
   },
   {
    "duration": 50,
    "start_time": "2022-01-08T14:06:26.719Z"
   },
   {
    "duration": 8,
    "start_time": "2022-01-08T14:06:26.771Z"
   },
   {
    "duration": 16,
    "start_time": "2022-01-08T14:06:26.781Z"
   },
   {
    "duration": 13,
    "start_time": "2022-01-08T14:06:26.800Z"
   },
   {
    "duration": 26,
    "start_time": "2022-01-08T14:06:26.815Z"
   },
   {
    "duration": 1939,
    "start_time": "2022-01-08T14:06:26.843Z"
   },
   {
    "duration": 2314,
    "start_time": "2022-01-08T14:06:28.785Z"
   },
   {
    "duration": 1941,
    "start_time": "2022-01-08T14:06:31.101Z"
   },
   {
    "duration": 19,
    "start_time": "2022-01-08T14:06:33.048Z"
   },
   {
    "duration": 600,
    "start_time": "2022-01-08T14:06:33.070Z"
   },
   {
    "duration": 259,
    "start_time": "2022-01-08T14:06:33.673Z"
   },
   {
    "duration": 10,
    "start_time": "2022-01-08T14:06:33.935Z"
   },
   {
    "duration": 23,
    "start_time": "2022-01-08T14:06:33.947Z"
   },
   {
    "duration": 246,
    "start_time": "2022-01-08T14:06:33.973Z"
   },
   {
    "duration": 7,
    "start_time": "2022-01-08T14:06:34.221Z"
   },
   {
    "duration": 254,
    "start_time": "2022-01-08T14:06:34.231Z"
   },
   {
    "duration": 7,
    "start_time": "2022-01-08T14:06:34.487Z"
   },
   {
    "duration": 11,
    "start_time": "2022-01-08T14:06:34.497Z"
   },
   {
    "duration": 22,
    "start_time": "2022-01-08T14:06:34.511Z"
   },
   {
    "duration": 42,
    "start_time": "2022-01-08T14:06:34.535Z"
   },
   {
    "duration": 13,
    "start_time": "2022-01-08T14:06:34.580Z"
   },
   {
    "duration": 11,
    "start_time": "2022-01-08T14:06:34.596Z"
   },
   {
    "duration": 16,
    "start_time": "2022-01-08T14:06:34.609Z"
   },
   {
    "duration": 1624,
    "start_time": "2022-01-08T14:06:34.628Z"
   },
   {
    "duration": 20,
    "start_time": "2022-01-08T14:06:36.254Z"
   },
   {
    "duration": 338,
    "start_time": "2022-01-08T14:06:36.277Z"
   },
   {
    "duration": 10,
    "start_time": "2022-01-08T14:06:36.618Z"
   },
   {
    "duration": 9,
    "start_time": "2022-01-08T14:06:36.630Z"
   },
   {
    "duration": 40,
    "start_time": "2022-01-08T14:06:36.641Z"
   },
   {
    "duration": 5,
    "start_time": "2022-01-08T14:06:36.683Z"
   },
   {
    "duration": 19,
    "start_time": "2022-01-08T14:06:36.690Z"
   },
   {
    "duration": 12,
    "start_time": "2022-01-08T14:06:36.712Z"
   },
   {
    "duration": 5,
    "start_time": "2022-01-08T14:06:36.727Z"
   },
   {
    "duration": 44,
    "start_time": "2022-01-08T14:06:36.734Z"
   },
   {
    "duration": 6,
    "start_time": "2022-01-08T14:06:58.261Z"
   },
   {
    "duration": 5,
    "start_time": "2022-01-08T14:08:40.144Z"
   },
   {
    "duration": 9,
    "start_time": "2022-01-08T14:09:04.412Z"
   },
   {
    "duration": 9,
    "start_time": "2022-01-08T14:10:04.415Z"
   },
   {
    "duration": 14,
    "start_time": "2022-01-08T14:10:49.314Z"
   },
   {
    "duration": 7,
    "start_time": "2022-01-08T14:12:55.854Z"
   },
   {
    "duration": 5,
    "start_time": "2022-01-08T15:02:59.234Z"
   },
   {
    "duration": 1641,
    "start_time": "2022-01-09T13:11:09.522Z"
   },
   {
    "duration": 4577,
    "start_time": "2022-01-09T13:11:11.165Z"
   },
   {
    "duration": 19,
    "start_time": "2022-01-09T13:11:15.744Z"
   },
   {
    "duration": 13,
    "start_time": "2022-01-09T13:11:15.765Z"
   },
   {
    "duration": 10,
    "start_time": "2022-01-09T13:11:15.780Z"
   },
   {
    "duration": 5,
    "start_time": "2022-01-09T13:11:15.791Z"
   },
   {
    "duration": 17,
    "start_time": "2022-01-09T13:11:15.798Z"
   },
   {
    "duration": 9,
    "start_time": "2022-01-09T13:11:15.817Z"
   },
   {
    "duration": 35,
    "start_time": "2022-01-09T13:11:15.828Z"
   },
   {
    "duration": 16,
    "start_time": "2022-01-09T13:11:15.865Z"
   },
   {
    "duration": 12,
    "start_time": "2022-01-09T13:11:15.882Z"
   },
   {
    "duration": 6,
    "start_time": "2022-01-09T13:11:15.896Z"
   },
   {
    "duration": 5,
    "start_time": "2022-01-09T13:11:15.904Z"
   },
   {
    "duration": 6,
    "start_time": "2022-01-09T13:11:15.910Z"
   },
   {
    "duration": 4,
    "start_time": "2022-01-09T13:11:15.918Z"
   },
   {
    "duration": 6,
    "start_time": "2022-01-09T13:11:15.924Z"
   },
   {
    "duration": 33,
    "start_time": "2022-01-09T13:11:15.932Z"
   },
   {
    "duration": 7,
    "start_time": "2022-01-09T13:11:15.967Z"
   },
   {
    "duration": 9,
    "start_time": "2022-01-09T13:11:15.976Z"
   },
   {
    "duration": 1102,
    "start_time": "2022-01-09T13:11:15.987Z"
   },
   {
    "duration": 1010,
    "start_time": "2022-01-09T13:11:17.091Z"
   },
   {
    "duration": 1202,
    "start_time": "2022-01-09T13:11:18.104Z"
   },
   {
    "duration": 6,
    "start_time": "2022-01-09T13:11:19.308Z"
   },
   {
    "duration": 397,
    "start_time": "2022-01-09T13:11:19.316Z"
   },
   {
    "duration": 194,
    "start_time": "2022-01-09T13:11:19.715Z"
   },
   {
    "duration": 7,
    "start_time": "2022-01-09T13:11:19.910Z"
   },
   {
    "duration": 5,
    "start_time": "2022-01-09T13:11:19.922Z"
   },
   {
    "duration": 156,
    "start_time": "2022-01-09T13:11:19.929Z"
   },
   {
    "duration": 5,
    "start_time": "2022-01-09T13:11:20.087Z"
   },
   {
    "duration": 138,
    "start_time": "2022-01-09T13:11:20.093Z"
   },
   {
    "duration": 5,
    "start_time": "2022-01-09T13:11:20.233Z"
   },
   {
    "duration": 28,
    "start_time": "2022-01-09T13:11:20.240Z"
   },
   {
    "duration": 26,
    "start_time": "2022-01-09T13:11:20.270Z"
   },
   {
    "duration": 12,
    "start_time": "2022-01-09T13:11:20.298Z"
   },
   {
    "duration": 14,
    "start_time": "2022-01-09T13:11:20.312Z"
   },
   {
    "duration": 8,
    "start_time": "2022-01-09T13:11:20.328Z"
   },
   {
    "duration": 12,
    "start_time": "2022-01-09T13:11:20.338Z"
   },
   {
    "duration": 938,
    "start_time": "2022-01-09T13:11:20.352Z"
   },
   {
    "duration": 9,
    "start_time": "2022-01-09T13:11:21.293Z"
   },
   {
    "duration": 216,
    "start_time": "2022-01-09T13:11:21.304Z"
   },
   {
    "duration": 6,
    "start_time": "2022-01-09T13:11:21.522Z"
   },
   {
    "duration": 6,
    "start_time": "2022-01-09T13:11:21.530Z"
   },
   {
    "duration": 33,
    "start_time": "2022-01-09T13:11:21.538Z"
   },
   {
    "duration": 5,
    "start_time": "2022-01-09T13:11:21.572Z"
   },
   {
    "duration": 9,
    "start_time": "2022-01-09T13:11:21.579Z"
   },
   {
    "duration": 11,
    "start_time": "2022-01-09T13:11:21.590Z"
   },
   {
    "duration": 4,
    "start_time": "2022-01-09T13:21:26.467Z"
   },
   {
    "duration": 3,
    "start_time": "2022-01-09T13:21:36.528Z"
   },
   {
    "duration": 12,
    "start_time": "2022-01-09T13:21:41.079Z"
   },
   {
    "duration": 6,
    "start_time": "2022-01-09T13:21:41.858Z"
   },
   {
    "duration": 4,
    "start_time": "2022-01-09T13:21:42.169Z"
   },
   {
    "duration": 12,
    "start_time": "2022-01-09T13:21:42.349Z"
   },
   {
    "duration": 6,
    "start_time": "2022-01-09T13:21:42.497Z"
   },
   {
    "duration": 4,
    "start_time": "2022-01-09T13:21:42.680Z"
   },
   {
    "duration": 3,
    "start_time": "2022-01-09T13:35:13.110Z"
   },
   {
    "duration": 4,
    "start_time": "2022-01-09T13:35:13.668Z"
   },
   {
    "duration": 264,
    "start_time": "2022-01-09T13:37:28.596Z"
   },
   {
    "duration": 4,
    "start_time": "2022-01-09T13:37:44.877Z"
   },
   {
    "duration": 143,
    "start_time": "2022-01-09T13:37:52.355Z"
   },
   {
    "duration": 190,
    "start_time": "2022-01-09T13:38:13.224Z"
   },
   {
    "duration": 29,
    "start_time": "2022-01-09T13:41:39.325Z"
   },
   {
    "duration": 25,
    "start_time": "2022-01-09T13:44:47.477Z"
   },
   {
    "duration": 9,
    "start_time": "2022-01-09T13:45:28.047Z"
   },
   {
    "duration": 996,
    "start_time": "2022-01-09T13:45:34.948Z"
   },
   {
    "duration": 1169,
    "start_time": "2022-01-09T13:45:40.604Z"
   },
   {
    "duration": 997,
    "start_time": "2022-01-09T13:45:42.100Z"
   },
   {
    "duration": 5,
    "start_time": "2022-01-09T13:45:47.146Z"
   },
   {
    "duration": 348,
    "start_time": "2022-01-09T13:45:47.287Z"
   },
   {
    "duration": 310,
    "start_time": "2022-01-09T13:45:51.460Z"
   },
   {
    "duration": 7,
    "start_time": "2022-01-09T13:45:52.710Z"
   },
   {
    "duration": 4,
    "start_time": "2022-01-09T13:45:54.547Z"
   },
   {
    "duration": 115,
    "start_time": "2022-01-09T13:45:55.166Z"
   },
   {
    "duration": 5,
    "start_time": "2022-01-09T13:45:55.517Z"
   },
   {
    "duration": 118,
    "start_time": "2022-01-09T13:45:55.906Z"
   },
   {
    "duration": 6,
    "start_time": "2022-01-09T13:45:57.706Z"
   },
   {
    "duration": 5,
    "start_time": "2022-01-09T13:46:00.559Z"
   },
   {
    "duration": 14,
    "start_time": "2022-01-09T13:46:00.566Z"
   },
   {
    "duration": 9,
    "start_time": "2022-01-09T13:46:00.670Z"
   },
   {
    "duration": 6,
    "start_time": "2022-01-09T13:46:00.818Z"
   },
   {
    "duration": 6,
    "start_time": "2022-01-09T13:46:00.947Z"
   },
   {
    "duration": 9,
    "start_time": "2022-01-09T13:46:01.196Z"
   },
   {
    "duration": 904,
    "start_time": "2022-01-09T13:46:01.347Z"
   },
   {
    "duration": 15,
    "start_time": "2022-01-09T13:46:02.252Z"
   },
   {
    "duration": 212,
    "start_time": "2022-01-09T13:46:02.269Z"
   },
   {
    "duration": 6,
    "start_time": "2022-01-09T13:46:02.496Z"
   },
   {
    "duration": 5,
    "start_time": "2022-01-09T13:46:02.706Z"
   },
   {
    "duration": 12,
    "start_time": "2022-01-09T13:46:02.844Z"
   },
   {
    "duration": 4,
    "start_time": "2022-01-09T13:46:03.026Z"
   },
   {
    "duration": 6,
    "start_time": "2022-01-09T13:46:03.226Z"
   },
   {
    "duration": 11,
    "start_time": "2022-01-09T13:46:03.507Z"
   },
   {
    "duration": 4,
    "start_time": "2022-01-09T13:46:06.214Z"
   },
   {
    "duration": 4,
    "start_time": "2022-01-09T13:46:06.996Z"
   },
   {
    "duration": 10,
    "start_time": "2022-01-09T13:46:08.244Z"
   },
   {
    "duration": 4,
    "start_time": "2022-01-09T13:46:09.236Z"
   },
   {
    "duration": 4,
    "start_time": "2022-01-09T13:46:09.831Z"
   },
   {
    "duration": 11,
    "start_time": "2022-01-09T13:46:10.086Z"
   },
   {
    "duration": 5,
    "start_time": "2022-01-09T13:46:10.327Z"
   },
   {
    "duration": 5,
    "start_time": "2022-01-09T13:46:11.217Z"
   },
   {
    "duration": 2,
    "start_time": "2022-01-09T13:46:14.407Z"
   },
   {
    "duration": 96312,
    "start_time": "2022-01-09T13:46:15.516Z"
   },
   {
    "duration": 210,
    "start_time": "2022-01-09T13:49:53.756Z"
   },
   {
    "duration": 5,
    "start_time": "2022-01-09T13:50:56.755Z"
   },
   {
    "duration": 4,
    "start_time": "2022-01-09T13:52:42.296Z"
   },
   {
    "duration": 140,
    "start_time": "2022-01-09T14:00:06.116Z"
   },
   {
    "duration": 171,
    "start_time": "2022-01-09T14:00:28.526Z"
   },
   {
    "duration": 141,
    "start_time": "2022-01-09T14:02:02.840Z"
   },
   {
    "duration": 634951,
    "start_time": "2022-01-09T14:02:57.836Z"
   },
   {
    "duration": 4,
    "start_time": "2022-01-09T14:14:27.843Z"
   },
   {
    "duration": 4,
    "start_time": "2022-01-09T14:14:44.396Z"
   },
   {
    "duration": 137,
    "start_time": "2022-01-09T14:21:14.589Z"
   },
   {
    "duration": 144,
    "start_time": "2022-01-09T14:21:30.572Z"
   },
   {
    "duration": 147,
    "start_time": "2022-01-09T14:27:53.831Z"
   },
   {
    "duration": 3,
    "start_time": "2022-01-09T14:28:20.074Z"
   },
   {
    "duration": 131,
    "start_time": "2022-01-09T14:28:29.450Z"
   },
   {
    "duration": 12801,
    "start_time": "2022-01-09T14:28:35.960Z"
   },
   {
    "duration": 13407,
    "start_time": "2022-01-09T14:29:08.280Z"
   },
   {
    "duration": 4,
    "start_time": "2022-01-09T14:29:28.131Z"
   },
   {
    "duration": 5,
    "start_time": "2022-01-09T14:29:32.180Z"
   },
   {
    "duration": 3,
    "start_time": "2022-01-09T14:34:22.100Z"
   },
   {
    "duration": 11392,
    "start_time": "2022-01-09T14:34:44.870Z"
   },
   {
    "duration": 14,
    "start_time": "2022-01-09T14:37:36.549Z"
   },
   {
    "duration": 8,
    "start_time": "2022-01-09T14:38:52.621Z"
   },
   {
    "duration": 352,
    "start_time": "2022-01-09T23:37:28.800Z"
   },
   {
    "duration": 1573,
    "start_time": "2022-01-09T23:37:34.999Z"
   },
   {
    "duration": 3631,
    "start_time": "2022-01-09T23:37:36.575Z"
   },
   {
    "duration": 26,
    "start_time": "2022-01-09T23:37:40.209Z"
   },
   {
    "duration": 15,
    "start_time": "2022-01-09T23:37:40.238Z"
   },
   {
    "duration": 16,
    "start_time": "2022-01-09T23:37:40.398Z"
   },
   {
    "duration": 8,
    "start_time": "2022-01-09T23:37:40.638Z"
   },
   {
    "duration": 22,
    "start_time": "2022-01-09T23:37:41.039Z"
   },
   {
    "duration": 12,
    "start_time": "2022-01-09T23:37:41.807Z"
   },
   {
    "duration": 7,
    "start_time": "2022-01-09T23:37:43.988Z"
   },
   {
    "duration": 14,
    "start_time": "2022-01-09T23:37:44.718Z"
   },
   {
    "duration": 6,
    "start_time": "2022-01-09T23:37:45.669Z"
   },
   {
    "duration": 5,
    "start_time": "2022-01-09T23:37:48.118Z"
   },
   {
    "duration": 5,
    "start_time": "2022-01-09T23:37:48.349Z"
   },
   {
    "duration": 6,
    "start_time": "2022-01-09T23:37:48.568Z"
   },
   {
    "duration": 5,
    "start_time": "2022-01-09T23:37:48.780Z"
   },
   {
    "duration": 8,
    "start_time": "2022-01-09T23:37:49.708Z"
   },
   {
    "duration": 10,
    "start_time": "2022-01-09T23:37:49.877Z"
   },
   {
    "duration": 8,
    "start_time": "2022-01-09T23:37:50.088Z"
   },
   {
    "duration": 12,
    "start_time": "2022-01-09T23:37:50.628Z"
   },
   {
    "duration": 25,
    "start_time": "2022-01-09T23:37:51.526Z"
   },
   {
    "duration": 11,
    "start_time": "2022-01-09T23:37:52.918Z"
   },
   {
    "duration": 1769,
    "start_time": "2022-01-09T23:37:56.948Z"
   },
   {
    "duration": 111,
    "start_time": "2022-01-09T23:38:00.819Z"
   },
   {
    "duration": 101,
    "start_time": "2022-01-09T23:38:38.890Z"
   },
   {
    "duration": 1728,
    "start_time": "2022-01-09T23:39:34.589Z"
   },
   {
    "duration": 544,
    "start_time": "2022-01-09T23:43:15.898Z"
   },
   {
    "duration": 8,
    "start_time": "2022-01-09T23:43:58.866Z"
   },
   {
    "duration": 387,
    "start_time": "2022-01-09T23:45:12.646Z"
   },
   {
    "duration": 7,
    "start_time": "2022-01-09T23:45:17.746Z"
   }
  ],
  "kernelspec": {
   "display_name": "Python 3 (ipykernel)",
   "language": "python",
   "name": "python3"
  },
  "language_info": {
   "codemirror_mode": {
    "name": "ipython",
    "version": 3
   },
   "file_extension": ".py",
   "mimetype": "text/x-python",
   "name": "python",
   "nbconvert_exporter": "python",
   "pygments_lexer": "ipython3",
   "version": "3.9.5"
  },
  "toc": {
   "base_numbering": 1,
   "nav_menu": {},
   "number_sections": true,
   "sideBar": true,
   "skip_h1_title": true,
   "title_cell": "Содержание",
   "title_sidebar": "Contents",
   "toc_cell": true,
   "toc_position": {},
   "toc_section_display": true,
   "toc_window_display": false
  }
 },
 "nbformat": 4,
 "nbformat_minor": 2
}
