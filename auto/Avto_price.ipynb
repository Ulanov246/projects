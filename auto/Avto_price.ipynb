{
 "cells": [
  {
   "cell_type": "markdown",
   "metadata": {},
   "source": [
    "# Определение стоимости автомобилей"
   ]
  },
  {
   "cell_type": "markdown",
   "metadata": {},
   "source": [
    "Сервис по продаже автомобилей с пробегом  разрабатывает приложение для привлечения новых клиентов. В нём можно быстро узнать рыночную стоимость своего автомобиля. В нашем распоряжении исторические данные: технические характеристики, комплектации и цены автомобилей. Нужно построить модель для определения стоимости. \n",
    "\n",
    "Заказчику важны:\n",
    "\n",
    "- качество предсказания;\n",
    "- скорость предсказания;\n",
    "- время обучения."
   ]
  },
  {
   "cell_type": "markdown",
   "metadata": {},
   "source": [
    "## Подготовка данных"
   ]
  },
  {
   "cell_type": "code",
   "execution_count": 110,
   "metadata": {},
   "outputs": [],
   "source": [
    "import pandas as pd\n",
    "import numpy as np\n",
    "import matplotlib.pyplot as plt\n",
    "from sklearn.ensemble import RandomForestRegressor\n",
    "from sklearn.linear_model import LinearRegression\n",
    "from sklearn.model_selection import train_test_split\n",
    "from sklearn.metrics import mean_squared_error\n",
    "from sklearn.model_selection import GridSearchCV\n",
    "from sklearn.metrics import make_scorer\n",
    "from lightgbm import LGBMRegressor\n",
    "from datetime import datetime "
   ]
  },
  {
   "cell_type": "code",
   "execution_count": 2,
   "metadata": {},
   "outputs": [],
   "source": [
    "df = pd.read_csv('/datasets/autos.csv')"
   ]
  },
  {
   "cell_type": "code",
   "execution_count": 3,
   "metadata": {},
   "outputs": [
    {
     "data": {
      "text/html": [
       "<div>\n",
       "<style scoped>\n",
       "    .dataframe tbody tr th:only-of-type {\n",
       "        vertical-align: middle;\n",
       "    }\n",
       "\n",
       "    .dataframe tbody tr th {\n",
       "        vertical-align: top;\n",
       "    }\n",
       "\n",
       "    .dataframe thead th {\n",
       "        text-align: right;\n",
       "    }\n",
       "</style>\n",
       "<table border=\"1\" class=\"dataframe\">\n",
       "  <thead>\n",
       "    <tr style=\"text-align: right;\">\n",
       "      <th></th>\n",
       "      <th>DateCrawled</th>\n",
       "      <th>Price</th>\n",
       "      <th>VehicleType</th>\n",
       "      <th>RegistrationYear</th>\n",
       "      <th>Gearbox</th>\n",
       "      <th>Power</th>\n",
       "      <th>Model</th>\n",
       "      <th>Kilometer</th>\n",
       "      <th>RegistrationMonth</th>\n",
       "      <th>FuelType</th>\n",
       "      <th>Brand</th>\n",
       "      <th>NotRepaired</th>\n",
       "      <th>DateCreated</th>\n",
       "      <th>NumberOfPictures</th>\n",
       "      <th>PostalCode</th>\n",
       "      <th>LastSeen</th>\n",
       "    </tr>\n",
       "  </thead>\n",
       "  <tbody>\n",
       "    <tr>\n",
       "      <td>331928</td>\n",
       "      <td>2016-03-12 19:00:04</td>\n",
       "      <td>2580</td>\n",
       "      <td>sedan</td>\n",
       "      <td>2001</td>\n",
       "      <td>auto</td>\n",
       "      <td>110</td>\n",
       "      <td>civic</td>\n",
       "      <td>150000</td>\n",
       "      <td>10</td>\n",
       "      <td>petrol</td>\n",
       "      <td>honda</td>\n",
       "      <td>no</td>\n",
       "      <td>2016-03-12 00:00:00</td>\n",
       "      <td>0</td>\n",
       "      <td>73441</td>\n",
       "      <td>2016-04-07 12:47:15</td>\n",
       "    </tr>\n",
       "  </tbody>\n",
       "</table>\n",
       "</div>"
      ],
      "text/plain": [
       "                DateCrawled  Price VehicleType  RegistrationYear Gearbox  \\\n",
       "331928  2016-03-12 19:00:04   2580       sedan              2001    auto   \n",
       "\n",
       "        Power  Model  Kilometer  RegistrationMonth FuelType  Brand  \\\n",
       "331928    110  civic     150000                 10   petrol  honda   \n",
       "\n",
       "       NotRepaired          DateCreated  NumberOfPictures  PostalCode  \\\n",
       "331928          no  2016-03-12 00:00:00                 0       73441   \n",
       "\n",
       "                   LastSeen  \n",
       "331928  2016-04-07 12:47:15  "
      ]
     },
     "execution_count": 3,
     "metadata": {},
     "output_type": "execute_result"
    }
   ],
   "source": [
    "df.sample()"
   ]
  },
  {
   "cell_type": "code",
   "execution_count": 4,
   "metadata": {
    "scrolled": true
   },
   "outputs": [
    {
     "name": "stdout",
     "output_type": "stream",
     "text": [
      "<class 'pandas.core.frame.DataFrame'>\n",
      "RangeIndex: 354369 entries, 0 to 354368\n",
      "Data columns (total 16 columns):\n",
      "DateCrawled          354369 non-null object\n",
      "Price                354369 non-null int64\n",
      "VehicleType          316879 non-null object\n",
      "RegistrationYear     354369 non-null int64\n",
      "Gearbox              334536 non-null object\n",
      "Power                354369 non-null int64\n",
      "Model                334664 non-null object\n",
      "Kilometer            354369 non-null int64\n",
      "RegistrationMonth    354369 non-null int64\n",
      "FuelType             321474 non-null object\n",
      "Brand                354369 non-null object\n",
      "NotRepaired          283215 non-null object\n",
      "DateCreated          354369 non-null object\n",
      "NumberOfPictures     354369 non-null int64\n",
      "PostalCode           354369 non-null int64\n",
      "LastSeen             354369 non-null object\n",
      "dtypes: int64(7), object(9)\n",
      "memory usage: 43.3+ MB\n"
     ]
    }
   ],
   "source": [
    "df.info()"
   ]
  },
  {
   "cell_type": "code",
   "execution_count": 5,
   "metadata": {
    "scrolled": false
   },
   "outputs": [
    {
     "data": {
      "text/plain": [
       "4"
      ]
     },
     "execution_count": 5,
     "metadata": {},
     "output_type": "execute_result"
    }
   ],
   "source": [
    "df.duplicated().sum()"
   ]
  },
  {
   "cell_type": "code",
   "execution_count": 6,
   "metadata": {},
   "outputs": [
    {
     "data": {
      "text/plain": [
       "DateCrawled          0.000000\n",
       "Price                0.000000\n",
       "VehicleType          0.105794\n",
       "RegistrationYear     0.000000\n",
       "Gearbox              0.055967\n",
       "Power                0.000000\n",
       "Model                0.055606\n",
       "Kilometer            0.000000\n",
       "RegistrationMonth    0.000000\n",
       "FuelType             0.092827\n",
       "Brand                0.000000\n",
       "NotRepaired          0.200791\n",
       "DateCreated          0.000000\n",
       "NumberOfPictures     0.000000\n",
       "PostalCode           0.000000\n",
       "LastSeen             0.000000\n",
       "dtype: float64"
      ]
     },
     "execution_count": 6,
     "metadata": {},
     "output_type": "execute_result"
    }
   ],
   "source": [
    "df.isna().mean()"
   ]
  },
  {
   "cell_type": "markdown",
   "metadata": {},
   "source": [
    "В датасете содержится информация о 354 369  автомобилях.  \n",
    "  \n",
    "  Признаки:  \n",
    "- DateCrawled — дата скачивания анкеты из базы  \n",
    "- VehicleType — тип автомобильного кузова\n",
    "- RegistrationYear — год регистрации автомобиля\n",
    "- Gearbox — тип коробки передач\n",
    "- Power — мощность (л. с.)\n",
    "- Model — модель автомобиля\n",
    "- Kilometer — пробег (км)\n",
    "- RegistrationMonth — месяц регистрации автомобиля\n",
    "- FuelType — тип топлива\n",
    "- Brand — марка автомобиля\n",
    "- NotRepaired — была машина в ремонте или нет\n",
    "- DateCreated — дата создания анкеты\n",
    "- NumberOfPictures — количество фотографий автомобиля\n",
    "- PostalCode — почтовый индекс владельца анкеты (пользователя)\n",
    "- LastSeen — дата последней активности пользователя.  \n",
    "  \n",
    "Целевой признак:  \n",
    "- Price — цена (евро).  \n",
    "  \n",
    "В данных имеются пропуски:  \n",
    "- около 20% NotRepaired, \n",
    "- примерно по 10% - в VehicleType и FuelType;\n",
    "- по 5% - Gearbox и Model. \n",
    "Нужно пропуски заполнить или удалить неполные данные."
   ]
  },
  {
   "cell_type": "code",
   "execution_count": 7,
   "metadata": {},
   "outputs": [
    {
     "data": {
      "text/plain": [
       "array([nan, 'yes', 'no'], dtype=object)"
      ]
     },
     "execution_count": 7,
     "metadata": {},
     "output_type": "execute_result"
    }
   ],
   "source": [
    "df['NotRepaired'].unique()"
   ]
  },
  {
   "cell_type": "markdown",
   "metadata": {},
   "source": [
    "Скорее всего, пропуски в NotRepaired соответствуют 'no'."
   ]
  },
  {
   "cell_type": "code",
   "execution_count": 8,
   "metadata": {},
   "outputs": [],
   "source": [
    "df['NotRepaired'] = df['NotRepaired'].fillna('no')"
   ]
  },
  {
   "cell_type": "code",
   "execution_count": 9,
   "metadata": {},
   "outputs": [],
   "source": [
    "df.loc[df['NotRepaired'] == 'no', 'NotRepaired'] = False"
   ]
  },
  {
   "cell_type": "code",
   "execution_count": 10,
   "metadata": {},
   "outputs": [],
   "source": [
    "df.loc[df['NotRepaired'] == 'yes', 'NotRepaired'] = True"
   ]
  },
  {
   "cell_type": "code",
   "execution_count": 11,
   "metadata": {},
   "outputs": [
    {
     "data": {
      "text/plain": [
       "array([nan, 'coupe', 'suv', 'small', 'sedan', 'convertible', 'bus',\n",
       "       'wagon', 'other'], dtype=object)"
      ]
     },
     "execution_count": 11,
     "metadata": {},
     "output_type": "execute_result"
    }
   ],
   "source": [
    "df['VehicleType'].unique()"
   ]
  },
  {
   "cell_type": "markdown",
   "metadata": {},
   "source": [
    "Удалим пропуски в VehicleType."
   ]
  },
  {
   "cell_type": "code",
   "execution_count": 12,
   "metadata": {},
   "outputs": [],
   "source": [
    "df = df.dropna(subset=['VehicleType'])"
   ]
  },
  {
   "cell_type": "code",
   "execution_count": 13,
   "metadata": {
    "scrolled": false
   },
   "outputs": [
    {
     "data": {
      "text/plain": [
       "DateCrawled          0.000000\n",
       "Price                0.000000\n",
       "VehicleType          0.000000\n",
       "RegistrationYear     0.000000\n",
       "Gearbox              0.031125\n",
       "Power                0.000000\n",
       "Model                0.040637\n",
       "Kilometer            0.000000\n",
       "RegistrationMonth    0.000000\n",
       "FuelType             0.049230\n",
       "Brand                0.000000\n",
       "NotRepaired          0.000000\n",
       "DateCreated          0.000000\n",
       "NumberOfPictures     0.000000\n",
       "PostalCode           0.000000\n",
       "LastSeen             0.000000\n",
       "dtype: float64"
      ]
     },
     "execution_count": 13,
     "metadata": {},
     "output_type": "execute_result"
    }
   ],
   "source": [
    "df.isna().mean()"
   ]
  },
  {
   "cell_type": "code",
   "execution_count": 14,
   "metadata": {},
   "outputs": [
    {
     "data": {
      "text/plain": [
       "array(['gasoline', 'petrol', nan, 'lpg', 'other', 'hybrid', 'cng',\n",
       "       'electric'], dtype=object)"
      ]
     },
     "execution_count": 14,
     "metadata": {},
     "output_type": "execute_result"
    }
   ],
   "source": [
    "df['FuelType'].unique()"
   ]
  },
  {
   "cell_type": "markdown",
   "metadata": {},
   "source": [
    "Если в типе двигателя есть \"other\", пропуски не могут обозначать альтернативную группу - удаляем."
   ]
  },
  {
   "cell_type": "code",
   "execution_count": 15,
   "metadata": {},
   "outputs": [],
   "source": [
    "df = df.dropna(subset=['FuelType'])"
   ]
  },
  {
   "cell_type": "code",
   "execution_count": 16,
   "metadata": {},
   "outputs": [
    {
     "data": {
      "text/plain": [
       "array([nan, 'grand', 'golf', 'fabia', '3er', '2_reihe', 'other', 'c_max',\n",
       "       '3_reihe', 'passat', 'navara', 'ka', 'twingo', 'a_klasse',\n",
       "       'scirocco', '5er', 'arosa', 'civic', 'transporter', 'punto',\n",
       "       'e_klasse', 'one', 'fortwo', 'clio', '1er', 'b_klasse', 'astra',\n",
       "       'a8', 'jetta', 'polo', 'fiesta', 'c_klasse', 'micra', 'vito',\n",
       "       'sprinter', '156', 'escort', 'forester', 'xc_reihe', 'scenic',\n",
       "       'a4', 'a1', 'combo', 'focus', 'tt', 'corsa', 'a6', 'jazz', 'slk',\n",
       "       '7er', '80', '147', 'meriva', 'z_reihe', 'sorento', 'v40', 'ibiza',\n",
       "       'mustang', 'eos', 'touran', 'getz', 'insignia', 'a3', 'megane',\n",
       "       'lupo', 'r19', 'mondeo', 'colt', 'vectra', 'berlingo', 'tiguan',\n",
       "       'sharan', '6_reihe', 'c4', 'panda', 'up', 'i_reihe', 'ceed',\n",
       "       'kangoo', '5_reihe', 'yeti', 'octavia', 'zafira', 'mii',\n",
       "       'rx_reihe', '6er', 'fox', 'matiz', 'beetle', 'rio', 'touareg',\n",
       "       'logan', 'caddy', 'omega', 'cuore', 's_max', 'modus', 'a2',\n",
       "       'galaxy', 'c3', 'viano', 's_klasse', '1_reihe', 'avensis',\n",
       "       'roomster', 'sl', 'kaefer', 'santa', 'cooper', 'leon', 'a5',\n",
       "       'sportage', 'ptcruiser', 'clk', 'primera', '4_reihe', 'espace',\n",
       "       'x_reihe', 'exeo', 'transit', 'juke', 'carisma', 'accord',\n",
       "       'corolla', 'phaeton', 'cordoba', 'verso', 'swift', 'rav',\n",
       "       'qashqai', '159', 'picanto', 'boxster', 'superb', 'stilo',\n",
       "       'alhambra', 'laguna', 'roadster', 'ypsilon', 'cayenne', 'galant',\n",
       "       'justy', '90', 'sirion', 'signum', 'crossfire', 'agila', 'duster',\n",
       "       'v50', 'mx_reihe', '500', 'c_reihe', 'v_klasse', 'm_klasse',\n",
       "       'yaris', 'c5', 'aygo', 'almera', 'seicento', 'cc', '911', 'bora',\n",
       "       'forfour', 'm_reihe', '100', 'cl', 'tigra', '300c', 'cr_reihe',\n",
       "       'spark', 'kuga', 'impreza', 'x_type', 'ducato', 's_type',\n",
       "       'x_trail', 'toledo', 'altea', 'voyager', 'carnival', 'v70',\n",
       "       'bravo', 'antara', 'tucson', 'c1', 'kadett', 'citigo', 'jimny',\n",
       "       'wrangler', 'lybra', 'q7', 'lancer', 'captiva', 'fusion',\n",
       "       'discovery', 'sandero', 'note', 'spider', 'cherokee', 'clubman',\n",
       "       'defender', 'cx_reihe', 'legacy', 'pajero', 'c2', 'niva', 's60',\n",
       "       '900', 'nubira', 'vivaro', 'lanos', 'g_klasse', 'freelander',\n",
       "       'auris', 'lodgy', '850', 'range_rover', '601', 'q3', 'serie_2',\n",
       "       'calibra', 'glk', 'charade', 'croma', 'outlander', 'doblo', 'musa',\n",
       "       'move', '9000', 'kalos', 'v60', '200', '145', 'b_max',\n",
       "       'range_rover_sport', 'aveo', 'terios', 'rangerover', 'q5',\n",
       "       'range_rover_evoque', 'materia', 'gl', 'kalina', 'samara',\n",
       "       'elefantino', 'delta', 'i3', 'amarok', 'kappa', 'serie_3',\n",
       "       'serie_1'], dtype=object)"
      ]
     },
     "execution_count": 16,
     "metadata": {},
     "output_type": "execute_result"
    }
   ],
   "source": [
    "df['Model'].unique()"
   ]
  },
  {
   "cell_type": "code",
   "execution_count": 17,
   "metadata": {},
   "outputs": [
    {
     "data": {
      "text/plain": [
       "251"
      ]
     },
     "execution_count": 17,
     "metadata": {},
     "output_type": "execute_result"
    }
   ],
   "source": [
    "len(df['Model'].unique())"
   ]
  },
  {
   "cell_type": "markdown",
   "metadata": {},
   "source": [
    "Моделей очень много - 251, в задаче регрессии столько учесть крайне сложно. Думаю, этот признак можно вовсе удалить.неизвестную модель удаляем."
   ]
  },
  {
   "cell_type": "code",
   "execution_count": 21,
   "metadata": {},
   "outputs": [],
   "source": [
    "df = df.dropna(subset=['Model'])"
   ]
  },
  {
   "cell_type": "code",
   "execution_count": 18,
   "metadata": {},
   "outputs": [],
   "source": [
    "#df = df.dropna(subset=['Model'])"
   ]
  },
  {
   "cell_type": "code",
   "execution_count": 18,
   "metadata": {
    "scrolled": true
   },
   "outputs": [
    {
     "data": {
      "text/plain": [
       "array(['manual', 'auto', nan], dtype=object)"
      ]
     },
     "execution_count": 18,
     "metadata": {},
     "output_type": "execute_result"
    }
   ],
   "source": [
    "df['Gearbox'].unique()"
   ]
  },
  {
   "cell_type": "markdown",
   "metadata": {},
   "source": [
    "Тут все понятно - ручная и авто. Пропусков немного, удаляем."
   ]
  },
  {
   "cell_type": "code",
   "execution_count": 19,
   "metadata": {},
   "outputs": [],
   "source": [
    "df = df.dropna(subset=['Gearbox'])"
   ]
  },
  {
   "cell_type": "code",
   "execution_count": 22,
   "metadata": {},
   "outputs": [
    {
     "name": "stdout",
     "output_type": "stream",
     "text": [
      "<class 'pandas.core.frame.DataFrame'>\n",
      "Int64Index: 284126 entries, 2 to 354368\n",
      "Data columns (total 16 columns):\n",
      "DateCrawled          284126 non-null object\n",
      "Price                284126 non-null int64\n",
      "VehicleType          284126 non-null object\n",
      "RegistrationYear     284126 non-null int64\n",
      "Gearbox              284126 non-null object\n",
      "Power                284126 non-null int64\n",
      "Model                284126 non-null object\n",
      "Kilometer            284126 non-null int64\n",
      "RegistrationMonth    284126 non-null int64\n",
      "FuelType             284126 non-null object\n",
      "Brand                284126 non-null object\n",
      "NotRepaired          284126 non-null bool\n",
      "DateCreated          284126 non-null object\n",
      "NumberOfPictures     284126 non-null int64\n",
      "PostalCode           284126 non-null int64\n",
      "LastSeen             284126 non-null object\n",
      "dtypes: bool(1), int64(7), object(8)\n",
      "memory usage: 35.0+ MB\n"
     ]
    }
   ],
   "source": [
    "df.info()"
   ]
  },
  {
   "cell_type": "markdown",
   "metadata": {},
   "source": [
    "Мы предобработали данные - заменили пропуски,где смогли и удалили часть объектов. Датасет сократился на 70 000 объектов - это около 20% от первоначальных данных. "
   ]
  },
  {
   "cell_type": "code",
   "execution_count": 22,
   "metadata": {},
   "outputs": [
    {
     "data": {
      "text/html": [
       "<div>\n",
       "<style scoped>\n",
       "    .dataframe tbody tr th:only-of-type {\n",
       "        vertical-align: middle;\n",
       "    }\n",
       "\n",
       "    .dataframe tbody tr th {\n",
       "        vertical-align: top;\n",
       "    }\n",
       "\n",
       "    .dataframe thead th {\n",
       "        text-align: right;\n",
       "    }\n",
       "</style>\n",
       "<table border=\"1\" class=\"dataframe\">\n",
       "  <thead>\n",
       "    <tr style=\"text-align: right;\">\n",
       "      <th></th>\n",
       "      <th>DateCrawled</th>\n",
       "      <th>Price</th>\n",
       "      <th>VehicleType</th>\n",
       "      <th>RegistrationYear</th>\n",
       "      <th>Gearbox</th>\n",
       "      <th>Power</th>\n",
       "      <th>Model</th>\n",
       "      <th>Kilometer</th>\n",
       "      <th>RegistrationMonth</th>\n",
       "      <th>FuelType</th>\n",
       "      <th>Brand</th>\n",
       "      <th>NotRepaired</th>\n",
       "      <th>DateCreated</th>\n",
       "      <th>NumberOfPictures</th>\n",
       "      <th>PostalCode</th>\n",
       "      <th>LastSeen</th>\n",
       "    </tr>\n",
       "  </thead>\n",
       "  <tbody>\n",
       "    <tr>\n",
       "      <td>135249</td>\n",
       "      <td>2016-03-25 12:36:37</td>\n",
       "      <td>1990</td>\n",
       "      <td>wagon</td>\n",
       "      <td>1998</td>\n",
       "      <td>manual</td>\n",
       "      <td>90</td>\n",
       "      <td>passat</td>\n",
       "      <td>150000</td>\n",
       "      <td>9</td>\n",
       "      <td>gasoline</td>\n",
       "      <td>volkswagen</td>\n",
       "      <td>False</td>\n",
       "      <td>2016-03-25 00:00:00</td>\n",
       "      <td>0</td>\n",
       "      <td>86169</td>\n",
       "      <td>2016-03-28 11:44:27</td>\n",
       "    </tr>\n",
       "  </tbody>\n",
       "</table>\n",
       "</div>"
      ],
      "text/plain": [
       "                DateCrawled  Price VehicleType  RegistrationYear Gearbox  \\\n",
       "135249  2016-03-25 12:36:37   1990       wagon              1998  manual   \n",
       "\n",
       "        Power   Model  Kilometer  RegistrationMonth  FuelType       Brand  \\\n",
       "135249     90  passat     150000                  9  gasoline  volkswagen   \n",
       "\n",
       "        NotRepaired          DateCreated  NumberOfPictures  PostalCode  \\\n",
       "135249        False  2016-03-25 00:00:00                 0       86169   \n",
       "\n",
       "                   LastSeen  \n",
       "135249  2016-03-28 11:44:27  "
      ]
     },
     "execution_count": 22,
     "metadata": {},
     "output_type": "execute_result"
    }
   ],
   "source": [
    "df.sample()"
   ]
  },
  {
   "cell_type": "markdown",
   "metadata": {},
   "source": [
    "Удалим несущественные признаки - PostalCode, DateCrawled, DateCreated, LastSeen - из-за многообразия моделей и их несущественного влияния на результат. Далее преобразуем категориальные признаки в численные методом OHE."
   ]
  },
  {
   "cell_type": "code",
   "execution_count": 27,
   "metadata": {},
   "outputs": [],
   "source": [
    "df = df.drop(['PostalCode', 'DateCrawled', 'DateCreated', 'LastSeen'], 1)"
   ]
  },
  {
   "cell_type": "code",
   "execution_count": 35,
   "metadata": {},
   "outputs": [
    {
     "name": "stdout",
     "output_type": "stream",
     "text": [
      "<class 'pandas.core.frame.DataFrame'>\n",
      "Int64Index: 284126 entries, 2 to 354368\n",
      "Data columns (total 12 columns):\n",
      "Price                284126 non-null int64\n",
      "VehicleType          284126 non-null object\n",
      "RegistrationYear     284126 non-null int64\n",
      "Gearbox              284126 non-null object\n",
      "Power                284126 non-null int64\n",
      "Model                284126 non-null object\n",
      "Kilometer            284126 non-null int64\n",
      "RegistrationMonth    284126 non-null int64\n",
      "FuelType             284126 non-null object\n",
      "Brand                284126 non-null object\n",
      "NotRepaired          284126 non-null bool\n",
      "NumberOfPictures     284126 non-null int64\n",
      "dtypes: bool(1), int64(6), object(5)\n",
      "memory usage: 26.3+ MB\n"
     ]
    }
   ],
   "source": [
    "df.info()"
   ]
  },
  {
   "cell_type": "markdown",
   "metadata": {},
   "source": [
    "Посмотрим оставшиеся признаки."
   ]
  },
  {
   "cell_type": "code",
   "execution_count": 57,
   "metadata": {},
   "outputs": [
    {
     "data": {
      "text/plain": [
       "<matplotlib.axes._subplots.AxesSubplot at 0x7fce0827c550>"
      ]
     },
     "execution_count": 57,
     "metadata": {},
     "output_type": "execute_result"
    },
    {
     "data": {
      "image/png": "[encoded data removed]",
      "text/plain": [
       "<Figure size 432x288 with 1 Axes>"
      ]
     },
     "metadata": {
      "needs_background": "light"
     },
     "output_type": "display_data"
    }
   ],
   "source": [
    "plt.xlabel(\"год\")\n",
    "plt.ylabel('Количество')\n",
    "plt.title('Распределение по годам')\n",
    "df['RegistrationYear'].hist()"
   ]
  },
  {
   "cell_type": "markdown",
   "metadata": {},
   "source": [
    "С годами все норм."
   ]
  },
  {
   "cell_type": "code",
   "execution_count": 46,
   "metadata": {},
   "outputs": [
    {
     "data": {
      "text/plain": [
       "count    284125.000000\n",
       "mean        117.657235\n",
       "std         164.942599\n",
       "min           0.000000\n",
       "25%          75.000000\n",
       "50%         109.000000\n",
       "75%         147.000000\n",
       "max       19211.000000\n",
       "Name: Power, dtype: float64"
      ]
     },
     "execution_count": 46,
     "metadata": {},
     "output_type": "execute_result"
    }
   ],
   "source": [
    "df['Power'].describe()"
   ]
  },
  {
   "cell_type": "code",
   "execution_count": 53,
   "metadata": {},
   "outputs": [
    {
     "data": {
      "text/plain": [
       "12"
      ]
     },
     "execution_count": 53,
     "metadata": {},
     "output_type": "execute_result"
    }
   ],
   "source": [
    "len(df.query('Power > 15000'))"
   ]
  },
  {
   "cell_type": "markdown",
   "metadata": {},
   "source": [
    "Удалим авто с аномальной мощностью и нулевой ценой."
   ]
  },
  {
   "cell_type": "code",
   "execution_count": 58,
   "metadata": {},
   "outputs": [],
   "source": [
    "df = df.query('Power < 15000')"
   ]
  },
  {
   "cell_type": "code",
   "execution_count": 59,
   "metadata": {},
   "outputs": [],
   "source": [
    "df = df.query('Price > 0')"
   ]
  },
  {
   "cell_type": "code",
   "execution_count": 64,
   "metadata": {},
   "outputs": [
    {
     "data": {
      "text/plain": [
       "<matplotlib.axes._subplots.AxesSubplot at 0x7fce08143850>"
      ]
     },
     "execution_count": 64,
     "metadata": {},
     "output_type": "execute_result"
    },
    {
     "data": {
      "image/png": "[encoded data removed]",
      "text/plain": [
       "<Figure size 432x288 with 1 Axes>"
      ]
     },
     "metadata": {
      "needs_background": "light"
     },
     "output_type": "display_data"
    }
   ],
   "source": [
    "plt.xlabel(\"пробег\")\n",
    "plt.ylabel('Количество')\n",
    "plt.title('Распределение по пробегу')\n",
    "df['Kilometer'].hist(bins=30)"
   ]
  },
  {
   "cell_type": "markdown",
   "metadata": {},
   "source": [
    "Выглядит правдоподобно, переходим к обработке категориальных признаков."
   ]
  },
  {
   "cell_type": "code",
   "execution_count": 65,
   "metadata": {
    "scrolled": true
   },
   "outputs": [],
   "source": [
    "new_df = df.copy()"
   ]
  },
  {
   "cell_type": "code",
   "execution_count": 66,
   "metadata": {},
   "outputs": [],
   "source": [
    "new_df = pd.get_dummies(new_df, drop_first=True)"
   ]
  },
  {
   "cell_type": "code",
   "execution_count": 67,
   "metadata": {},
   "outputs": [
    {
     "data": {
      "text/html": [
       "<div>\n",
       "<style scoped>\n",
       "    .dataframe tbody tr th:only-of-type {\n",
       "        vertical-align: middle;\n",
       "    }\n",
       "\n",
       "    .dataframe tbody tr th {\n",
       "        vertical-align: top;\n",
       "    }\n",
       "\n",
       "    .dataframe thead th {\n",
       "        text-align: right;\n",
       "    }\n",
       "</style>\n",
       "<table border=\"1\" class=\"dataframe\">\n",
       "  <thead>\n",
       "    <tr style=\"text-align: right;\">\n",
       "      <th></th>\n",
       "      <th>Price</th>\n",
       "      <th>RegistrationYear</th>\n",
       "      <th>Power</th>\n",
       "      <th>Kilometer</th>\n",
       "      <th>RegistrationMonth</th>\n",
       "      <th>NotRepaired</th>\n",
       "      <th>NumberOfPictures</th>\n",
       "      <th>VehicleType_convertible</th>\n",
       "      <th>VehicleType_coupe</th>\n",
       "      <th>VehicleType_other</th>\n",
       "      <th>...</th>\n",
       "      <th>Brand_saab</th>\n",
       "      <th>Brand_seat</th>\n",
       "      <th>Brand_skoda</th>\n",
       "      <th>Brand_smart</th>\n",
       "      <th>Brand_subaru</th>\n",
       "      <th>Brand_suzuki</th>\n",
       "      <th>Brand_toyota</th>\n",
       "      <th>Brand_trabant</th>\n",
       "      <th>Brand_volkswagen</th>\n",
       "      <th>Brand_volvo</th>\n",
       "    </tr>\n",
       "  </thead>\n",
       "  <tbody>\n",
       "    <tr>\n",
       "      <td>55281</td>\n",
       "      <td>3899</td>\n",
       "      <td>2006</td>\n",
       "      <td>150</td>\n",
       "      <td>150000</td>\n",
       "      <td>5</td>\n",
       "      <td>False</td>\n",
       "      <td>0</td>\n",
       "      <td>0</td>\n",
       "      <td>0</td>\n",
       "      <td>0</td>\n",
       "      <td>...</td>\n",
       "      <td>0</td>\n",
       "      <td>0</td>\n",
       "      <td>0</td>\n",
       "      <td>0</td>\n",
       "      <td>0</td>\n",
       "      <td>0</td>\n",
       "      <td>0</td>\n",
       "      <td>0</td>\n",
       "      <td>0</td>\n",
       "      <td>0</td>\n",
       "    </tr>\n",
       "  </tbody>\n",
       "</table>\n",
       "<p>1 rows × 308 columns</p>\n",
       "</div>"
      ],
      "text/plain": [
       "       Price  RegistrationYear  Power  Kilometer  RegistrationMonth  \\\n",
       "55281   3899              2006    150     150000                  5   \n",
       "\n",
       "       NotRepaired  NumberOfPictures  VehicleType_convertible  \\\n",
       "55281        False                 0                        0   \n",
       "\n",
       "       VehicleType_coupe  VehicleType_other  ...  Brand_saab  Brand_seat  \\\n",
       "55281                  0                  0  ...           0           0   \n",
       "\n",
       "       Brand_skoda  Brand_smart  Brand_subaru  Brand_suzuki  Brand_toyota  \\\n",
       "55281            0            0             0             0             0   \n",
       "\n",
       "       Brand_trabant  Brand_volkswagen  Brand_volvo  \n",
       "55281              0                 0            0  \n",
       "\n",
       "[1 rows x 308 columns]"
      ]
     },
     "execution_count": 67,
     "metadata": {},
     "output_type": "execute_result"
    }
   ],
   "source": [
    "new_df.sample()"
   ]
  },
  {
   "cell_type": "markdown",
   "metadata": {},
   "source": [
    "Плохо, конечно, что  мновато признаков. Если не получится нориально обучить модель, попробуем порядковое кодирование."
   ]
  },
  {
   "cell_type": "markdown",
   "metadata": {},
   "source": [
    "<div class=\"alert alert-block alert-success\">\n",
    "<b>Успех (ревью 2):</b> Отлично, спасибо!\n",
    "</div>"
   ]
  },
  {
   "cell_type": "markdown",
   "metadata": {},
   "source": [
    "## Обучение моделей"
   ]
  },
  {
   "cell_type": "markdown",
   "metadata": {},
   "source": [
    "Разобъем выборку."
   ]
  },
  {
   "cell_type": "code",
   "execution_count": 32,
   "metadata": {},
   "outputs": [],
   "source": [
    "target = new_df['Price']\n",
    "features = new_df.drop('Price', 1)"
   ]
  },
  {
   "cell_type": "code",
   "execution_count": 68,
   "metadata": {},
   "outputs": [],
   "source": [
    "features_train, features_test, target_train, target_test = train_test_split(\n",
    "    features, target, test_size=.25, random_state=123)"
   ]
  },
  {
   "cell_type": "code",
   "execution_count": 70,
   "metadata": {},
   "outputs": [
    {
     "data": {
      "text/plain": [
       "2.99997184367609"
      ]
     },
     "execution_count": 70,
     "metadata": {},
     "output_type": "execute_result"
    }
   ],
   "source": [
    "len(features_train) / len(features_test)"
   ]
  },
  {
   "cell_type": "markdown",
   "metadata": {},
   "source": [
    "Разбиение прошло корректно."
   ]
  },
  {
   "cell_type": "markdown",
   "metadata": {},
   "source": [
    "Данные разбиты на 2 выборки - обучающую и тестовую в соотношении 3:1.  \n",
    "Теперь попробуем обучить линейную регрессию."
   ]
  },
  {
   "cell_type": "code",
   "execution_count": 72,
   "metadata": {},
   "outputs": [],
   "source": [
    "scorer = make_scorer(mean_squared_error, greater_is_better = False)"
   ]
  },
  {
   "cell_type": "markdown",
   "metadata": {},
   "source": [
    "<div class=\"alert alert-block alert-warning\">\n",
    "<b>Комментарий студента:</b> Для начала попробую простейшую модель без бустинга.\n",
    "</div>"
   ]
  },
  {
   "cell_type": "code",
   "execution_count": 73,
   "metadata": {},
   "outputs": [
    {
     "name": "stdout",
     "output_type": "stream",
     "text": [
      "Fitting 5 folds for each of 8 candidates, totalling 40 fits\n",
      "[CV] copy_X=True, fit_intercept=True, normalize=True .................\n"
     ]
    },
    {
     "name": "stderr",
     "output_type": "stream",
     "text": [
      "[Parallel(n_jobs=1)]: Using backend SequentialBackend with 1 concurrent workers.\n"
     ]
    },
    {
     "name": "stdout",
     "output_type": "stream",
     "text": [
      "[CV]  copy_X=True, fit_intercept=True, normalize=True, score=-7407351.482, total=  31.6s\n",
      "[CV] copy_X=True, fit_intercept=True, normalize=True .................\n"
     ]
    },
    {
     "name": "stderr",
     "output_type": "stream",
     "text": [
      "[Parallel(n_jobs=1)]: Done   1 out of   1 | elapsed:   31.6s remaining:    0.0s\n"
     ]
    },
    {
     "name": "stdout",
     "output_type": "stream",
     "text": [
      "[CV]  copy_X=True, fit_intercept=True, normalize=True, score=-7336724.028, total=  30.5s\n",
      "[CV] copy_X=True, fit_intercept=True, normalize=True .................\n"
     ]
    },
    {
     "name": "stderr",
     "output_type": "stream",
     "text": [
      "[Parallel(n_jobs=1)]: Done   2 out of   2 | elapsed:  1.0min remaining:    0.0s\n"
     ]
    },
    {
     "name": "stdout",
     "output_type": "stream",
     "text": [
      "[CV]  copy_X=True, fit_intercept=True, normalize=True, score=-876262165565754738005499355070464.000, total=  28.2s\n",
      "[CV] copy_X=True, fit_intercept=True, normalize=True .................\n",
      "[CV]  copy_X=True, fit_intercept=True, normalize=True, score=-1641633849066623425812847656960.000, total=  28.9s\n",
      "[CV] copy_X=True, fit_intercept=True, normalize=True .................\n",
      "[CV]  copy_X=True, fit_intercept=True, normalize=True, score=-7593991.515, total=  29.1s\n",
      "[CV] copy_X=True, fit_intercept=True, normalize=False ................\n",
      "[CV]  copy_X=True, fit_intercept=True, normalize=False, score=-7407360.099, total=  26.5s\n",
      "[CV] copy_X=True, fit_intercept=True, normalize=False ................\n",
      "[CV]  copy_X=True, fit_intercept=True, normalize=False, score=-7336734.158, total=  28.1s\n",
      "[CV] copy_X=True, fit_intercept=True, normalize=False ................\n",
      "[CV]  copy_X=True, fit_intercept=True, normalize=False, score=-7420262.085, total=  26.6s\n",
      "[CV] copy_X=True, fit_intercept=True, normalize=False ................\n",
      "[CV]  copy_X=True, fit_intercept=True, normalize=False, score=-7588774.897, total=  31.4s\n",
      "[CV] copy_X=True, fit_intercept=True, normalize=False ................\n",
      "[CV]  copy_X=True, fit_intercept=True, normalize=False, score=-7593875.148, total=  26.1s\n",
      "[CV] copy_X=True, fit_intercept=False, normalize=True ................\n",
      "[CV]  copy_X=True, fit_intercept=False, normalize=True, score=-10008899.825, total=  28.4s\n",
      "[CV] copy_X=True, fit_intercept=False, normalize=True ................\n",
      "[CV]  copy_X=True, fit_intercept=False, normalize=True, score=-9897717.021, total=  25.7s\n",
      "[CV] copy_X=True, fit_intercept=False, normalize=True ................\n",
      "[CV]  copy_X=True, fit_intercept=False, normalize=True, score=-9998687.573, total=  28.1s\n",
      "[CV] copy_X=True, fit_intercept=False, normalize=True ................\n",
      "[CV]  copy_X=True, fit_intercept=False, normalize=True, score=-10122292.188, total=  29.1s\n",
      "[CV] copy_X=True, fit_intercept=False, normalize=True ................\n",
      "[CV]  copy_X=True, fit_intercept=False, normalize=True, score=-10071302.927, total=  26.1s\n",
      "[CV] copy_X=True, fit_intercept=False, normalize=False ...............\n",
      "[CV]  copy_X=True, fit_intercept=False, normalize=False, score=-10008899.825, total=  28.4s\n",
      "[CV] copy_X=True, fit_intercept=False, normalize=False ...............\n",
      "[CV]  copy_X=True, fit_intercept=False, normalize=False, score=-9897717.021, total=  28.8s\n",
      "[CV] copy_X=True, fit_intercept=False, normalize=False ...............\n",
      "[CV]  copy_X=True, fit_intercept=False, normalize=False, score=-9998687.573, total=  26.1s\n",
      "[CV] copy_X=True, fit_intercept=False, normalize=False ...............\n",
      "[CV]  copy_X=True, fit_intercept=False, normalize=False, score=-10122292.188, total=  28.3s\n",
      "[CV] copy_X=True, fit_intercept=False, normalize=False ...............\n",
      "[CV]  copy_X=True, fit_intercept=False, normalize=False, score=-10071302.927, total=  29.0s\n",
      "[CV] copy_X=False, fit_intercept=True, normalize=True ................\n",
      "[CV]  copy_X=False, fit_intercept=True, normalize=True, score=-7407351.482, total=  25.9s\n",
      "[CV] copy_X=False, fit_intercept=True, normalize=True ................\n",
      "[CV]  copy_X=False, fit_intercept=True, normalize=True, score=-7336724.028, total=  28.8s\n",
      "[CV] copy_X=False, fit_intercept=True, normalize=True ................\n",
      "[CV]  copy_X=False, fit_intercept=True, normalize=True, score=-876262165565754738005499355070464.000, total=  28.2s\n",
      "[CV] copy_X=False, fit_intercept=True, normalize=True ................\n",
      "[CV]  copy_X=False, fit_intercept=True, normalize=True, score=-1641633849066623425812847656960.000, total=  26.3s\n",
      "[CV] copy_X=False, fit_intercept=True, normalize=True ................\n",
      "[CV]  copy_X=False, fit_intercept=True, normalize=True, score=-7593991.515, total=  27.2s\n",
      "[CV] copy_X=False, fit_intercept=True, normalize=False ...............\n",
      "[CV]  copy_X=False, fit_intercept=True, normalize=False, score=-7407360.099, total=  27.6s\n",
      "[CV] copy_X=False, fit_intercept=True, normalize=False ...............\n",
      "[CV]  copy_X=False, fit_intercept=True, normalize=False, score=-7336734.158, total=  27.9s\n",
      "[CV] copy_X=False, fit_intercept=True, normalize=False ...............\n",
      "[CV]  copy_X=False, fit_intercept=True, normalize=False, score=-7420262.085, total=  27.4s\n",
      "[CV] copy_X=False, fit_intercept=True, normalize=False ...............\n",
      "[CV]  copy_X=False, fit_intercept=True, normalize=False, score=-7588774.897, total=  26.6s\n",
      "[CV] copy_X=False, fit_intercept=True, normalize=False ...............\n",
      "[CV]  copy_X=False, fit_intercept=True, normalize=False, score=-7593875.148, total=  28.9s\n",
      "[CV] copy_X=False, fit_intercept=False, normalize=True ...............\n",
      "[CV]  copy_X=False, fit_intercept=False, normalize=True, score=-10008899.825, total=  27.0s\n",
      "[CV] copy_X=False, fit_intercept=False, normalize=True ...............\n",
      "[CV]  copy_X=False, fit_intercept=False, normalize=True, score=-9897717.021, total=  30.5s\n",
      "[CV] copy_X=False, fit_intercept=False, normalize=True ...............\n",
      "[CV]  copy_X=False, fit_intercept=False, normalize=True, score=-9998687.573, total=  27.4s\n",
      "[CV] copy_X=False, fit_intercept=False, normalize=True ...............\n",
      "[CV]  copy_X=False, fit_intercept=False, normalize=True, score=-10122292.188, total=  28.4s\n",
      "[CV] copy_X=False, fit_intercept=False, normalize=True ...............\n",
      "[CV]  copy_X=False, fit_intercept=False, normalize=True, score=-10071302.927, total=  27.8s\n",
      "[CV] copy_X=False, fit_intercept=False, normalize=False ..............\n",
      "[CV]  copy_X=False, fit_intercept=False, normalize=False, score=-10008899.825, total=  26.8s\n",
      "[CV] copy_X=False, fit_intercept=False, normalize=False ..............\n",
      "[CV]  copy_X=False, fit_intercept=False, normalize=False, score=-9897717.021, total=  25.4s\n",
      "[CV] copy_X=False, fit_intercept=False, normalize=False ..............\n",
      "[CV]  copy_X=False, fit_intercept=False, normalize=False, score=-9998687.573, total=  27.4s\n",
      "[CV] copy_X=False, fit_intercept=False, normalize=False ..............\n",
      "[CV]  copy_X=False, fit_intercept=False, normalize=False, score=-10122292.188, total=  25.7s\n",
      "[CV] copy_X=False, fit_intercept=False, normalize=False ..............\n",
      "[CV]  copy_X=False, fit_intercept=False, normalize=False, score=-10071302.927, total=  29.1s\n"
     ]
    },
    {
     "name": "stderr",
     "output_type": "stream",
     "text": [
      "[Parallel(n_jobs=1)]: Done  40 out of  40 | elapsed: 18.6min finished\n"
     ]
    },
    {
     "name": "stdout",
     "output_type": "stream",
     "text": [
      "CPU times: user 13min 5s, sys: 5min 55s, total: 19min 1s\n",
      "Wall time: 19min 6s\n"
     ]
    },
    {
     "data": {
      "text/plain": [
       "GridSearchCV(cv=5, error_score='raise-deprecating',\n",
       "             estimator=LinearRegression(copy_X=True, fit_intercept=True,\n",
       "                                        n_jobs=None, normalize=False),\n",
       "             iid='warn', n_jobs=None,\n",
       "             param_grid={'copy_X': [True, False],\n",
       "                         'fit_intercept': [True, False],\n",
       "                         'normalize': [True, False]},\n",
       "             pre_dispatch='2*n_jobs', refit=True, return_train_score=False,\n",
       "             scoring=make_scorer(mean_squared_error, greater_is_better=False),\n",
       "             verbose=3)"
      ]
     },
     "execution_count": 73,
     "metadata": {},
     "output_type": "execute_result"
    }
   ],
   "source": [
    "%%time\n",
    "model = LinearRegression()\n",
    "parameters = {'fit_intercept':[True,False], \n",
    "              'normalize':[True,False],\n",
    "              'copy_X':[True, False]}\n",
    "grid = GridSearchCV(model, param_grid=parameters, cv=5, scoring=scorer, verbose=3)\n",
    "grid.fit(features_train, target_train)"
   ]
  },
  {
   "cell_type": "code",
   "execution_count": 74,
   "metadata": {},
   "outputs": [
    {
     "data": {
      "text/plain": [
       "{'copy_X': True, 'fit_intercept': True, 'normalize': False}"
      ]
     },
     "execution_count": 74,
     "metadata": {},
     "output_type": "execute_result"
    }
   ],
   "source": [
    "grid.best_params_"
   ]
  },
  {
   "cell_type": "code",
   "execution_count": 84,
   "metadata": {},
   "outputs": [],
   "source": [
    "models_compare = pd.DataFrame(index=['Linear_Regression', 'Boosting'], columns=['train_time', 'forecast_time', 'RMSE'])"
   ]
  },
  {
   "cell_type": "code",
   "execution_count": 95,
   "metadata": {},
   "outputs": [],
   "source": [
    "models_compare.loc['Linear_Regression', 'train_time'] = '19min 6s'"
   ]
  },
  {
   "cell_type": "code",
   "execution_count": 102,
   "metadata": {
    "scrolled": true
   },
   "outputs": [],
   "source": [
    "models_compare.loc['Linear_Regression', 'RMSE'] = (-grid.best_score_)**.5"
   ]
  },
  {
   "cell_type": "code",
   "execution_count": 103,
   "metadata": {},
   "outputs": [
    {
     "name": "stdout",
     "output_type": "stream",
     "text": [
      "CPU times: user 1.14 s, sys: 387 ms, total: 1.53 s\n",
      "Wall time: 1.47 s\n"
     ]
    },
    {
     "data": {
      "text/plain": [
       "array([12990.87092243,   848.61964549,  8591.36967658, ...,\n",
       "        9009.45637436, 10058.75889561,  3542.4730925 ])"
      ]
     },
     "execution_count": 103,
     "metadata": {},
     "output_type": "execute_result"
    }
   ],
   "source": [
    "%%time\n",
    "grid.predict(features_test)"
   ]
  },
  {
   "cell_type": "code",
   "execution_count": 104,
   "metadata": {},
   "outputs": [],
   "source": [
    "models_compare.loc['Linear_Regression', 'forecast_time'] = '1.46 s'"
   ]
  },
  {
   "cell_type": "code",
   "execution_count": 105,
   "metadata": {
    "scrolled": true
   },
   "outputs": [
    {
     "data": {
      "text/html": [
       "<div>\n",
       "<style scoped>\n",
       "    .dataframe tbody tr th:only-of-type {\n",
       "        vertical-align: middle;\n",
       "    }\n",
       "\n",
       "    .dataframe tbody tr th {\n",
       "        vertical-align: top;\n",
       "    }\n",
       "\n",
       "    .dataframe thead th {\n",
       "        text-align: right;\n",
       "    }\n",
       "</style>\n",
       "<table border=\"1\" class=\"dataframe\">\n",
       "  <thead>\n",
       "    <tr style=\"text-align: right;\">\n",
       "      <th></th>\n",
       "      <th>train_time</th>\n",
       "      <th>forecast_time</th>\n",
       "      <th>RMSE</th>\n",
       "    </tr>\n",
       "  </thead>\n",
       "  <tbody>\n",
       "    <tr>\n",
       "      <td>Linear_Regression</td>\n",
       "      <td>19min 6s</td>\n",
       "      <td>1.46 s</td>\n",
       "      <td>2733.02</td>\n",
       "    </tr>\n",
       "    <tr>\n",
       "      <td>Boosting</td>\n",
       "      <td>NaN</td>\n",
       "      <td>NaN</td>\n",
       "      <td>NaN</td>\n",
       "    </tr>\n",
       "  </tbody>\n",
       "</table>\n",
       "</div>"
      ],
      "text/plain": [
       "                  train_time forecast_time     RMSE\n",
       "Linear_Regression   19min 6s        1.46 s  2733.02\n",
       "Boosting                 NaN           NaN      NaN"
      ]
     },
     "execution_count": 105,
     "metadata": {},
     "output_type": "execute_result"
    }
   ],
   "source": [
    "models_compare.head()"
   ]
  },
  {
   "cell_type": "code",
   "execution_count": 43,
   "metadata": {},
   "outputs": [
    {
     "name": "stdout",
     "output_type": "stream",
     "text": [
      "Fitting 5 folds for each of 4 candidates, totalling 20 fits\n",
      "[CV] max_depth=4, n_estimators=20 ....................................\n"
     ]
    },
    {
     "name": "stderr",
     "output_type": "stream",
     "text": [
      "[Parallel(n_jobs=1)]: Using backend SequentialBackend with 1 concurrent workers.\n"
     ]
    },
    {
     "name": "stdout",
     "output_type": "stream",
     "text": [
      "[CV] . max_depth=4, n_estimators=20, score=-6460681.190, total=   5.8s\n",
      "[CV] max_depth=4, n_estimators=20 ....................................\n"
     ]
    },
    {
     "name": "stderr",
     "output_type": "stream",
     "text": [
      "[Parallel(n_jobs=1)]: Done   1 out of   1 | elapsed:    5.8s remaining:    0.0s\n"
     ]
    },
    {
     "name": "stdout",
     "output_type": "stream",
     "text": [
      "[CV] . max_depth=4, n_estimators=20, score=-6374519.434, total=   4.8s\n",
      "[CV] max_depth=4, n_estimators=20 ....................................\n"
     ]
    },
    {
     "name": "stderr",
     "output_type": "stream",
     "text": [
      "[Parallel(n_jobs=1)]: Done   2 out of   2 | elapsed:   10.6s remaining:    0.0s\n"
     ]
    },
    {
     "name": "stdout",
     "output_type": "stream",
     "text": [
      "[CV] . max_depth=4, n_estimators=20, score=-6343928.089, total=   5.6s\n",
      "[CV] max_depth=4, n_estimators=20 ....................................\n",
      "[CV] . max_depth=4, n_estimators=20, score=-6421225.545, total=   6.3s\n",
      "[CV] max_depth=4, n_estimators=20 ....................................\n",
      "[CV] . max_depth=4, n_estimators=20, score=-6394016.898, total=   7.3s\n",
      "[CV] max_depth=4, n_estimators=30 ....................................\n",
      "[CV] . max_depth=4, n_estimators=30, score=-6453233.088, total=   7.1s\n",
      "[CV] max_depth=4, n_estimators=30 ....................................\n",
      "[CV] . max_depth=4, n_estimators=30, score=-6367692.324, total=   7.1s\n",
      "[CV] max_depth=4, n_estimators=30 ....................................\n",
      "[CV] . max_depth=4, n_estimators=30, score=-6341407.844, total=   6.9s\n",
      "[CV] max_depth=4, n_estimators=30 ....................................\n",
      "[CV] . max_depth=4, n_estimators=30, score=-6436425.912, total=   6.7s\n",
      "[CV] max_depth=4, n_estimators=30 ....................................\n",
      "[CV] . max_depth=4, n_estimators=30, score=-6380621.316, total=   6.6s\n",
      "[CV] max_depth=7, n_estimators=20 ....................................\n",
      "[CV] . max_depth=7, n_estimators=20, score=-4717985.367, total=   7.3s\n",
      "[CV] max_depth=7, n_estimators=20 ....................................\n",
      "[CV] . max_depth=7, n_estimators=20, score=-4663127.747, total=   7.7s\n",
      "[CV] max_depth=7, n_estimators=20 ....................................\n",
      "[CV] . max_depth=7, n_estimators=20, score=-4731618.098, total=  10.5s\n",
      "[CV] max_depth=7, n_estimators=20 ....................................\n",
      "[CV] . max_depth=7, n_estimators=20, score=-4828509.708, total=  10.2s\n",
      "[CV] max_depth=7, n_estimators=20 ....................................\n",
      "[CV] . max_depth=7, n_estimators=20, score=-4684644.876, total=   7.9s\n",
      "[CV] max_depth=7, n_estimators=30 ....................................\n",
      "[CV] . max_depth=7, n_estimators=30, score=-4712914.261, total=  11.1s\n",
      "[CV] max_depth=7, n_estimators=30 ....................................\n",
      "[CV] . max_depth=7, n_estimators=30, score=-4668280.312, total=  11.0s\n",
      "[CV] max_depth=7, n_estimators=30 ....................................\n",
      "[CV] . max_depth=7, n_estimators=30, score=-4734445.443, total=  11.5s\n",
      "[CV] max_depth=7, n_estimators=30 ....................................\n",
      "[CV] . max_depth=7, n_estimators=30, score=-4826242.704, total=  12.0s\n",
      "[CV] max_depth=7, n_estimators=30 ....................................\n",
      "[CV] . max_depth=7, n_estimators=30, score=-4671577.474, total=  11.8s\n"
     ]
    },
    {
     "name": "stderr",
     "output_type": "stream",
     "text": [
      "[Parallel(n_jobs=1)]: Done  20 out of  20 | elapsed:  2.8min finished\n"
     ]
    },
    {
     "name": "stdout",
     "output_type": "stream",
     "text": [
      "CPU times: user 2min 55s, sys: 2.52 s, total: 2min 58s\n",
      "Wall time: 2min 59s\n"
     ]
    },
    {
     "data": {
      "text/plain": [
       "GridSearchCV(cv=5, error_score='raise-deprecating',\n",
       "             estimator=RandomForestRegressor(bootstrap=True, criterion='mse',\n",
       "                                             max_depth=None,\n",
       "                                             max_features='auto',\n",
       "                                             max_leaf_nodes=None,\n",
       "                                             min_impurity_decrease=0.0,\n",
       "                                             min_impurity_split=None,\n",
       "                                             min_samples_leaf=1,\n",
       "                                             min_samples_split=2,\n",
       "                                             min_weight_fraction_leaf=0.0,\n",
       "                                             n_estimators='warn', n_jobs=None,\n",
       "                                             oob_score=False, random_state=12,\n",
       "                                             verbose=0, warm_start=False),\n",
       "             iid='warn', n_jobs=None,\n",
       "             param_grid={'max_depth': range(4, 8, 3),\n",
       "                         'n_estimators': range(20, 31, 10)},\n",
       "             pre_dispatch='2*n_jobs', refit=True, return_train_score=False,\n",
       "             scoring=make_scorer(mean_squared_error, greater_is_better=False),\n",
       "             verbose=3)"
      ]
     },
     "execution_count": 43,
     "metadata": {},
     "output_type": "execute_result"
    }
   ],
   "source": [
    "#features_test%%time\n",
    "#model = RandomForestRegressor(random_state=12)\n",
    "#parameters = {'n_estimators': range (20, 31, 10),\n",
    "#              'max_depth': range (4,8, 3)}\n",
    "#grid = GridSearchCV(model, param_grid=parameters, cv=5, scoring=scorer, verbose=3)\n",
    "#grid.fit(features_train, target_train)"
   ]
  },
  {
   "cell_type": "code",
   "execution_count": 44,
   "metadata": {},
   "outputs": [
    {
     "data": {
      "text/plain": [
       "{'max_depth': 7, 'n_estimators': 30}"
      ]
     },
     "execution_count": 44,
     "metadata": {},
     "output_type": "execute_result"
    }
   ],
   "source": [
    "grid.best_params_"
   ]
  },
  {
   "cell_type": "code",
   "execution_count": 48,
   "metadata": {},
   "outputs": [
    {
     "data": {
      "text/plain": [
       "2173.175565547217"
      ]
     },
     "execution_count": 48,
     "metadata": {},
     "output_type": "execute_result"
    }
   ],
   "source": [
    "(-grid.best_score_)**.5"
   ]
  },
  {
   "cell_type": "markdown",
   "metadata": {},
   "source": [
    "Метрика RMSE равна 2173 - многовато.. "
   ]
  },
  {
   "cell_type": "markdown",
   "metadata": {},
   "source": [
    "Ошибка все равно большая. Пробуем градиентный бустинг."
   ]
  },
  {
   "cell_type": "markdown",
   "metadata": {},
   "source": [
    "## Анализ моделей"
   ]
  },
  {
   "cell_type": "code",
   "execution_count": 126,
   "metadata": {},
   "outputs": [],
   "source": [
    "categorical_feature = ['VehicleType', 'Gearbox', 'Model','FuelType', 'Brand']"
   ]
  },
  {
   "cell_type": "code",
   "execution_count": 141,
   "metadata": {},
   "outputs": [],
   "source": [
    "df[categorical_feature] = df[categorical_feature].astype('category')"
   ]
  },
  {
   "cell_type": "code",
   "execution_count": 142,
   "metadata": {},
   "outputs": [
    {
     "name": "stdout",
     "output_type": "stream",
     "text": [
      "<class 'pandas.core.frame.DataFrame'>\n",
      "Int64Index: 279072 entries, 2 to 354368\n",
      "Data columns (total 12 columns):\n",
      "Price                279072 non-null int64\n",
      "VehicleType          279072 non-null category\n",
      "RegistrationYear     279072 non-null int64\n",
      "Gearbox              279072 non-null category\n",
      "Power                279072 non-null int64\n",
      "Model                279072 non-null category\n",
      "Kilometer            279072 non-null int64\n",
      "RegistrationMonth    279072 non-null int64\n",
      "FuelType             279072 non-null category\n",
      "Brand                279072 non-null category\n",
      "NotRepaired          279072 non-null bool\n",
      "NumberOfPictures     279072 non-null int64\n",
      "dtypes: bool(1), category(5), int64(6)\n",
      "memory usage: 16.8 MB\n"
     ]
    }
   ],
   "source": [
    "df.info()"
   ]
  },
  {
   "cell_type": "code",
   "execution_count": 143,
   "metadata": {},
   "outputs": [],
   "source": [
    "target = df['Price']\n",
    "features = df.drop('Price', 1)"
   ]
  },
  {
   "cell_type": "code",
   "execution_count": 144,
   "metadata": {},
   "outputs": [],
   "source": [
    "\n",
    "features_train, features_test, target_train, target_test = train_test_split(\n",
    "    features, target, test_size=.25, random_state=123)\n"
   ]
  },
  {
   "cell_type": "code",
   "execution_count": 146,
   "metadata": {},
   "outputs": [],
   "source": [
    "model = LGBMRegressor(categorical_feature=categorical_feature)"
   ]
  },
  {
   "cell_type": "code",
   "execution_count": null,
   "metadata": {},
   "outputs": [],
   "source": []
  },
  {
   "cell_type": "code",
   "execution_count": 147,
   "metadata": {
    "scrolled": true
   },
   "outputs": [
    {
     "name": "stderr",
     "output_type": "stream",
     "text": [
      "/opt/conda/lib/python3.7/site-packages/lightgbm/basic.py:842: UserWarning: categorical_feature keyword has been found in `params` and will be ignored.\n",
      "Please use categorical_feature argument of the Dataset constructor to pass this parameter.\n",
      "  .format(key))\n",
      "/opt/conda/lib/python3.7/site-packages/lightgbm/basic.py:863: UserWarning: categorical_feature in param dict is overridden.\n",
      "  warnings.warn('{} in param dict is overridden.'.format(cat_alias))\n"
     ]
    },
    {
     "name": "stdout",
     "output_type": "stream",
     "text": [
      "CPU times: user 8min 36s, sys: 1.76 s, total: 8min 37s\n",
      "Wall time: 8min 41s\n"
     ]
    },
    {
     "data": {
      "text/plain": [
       "LGBMRegressor(boosting_type='gbdt',\n",
       "              categorical_feature=['VehicleType', 'Gearbox', 'Model',\n",
       "                                   'FuelType', 'Brand'],\n",
       "              class_weight=None, colsample_bytree=1.0, importance_type='split',\n",
       "              learning_rate=0.1, max_depth=-1, min_child_samples=20,\n",
       "              min_child_weight=0.001, min_split_gain=0.0, n_estimators=100,\n",
       "              n_jobs=-1, num_leaves=31, objective=None, random_state=None,\n",
       "              reg_alpha=0.0, reg_lambda=0.0, silent=True, subsample=1.0,\n",
       "              subsample_for_bin=200000, subsample_freq=0)"
      ]
     },
     "execution_count": 147,
     "metadata": {},
     "output_type": "execute_result"
    }
   ],
   "source": [
    "%%time\n",
    "model.fit(features_train, target_train)"
   ]
  },
  {
   "cell_type": "code",
   "execution_count": 150,
   "metadata": {},
   "outputs": [
    {
     "name": "stdout",
     "output_type": "stream",
     "text": [
      "CPU times: user 1.14 s, sys: 0 ns, total: 1.14 s\n",
      "Wall time: 1.09 s\n"
     ]
    }
   ],
   "source": [
    "%%time\n",
    "predictions = model.predict(features_test)"
   ]
  },
  {
   "cell_type": "code",
   "execution_count": 151,
   "metadata": {},
   "outputs": [
    {
     "data": {
      "text/plain": [
       "1588.5938209946992"
      ]
     },
     "execution_count": 151,
     "metadata": {},
     "output_type": "execute_result"
    }
   ],
   "source": [
    "mean_squared_error(predictions, target_test)**.5"
   ]
  },
  {
   "cell_type": "markdown",
   "metadata": {},
   "source": [
    "Ура! СКО значительно меньше получилось. Проверим на тестовой выборке."
   ]
  },
  {
   "cell_type": "code",
   "execution_count": 157,
   "metadata": {},
   "outputs": [],
   "source": [
    "models_compare.loc['Boosting', 'forecast_time'] = '1.09 s'"
   ]
  },
  {
   "cell_type": "code",
   "execution_count": 160,
   "metadata": {},
   "outputs": [],
   "source": [
    "models_compare.loc['Boosting', 'train_time'] = '8min 41s'"
   ]
  },
  {
   "cell_type": "code",
   "execution_count": 161,
   "metadata": {},
   "outputs": [],
   "source": [
    "models_compare.loc['Boosting', 'RMSE'] = mean_squared_error(predictions, target_test)**.5"
   ]
  },
  {
   "cell_type": "code",
   "execution_count": 162,
   "metadata": {
    "scrolled": true
   },
   "outputs": [
    {
     "data": {
      "text/html": [
       "<div>\n",
       "<style scoped>\n",
       "    .dataframe tbody tr th:only-of-type {\n",
       "        vertical-align: middle;\n",
       "    }\n",
       "\n",
       "    .dataframe tbody tr th {\n",
       "        vertical-align: top;\n",
       "    }\n",
       "\n",
       "    .dataframe thead th {\n",
       "        text-align: right;\n",
       "    }\n",
       "</style>\n",
       "<table border=\"1\" class=\"dataframe\">\n",
       "  <thead>\n",
       "    <tr style=\"text-align: right;\">\n",
       "      <th></th>\n",
       "      <th>train_time</th>\n",
       "      <th>forecast_time</th>\n",
       "      <th>RMSE</th>\n",
       "    </tr>\n",
       "  </thead>\n",
       "  <tbody>\n",
       "    <tr>\n",
       "      <td>Linear_Regression</td>\n",
       "      <td>19min 6s</td>\n",
       "      <td>1.46 s</td>\n",
       "      <td>2733.02</td>\n",
       "    </tr>\n",
       "    <tr>\n",
       "      <td>Boosting</td>\n",
       "      <td>8min 41s</td>\n",
       "      <td>1.09 s</td>\n",
       "      <td>1588.59</td>\n",
       "    </tr>\n",
       "  </tbody>\n",
       "</table>\n",
       "</div>"
      ],
      "text/plain": [
       "                  train_time forecast_time     RMSE\n",
       "Linear_Regression   19min 6s        1.46 s  2733.02\n",
       "Boosting            8min 41s        1.09 s  1588.59"
      ]
     },
     "execution_count": 162,
     "metadata": {},
     "output_type": "execute_result"
    }
   ],
   "source": [
    "models_compare.head()"
   ]
  },
  {
   "cell_type": "code",
   "execution_count": null,
   "metadata": {},
   "outputs": [],
   "source": [
    "Тоже неплохой результат. Посмотрим на целевой признак."
   ]
  },
  {
   "cell_type": "code",
   "execution_count": 152,
   "metadata": {},
   "outputs": [
    {
     "data": {
      "text/plain": [
       "count    279072.000000\n",
       "mean       4934.779068\n",
       "std        4632.375799\n",
       "min           1.000000\n",
       "25%        1400.000000\n",
       "50%        3259.500000\n",
       "75%        7000.000000\n",
       "max       20000.000000\n",
       "Name: Price, dtype: float64"
      ]
     },
     "execution_count": 152,
     "metadata": {},
     "output_type": "execute_result"
    }
   ],
   "source": [
    "df['Price'].describe()"
   ]
  },
  {
   "cell_type": "code",
   "execution_count": 154,
   "metadata": {},
   "outputs": [],
   "source": [
    "predictions = pd.Series(predictions)"
   ]
  },
  {
   "cell_type": "code",
   "execution_count": 155,
   "metadata": {},
   "outputs": [
    {
     "data": {
      "text/plain": [
       "count    69768.000000\n",
       "mean      4936.132978\n",
       "std       4329.515361\n",
       "min       -564.071476\n",
       "25%       1502.134125\n",
       "50%       3391.446439\n",
       "75%       7152.728348\n",
       "max      19626.257054\n",
       "dtype: float64"
      ]
     },
     "execution_count": 155,
     "metadata": {},
     "output_type": "execute_result"
    }
   ],
   "source": [
    "predictions.describe()"
   ]
  },
  {
   "cell_type": "code",
   "execution_count": 156,
   "metadata": {
    "scrolled": true
   },
   "outputs": [
    {
     "name": "stderr",
     "output_type": "stream",
     "text": [
      "/opt/conda/lib/python3.7/site-packages/numpy/core/_asarray.py:83: VisibleDeprecationWarning: Creating an ndarray from ragged nested sequences (which is a list-or-tuple of lists-or-tuples-or ndarrays with different lengths or shapes) is deprecated. If you meant to do this, you must specify 'dtype=object' when creating the ndarray\n",
      "  return array(a, dtype, copy=False, order=order)\n"
     ]
    },
    {
     "data": {
      "image/png": "[encoded data removed]",
      "text/plain": [
       "<Figure size 432x288 with 1 Axes>"
      ]
     },
     "metadata": {
      "needs_background": "light"
     },
     "output_type": "display_data"
    }
   ],
   "source": [
    "plt.xlabel(\"Цена\")\n",
    "plt.ylabel('Величина')\n",
    "plt.hist([new_df['Price'], predictions], label= ['предсказания', 'данные'], bins=15, density=True)\n",
    "plt.legend(loc='upper right')\n",
    "plt.show()\n"
   ]
  },
  {
   "cell_type": "markdown",
   "metadata": {},
   "source": [
    "На графике хорошо видно, что модель неплохо прогнозирует стоимость авто. Есть, конечно, неточности (отрицательные значения), но меня таким не удивишь) "
   ]
  }
 ],
 "metadata": {
  "ExecuteTimeLog": [
   {
    "duration": 823,
    "start_time": "2022-01-31T18:42:35.921Z"
   },
   {
    "duration": 1231,
    "start_time": "2022-01-31T18:42:36.746Z"
   },
   {
    "duration": 38,
    "start_time": "2022-01-31T18:42:48.558Z"
   },
   {
    "duration": 163,
    "start_time": "2022-01-31T18:43:10.216Z"
   },
   {
    "duration": 578,
    "start_time": "2022-01-31T18:59:35.054Z"
   },
   {
    "duration": 117,
    "start_time": "2022-01-31T18:59:57.023Z"
   },
   {
    "duration": 159,
    "start_time": "2022-01-31T19:00:00.522Z"
   },
   {
    "duration": 687,
    "start_time": "2022-01-31T19:00:25.612Z"
   },
   {
    "duration": 694,
    "start_time": "2022-01-31T19:00:30.451Z"
   },
   {
    "duration": 609,
    "start_time": "2022-01-31T19:00:38.233Z"
   },
   {
    "duration": 157,
    "start_time": "2022-01-31T19:06:32.404Z"
   },
   {
    "duration": 5,
    "start_time": "2022-01-31T19:12:32.714Z"
   },
   {
    "duration": 487,
    "start_time": "2022-01-31T19:12:43.496Z"
   },
   {
    "duration": 391,
    "start_time": "2022-01-31T19:12:47.004Z"
   },
   {
    "duration": 340,
    "start_time": "2022-01-31T19:12:50.902Z"
   },
   {
    "duration": 27,
    "start_time": "2022-01-31T19:14:04.583Z"
   },
   {
    "duration": 27,
    "start_time": "2022-01-31T19:16:41.173Z"
   },
   {
    "duration": 26,
    "start_time": "2022-01-31T19:16:48.751Z"
   },
   {
    "duration": 30,
    "start_time": "2022-01-31T19:17:38.765Z"
   },
   {
    "duration": 21,
    "start_time": "2022-01-31T19:17:41.105Z"
   },
   {
    "duration": 51,
    "start_time": "2022-01-31T19:20:24.214Z"
   },
   {
    "duration": 131,
    "start_time": "2022-01-31T19:20:51.216Z"
   },
   {
    "duration": 8,
    "start_time": "2022-01-31T19:20:54.374Z"
   },
   {
    "duration": 156,
    "start_time": "2022-01-31T19:21:11.004Z"
   },
   {
    "duration": 35,
    "start_time": "2022-01-31T19:22:04.955Z"
   },
   {
    "duration": 141,
    "start_time": "2022-01-31T19:25:17.511Z"
   },
   {
    "duration": 123,
    "start_time": "2022-01-31T19:25:41.573Z"
   },
   {
    "duration": 128,
    "start_time": "2022-01-31T19:26:12.564Z"
   },
   {
    "duration": 124,
    "start_time": "2022-01-31T19:26:28.383Z"
   },
   {
    "duration": 24,
    "start_time": "2022-01-31T19:27:24.563Z"
   },
   {
    "duration": 94,
    "start_time": "2022-01-31T19:27:53.816Z"
   },
   {
    "duration": 124,
    "start_time": "2022-01-31T19:28:00.863Z"
   },
   {
    "duration": 25,
    "start_time": "2022-01-31T19:28:27.693Z"
   },
   {
    "duration": 93,
    "start_time": "2022-01-31T19:29:38.851Z"
   },
   {
    "duration": 124,
    "start_time": "2022-01-31T19:29:43.903Z"
   },
   {
    "duration": 23,
    "start_time": "2022-01-31T19:32:54.165Z"
   },
   {
    "duration": 79,
    "start_time": "2022-01-31T19:33:17.468Z"
   },
   {
    "duration": 345,
    "start_time": "2022-01-31T19:34:43.314Z"
   },
   {
    "duration": 21,
    "start_time": "2022-01-31T19:35:02.363Z"
   },
   {
    "duration": 153,
    "start_time": "2022-01-31T19:37:39.174Z"
   },
   {
    "duration": 1344,
    "start_time": "2022-02-01T18:11:13.805Z"
   },
   {
    "duration": 2941,
    "start_time": "2022-02-01T18:11:15.152Z"
   },
   {
    "duration": 46,
    "start_time": "2022-02-01T18:11:18.096Z"
   },
   {
    "duration": 175,
    "start_time": "2022-02-01T18:11:18.145Z"
   },
   {
    "duration": 594,
    "start_time": "2022-02-01T18:11:18.323Z"
   },
   {
    "duration": 165,
    "start_time": "2022-02-01T18:11:18.920Z"
   },
   {
    "duration": 26,
    "start_time": "2022-02-01T18:11:19.088Z"
   },
   {
    "duration": 45,
    "start_time": "2022-02-01T18:11:19.116Z"
   },
   {
    "duration": 44,
    "start_time": "2022-02-01T18:11:19.165Z"
   },
   {
    "duration": 144,
    "start_time": "2022-02-01T18:11:19.233Z"
   },
   {
    "duration": 28,
    "start_time": "2022-02-01T18:11:19.380Z"
   },
   {
    "duration": 126,
    "start_time": "2022-02-01T18:11:19.410Z"
   },
   {
    "duration": 136,
    "start_time": "2022-02-01T18:11:19.538Z"
   },
   {
    "duration": 55,
    "start_time": "2022-02-01T18:11:19.676Z"
   },
   {
    "duration": 100,
    "start_time": "2022-02-01T18:11:19.733Z"
   },
   {
    "duration": 24,
    "start_time": "2022-02-01T18:11:19.835Z"
   },
   {
    "duration": 25,
    "start_time": "2022-02-01T18:11:19.861Z"
   },
   {
    "duration": 105,
    "start_time": "2022-02-01T18:11:19.888Z"
   },
   {
    "duration": 21,
    "start_time": "2022-02-01T18:11:19.996Z"
   },
   {
    "duration": 93,
    "start_time": "2022-02-01T18:11:20.019Z"
   },
   {
    "duration": 120,
    "start_time": "2022-02-01T18:15:37.419Z"
   },
   {
    "duration": 27,
    "start_time": "2022-02-01T18:15:58.753Z"
   },
   {
    "duration": 438,
    "start_time": "2022-02-01T18:24:51.513Z"
   },
   {
    "duration": 360,
    "start_time": "2022-02-01T18:25:01.904Z"
   },
   {
    "duration": 324,
    "start_time": "2022-02-01T18:25:08.934Z"
   },
   {
    "duration": 29,
    "start_time": "2022-02-01T18:26:14.885Z"
   },
   {
    "duration": 27,
    "start_time": "2022-02-01T18:26:20.182Z"
   },
   {
    "duration": 27,
    "start_time": "2022-02-01T18:26:38.244Z"
   },
   {
    "duration": 47,
    "start_time": "2022-02-01T18:27:25.914Z"
   },
   {
    "duration": 24,
    "start_time": "2022-02-01T18:27:27.434Z"
   },
   {
    "duration": 641,
    "start_time": "2022-02-01T18:32:52.493Z"
   },
   {
    "duration": 109,
    "start_time": "2022-02-01T18:32:59.575Z"
   },
   {
    "duration": 3,
    "start_time": "2022-02-01T18:36:42.783Z"
   },
   {
    "duration": 114,
    "start_time": "2022-02-01T18:37:21.430Z"
   },
   {
    "duration": 288,
    "start_time": "2022-02-01T18:39:20.883Z"
   },
   {
    "duration": 300,
    "start_time": "2022-02-01T18:39:33.452Z"
   },
   {
    "duration": 109,
    "start_time": "2022-02-01T18:39:40.860Z"
   },
   {
    "duration": 1067,
    "start_time": "2022-02-01T18:39:40.972Z"
   },
   {
    "duration": 514,
    "start_time": "2022-02-01T18:39:42.043Z"
   },
   {
    "duration": 5,
    "start_time": "2022-02-01T18:42:12.855Z"
   },
   {
    "duration": 27017,
    "start_time": "2022-02-01T18:44:19.521Z"
   },
   {
    "duration": 1221,
    "start_time": "2022-02-01T18:46:55.111Z"
   },
   {
    "duration": 7,
    "start_time": "2022-02-01T18:47:36.903Z"
   },
   {
    "duration": 24,
    "start_time": "2022-02-01T18:48:19.741Z"
   },
   {
    "duration": 288,
    "start_time": "2022-02-01T18:49:34.160Z"
   },
   {
    "duration": 298,
    "start_time": "2022-02-01T18:49:57.411Z"
   },
   {
    "duration": 6,
    "start_time": "2022-02-01T19:25:36.747Z"
   },
   {
    "duration": 6,
    "start_time": "2022-02-01T19:26:03.474Z"
   },
   {
    "duration": 7,
    "start_time": "2022-02-01T19:26:58.344Z"
   },
   {
    "duration": 495203,
    "start_time": "2022-02-01T19:36:59.472Z"
   },
   {
    "duration": 5125,
    "start_time": "2022-02-01T19:46:14.837Z"
   },
   {
    "duration": 6,
    "start_time": "2022-02-01T19:46:27.968Z"
   },
   {
    "duration": 6,
    "start_time": "2022-02-01T19:46:50.878Z"
   },
   {
    "duration": 30,
    "start_time": "2022-02-01T19:50:32.399Z"
   },
   {
    "duration": 167,
    "start_time": "2022-02-01T19:50:48.767Z"
   },
   {
    "duration": 42,
    "start_time": "2022-02-01T19:51:13.018Z"
   },
   {
    "duration": 190,
    "start_time": "2022-02-01T19:51:13.649Z"
   },
   {
    "duration": 87,
    "start_time": "2022-02-01T19:51:14.229Z"
   },
   {
    "duration": 3209,
    "start_time": "2022-02-01T19:51:16.230Z"
   },
   {
    "duration": 302,
    "start_time": "2022-02-01T19:51:44.329Z"
   },
   {
    "duration": 84,
    "start_time": "2022-02-01T19:51:44.651Z"
   },
   {
    "duration": 148159,
    "start_time": "2022-02-01T19:54:43.998Z"
   },
   {
    "duration": 3545,
    "start_time": "2022-02-01T19:58:46.516Z"
   },
   {
    "duration": 7,
    "start_time": "2022-02-01T19:58:50.063Z"
   },
   {
    "duration": 17,
    "start_time": "2022-02-01T20:00:55.267Z"
   },
   {
    "duration": 186,
    "start_time": "2022-02-01T20:00:56.746Z"
   },
   {
    "duration": 76,
    "start_time": "2022-02-01T20:00:57.887Z"
   },
   {
    "duration": 3315,
    "start_time": "2022-02-01T20:00:59.418Z"
   },
   {
    "duration": 265,
    "start_time": "2022-02-01T20:01:05.567Z"
   },
   {
    "duration": 6,
    "start_time": "2022-02-01T20:01:07.017Z"
   },
   {
    "duration": 1346,
    "start_time": "2022-02-03T18:59:31.242Z"
   },
   {
    "duration": 1087,
    "start_time": "2022-02-03T18:59:32.590Z"
   },
   {
    "duration": 39,
    "start_time": "2022-02-03T18:59:33.680Z"
   },
   {
    "duration": 188,
    "start_time": "2022-02-03T18:59:33.722Z"
   },
   {
    "duration": 715,
    "start_time": "2022-02-03T18:59:33.913Z"
   },
   {
    "duration": 159,
    "start_time": "2022-02-03T18:59:34.630Z"
   },
   {
    "duration": 26,
    "start_time": "2022-02-03T18:59:34.791Z"
   },
   {
    "duration": 50,
    "start_time": "2022-02-03T18:59:34.821Z"
   },
   {
    "duration": 41,
    "start_time": "2022-02-03T18:59:34.873Z"
   },
   {
    "duration": 159,
    "start_time": "2022-02-03T18:59:34.916Z"
   },
   {
    "duration": 27,
    "start_time": "2022-02-03T18:59:35.077Z"
   },
   {
    "duration": 126,
    "start_time": "2022-02-03T18:59:35.106Z"
   },
   {
    "duration": 122,
    "start_time": "2022-02-03T18:59:35.235Z"
   },
   {
    "duration": 22,
    "start_time": "2022-02-03T18:59:35.360Z"
   },
   {
    "duration": 118,
    "start_time": "2022-02-03T18:59:35.385Z"
   },
   {
    "duration": 25,
    "start_time": "2022-02-03T18:59:35.505Z"
   },
   {
    "duration": 23,
    "start_time": "2022-02-03T18:59:35.600Z"
   },
   {
    "duration": 81,
    "start_time": "2022-02-03T18:59:35.992Z"
   },
   {
    "duration": 22,
    "start_time": "2022-02-03T18:59:36.152Z"
   },
   {
    "duration": 78,
    "start_time": "2022-02-03T18:59:36.512Z"
   },
   {
    "duration": 115,
    "start_time": "2022-02-03T18:59:36.712Z"
   },
   {
    "duration": 30,
    "start_time": "2022-02-03T18:59:37.112Z"
   },
   {
    "duration": 22,
    "start_time": "2022-02-03T18:59:38.051Z"
   },
   {
    "duration": 23,
    "start_time": "2022-02-03T18:59:38.469Z"
   },
   {
    "duration": 606,
    "start_time": "2022-02-03T18:59:40.073Z"
   },
   {
    "duration": 124,
    "start_time": "2022-02-03T18:59:40.682Z"
   },
   {
    "duration": 101,
    "start_time": "2022-02-03T18:59:41.271Z"
   },
   {
    "duration": 885,
    "start_time": "2022-02-03T18:59:41.571Z"
   },
   {
    "duration": 278,
    "start_time": "2022-02-03T18:59:42.458Z"
   },
   {
    "duration": 4,
    "start_time": "2022-02-03T19:01:00.360Z"
   },
   {
    "duration": 5,
    "start_time": "2022-02-03T19:01:27.117Z"
   },
   {
    "duration": 3,
    "start_time": "2022-02-03T19:01:33.311Z"
   },
   {
    "duration": 281,
    "start_time": "2022-02-03T19:01:34.191Z"
   },
   {
    "duration": 198196,
    "start_time": "2022-02-03T19:03:12.672Z"
   },
   {
    "duration": 236,
    "start_time": "2022-02-03T19:06:30.871Z"
   },
   {
    "duration": 232,
    "start_time": "2022-02-03T19:06:34.474Z"
   },
   {
    "duration": 5,
    "start_time": "2022-02-03T19:06:42.232Z"
   },
   {
    "duration": 4,
    "start_time": "2022-02-03T19:12:34.818Z"
   },
   {
    "duration": 9460,
    "start_time": "2022-02-03T19:12:40.081Z"
   },
   {
    "duration": 4,
    "start_time": "2022-02-03T19:13:47.432Z"
   },
   {
    "duration": 226,
    "start_time": "2022-02-03T19:14:01.351Z"
   },
   {
    "duration": 3,
    "start_time": "2022-02-03T19:14:34.070Z"
   },
   {
    "duration": 3,
    "start_time": "2022-02-03T19:14:53.614Z"
   },
   {
    "duration": 1371,
    "start_time": "2022-02-03T19:42:33.077Z"
   },
   {
    "duration": 1047,
    "start_time": "2022-02-03T19:42:34.451Z"
   },
   {
    "duration": 50,
    "start_time": "2022-02-03T19:42:35.501Z"
   },
   {
    "duration": 159,
    "start_time": "2022-02-03T19:42:35.554Z"
   },
   {
    "duration": 623,
    "start_time": "2022-02-03T19:42:35.716Z"
   },
   {
    "duration": 148,
    "start_time": "2022-02-03T19:42:36.606Z"
   },
   {
    "duration": 28,
    "start_time": "2022-02-03T19:42:37.667Z"
   },
   {
    "duration": 28,
    "start_time": "2022-02-03T19:42:38.356Z"
   },
   {
    "duration": 44,
    "start_time": "2022-02-03T19:42:38.886Z"
   },
   {
    "duration": 136,
    "start_time": "2022-02-03T19:42:39.478Z"
   },
   {
    "duration": 27,
    "start_time": "2022-02-03T19:42:41.517Z"
   },
   {
    "duration": 106,
    "start_time": "2022-02-03T19:42:46.797Z"
   },
   {
    "duration": 125,
    "start_time": "2022-02-03T19:42:46.975Z"
   },
   {
    "duration": 26,
    "start_time": "2022-02-03T19:42:47.135Z"
   },
   {
    "duration": 91,
    "start_time": "2022-02-03T19:42:47.539Z"
   },
   {
    "duration": 24,
    "start_time": "2022-02-03T19:42:47.693Z"
   },
   {
    "duration": 23,
    "start_time": "2022-02-03T19:42:49.137Z"
   },
   {
    "duration": 80,
    "start_time": "2022-02-03T19:42:51.306Z"
   },
   {
    "duration": 23,
    "start_time": "2022-02-03T19:42:51.837Z"
   },
   {
    "duration": 80,
    "start_time": "2022-02-03T19:42:52.707Z"
   },
   {
    "duration": 110,
    "start_time": "2022-02-03T19:42:53.715Z"
   },
   {
    "duration": 24,
    "start_time": "2022-02-03T19:42:55.177Z"
   },
   {
    "duration": 20,
    "start_time": "2022-02-03T19:44:27.956Z"
   },
   {
    "duration": 22,
    "start_time": "2022-02-03T19:44:29.387Z"
   },
   {
    "duration": 264,
    "start_time": "2022-02-03T19:44:31.123Z"
   },
   {
    "duration": 48,
    "start_time": "2022-02-03T19:44:31.736Z"
   },
   {
    "duration": 16,
    "start_time": "2022-02-03T19:44:56.872Z"
   },
   {
    "duration": 181,
    "start_time": "2022-02-03T19:44:57.312Z"
   },
   {
    "duration": 68,
    "start_time": "2022-02-03T19:44:58.042Z"
   },
   {
    "duration": 4,
    "start_time": "2022-02-03T19:44:58.921Z"
   },
   {
    "duration": 993063,
    "start_time": "2022-02-03T19:44:59.710Z"
   },
   {
    "duration": 5,
    "start_time": "2022-02-03T20:03:57.481Z"
   },
   {
    "duration": 5,
    "start_time": "2022-02-03T20:04:22.222Z"
   },
   {
    "duration": 6,
    "start_time": "2022-02-03T20:04:35.130Z"
   },
   {
    "duration": 6,
    "start_time": "2022-02-03T20:04:55.451Z"
   },
   {
    "duration": 5,
    "start_time": "2022-02-03T20:05:48.711Z"
   },
   {
    "duration": 3,
    "start_time": "2022-02-03T20:08:09.920Z"
   },
   {
    "duration": 9534,
    "start_time": "2022-02-03T20:08:30.945Z"
   },
   {
    "duration": 232,
    "start_time": "2022-02-03T20:08:55.424Z"
   },
   {
    "duration": 6,
    "start_time": "2022-02-03T20:09:03.375Z"
   },
   {
    "duration": 4,
    "start_time": "2022-02-03T20:14:37.325Z"
   },
   {
    "duration": 67701,
    "start_time": "2022-02-03T20:15:16.662Z"
   },
   {
    "duration": 179548,
    "start_time": "2022-02-03T20:16:43.022Z"
   },
   {
    "duration": 5,
    "start_time": "2022-02-03T20:19:48.270Z"
   },
   {
    "duration": 5,
    "start_time": "2022-02-03T20:19:54.431Z"
   },
   {
    "duration": 5,
    "start_time": "2022-02-03T20:21:12.412Z"
   },
   {
    "duration": 393,
    "start_time": "2022-02-03T20:21:18.831Z"
   },
   {
    "duration": 6,
    "start_time": "2022-02-03T20:21:25.142Z"
   },
   {
    "duration": 121449,
    "start_time": "2022-02-03T20:23:03.502Z"
   },
   {
    "duration": 6,
    "start_time": "2022-02-03T20:25:36.111Z"
   },
   {
    "duration": 5,
    "start_time": "2022-02-03T20:25:38.061Z"
   },
   {
    "duration": 1717,
    "start_time": "2022-02-07T18:24:04.355Z"
   },
   {
    "duration": 1636,
    "start_time": "2022-02-07T18:24:06.075Z"
   },
   {
    "duration": 46,
    "start_time": "2022-02-07T18:24:07.714Z"
   },
   {
    "duration": 177,
    "start_time": "2022-02-07T18:24:07.762Z"
   },
   {
    "duration": 776,
    "start_time": "2022-02-07T18:24:07.949Z"
   },
   {
    "duration": 169,
    "start_time": "2022-02-07T18:24:08.728Z"
   },
   {
    "duration": 49,
    "start_time": "2022-02-07T18:24:08.900Z"
   },
   {
    "duration": 35,
    "start_time": "2022-02-07T18:24:08.952Z"
   },
   {
    "duration": 48,
    "start_time": "2022-02-07T18:24:08.990Z"
   },
   {
    "duration": 158,
    "start_time": "2022-02-07T18:24:09.049Z"
   },
   {
    "duration": 39,
    "start_time": "2022-02-07T18:24:09.210Z"
   },
   {
    "duration": 118,
    "start_time": "2022-02-07T18:24:09.252Z"
   },
   {
    "duration": 133,
    "start_time": "2022-02-07T18:24:09.373Z"
   },
   {
    "duration": 27,
    "start_time": "2022-02-07T18:24:09.509Z"
   },
   {
    "duration": 112,
    "start_time": "2022-02-07T18:24:09.550Z"
   },
   {
    "duration": 29,
    "start_time": "2022-02-07T18:24:09.664Z"
   },
   {
    "duration": 25,
    "start_time": "2022-02-07T18:24:09.696Z"
   },
   {
    "duration": 107,
    "start_time": "2022-02-07T18:24:09.724Z"
   },
   {
    "duration": 35,
    "start_time": "2022-02-07T18:24:09.834Z"
   },
   {
    "duration": 109,
    "start_time": "2022-02-07T18:24:09.871Z"
   },
   {
    "duration": 126,
    "start_time": "2022-02-07T18:24:09.983Z"
   },
   {
    "duration": 29,
    "start_time": "2022-02-07T18:24:11.117Z"
   },
   {
    "duration": 20,
    "start_time": "2022-02-07T18:24:11.890Z"
   },
   {
    "duration": 25,
    "start_time": "2022-02-07T18:24:12.106Z"
   },
   {
    "duration": 167,
    "start_time": "2022-02-07T18:24:12.756Z"
   },
   {
    "duration": 50,
    "start_time": "2022-02-07T18:24:13.505Z"
   },
   {
    "duration": 19,
    "start_time": "2022-02-07T18:24:16.616Z"
   },
   {
    "duration": 193,
    "start_time": "2022-02-07T18:24:17.398Z"
   },
   {
    "duration": 80,
    "start_time": "2022-02-07T18:24:18.485Z"
   },
   {
    "duration": 4,
    "start_time": "2022-02-07T18:24:20.576Z"
   },
   {
    "duration": 92,
    "start_time": "2022-02-07T18:27:02.146Z"
   },
   {
    "duration": 5,
    "start_time": "2022-02-07T18:28:22.950Z"
   },
   {
    "duration": 4,
    "start_time": "2022-02-07T18:37:35.212Z"
   },
   {
    "duration": 11371,
    "start_time": "2022-02-07T18:38:37.482Z"
   },
   {
    "duration": 912,
    "start_time": "2022-02-07T18:40:42.062Z"
   },
   {
    "duration": 8,
    "start_time": "2022-02-07T18:41:23.439Z"
   },
   {
    "duration": 7,
    "start_time": "2022-02-07T18:41:32.013Z"
   },
   {
    "duration": 822,
    "start_time": "2022-02-07T18:42:38.640Z"
   },
   {
    "duration": 10,
    "start_time": "2022-02-07T18:42:45.991Z"
   },
   {
    "duration": 5800,
    "start_time": "2022-02-07T18:47:12.825Z"
   },
   {
    "duration": 419,
    "start_time": "2022-02-07T18:47:31.166Z"
   },
   {
    "duration": 245,
    "start_time": "2022-02-07T18:48:33.646Z"
   },
   {
    "duration": 5,
    "start_time": "2022-02-07T18:48:56.738Z"
   },
   {
    "duration": 351,
    "start_time": "2022-02-07T18:49:04.205Z"
   },
   {
    "duration": 237,
    "start_time": "2022-02-07T18:49:27.636Z"
   },
   {
    "duration": 314,
    "start_time": "2022-02-07T18:49:34.035Z"
   },
   {
    "duration": 22,
    "start_time": "2022-02-07T18:49:41.386Z"
   },
   {
    "duration": 25,
    "start_time": "2022-02-07T18:49:47.715Z"
   },
   {
    "duration": 21,
    "start_time": "2022-02-07T18:49:52.196Z"
   },
   {
    "duration": 563,
    "start_time": "2022-02-07T18:50:43.574Z"
   },
   {
    "duration": 346,
    "start_time": "2022-02-07T18:50:58.352Z"
   },
   {
    "duration": 6,
    "start_time": "2022-02-07T18:51:08.372Z"
   },
   {
    "duration": 260,
    "start_time": "2022-02-07T18:51:26.962Z"
   },
   {
    "duration": 4,
    "start_time": "2022-02-07T18:52:00.576Z"
   },
   {
    "duration": 13,
    "start_time": "2022-02-07T18:52:10.079Z"
   },
   {
    "duration": 327,
    "start_time": "2022-02-07T18:55:05.286Z"
   },
   {
    "duration": 334,
    "start_time": "2022-02-07T18:55:46.205Z"
   },
   {
    "duration": 77,
    "start_time": "2022-02-07T18:57:17.323Z"
   },
   {
    "duration": 359,
    "start_time": "2022-02-07T18:57:23.765Z"
   },
   {
    "duration": 383,
    "start_time": "2022-02-07T18:57:59.269Z"
   },
   {
    "duration": 502,
    "start_time": "2022-02-07T18:58:33.721Z"
   },
   {
    "duration": 1517,
    "start_time": "2022-02-08T18:11:06.908Z"
   },
   {
    "duration": 1141,
    "start_time": "2022-02-08T18:11:08.427Z"
   },
   {
    "duration": 35,
    "start_time": "2022-02-08T18:11:09.571Z"
   },
   {
    "duration": 182,
    "start_time": "2022-02-08T18:11:09.609Z"
   },
   {
    "duration": 604,
    "start_time": "2022-02-08T18:11:09.794Z"
   },
   {
    "duration": 163,
    "start_time": "2022-02-08T18:11:10.400Z"
   },
   {
    "duration": 27,
    "start_time": "2022-02-08T18:11:10.565Z"
   },
   {
    "duration": 30,
    "start_time": "2022-02-08T18:11:11.077Z"
   },
   {
    "duration": 61,
    "start_time": "2022-02-08T18:11:12.807Z"
   },
   {
    "duration": 202,
    "start_time": "2022-02-08T18:11:13.315Z"
   },
   {
    "duration": 26,
    "start_time": "2022-02-08T18:11:14.007Z"
   },
   {
    "duration": 133,
    "start_time": "2022-02-08T18:11:44.092Z"
   },
   {
    "duration": 124,
    "start_time": "2022-02-08T18:11:45.380Z"
   },
   {
    "duration": 25,
    "start_time": "2022-02-08T18:11:50.443Z"
   },
   {
    "duration": 95,
    "start_time": "2022-02-08T18:11:55.214Z"
   },
   {
    "duration": 27,
    "start_time": "2022-02-08T18:11:58.086Z"
   },
   {
    "duration": 23,
    "start_time": "2022-02-08T18:12:03.152Z"
   },
   {
    "duration": 23,
    "start_time": "2022-02-08T18:13:15.480Z"
   },
   {
    "duration": 108,
    "start_time": "2022-02-08T18:13:18.832Z"
   },
   {
    "duration": 192,
    "start_time": "2022-02-08T18:13:19.642Z"
   },
   {
    "duration": 78,
    "start_time": "2022-02-08T18:14:23.812Z"
   },
   {
    "duration": 121,
    "start_time": "2022-02-08T18:14:31.012Z"
   },
   {
    "duration": 26,
    "start_time": "2022-02-08T18:15:30.302Z"
   },
   {
    "duration": 32,
    "start_time": "2022-02-08T18:15:41.022Z"
   },
   {
    "duration": 882,
    "start_time": "2022-02-08T18:15:45.574Z"
   },
   {
    "duration": 110,
    "start_time": "2022-02-08T18:15:46.569Z"
   },
   {
    "duration": 52,
    "start_time": "2022-02-08T18:16:11.412Z"
   },
   {
    "duration": 469,
    "start_time": "2022-02-08T18:16:27.653Z"
   },
   {
    "duration": 14,
    "start_time": "2022-02-08T18:16:31.452Z"
   },
   {
    "duration": 661,
    "start_time": "2022-02-08T18:16:34.264Z"
   },
   {
    "duration": 109,
    "start_time": "2022-02-08T18:16:35.594Z"
   },
   {
    "duration": 102,
    "start_time": "2022-02-08T18:16:43.972Z"
   },
   {
    "duration": 1017,
    "start_time": "2022-02-08T18:16:44.692Z"
   },
   {
    "duration": 280,
    "start_time": "2022-02-08T18:16:45.861Z"
   },
   {
    "duration": 76,
    "start_time": "2022-02-08T18:17:16.612Z"
   },
   {
    "duration": 8,
    "start_time": "2022-02-08T18:20:15.371Z"
   },
   {
    "duration": 8,
    "start_time": "2022-02-08T18:20:19.437Z"
   },
   {
    "duration": 314,
    "start_time": "2022-02-08T18:20:55.731Z"
   },
   {
    "duration": 9,
    "start_time": "2022-02-08T18:21:23.810Z"
   },
   {
    "duration": 314,
    "start_time": "2022-02-08T18:21:32.060Z"
   },
   {
    "duration": 19,
    "start_time": "2022-02-08T18:21:47.990Z"
   },
   {
    "duration": 318,
    "start_time": "2022-02-08T18:22:07.440Z"
   },
   {
    "duration": 579,
    "start_time": "2022-02-08T18:22:20.750Z"
   },
   {
    "duration": 20,
    "start_time": "2022-02-08T18:22:38.626Z"
   },
   {
    "duration": 50,
    "start_time": "2022-02-08T18:25:00.370Z"
   },
   {
    "duration": 24,
    "start_time": "2022-02-08T18:25:03.703Z"
   },
   {
    "duration": 12,
    "start_time": "2022-02-08T18:26:20.920Z"
   },
   {
    "duration": 9,
    "start_time": "2022-02-08T18:26:43.531Z"
   },
   {
    "duration": 9,
    "start_time": "2022-02-08T18:26:49.134Z"
   },
   {
    "duration": 9,
    "start_time": "2022-02-08T18:26:53.210Z"
   },
   {
    "duration": 11,
    "start_time": "2022-02-08T18:27:45.765Z"
   },
   {
    "duration": 10,
    "start_time": "2022-02-08T18:28:42.380Z"
   },
   {
    "duration": 11,
    "start_time": "2022-02-08T18:29:08.679Z"
   },
   {
    "duration": 38,
    "start_time": "2022-02-08T18:29:14.943Z"
   },
   {
    "duration": 46,
    "start_time": "2022-02-08T18:31:48.489Z"
   },
   {
    "duration": 333,
    "start_time": "2022-02-08T18:33:01.537Z"
   },
   {
    "duration": 325,
    "start_time": "2022-02-08T18:33:12.612Z"
   },
   {
    "duration": 41,
    "start_time": "2022-02-08T18:33:37.401Z"
   },
   {
    "duration": 40,
    "start_time": "2022-02-08T18:33:37.581Z"
   },
   {
    "duration": 420,
    "start_time": "2022-02-08T18:34:22.900Z"
   },
   {
    "duration": 482,
    "start_time": "2022-02-08T18:34:59.680Z"
   },
   {
    "duration": 373,
    "start_time": "2022-02-08T18:35:12.731Z"
   },
   {
    "duration": 104,
    "start_time": "2022-02-08T18:36:03.318Z"
   },
   {
    "duration": 541,
    "start_time": "2022-02-08T18:36:08.520Z"
   },
   {
    "duration": 14,
    "start_time": "2022-02-08T18:36:57.812Z"
   },
   {
    "duration": 666,
    "start_time": "2022-02-08T18:37:02.659Z"
   },
   {
    "duration": 134,
    "start_time": "2022-02-08T18:37:03.970Z"
   },
   {
    "duration": 1537,
    "start_time": "2022-02-08T18:38:28.255Z"
   },
   {
    "duration": 8,
    "start_time": "2022-02-08T18:41:14.972Z"
   },
   {
    "duration": 6,
    "start_time": "2022-02-08T18:41:31.141Z"
   },
   {
    "duration": 193,
    "start_time": "2022-02-08T18:43:36.713Z"
   },
   {
    "duration": 3,
    "start_time": "2022-02-08T18:43:42.742Z"
   },
   {
    "duration": 1146783,
    "start_time": "2022-02-08T18:43:44.560Z"
   },
   {
    "duration": 5,
    "start_time": "2022-02-08T19:05:47.657Z"
   },
   {
    "duration": 6,
    "start_time": "2022-02-08T19:05:48.749Z"
   },
   {
    "duration": 283,
    "start_time": "2022-02-08T19:11:33.229Z"
   },
   {
    "duration": 8,
    "start_time": "2022-02-08T19:11:50.500Z"
   },
   {
    "duration": 8,
    "start_time": "2022-02-08T19:12:13.988Z"
   },
   {
    "duration": 322,
    "start_time": "2022-02-08T19:12:44.209Z"
   },
   {
    "duration": 7,
    "start_time": "2022-02-08T19:12:49.671Z"
   },
   {
    "duration": 7,
    "start_time": "2022-02-08T19:15:36.323Z"
   },
   {
    "duration": 9,
    "start_time": "2022-02-08T19:15:38.071Z"
   },
   {
    "duration": 11,
    "start_time": "2022-02-08T19:15:49.039Z"
   },
   {
    "duration": 7,
    "start_time": "2022-02-08T19:15:55.450Z"
   },
   {
    "duration": 10,
    "start_time": "2022-02-08T19:15:55.842Z"
   },
   {
    "duration": 4,
    "start_time": "2022-02-08T19:17:01.205Z"
   },
   {
    "duration": 11,
    "start_time": "2022-02-08T19:17:10.098Z"
   },
   {
    "duration": 302,
    "start_time": "2022-02-08T19:17:32.689Z"
   },
   {
    "duration": 100,
    "start_time": "2022-02-08T19:17:53.192Z"
   },
   {
    "duration": 259,
    "start_time": "2022-02-08T19:17:58.449Z"
   },
   {
    "duration": 5,
    "start_time": "2022-02-08T19:20:00.468Z"
   },
   {
    "duration": 11,
    "start_time": "2022-02-08T19:20:01.231Z"
   },
   {
    "duration": 4,
    "start_time": "2022-02-08T19:22:50.633Z"
   },
   {
    "duration": 11,
    "start_time": "2022-02-08T19:22:51.500Z"
   },
   {
    "duration": 4,
    "start_time": "2022-02-08T19:23:06.840Z"
   },
   {
    "duration": 5,
    "start_time": "2022-02-08T19:23:17.030Z"
   },
   {
    "duration": 10,
    "start_time": "2022-02-08T19:23:17.739Z"
   },
   {
    "duration": 1567,
    "start_time": "2022-02-08T19:25:06.570Z"
   },
   {
    "duration": 1551,
    "start_time": "2022-02-08T19:25:30.588Z"
   },
   {
    "duration": 4,
    "start_time": "2022-02-08T19:26:00.282Z"
   },
   {
    "duration": 17,
    "start_time": "2022-02-08T19:26:00.899Z"
   },
   {
    "duration": 5,
    "start_time": "2022-02-08T19:26:28.947Z"
   },
   {
    "duration": 1546,
    "start_time": "2022-02-08T19:26:29.989Z"
   },
   {
    "duration": 5,
    "start_time": "2022-02-08T19:26:33.901Z"
   },
   {
    "duration": 10,
    "start_time": "2022-02-08T19:26:36.780Z"
   },
   {
    "duration": 289,
    "start_time": "2022-02-08T19:31:11.645Z"
   },
   {
    "duration": 23,
    "start_time": "2022-02-08T19:31:20.565Z"
   },
   {
    "duration": 122,
    "start_time": "2022-02-08T19:31:46.246Z"
   },
   {
    "duration": 295,
    "start_time": "2022-02-08T19:34:27.017Z"
   },
   {
    "duration": 6,
    "start_time": "2022-02-08T19:35:04.491Z"
   },
   {
    "duration": 271,
    "start_time": "2022-02-08T19:35:26.729Z"
   },
   {
    "duration": 115,
    "start_time": "2022-02-08T19:35:50.667Z"
   },
   {
    "duration": 119,
    "start_time": "2022-02-08T19:36:11.279Z"
   },
   {
    "duration": 5,
    "start_time": "2022-02-08T19:36:16.179Z"
   },
   {
    "duration": 122,
    "start_time": "2022-02-08T19:36:47.149Z"
   },
   {
    "duration": 270,
    "start_time": "2022-02-08T19:36:55.310Z"
   },
   {
    "duration": 77,
    "start_time": "2022-02-08T19:40:03.479Z"
   },
   {
    "duration": 4,
    "start_time": "2022-02-08T19:41:13.299Z"
   },
   {
    "duration": 29,
    "start_time": "2022-02-08T19:47:25.510Z"
   },
   {
    "duration": 188,
    "start_time": "2022-02-08T19:48:27.090Z"
   },
   {
    "duration": 20,
    "start_time": "2022-02-08T19:48:31.259Z"
   },
   {
    "duration": 16,
    "start_time": "2022-02-08T19:48:55.569Z"
   },
   {
    "duration": 59,
    "start_time": "2022-02-08T19:48:56.689Z"
   },
   {
    "duration": 17,
    "start_time": "2022-02-08T19:48:58.089Z"
   },
   {
    "duration": 288,
    "start_time": "2022-02-08T19:49:21.180Z"
   },
   {
    "duration": 5,
    "start_time": "2022-02-08T19:49:59.028Z"
   },
   {
    "duration": 14,
    "start_time": "2022-02-08T19:49:59.439Z"
   },
   {
    "duration": 524,
    "start_time": "2022-02-08T19:49:59.909Z"
   },
   {
    "duration": 59,
    "start_time": "2022-02-08T19:50:00.449Z"
   },
   {
    "duration": 319,
    "start_time": "2022-02-08T19:50:01.489Z"
   },
   {
    "duration": 211,
    "start_time": "2022-02-08T19:58:34.860Z"
   },
   {
    "duration": 325,
    "start_time": "2022-02-08T20:03:41.262Z"
   },
   {
    "duration": 4,
    "start_time": "2022-02-08T20:04:42.521Z"
   },
   {
    "duration": 205,
    "start_time": "2022-02-08T20:05:02.900Z"
   },
   {
    "duration": 181,
    "start_time": "2022-02-08T20:05:10.320Z"
   },
   {
    "duration": 5,
    "start_time": "2022-02-08T20:05:41.840Z"
   },
   {
    "duration": 202,
    "start_time": "2022-02-08T20:05:43.561Z"
   },
   {
    "duration": 187,
    "start_time": "2022-02-08T20:05:50.940Z"
   },
   {
    "duration": 274,
    "start_time": "2022-02-08T20:05:57.740Z"
   },
   {
    "duration": 18,
    "start_time": "2022-02-08T20:08:51.789Z"
   },
   {
    "duration": 14,
    "start_time": "2022-02-08T20:09:20.290Z"
   },
   {
    "duration": 24,
    "start_time": "2022-02-08T20:09:20.540Z"
   },
   {
    "duration": 9,
    "start_time": "2022-02-08T20:09:23.580Z"
   },
   {
    "duration": 59,
    "start_time": "2022-02-08T20:09:23.819Z"
   },
   {
    "duration": 262,
    "start_time": "2022-02-08T20:09:26.069Z"
   },
   {
    "duration": 4,
    "start_time": "2022-02-08T20:12:27.469Z"
   },
   {
    "duration": 521829,
    "start_time": "2022-02-08T20:12:29.819Z"
   },
   {
    "duration": 236,
    "start_time": "2022-02-08T20:22:28.579Z"
   },
   {
    "duration": 191,
    "start_time": "2022-02-08T20:23:10.979Z"
   },
   {
    "duration": 1145,
    "start_time": "2022-02-08T20:23:27.390Z"
   },
   {
    "duration": 6,
    "start_time": "2022-02-08T20:23:40.819Z"
   },
   {
    "duration": 22,
    "start_time": "2022-02-08T20:24:02.980Z"
   },
   {
    "duration": 357,
    "start_time": "2022-02-08T20:24:19.751Z"
   },
   {
    "duration": 5,
    "start_time": "2022-02-08T20:24:23.819Z"
   },
   {
    "duration": 15,
    "start_time": "2022-02-08T20:24:24.088Z"
   },
   {
    "duration": 435,
    "start_time": "2022-02-08T20:24:26.100Z"
   },
   {
    "duration": 4,
    "start_time": "2022-02-08T20:25:37.190Z"
   },
   {
    "duration": 6,
    "start_time": "2022-02-08T20:26:34.599Z"
   },
   {
    "duration": 11,
    "start_time": "2022-02-08T20:26:36.889Z"
   },
   {
    "duration": 5,
    "start_time": "2022-02-08T20:26:43.202Z"
   },
   {
    "duration": 6,
    "start_time": "2022-02-08T20:26:43.792Z"
   },
   {
    "duration": 11,
    "start_time": "2022-02-08T20:26:44.202Z"
   }
  ],
  "kernelspec": {
   "display_name": "Python 3 (ipykernel)",
   "language": "python",
   "name": "python3"
  },
  "language_info": {
   "codemirror_mode": {
    "name": "ipython",
    "version": 3
   },
   "file_extension": ".py",
   "mimetype": "text/x-python",
   "name": "python",
   "nbconvert_exporter": "python",
   "pygments_lexer": "ipython3",
   "version": "3.9.5"
  },
  "toc": {
   "base_numbering": 1,
   "nav_menu": {},
   "number_sections": true,
   "sideBar": true,
   "skip_h1_title": true,
   "title_cell": "Table of Contents",
   "title_sidebar": "Contents",
   "toc_cell": false,
   "toc_position": {},
   "toc_section_display": true,
   "toc_window_display": false
  }
 },
 "nbformat": 4,
 "nbformat_minor": 2
}
