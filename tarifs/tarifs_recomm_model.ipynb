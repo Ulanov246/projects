{
 "cells": [
  {
   "cell_type": "markdown",
   "metadata": {},
   "source": [
    "# Рекомендация тарифов"
   ]
  },
  {
   "cell_type": "markdown",
   "metadata": {},
   "source": [
    "В нашем распоряжении данные о поведении клиентов, которые уже перешли на эти тарифы.  \n",
    "Нужно построить модель для задачи классификации, которая выберет подходящий тариф.\n",
    "\n",
    "Нужно построить модель с максимально большим значением *accuracy*. Чтобы сдать проект успешно, нужно довести долю правильных ответов по крайней мере до 0.75. Проверьте *accuracy* на тестовой выборке самостоятельно."
   ]
  },
  {
   "cell_type": "markdown",
   "metadata": {},
   "source": [
    "## Откройте и изучите файл"
   ]
  },
  {
   "cell_type": "code",
   "execution_count": 2,
   "metadata": {},
   "outputs": [],
   "source": [
    "import pandas as pd\n",
    "from sklearn.metrics import accuracy_score\n",
    "from sklearn.model_selection import train_test_split \n",
    "from sklearn.tree import DecisionTreeClassifier\n",
    "from sklearn.ensemble import RandomForestClassifier\n",
    "from sklearn.linear_model import LogisticRegression\n",
    "from sklearn.dummy import DummyClassifier\n",
    "import numpy as np"
   ]
  },
  {
   "cell_type": "code",
   "execution_count": 3,
   "metadata": {},
   "outputs": [],
   "source": [
    "df = pd.read_csv('/datasets/users_behavior.csv')"
   ]
  },
  {
   "cell_type": "code",
   "execution_count": 4,
   "metadata": {},
   "outputs": [
    {
     "name": "stdout",
     "output_type": "stream",
     "text": [
      "<class 'pandas.core.frame.DataFrame'>\n",
      "RangeIndex: 3214 entries, 0 to 3213\n",
      "Data columns (total 5 columns):\n",
      "calls       3214 non-null float64\n",
      "minutes     3214 non-null float64\n",
      "messages    3214 non-null float64\n",
      "mb_used     3214 non-null float64\n",
      "is_ultra    3214 non-null int64\n",
      "dtypes: float64(4), int64(1)\n",
      "memory usage: 125.7 KB\n"
     ]
    }
   ],
   "source": [
    "df.info()"
   ]
  },
  {
   "cell_type": "code",
   "execution_count": 5,
   "metadata": {
    "scrolled": true
   },
   "outputs": [
    {
     "data": {
      "text/plain": [
       "array([ 40.,  85.,  77., 106.,  66.,  58.,  57.,  15.,   7.,  90.,  82.,\n",
       "        45.,  51.,  56., 108.,   6.,   2.,  26.,  79.,  49.,  93.,  48.,\n",
       "        11.,  53.,  81., 154.,  37.,  50.,  41.,  10.,  71.,  65., 110.,\n",
       "       120.,  76.,  64.,  23.,  34.,  98.,  35.,   5.,  70., 124., 129.,\n",
       "        67.,   0.,  13.,  68.,  91., 121., 114., 125.,  80.,  33., 138.,\n",
       "        84.,  78.,  69.,  63.,  72.,  73.,   1.,  43., 118.,  74.,  83.,\n",
       "       141., 117.,  54., 101.,  29.,   3., 107.,  55.,  47., 158.,  87.,\n",
       "        28.,  59.,  52.,  44.,  17., 111., 109.,  14.,  92.,  94.,  46.,\n",
       "       133.,  75.,  38.,  60., 100.,  31.,  61.,  89.,  27., 196.,  24.,\n",
       "        99.,  62., 162., 116., 123.,  18.,  21.,  12.,  86.,  32.,  95.,\n",
       "        39.,  30.,  25.,  36.,  42., 113.,   9., 183., 156., 127.,  96.,\n",
       "        16.,   4., 102.,  97.,  20., 104., 144.,  19., 132., 131., 136.,\n",
       "        88., 115., 176., 160., 164., 169.,  22., 105., 152., 177., 161.,\n",
       "       112.,   8., 126., 178., 103., 130., 198., 119., 137., 150., 122.,\n",
       "       146., 151., 157., 203., 143., 148., 128., 185., 167., 181., 184.,\n",
       "       171., 153., 140., 159., 188., 134., 189., 182., 173., 172., 145.,\n",
       "       180., 155., 174., 244., 165., 163., 142., 168.])"
      ]
     },
     "execution_count": 5,
     "metadata": {},
     "output_type": "execute_result"
    }
   ],
   "source": [
    "df['calls'].unique()"
   ]
  },
  {
   "cell_type": "code",
   "execution_count": 7,
   "metadata": {
    "scrolled": true
   },
   "outputs": [
    {
     "data": {
      "text/plain": [
       "array([0, 1])"
      ]
     },
     "execution_count": 7,
     "metadata": {},
     "output_type": "execute_result"
    }
   ],
   "source": [
    "df['is_ultra'].unique()"
   ]
  },
  {
   "cell_type": "code",
   "execution_count": 8,
   "metadata": {},
   "outputs": [],
   "source": [
    "df['calls'] = df['calls'].astype(int)"
   ]
  },
  {
   "cell_type": "code",
   "execution_count": 9,
   "metadata": {},
   "outputs": [],
   "source": [
    "df['is_ultra'] = df['is_ultra'].astype(bool)"
   ]
  },
  {
   "cell_type": "code",
   "execution_count": 13,
   "metadata": {},
   "outputs": [
    {
     "data": {
      "text/html": [
       "<div>\n",
       "<style scoped>\n",
       "    .dataframe tbody tr th:only-of-type {\n",
       "        vertical-align: middle;\n",
       "    }\n",
       "\n",
       "    .dataframe tbody tr th {\n",
       "        vertical-align: top;\n",
       "    }\n",
       "\n",
       "    .dataframe thead th {\n",
       "        text-align: right;\n",
       "    }\n",
       "</style>\n",
       "<table border=\"1\" class=\"dataframe\">\n",
       "  <thead>\n",
       "    <tr style=\"text-align: right;\">\n",
       "      <th></th>\n",
       "      <th>calls</th>\n",
       "      <th>minutes</th>\n",
       "      <th>messages</th>\n",
       "      <th>mb_used</th>\n",
       "      <th>is_ultra</th>\n",
       "    </tr>\n",
       "  </thead>\n",
       "  <tbody>\n",
       "    <tr>\n",
       "      <td>1007</td>\n",
       "      <td>73</td>\n",
       "      <td>550.58</td>\n",
       "      <td>25.0</td>\n",
       "      <td>18322.63</td>\n",
       "      <td>False</td>\n",
       "    </tr>\n",
       "    <tr>\n",
       "      <td>1774</td>\n",
       "      <td>35</td>\n",
       "      <td>232.86</td>\n",
       "      <td>80.0</td>\n",
       "      <td>19193.08</td>\n",
       "      <td>False</td>\n",
       "    </tr>\n",
       "    <tr>\n",
       "      <td>1645</td>\n",
       "      <td>97</td>\n",
       "      <td>664.39</td>\n",
       "      <td>36.0</td>\n",
       "      <td>18982.03</td>\n",
       "      <td>False</td>\n",
       "    </tr>\n",
       "  </tbody>\n",
       "</table>\n",
       "</div>"
      ],
      "text/plain": [
       "      calls  minutes  messages   mb_used  is_ultra\n",
       "1007     73   550.58      25.0  18322.63     False\n",
       "1774     35   232.86      80.0  19193.08     False\n",
       "1645     97   664.39      36.0  18982.03     False"
      ]
     },
     "execution_count": 13,
     "metadata": {},
     "output_type": "execute_result"
    }
   ],
   "source": [
    "df.sample(3)"
   ]
  },
  {
   "cell_type": "code",
   "execution_count": 11,
   "metadata": {},
   "outputs": [
    {
     "data": {
      "text/html": [
       "<div>\n",
       "<style scoped>\n",
       "    .dataframe tbody tr th:only-of-type {\n",
       "        vertical-align: middle;\n",
       "    }\n",
       "\n",
       "    .dataframe tbody tr th {\n",
       "        vertical-align: top;\n",
       "    }\n",
       "\n",
       "    .dataframe thead th {\n",
       "        text-align: right;\n",
       "    }\n",
       "</style>\n",
       "<table border=\"1\" class=\"dataframe\">\n",
       "  <thead>\n",
       "    <tr style=\"text-align: right;\">\n",
       "      <th></th>\n",
       "      <th>count</th>\n",
       "      <th>mean</th>\n",
       "      <th>std</th>\n",
       "      <th>min</th>\n",
       "      <th>25%</th>\n",
       "      <th>50%</th>\n",
       "      <th>75%</th>\n",
       "      <th>max</th>\n",
       "    </tr>\n",
       "  </thead>\n",
       "  <tbody>\n",
       "    <tr>\n",
       "      <td>calls</td>\n",
       "      <td>3214.0</td>\n",
       "      <td>63.038892</td>\n",
       "      <td>33.236368</td>\n",
       "      <td>0.0</td>\n",
       "      <td>40.0000</td>\n",
       "      <td>62.000</td>\n",
       "      <td>82.0000</td>\n",
       "      <td>244.00</td>\n",
       "    </tr>\n",
       "    <tr>\n",
       "      <td>minutes</td>\n",
       "      <td>3214.0</td>\n",
       "      <td>438.208787</td>\n",
       "      <td>234.569872</td>\n",
       "      <td>0.0</td>\n",
       "      <td>274.5750</td>\n",
       "      <td>430.600</td>\n",
       "      <td>571.9275</td>\n",
       "      <td>1632.06</td>\n",
       "    </tr>\n",
       "    <tr>\n",
       "      <td>messages</td>\n",
       "      <td>3214.0</td>\n",
       "      <td>38.281269</td>\n",
       "      <td>36.148326</td>\n",
       "      <td>0.0</td>\n",
       "      <td>9.0000</td>\n",
       "      <td>30.000</td>\n",
       "      <td>57.0000</td>\n",
       "      <td>224.00</td>\n",
       "    </tr>\n",
       "    <tr>\n",
       "      <td>mb_used</td>\n",
       "      <td>3214.0</td>\n",
       "      <td>17207.673836</td>\n",
       "      <td>7570.968246</td>\n",
       "      <td>0.0</td>\n",
       "      <td>12491.9025</td>\n",
       "      <td>16943.235</td>\n",
       "      <td>21424.7000</td>\n",
       "      <td>49745.73</td>\n",
       "    </tr>\n",
       "  </tbody>\n",
       "</table>\n",
       "</div>"
      ],
      "text/plain": [
       "           count          mean          std  min         25%        50%  \\\n",
       "calls     3214.0     63.038892    33.236368  0.0     40.0000     62.000   \n",
       "minutes   3214.0    438.208787   234.569872  0.0    274.5750    430.600   \n",
       "messages  3214.0     38.281269    36.148326  0.0      9.0000     30.000   \n",
       "mb_used   3214.0  17207.673836  7570.968246  0.0  12491.9025  16943.235   \n",
       "\n",
       "                 75%       max  \n",
       "calls        82.0000    244.00  \n",
       "minutes     571.9275   1632.06  \n",
       "messages     57.0000    224.00  \n",
       "mb_used   21424.7000  49745.73  "
      ]
     },
     "execution_count": 11,
     "metadata": {},
     "output_type": "execute_result"
    }
   ],
   "source": [
    "df.describe().T"
   ]
  },
  {
   "cell_type": "markdown",
   "metadata": {},
   "source": [
    "Датасет содержит информацию о 3213 абонентах сети Мегалайн. Каждый абонент характеризуется набором признаков:  \n",
    "- сalls — количество звонков,\n",
    "- minutes — суммарная длительность звонков в минутах,\n",
    "- messages — количество sms-сообщений,\n",
    "- mb_used — израсходованный интернет-трафик в Мб,\n",
    "- is_ultra — каким тарифом пользовался в течение месяца («Ультра» — 1, «Смарт» — 0).  \n",
    "\n",
    "Пропусков в данных нет. Провели легкую предобработку - для признака \"сalls\" заменили тип данных float на int, для \"is_ultra\" - int на bool."
   ]
  },
  {
   "cell_type": "markdown",
   "metadata": {},
   "source": [
    "## Разбейте данные на выборки"
   ]
  },
  {
   "cell_type": "code",
   "execution_count": 15,
   "metadata": {},
   "outputs": [],
   "source": [
    "features = df.drop('is_ultra', axis=1)\n",
    "target = df['is_ultra']"
   ]
  },
  {
   "cell_type": "code",
   "execution_count": 23,
   "metadata": {},
   "outputs": [],
   "source": [
    "features_train, features_valid, target_train, target_valid = \\\n",
    "train_test_split(features, target, test_size=.4, random_state=12, stratify = target)"
   ]
  },
  {
   "cell_type": "code",
   "execution_count": 25,
   "metadata": {},
   "outputs": [],
   "source": [
    "features_valid, features_test,  target_valid, target_test = \\\n",
    "train_test_split(features_valid, target_valid, test_size=.5, random_state=12, stratify = target_valid)"
   ]
  },
  {
   "cell_type": "markdown",
   "metadata": {},
   "source": [
    "Для дальнейшей разработки моделей данные были разбиты на 3 группы - обучающую (df_train), тестовую (df_test) и валидационную (df_valid) выборки. Соотношение обучающей, тестовой и валидационной выборки - 3:1:1."
   ]
  },
  {
   "cell_type": "code",
   "execution_count": 31,
   "metadata": {},
   "outputs": [
    {
     "data": {
      "text/plain": [
       "1.0"
      ]
     },
     "execution_count": 31,
     "metadata": {},
     "output_type": "execute_result"
    }
   ],
   "source": [
    "features_valid.shape[0] / features_test.shape[0]"
   ]
  },
  {
   "cell_type": "code",
   "execution_count": 32,
   "metadata": {},
   "outputs": [
    {
     "data": {
      "text/plain": [
       "2.998444790046656"
      ]
     },
     "execution_count": 32,
     "metadata": {},
     "output_type": "execute_result"
    }
   ],
   "source": [
    "features_train.shape[0] / features_test.shape[0]"
   ]
  },
  {
   "cell_type": "markdown",
   "metadata": {},
   "source": [
    "## Исследуйте модели"
   ]
  },
  {
   "cell_type": "markdown",
   "metadata": {},
   "source": [
    "На данном этапе попытаемся спрогнозировать значение катериального параметра is_ultra с помощью трех моделей: решающих деревьев, случайного леса и логистической регрессии. Начнем с деревьев."
   ]
  },
  {
   "cell_type": "code",
   "execution_count": 37,
   "metadata": {},
   "outputs": [
    {
     "name": "stdout",
     "output_type": "stream",
     "text": [
      "Accuracy лучшей модели: 0.7667185069984448\n",
      "depth лучшей модели: 3\n"
     ]
    }
   ],
   "source": [
    "best_model = None\n",
    "best_result = 0\n",
    "best_depth = 0\n",
    "for depth in range(1, 6):\n",
    "    model = DecisionTreeClassifier(random_state=12, max_depth=depth) # обучите модель с заданной глубиной дерева\n",
    "    model.fit(features_train, target_train) # обучите модель\n",
    "    predictions = model.predict(features_valid) # получите предсказания модели\n",
    "    result = accuracy_score(target_valid, predictions) # посчитайте качество модели\n",
    "    if result > best_result:\n",
    "        best_model = model\n",
    "        best_result = result\n",
    "        best_depth = depth\n",
    "best_tree_model = best_model\n",
    "print(\"Accuracy лучшей модели:\", best_result)        \n",
    "print(\"depth лучшей модели:\", best_depth)        "
   ]
  },
  {
   "cell_type": "markdown",
   "metadata": {},
   "source": [
    "Модель дерева решений с гиперпараметром depth = 3 выдает точность accuracy около 77% на валидационной выборке. Неплохо. Проверим случайный лес."
   ]
  },
  {
   "cell_type": "code",
   "execution_count": 41,
   "metadata": {},
   "outputs": [
    {
     "name": "stdout",
     "output_type": "stream",
     "text": [
      "Accuracy наилучшей модели на валидационной выборке: 0.8055987558320373\n",
      "Количество деревьев в наилучшей модели: 21\n",
      "Глубина деревьев в наилучшей модели: 11\n"
     ]
    }
   ],
   "source": [
    "best_model = None\n",
    "best_result = 0\n",
    "for est in range(1, 92, 5):\n",
    "    for depth in range(1, 30):\n",
    "        model = RandomForestClassifier(random_state=12, n_estimators=est, max_depth=depth) # обучите модель с заданным количеством деревьев\n",
    "        model.fit(features_train, target_train) # обучите модель на тренировочной выборке\n",
    "        result = model.score(features_valid, target_valid) # посчитайте качество модели на валидационной выборке\n",
    "        if result > best_result:\n",
    "            best_model = model# сохраните наилучшую модель\n",
    "            best_result = result#  сохраните наилучшее значение метрики accuracy на валидационных данных\n",
    "            best_est = est\n",
    "            best_depth = depth\n",
    "best_forest_model = best_model\n",
    "print(\"Accuracy наилучшей модели на валидационной выборке:\", best_result)\n",
    "print(\"Количество деревьев в наилучшей модели:\", best_est)\n",
    "print(\"Глубина деревьев в наилучшей модели:\", best_depth)"
   ]
  },
  {
   "cell_type": "markdown",
   "metadata": {},
   "source": [
    "Качество классификации с омощью случайного леса немного выше - около 80%. При этом в лучшем лесу 21 дерево с глубиной 11.    \n",
    "Перейдем к логистической регрессии."
   ]
  },
  {
   "cell_type": "code",
   "execution_count": 43,
   "metadata": {},
   "outputs": [
    {
     "name": "stdout",
     "output_type": "stream",
     "text": [
      "Accuracy модели логистической регрессии на валидационной выборке: 0.6998444790046656\n"
     ]
    }
   ],
   "source": [
    "model = LogisticRegression(random_state=12, solver = 'liblinear') \n",
    "model_log_regressor = model.fit(features_train, target_train) \n",
    "result = model_log_regressor.score(features_valid, target_valid) \n",
    "print(\"Accuracy модели логистической регрессии на валидационной выборке:\", result)"
   ]
  },
  {
   "cell_type": "markdown",
   "metadata": {},
   "source": [
    "Неожиданно низкая точность у логистической регрессии - всего 70% на валидационной выборке. Возможно, линейный классификатор попросту не подходит для разбиения наших данных на два класса.  \n",
    "\n",
    "Итак - в лидерах случайный лес (точность 80%), немного хуже справляется модель дерева (77%) и совсем плохо - лог. регрессия (всего 70%). "
   ]
  },
  {
   "cell_type": "markdown",
   "metadata": {},
   "source": [
    "## Проверьте модель на тестовой выборке"
   ]
  },
  {
   "cell_type": "code",
   "execution_count": 44,
   "metadata": {},
   "outputs": [
    {
     "data": {
      "text/plain": [
       "0.7807153965785381"
      ]
     },
     "execution_count": 44,
     "metadata": {},
     "output_type": "execute_result"
    }
   ],
   "source": [
    "best_tree_model.fit(features_train.append(features_valid), target_train.append(target_valid))\n",
    "predictions = best_tree_model.predict(features_test) \n",
    "result = accuracy_score(target_test, predictions) \n",
    "result"
   ]
  },
  {
   "cell_type": "code",
   "execution_count": 45,
   "metadata": {},
   "outputs": [
    {
     "data": {
      "text/plain": [
       "0.7993779160186625"
      ]
     },
     "execution_count": 45,
     "metadata": {},
     "output_type": "execute_result"
    }
   ],
   "source": [
    "best_forest_model.fit(features_train.append(features_valid), target_train.append(target_valid))\n",
    "predictions = best_forest_model.predict(features_test) \n",
    "result = accuracy_score(target_test, predictions) \n",
    "result"
   ]
  },
  {
   "cell_type": "markdown",
   "metadata": {},
   "source": [
    "Точность модели случайного леса на тестовой выборке оказалась на примерно как на валидационной и осталась чуть выше, чем для дерева."
   ]
  },
  {
   "cell_type": "code",
   "execution_count": 46,
   "metadata": {},
   "outputs": [
    {
     "data": {
      "text/plain": [
       "0.7402799377916018"
      ]
     },
     "execution_count": 46,
     "metadata": {},
     "output_type": "execute_result"
    }
   ],
   "source": [
    "model_log_regressor.fit(features_train.append(features_valid), target_train.append(target_valid))\n",
    "predictions = model_log_regressor.predict(features_test) \n",
    "result = accuracy_score(target_test, predictions) \n",
    "result"
   ]
  },
  {
   "cell_type": "markdown",
   "metadata": {},
   "source": [
    "Точность логистической регрессии на тестовой выборке оказалась чуть ниже, чем на валидационной. Тем не менее, данная модель по-прежнему самая грубая для представленных данных.  \n",
    "\n",
    "Общий вывод после проверки на тестовой выборке немного скорректировался - теперь модель дерева решений сравнялась со случайным лесом.\n",
    "\n",
    " А теперь с учетом дообучения лог. регрессия стала точнее, но все равно уступает остальным моделям. "
   ]
  },
  {
   "cell_type": "markdown",
   "metadata": {},
   "source": [
    "## (бонус) Проверьте модели на адекватность"
   ]
  },
  {
   "cell_type": "markdown",
   "metadata": {},
   "source": [
    "Попробуем построить модель, которая случайно угадывает тариф.  \n",
    "Для начала найдем долю пользователей Ультра."
   ]
  },
  {
   "cell_type": "code",
   "execution_count": 47,
   "metadata": {
    "scrolled": true
   },
   "outputs": [
    {
     "data": {
      "text/plain": [
       "0.30647168637212197"
      ]
     },
     "execution_count": 47,
     "metadata": {},
     "output_type": "execute_result"
    }
   ],
   "source": [
    "df['is_ultra'].mean()"
   ]
  },
  {
   "cell_type": "markdown",
   "metadata": {},
   "source": [
    "Доля Ультра - около 30%."
   ]
  },
  {
   "cell_type": "code",
   "execution_count": 49,
   "metadata": {},
   "outputs": [],
   "source": [
    "predictions = np.random.rand(len(features_test)) <= .3"
   ]
  },
  {
   "cell_type": "code",
   "execution_count": 50,
   "metadata": {},
   "outputs": [
    {
     "data": {
      "text/plain": [
       "0.5925349922239502"
      ]
     },
     "execution_count": 50,
     "metadata": {},
     "output_type": "execute_result"
    }
   ],
   "source": [
    "result = accuracy_score(target_test, predictions) \n",
    "result"
   ]
  },
  {
   "cell_type": "code",
   "execution_count": 55,
   "metadata": {},
   "outputs": [
    {
     "data": {
      "text/plain": [
       "0.6936236391912908"
      ]
     },
     "execution_count": 55,
     "metadata": {},
     "output_type": "execute_result"
    }
   ],
   "source": [
    "dummy_clf = DummyClassifier(strategy=\"most_frequent\")\n",
    "dummy_clf.fit(features_train.append(features_valid), target_train.append(target_valid))\n",
    "predictions = dummy_clf.predict(features_test)\n",
    "result = accuracy_score(target_test, predictions) \n",
    "result"
   ]
  },
  {
   "cell_type": "markdown",
   "metadata": {},
   "source": [
    "Получаем, если создать совершенно бестолковую модель, которая вообще не анализирует никакие параметры абонентов, а лишь знает, что 30% из них в итоге выбрали Ультра и  на этом основании случайно случайно их классифицирует, точность такой классификации будет 56%.  \n",
    "То есть 56% в данном случае можно рассматривать как некую \"красную черту\", которая задает самый нижний уровень точности. Все три модели показали более высокую точность, значит они все обладают той или иной практической ценностью в данной задаче. \n",
    "Простое присвоение наиболее вероятного класса целевому признаку дает точность около 70%, и расчеты через DummyClassifier это подтвердили. Даже логистичнская регрессия на тестовой выборке дает более точный результат.\n"
   ]
  }
 ],
 "metadata": {
  "ExecuteTimeLog": [
   {
    "duration": 312,
    "start_time": "2021-11-14T11:53:30.049Z"
   },
   {
    "duration": 272,
    "start_time": "2021-11-14T11:53:50.109Z"
   },
   {
    "duration": 777,
    "start_time": "2021-11-14T11:53:54.939Z"
   },
   {
    "duration": 22,
    "start_time": "2021-11-14T11:53:56.819Z"
   },
   {
    "duration": 21,
    "start_time": "2021-11-14T11:54:12.009Z"
   },
   {
    "duration": 10,
    "start_time": "2021-11-14T11:54:15.710Z"
   },
   {
    "duration": 15,
    "start_time": "2021-11-14T11:54:59.618Z"
   },
   {
    "duration": 8,
    "start_time": "2021-11-14T11:55:34.237Z"
   },
   {
    "duration": 5,
    "start_time": "2021-11-14T11:56:08.790Z"
   },
   {
    "duration": 7,
    "start_time": "2021-11-14T11:56:12.769Z"
   },
   {
    "duration": 4194029,
    "start_time": "2021-11-14T10:49:36.894Z"
   },
   {
    "duration": 7,
    "start_time": "2021-11-14T11:59:32.838Z"
   },
   {
    "duration": 5,
    "start_time": "2021-11-14T12:01:09.953Z"
   },
   {
    "duration": 7,
    "start_time": "2021-11-14T12:01:15.119Z"
   },
   {
    "duration": 610,
    "start_time": "2021-11-14T12:10:45.351Z"
   },
   {
    "duration": 7,
    "start_time": "2021-11-14T12:12:09.510Z"
   },
   {
    "duration": 6,
    "start_time": "2021-11-14T12:12:51.399Z"
   },
   {
    "duration": 7,
    "start_time": "2021-11-14T12:13:13.549Z"
   },
   {
    "duration": 47,
    "start_time": "2021-11-14T12:21:49.961Z"
   },
   {
    "duration": 4,
    "start_time": "2021-11-14T12:24:29.651Z"
   },
   {
    "duration": 5,
    "start_time": "2021-11-14T12:27:08.217Z"
   },
   {
    "duration": 83,
    "start_time": "2021-11-14T12:28:26.630Z"
   },
   {
    "duration": 8,
    "start_time": "2021-11-14T12:28:33.720Z"
   },
   {
    "duration": 8,
    "start_time": "2021-11-14T12:28:44.655Z"
   },
   {
    "duration": 7,
    "start_time": "2021-11-14T12:32:32.851Z"
   },
   {
    "duration": 5828,
    "start_time": "2021-11-14T12:34:28.299Z"
   },
   {
    "duration": 28218,
    "start_time": "2021-11-14T12:35:18.160Z"
   },
   {
    "duration": 5867,
    "start_time": "2021-11-14T12:36:01.293Z"
   },
   {
    "duration": 712,
    "start_time": "2021-11-14T12:36:58.391Z"
   },
   {
    "duration": 22,
    "start_time": "2021-11-14T12:36:59.105Z"
   },
   {
    "duration": 8,
    "start_time": "2021-11-14T12:36:59.130Z"
   },
   {
    "duration": 28,
    "start_time": "2021-11-14T12:36:59.141Z"
   },
   {
    "duration": 8,
    "start_time": "2021-11-14T12:36:59.172Z"
   },
   {
    "duration": 6,
    "start_time": "2021-11-14T12:36:59.182Z"
   },
   {
    "duration": 7,
    "start_time": "2021-11-14T12:36:59.190Z"
   },
   {
    "duration": 569,
    "start_time": "2021-11-14T12:36:59.199Z"
   },
   {
    "duration": 5,
    "start_time": "2021-11-14T12:36:59.771Z"
   },
   {
    "duration": 13,
    "start_time": "2021-11-14T12:36:59.778Z"
   },
   {
    "duration": 6,
    "start_time": "2021-11-14T12:36:59.793Z"
   },
   {
    "duration": 5,
    "start_time": "2021-11-14T12:36:59.802Z"
   },
   {
    "duration": 75,
    "start_time": "2021-11-14T12:36:59.809Z"
   },
   {
    "duration": 3,
    "start_time": "2021-11-14T12:37:01.968Z"
   },
   {
    "duration": 5818,
    "start_time": "2021-11-14T12:37:03.969Z"
   },
   {
    "duration": 5,
    "start_time": "2021-11-14T12:37:43.887Z"
   },
   {
    "duration": 5,
    "start_time": "2021-11-14T12:37:44.206Z"
   },
   {
    "duration": 4,
    "start_time": "2021-11-14T12:37:45.277Z"
   },
   {
    "duration": 5,
    "start_time": "2021-11-14T12:37:46.382Z"
   },
   {
    "duration": 11,
    "start_time": "2021-11-14T12:37:46.390Z"
   },
   {
    "duration": 8,
    "start_time": "2021-11-14T12:37:46.404Z"
   },
   {
    "duration": 10942,
    "start_time": "2021-11-14T12:38:17.930Z"
   },
   {
    "duration": 39461,
    "start_time": "2021-11-14T12:39:25.475Z"
   },
   {
    "duration": 16556,
    "start_time": "2021-11-14T12:41:19.941Z"
   },
   {
    "duration": 9397,
    "start_time": "2021-11-14T12:45:42.638Z"
   },
   {
    "duration": 184611,
    "start_time": "2021-11-14T12:46:04.197Z"
   },
   {
    "duration": 85840,
    "start_time": "2021-11-14T12:49:27.418Z"
   },
   {
    "duration": 407,
    "start_time": "2021-11-14T12:55:12.643Z"
   },
   {
    "duration": 4,
    "start_time": "2021-11-14T12:55:16.658Z"
   },
   {
    "duration": 318,
    "start_time": "2021-11-14T12:55:20.216Z"
   },
   {
    "duration": 261,
    "start_time": "2021-11-14T12:58:09.358Z"
   },
   {
    "duration": 4,
    "start_time": "2021-11-14T12:58:12.908Z"
   },
   {
    "duration": 3,
    "start_time": "2021-11-14T12:58:13.982Z"
   },
   {
    "duration": 297,
    "start_time": "2021-11-14T12:58:14.714Z"
   },
   {
    "duration": 4,
    "start_time": "2021-11-14T12:58:58.238Z"
   },
   {
    "duration": 40,
    "start_time": "2021-11-14T12:58:59.462Z"
   },
   {
    "duration": 4,
    "start_time": "2021-11-14T13:00:42.741Z"
   },
   {
    "duration": 4,
    "start_time": "2021-11-14T13:00:43.112Z"
   },
   {
    "duration": 87,
    "start_time": "2021-11-14T13:03:02.300Z"
   },
   {
    "duration": 82,
    "start_time": "2021-11-14T13:03:46.463Z"
   },
   {
    "duration": 100,
    "start_time": "2021-11-14T13:03:56.919Z"
   },
   {
    "duration": 84,
    "start_time": "2021-11-14T13:04:05.149Z"
   },
   {
    "duration": 100,
    "start_time": "2021-11-14T13:04:26.554Z"
   },
   {
    "duration": 37,
    "start_time": "2021-11-14T13:05:03.850Z"
   },
   {
    "duration": 48,
    "start_time": "2021-11-14T13:06:05.139Z"
   },
   {
    "duration": 3,
    "start_time": "2021-11-14T13:08:20.348Z"
   },
   {
    "duration": 45,
    "start_time": "2021-11-14T13:09:01.667Z"
   },
   {
    "duration": 28254,
    "start_time": "2021-11-14T13:09:32.219Z"
   },
   {
    "duration": 38568,
    "start_time": "2021-11-14T13:11:16.684Z"
   },
   {
    "duration": 28647,
    "start_time": "2021-11-14T13:13:43.391Z"
   },
   {
    "duration": 4,
    "start_time": "2021-11-14T13:14:20.497Z"
   },
   {
    "duration": 22,
    "start_time": "2021-11-14T13:15:50.217Z"
   },
   {
    "duration": 21,
    "start_time": "2021-11-14T13:16:39.426Z"
   },
   {
    "duration": 94,
    "start_time": "2021-11-14T13:17:52.332Z"
   },
   {
    "duration": 21,
    "start_time": "2021-11-14T13:18:02.588Z"
   },
   {
    "duration": 8,
    "start_time": "2021-11-14T13:23:22.069Z"
   },
   {
    "duration": 9,
    "start_time": "2021-11-14T13:23:30.699Z"
   },
   {
    "duration": 27,
    "start_time": "2021-11-14T13:26:29.597Z"
   },
   {
    "duration": 8,
    "start_time": "2021-11-14T13:29:39.986Z"
   },
   {
    "duration": 6,
    "start_time": "2021-11-14T13:42:50.773Z"
   },
   {
    "duration": 6,
    "start_time": "2021-11-14T13:43:36.374Z"
   },
   {
    "duration": 6,
    "start_time": "2021-11-14T13:44:31.092Z"
   },
   {
    "duration": 5,
    "start_time": "2021-11-14T13:44:46.136Z"
   },
   {
    "duration": 6,
    "start_time": "2021-11-14T13:45:52.284Z"
   },
   {
    "duration": 1168,
    "start_time": "2021-11-14T13:50:58.272Z"
   },
   {
    "duration": 4,
    "start_time": "2021-11-14T13:51:07.443Z"
   },
   {
    "duration": 6,
    "start_time": "2021-11-14T13:52:01.514Z"
   },
   {
    "duration": 5,
    "start_time": "2021-11-14T13:55:14.632Z"
   },
   {
    "duration": 14,
    "start_time": "2021-11-14T13:55:21.363Z"
   },
   {
    "duration": 4,
    "start_time": "2021-11-14T13:55:59.753Z"
   },
   {
    "duration": 7,
    "start_time": "2021-11-14T13:56:01.033Z"
   },
   {
    "duration": 246,
    "start_time": "2021-11-14T13:56:10.965Z"
   },
   {
    "duration": 9,
    "start_time": "2021-11-14T13:56:35.873Z"
   },
   {
    "duration": 5,
    "start_time": "2021-11-14T13:57:14.923Z"
   },
   {
    "duration": 7,
    "start_time": "2021-11-14T13:57:17.152Z"
   },
   {
    "duration": 6,
    "start_time": "2021-11-14T13:57:29.532Z"
   },
   {
    "duration": 7,
    "start_time": "2021-11-14T13:57:49.752Z"
   },
   {
    "duration": 903,
    "start_time": "2021-11-14T18:02:48.401Z"
   },
   {
    "duration": 24,
    "start_time": "2021-11-14T18:02:49.306Z"
   },
   {
    "duration": 16,
    "start_time": "2021-11-14T18:02:49.334Z"
   },
   {
    "duration": 25,
    "start_time": "2021-11-14T18:02:49.355Z"
   },
   {
    "duration": 47,
    "start_time": "2021-11-14T18:02:49.383Z"
   },
   {
    "duration": 6,
    "start_time": "2021-11-14T18:02:49.433Z"
   },
   {
    "duration": 18,
    "start_time": "2021-11-14T18:02:49.443Z"
   },
   {
    "duration": 657,
    "start_time": "2021-11-14T18:02:49.467Z"
   },
   {
    "duration": 8,
    "start_time": "2021-11-14T18:02:50.128Z"
   },
   {
    "duration": 33,
    "start_time": "2021-11-14T18:02:50.139Z"
   },
   {
    "duration": 27,
    "start_time": "2021-11-14T18:02:50.175Z"
   },
   {
    "duration": 23,
    "start_time": "2021-11-14T18:02:50.204Z"
   },
   {
    "duration": 76,
    "start_time": "2021-11-14T18:02:50.232Z"
   },
   {
    "duration": 49,
    "start_time": "2021-11-14T18:02:50.311Z"
   },
   {
    "duration": 16,
    "start_time": "2021-11-14T18:02:50.363Z"
   },
   {
    "duration": 32538,
    "start_time": "2021-11-14T18:02:50.382Z"
   },
   {
    "duration": 4,
    "start_time": "2021-11-14T18:03:22.928Z"
   },
   {
    "duration": 36,
    "start_time": "2021-11-14T18:03:22.935Z"
   },
   {
    "duration": 9,
    "start_time": "2021-11-14T18:03:22.973Z"
   },
   {
    "duration": 63,
    "start_time": "2021-11-14T18:03:22.985Z"
   },
   {
    "duration": 12,
    "start_time": "2021-11-14T18:03:23.052Z"
   },
   {
    "duration": 13,
    "start_time": "2021-11-14T18:03:23.067Z"
   },
   {
    "duration": 4,
    "start_time": "2021-11-14T18:03:23.085Z"
   },
   {
    "duration": 37,
    "start_time": "2021-11-14T18:03:23.091Z"
   },
   {
    "duration": 9,
    "start_time": "2021-11-14T18:03:23.131Z"
   },
   {
    "duration": 13,
    "start_time": "2021-11-14T18:04:57.244Z"
   },
   {
    "duration": 205,
    "start_time": "2021-11-15T18:09:36.337Z"
   },
   {
    "duration": 565,
    "start_time": "2021-11-15T18:09:45.887Z"
   },
   {
    "duration": 20,
    "start_time": "2021-11-15T18:09:46.454Z"
   },
   {
    "duration": 7,
    "start_time": "2021-11-15T18:09:47.137Z"
   },
   {
    "duration": 10,
    "start_time": "2021-11-15T18:09:47.807Z"
   },
   {
    "duration": 5,
    "start_time": "2021-11-15T18:09:57.057Z"
   },
   {
    "duration": 4,
    "start_time": "2021-11-15T18:10:37.218Z"
   },
   {
    "duration": 3,
    "start_time": "2021-11-15T18:10:37.858Z"
   },
   {
    "duration": 3,
    "start_time": "2021-11-15T18:10:38.657Z"
   },
   {
    "duration": 196,
    "start_time": "2021-11-15T18:10:58.399Z"
   },
   {
    "duration": 25,
    "start_time": "2021-11-15T18:11:04.337Z"
   },
   {
    "duration": 9,
    "start_time": "2021-11-15T18:12:11.017Z"
   },
   {
    "duration": 9,
    "start_time": "2021-11-15T18:12:19.898Z"
   },
   {
    "duration": 418,
    "start_time": "2021-11-15T18:12:26.377Z"
   },
   {
    "duration": 4,
    "start_time": "2021-11-15T18:12:26.917Z"
   },
   {
    "duration": 55,
    "start_time": "2021-11-15T18:12:38.864Z"
   },
   {
    "duration": 6,
    "start_time": "2021-11-15T18:12:45.147Z"
   },
   {
    "duration": 5,
    "start_time": "2021-11-15T18:13:32.169Z"
   },
   {
    "duration": 195,
    "start_time": "2021-11-15T18:14:32.700Z"
   },
   {
    "duration": 179,
    "start_time": "2021-11-15T18:16:56.941Z"
   },
   {
    "duration": 175,
    "start_time": "2021-11-15T18:18:27.913Z"
   },
   {
    "duration": 185,
    "start_time": "2021-11-15T18:19:29.484Z"
   },
   {
    "duration": 7,
    "start_time": "2021-11-15T18:20:10.153Z"
   },
   {
    "duration": 167,
    "start_time": "2021-11-15T18:20:19.626Z"
   },
   {
    "duration": 6,
    "start_time": "2021-11-15T18:20:25.577Z"
   },
   {
    "duration": 175,
    "start_time": "2021-11-15T18:21:00.263Z"
   },
   {
    "duration": 4,
    "start_time": "2021-11-15T18:21:04.678Z"
   },
   {
    "duration": 174,
    "start_time": "2021-11-15T18:21:09.215Z"
   },
   {
    "duration": 4,
    "start_time": "2021-11-15T18:21:17.124Z"
   },
   {
    "duration": 171,
    "start_time": "2021-11-15T18:22:03.253Z"
   },
   {
    "duration": 4,
    "start_time": "2021-11-15T18:22:18.224Z"
   },
   {
    "duration": 4,
    "start_time": "2021-11-15T18:22:51.033Z"
   },
   {
    "duration": 4,
    "start_time": "2021-11-15T18:23:02.503Z"
   },
   {
    "duration": 29,
    "start_time": "2021-11-15T18:23:03.234Z"
   },
   {
    "duration": 3,
    "start_time": "2021-11-15T18:24:53.235Z"
   },
   {
    "duration": 3,
    "start_time": "2021-11-15T18:24:53.637Z"
   },
   {
    "duration": 25,
    "start_time": "2021-11-15T18:24:56.367Z"
   },
   {
    "duration": 10,
    "start_time": "2021-11-15T18:25:20.009Z"
   },
   {
    "duration": 6635,
    "start_time": "2021-11-15T18:27:52.439Z"
   },
   {
    "duration": 73474,
    "start_time": "2021-11-15T18:29:55.213Z"
   },
   {
    "duration": 3,
    "start_time": "2021-11-15T18:31:52.778Z"
   },
   {
    "duration": 10,
    "start_time": "2021-11-15T18:31:57.219Z"
   },
   {
    "duration": 12,
    "start_time": "2021-11-15T18:39:03.207Z"
   },
   {
    "duration": 88,
    "start_time": "2021-11-15T18:41:03.628Z"
   },
   {
    "duration": 14,
    "start_time": "2021-11-15T18:43:00.658Z"
   },
   {
    "duration": 4,
    "start_time": "2021-11-15T18:46:21.031Z"
   },
   {
    "duration": 3,
    "start_time": "2021-11-15T18:46:22.021Z"
   },
   {
    "duration": 3,
    "start_time": "2021-11-15T18:46:24.660Z"
   },
   {
    "duration": 5,
    "start_time": "2021-11-15T18:46:25.425Z"
   },
   {
    "duration": 3,
    "start_time": "2021-11-15T18:49:33.652Z"
   },
   {
    "duration": 7,
    "start_time": "2021-11-15T18:52:21.825Z"
   },
   {
    "duration": 2,
    "start_time": "2021-11-15T18:54:12.372Z"
   },
   {
    "duration": 5,
    "start_time": "2021-11-15T18:54:48.111Z"
   },
   {
    "duration": 6,
    "start_time": "2021-11-15T18:55:25.077Z"
   },
   {
    "duration": 51,
    "start_time": "2022-08-23T18:35:44.822Z"
   },
   {
    "duration": 39,
    "start_time": "2022-08-23T18:35:49.824Z"
   },
   {
    "duration": 49,
    "start_time": "2022-08-23T18:36:28.585Z"
   },
   {
    "duration": 53,
    "start_time": "2022-08-23T18:36:36.440Z"
   },
   {
    "duration": 50,
    "start_time": "2022-08-23T18:36:48.560Z"
   },
   {
    "duration": 51,
    "start_time": "2022-08-23T18:37:01.945Z"
   }
  ],
  "kernelspec": {
   "display_name": "Python 3 (ipykernel)",
   "language": "python",
   "name": "python3"
  },
  "language_info": {
   "codemirror_mode": {
    "name": "ipython",
    "version": 3
   },
   "file_extension": ".py",
   "mimetype": "text/x-python",
   "name": "python",
   "nbconvert_exporter": "python",
   "pygments_lexer": "ipython3",
   "version": "3.9.5"
  },
  "toc": {
   "base_numbering": 1,
   "nav_menu": {},
   "number_sections": true,
   "sideBar": true,
   "skip_h1_title": true,
   "title_cell": "Table of Contents",
   "title_sidebar": "Contents",
   "toc_cell": false,
   "toc_position": {},
   "toc_section_display": true,
   "toc_window_display": false
  }
 },
 "nbformat": 4,
 "nbformat_minor": 2
}
