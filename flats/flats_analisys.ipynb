{
 "cells": [
  {
   "cell_type": "markdown",
   "metadata": {
    "toc": true
   },
   "source": [
    "<h1>Содержание<span class=\"tocSkip\"></span></h1>\n",
    "<div class=\"toc\"><ul class=\"toc-item\"><li><span><a href=\"#Изучение-данных-из-файла\" data-toc-modified-id=\"Изучение-данных-из-файла-1\"><span class=\"toc-item-num\">1&nbsp;&nbsp;</span>Изучение данных из файла</a></span><ul class=\"toc-item\"><li><span><a href=\"#Вывод\" data-toc-modified-id=\"Вывод-1.1\"><span class=\"toc-item-num\">1.1&nbsp;&nbsp;</span>Вывод</a></span></li></ul></li><li><span><a href=\"#Предобработка-данных\" data-toc-modified-id=\"Предобработка-данных-2\"><span class=\"toc-item-num\">2&nbsp;&nbsp;</span>Предобработка данных</a></span><ul class=\"toc-item\"><li><span><a href=\"#Вывод\" data-toc-modified-id=\"Вывод-2.1\"><span class=\"toc-item-num\">2.1&nbsp;&nbsp;</span>Вывод</a></span></li></ul></li><li><span><a href=\"#Расчёты-и-добавление-результатов-в-таблицу\" data-toc-modified-id=\"Расчёты-и-добавление-результатов-в-таблицу-3\"><span class=\"toc-item-num\">3&nbsp;&nbsp;</span>Расчёты и добавление результатов в таблицу</a></span><ul class=\"toc-item\"><li><span><a href=\"#Вывод\" data-toc-modified-id=\"Вывод-3.1\"><span class=\"toc-item-num\">3.1&nbsp;&nbsp;</span>Вывод</a></span></li></ul></li><li><span><a href=\"#Исследовательский-анализ-данных\" data-toc-modified-id=\"Исследовательский-анализ-данных-4\"><span class=\"toc-item-num\">4&nbsp;&nbsp;</span>Исследовательский анализ данных</a></span><ul class=\"toc-item\"><li><span><a href=\"#Основные-метрики\" data-toc-modified-id=\"Основные-метрики-4.1\"><span class=\"toc-item-num\">4.1&nbsp;&nbsp;</span>Основные метрики</a></span></li><li><span><a href=\"#Длительность-экспонирования\" data-toc-modified-id=\"Длительность-экспонирования-4.2\"><span class=\"toc-item-num\">4.2&nbsp;&nbsp;</span>Длительность экспонирования</a></span></li><li><span><a href=\"#Факторы-стоимости\" data-toc-modified-id=\"Факторы-стоимости-4.3\"><span class=\"toc-item-num\">4.3&nbsp;&nbsp;</span>Факторы стоимости</a></span></li><li><span><a href=\"#Топ-10-по-предложению\" data-toc-modified-id=\"Топ-10-по-предложению-4.4\"><span class=\"toc-item-num\">4.4&nbsp;&nbsp;</span>Топ-10 по предложению</a></span></li><li><span><a href=\"#Анализ-недвижимости-в-центре\" data-toc-modified-id=\"Анализ-недвижимости-в-центре-4.5\"><span class=\"toc-item-num\">4.5&nbsp;&nbsp;</span>Анализ недвижимости в центре</a></span></li></ul></li><li><span><a href=\"#Общий-вывод\" data-toc-modified-id=\"Общий-вывод-5\"><span class=\"toc-item-num\">5&nbsp;&nbsp;</span>Общий вывод</a></span></li></ul></div>"
   ]
  },
  {
   "cell_type": "markdown",
   "metadata": {},
   "source": [
    "# Исследование объявлений о продаже квартир\n",
    "\n",
    "В нашем распоряжении данные сервиса Яндекс.Недвижимость — архив объявлений о продаже квартир в Санкт-Петербурге и соседних населённых пунктах за несколько лет. Нужно научиться определять рыночную стоимость объектов недвижимости. Наша задача — установить параметры. Это позволит построить автоматизированную систему: она отследит аномалии и мошенническую деятельность. \n",
    "\n",
    "По каждой квартире на продажу доступны два вида данных. Первые вписаны пользователем, вторые получены автоматически на основе картографических данных. Например, расстояние до центра, аэропорта, ближайшего парка и водоёма. "
   ]
  },
  {
   "cell_type": "markdown",
   "metadata": {},
   "source": [
    "## Изучение данных из файла"
   ]
  },
  {
   "cell_type": "code",
   "execution_count": 1,
   "metadata": {},
   "outputs": [],
   "source": [
    "import pandas as pd\n",
    "import matplotlib.pyplot as plt\n",
    "import seaborn as sns"
   ]
  },
  {
   "cell_type": "code",
   "execution_count": 2,
   "metadata": {},
   "outputs": [
    {
     "data": {
      "text/html": [
       "<div>\n",
       "<style scoped>\n",
       "    .dataframe tbody tr th:only-of-type {\n",
       "        vertical-align: middle;\n",
       "    }\n",
       "\n",
       "    .dataframe tbody tr th {\n",
       "        vertical-align: top;\n",
       "    }\n",
       "\n",
       "    .dataframe thead th {\n",
       "        text-align: right;\n",
       "    }\n",
       "</style>\n",
       "<table border=\"1\" class=\"dataframe\">\n",
       "  <thead>\n",
       "    <tr style=\"text-align: right;\">\n",
       "      <th></th>\n",
       "      <th>total_images</th>\n",
       "      <th>last_price</th>\n",
       "      <th>total_area</th>\n",
       "      <th>first_day_exposition</th>\n",
       "      <th>rooms</th>\n",
       "      <th>ceiling_height</th>\n",
       "      <th>floors_total</th>\n",
       "      <th>living_area</th>\n",
       "      <th>floor</th>\n",
       "      <th>is_apartment</th>\n",
       "      <th>...</th>\n",
       "      <th>kitchen_area</th>\n",
       "      <th>balcony</th>\n",
       "      <th>locality_name</th>\n",
       "      <th>airports_nearest</th>\n",
       "      <th>cityCenters_nearest</th>\n",
       "      <th>parks_around3000</th>\n",
       "      <th>parks_nearest</th>\n",
       "      <th>ponds_around3000</th>\n",
       "      <th>ponds_nearest</th>\n",
       "      <th>days_exposition</th>\n",
       "    </tr>\n",
       "  </thead>\n",
       "  <tbody>\n",
       "    <tr>\n",
       "      <td>0</td>\n",
       "      <td>20</td>\n",
       "      <td>13000000.0</td>\n",
       "      <td>108.0</td>\n",
       "      <td>2019-03-07T00:00:00</td>\n",
       "      <td>3</td>\n",
       "      <td>2.70</td>\n",
       "      <td>16.0</td>\n",
       "      <td>51.0</td>\n",
       "      <td>8</td>\n",
       "      <td>NaN</td>\n",
       "      <td>...</td>\n",
       "      <td>25.0</td>\n",
       "      <td>NaN</td>\n",
       "      <td>Санкт-Петербург</td>\n",
       "      <td>18863.0</td>\n",
       "      <td>16028.0</td>\n",
       "      <td>1.0</td>\n",
       "      <td>482.0</td>\n",
       "      <td>2.0</td>\n",
       "      <td>755.0</td>\n",
       "      <td>NaN</td>\n",
       "    </tr>\n",
       "    <tr>\n",
       "      <td>1</td>\n",
       "      <td>7</td>\n",
       "      <td>3350000.0</td>\n",
       "      <td>40.4</td>\n",
       "      <td>2018-12-04T00:00:00</td>\n",
       "      <td>1</td>\n",
       "      <td>NaN</td>\n",
       "      <td>11.0</td>\n",
       "      <td>18.6</td>\n",
       "      <td>1</td>\n",
       "      <td>NaN</td>\n",
       "      <td>...</td>\n",
       "      <td>11.0</td>\n",
       "      <td>2.0</td>\n",
       "      <td>посёлок Шушары</td>\n",
       "      <td>12817.0</td>\n",
       "      <td>18603.0</td>\n",
       "      <td>0.0</td>\n",
       "      <td>NaN</td>\n",
       "      <td>0.0</td>\n",
       "      <td>NaN</td>\n",
       "      <td>81.0</td>\n",
       "    </tr>\n",
       "    <tr>\n",
       "      <td>2</td>\n",
       "      <td>10</td>\n",
       "      <td>5196000.0</td>\n",
       "      <td>56.0</td>\n",
       "      <td>2015-08-20T00:00:00</td>\n",
       "      <td>2</td>\n",
       "      <td>NaN</td>\n",
       "      <td>5.0</td>\n",
       "      <td>34.3</td>\n",
       "      <td>4</td>\n",
       "      <td>NaN</td>\n",
       "      <td>...</td>\n",
       "      <td>8.3</td>\n",
       "      <td>0.0</td>\n",
       "      <td>Санкт-Петербург</td>\n",
       "      <td>21741.0</td>\n",
       "      <td>13933.0</td>\n",
       "      <td>1.0</td>\n",
       "      <td>90.0</td>\n",
       "      <td>2.0</td>\n",
       "      <td>574.0</td>\n",
       "      <td>558.0</td>\n",
       "    </tr>\n",
       "    <tr>\n",
       "      <td>3</td>\n",
       "      <td>0</td>\n",
       "      <td>64900000.0</td>\n",
       "      <td>159.0</td>\n",
       "      <td>2015-07-24T00:00:00</td>\n",
       "      <td>3</td>\n",
       "      <td>NaN</td>\n",
       "      <td>14.0</td>\n",
       "      <td>NaN</td>\n",
       "      <td>9</td>\n",
       "      <td>NaN</td>\n",
       "      <td>...</td>\n",
       "      <td>NaN</td>\n",
       "      <td>0.0</td>\n",
       "      <td>Санкт-Петербург</td>\n",
       "      <td>28098.0</td>\n",
       "      <td>6800.0</td>\n",
       "      <td>2.0</td>\n",
       "      <td>84.0</td>\n",
       "      <td>3.0</td>\n",
       "      <td>234.0</td>\n",
       "      <td>424.0</td>\n",
       "    </tr>\n",
       "    <tr>\n",
       "      <td>4</td>\n",
       "      <td>2</td>\n",
       "      <td>10000000.0</td>\n",
       "      <td>100.0</td>\n",
       "      <td>2018-06-19T00:00:00</td>\n",
       "      <td>2</td>\n",
       "      <td>3.03</td>\n",
       "      <td>14.0</td>\n",
       "      <td>32.0</td>\n",
       "      <td>13</td>\n",
       "      <td>NaN</td>\n",
       "      <td>...</td>\n",
       "      <td>41.0</td>\n",
       "      <td>NaN</td>\n",
       "      <td>Санкт-Петербург</td>\n",
       "      <td>31856.0</td>\n",
       "      <td>8098.0</td>\n",
       "      <td>2.0</td>\n",
       "      <td>112.0</td>\n",
       "      <td>1.0</td>\n",
       "      <td>48.0</td>\n",
       "      <td>121.0</td>\n",
       "    </tr>\n",
       "  </tbody>\n",
       "</table>\n",
       "<p>5 rows × 22 columns</p>\n",
       "</div>"
      ],
      "text/plain": [
       "   total_images  last_price  total_area first_day_exposition  rooms  \\\n",
       "0            20  13000000.0       108.0  2019-03-07T00:00:00      3   \n",
       "1             7   3350000.0        40.4  2018-12-04T00:00:00      1   \n",
       "2            10   5196000.0        56.0  2015-08-20T00:00:00      2   \n",
       "3             0  64900000.0       159.0  2015-07-24T00:00:00      3   \n",
       "4             2  10000000.0       100.0  2018-06-19T00:00:00      2   \n",
       "\n",
       "   ceiling_height  floors_total  living_area  floor is_apartment  ...  \\\n",
       "0            2.70          16.0         51.0      8          NaN  ...   \n",
       "1             NaN          11.0         18.6      1          NaN  ...   \n",
       "2             NaN           5.0         34.3      4          NaN  ...   \n",
       "3             NaN          14.0          NaN      9          NaN  ...   \n",
       "4            3.03          14.0         32.0     13          NaN  ...   \n",
       "\n",
       "   kitchen_area  balcony    locality_name  airports_nearest  \\\n",
       "0          25.0      NaN  Санкт-Петербург           18863.0   \n",
       "1          11.0      2.0   посёлок Шушары           12817.0   \n",
       "2           8.3      0.0  Санкт-Петербург           21741.0   \n",
       "3           NaN      0.0  Санкт-Петербург           28098.0   \n",
       "4          41.0      NaN  Санкт-Петербург           31856.0   \n",
       "\n",
       "  cityCenters_nearest  parks_around3000  parks_nearest  ponds_around3000  \\\n",
       "0             16028.0               1.0          482.0               2.0   \n",
       "1             18603.0               0.0            NaN               0.0   \n",
       "2             13933.0               1.0           90.0               2.0   \n",
       "3              6800.0               2.0           84.0               3.0   \n",
       "4              8098.0               2.0          112.0               1.0   \n",
       "\n",
       "   ponds_nearest  days_exposition  \n",
       "0          755.0              NaN  \n",
       "1            NaN             81.0  \n",
       "2          574.0            558.0  \n",
       "3          234.0            424.0  \n",
       "4           48.0            121.0  \n",
       "\n",
       "[5 rows x 22 columns]"
      ]
     },
     "execution_count": 2,
     "metadata": {},
     "output_type": "execute_result"
    }
   ],
   "source": [
    "data = pd.read_csv('/datasets/real_estate_data.csv',sep='\\t')\n",
    "data.head()"
   ]
  },
  {
   "cell_type": "code",
   "execution_count": 3,
   "metadata": {},
   "outputs": [
    {
     "data": {
      "text/html": [
       "<div>\n",
       "<style scoped>\n",
       "    .dataframe tbody tr th:only-of-type {\n",
       "        vertical-align: middle;\n",
       "    }\n",
       "\n",
       "    .dataframe tbody tr th {\n",
       "        vertical-align: top;\n",
       "    }\n",
       "\n",
       "    .dataframe thead th {\n",
       "        text-align: right;\n",
       "    }\n",
       "</style>\n",
       "<table border=\"1\" class=\"dataframe\">\n",
       "  <thead>\n",
       "    <tr style=\"text-align: right;\">\n",
       "      <th></th>\n",
       "      <th>total_images</th>\n",
       "      <th>last_price</th>\n",
       "      <th>total_area</th>\n",
       "      <th>first_day_exposition</th>\n",
       "      <th>rooms</th>\n",
       "      <th>ceiling_height</th>\n",
       "      <th>floors_total</th>\n",
       "      <th>living_area</th>\n",
       "      <th>floor</th>\n",
       "      <th>is_apartment</th>\n",
       "      <th>...</th>\n",
       "      <th>kitchen_area</th>\n",
       "      <th>balcony</th>\n",
       "      <th>locality_name</th>\n",
       "      <th>airports_nearest</th>\n",
       "      <th>cityCenters_nearest</th>\n",
       "      <th>parks_around3000</th>\n",
       "      <th>parks_nearest</th>\n",
       "      <th>ponds_around3000</th>\n",
       "      <th>ponds_nearest</th>\n",
       "      <th>days_exposition</th>\n",
       "    </tr>\n",
       "  </thead>\n",
       "  <tbody>\n",
       "    <tr>\n",
       "      <td>12953</td>\n",
       "      <td>12</td>\n",
       "      <td>10000000.0</td>\n",
       "      <td>80.0</td>\n",
       "      <td>2018-02-01T00:00:00</td>\n",
       "      <td>3</td>\n",
       "      <td>3.0</td>\n",
       "      <td>6.0</td>\n",
       "      <td>54.0</td>\n",
       "      <td>3</td>\n",
       "      <td>NaN</td>\n",
       "      <td>...</td>\n",
       "      <td>7.0</td>\n",
       "      <td>1.0</td>\n",
       "      <td>Санкт-Петербург</td>\n",
       "      <td>26812.0</td>\n",
       "      <td>5510.0</td>\n",
       "      <td>3.0</td>\n",
       "      <td>502.0</td>\n",
       "      <td>0.0</td>\n",
       "      <td>NaN</td>\n",
       "      <td>NaN</td>\n",
       "    </tr>\n",
       "    <tr>\n",
       "      <td>3984</td>\n",
       "      <td>18</td>\n",
       "      <td>3850000.0</td>\n",
       "      <td>35.5</td>\n",
       "      <td>2017-06-21T00:00:00</td>\n",
       "      <td>1</td>\n",
       "      <td>NaN</td>\n",
       "      <td>22.0</td>\n",
       "      <td>17.6</td>\n",
       "      <td>1</td>\n",
       "      <td>NaN</td>\n",
       "      <td>...</td>\n",
       "      <td>9.0</td>\n",
       "      <td>2.0</td>\n",
       "      <td>Санкт-Петербург</td>\n",
       "      <td>26078.0</td>\n",
       "      <td>10251.0</td>\n",
       "      <td>1.0</td>\n",
       "      <td>387.0</td>\n",
       "      <td>0.0</td>\n",
       "      <td>NaN</td>\n",
       "      <td>152.0</td>\n",
       "    </tr>\n",
       "    <tr>\n",
       "      <td>17416</td>\n",
       "      <td>3</td>\n",
       "      <td>9860000.0</td>\n",
       "      <td>89.3</td>\n",
       "      <td>2016-07-08T00:00:00</td>\n",
       "      <td>3</td>\n",
       "      <td>NaN</td>\n",
       "      <td>11.0</td>\n",
       "      <td>49.7</td>\n",
       "      <td>9</td>\n",
       "      <td>NaN</td>\n",
       "      <td>...</td>\n",
       "      <td>12.4</td>\n",
       "      <td>NaN</td>\n",
       "      <td>Санкт-Петербург</td>\n",
       "      <td>30894.0</td>\n",
       "      <td>4087.0</td>\n",
       "      <td>1.0</td>\n",
       "      <td>696.0</td>\n",
       "      <td>1.0</td>\n",
       "      <td>223.0</td>\n",
       "      <td>858.0</td>\n",
       "    </tr>\n",
       "  </tbody>\n",
       "</table>\n",
       "<p>3 rows × 22 columns</p>\n",
       "</div>"
      ],
      "text/plain": [
       "       total_images  last_price  total_area first_day_exposition  rooms  \\\n",
       "12953            12  10000000.0        80.0  2018-02-01T00:00:00      3   \n",
       "3984             18   3850000.0        35.5  2017-06-21T00:00:00      1   \n",
       "17416             3   9860000.0        89.3  2016-07-08T00:00:00      3   \n",
       "\n",
       "       ceiling_height  floors_total  living_area  floor is_apartment  ...  \\\n",
       "12953             3.0           6.0         54.0      3          NaN  ...   \n",
       "3984              NaN          22.0         17.6      1          NaN  ...   \n",
       "17416             NaN          11.0         49.7      9          NaN  ...   \n",
       "\n",
       "       kitchen_area  balcony    locality_name  airports_nearest  \\\n",
       "12953           7.0      1.0  Санкт-Петербург           26812.0   \n",
       "3984            9.0      2.0  Санкт-Петербург           26078.0   \n",
       "17416          12.4      NaN  Санкт-Петербург           30894.0   \n",
       "\n",
       "      cityCenters_nearest  parks_around3000  parks_nearest  ponds_around3000  \\\n",
       "12953              5510.0               3.0          502.0               0.0   \n",
       "3984              10251.0               1.0          387.0               0.0   \n",
       "17416              4087.0               1.0          696.0               1.0   \n",
       "\n",
       "       ponds_nearest  days_exposition  \n",
       "12953            NaN              NaN  \n",
       "3984             NaN            152.0  \n",
       "17416          223.0            858.0  \n",
       "\n",
       "[3 rows x 22 columns]"
      ]
     },
     "execution_count": 3,
     "metadata": {},
     "output_type": "execute_result"
    }
   ],
   "source": [
    "data.sample(n=3, random_state = 43)"
   ]
  },
  {
   "cell_type": "code",
   "execution_count": 4,
   "metadata": {},
   "outputs": [
    {
     "data": {
      "text/html": [
       "<div>\n",
       "<style scoped>\n",
       "    .dataframe tbody tr th:only-of-type {\n",
       "        vertical-align: middle;\n",
       "    }\n",
       "\n",
       "    .dataframe tbody tr th {\n",
       "        vertical-align: top;\n",
       "    }\n",
       "\n",
       "    .dataframe thead th {\n",
       "        text-align: right;\n",
       "    }\n",
       "</style>\n",
       "<table border=\"1\" class=\"dataframe\">\n",
       "  <thead>\n",
       "    <tr style=\"text-align: right;\">\n",
       "      <th></th>\n",
       "      <th>count</th>\n",
       "      <th>mean</th>\n",
       "      <th>std</th>\n",
       "      <th>min</th>\n",
       "      <th>25%</th>\n",
       "      <th>50%</th>\n",
       "      <th>75%</th>\n",
       "      <th>max</th>\n",
       "    </tr>\n",
       "  </thead>\n",
       "  <tbody>\n",
       "    <tr>\n",
       "      <td>total_images</td>\n",
       "      <td>23699.0</td>\n",
       "      <td>9.858475e+00</td>\n",
       "      <td>5.682529e+00</td>\n",
       "      <td>0.0</td>\n",
       "      <td>6.00</td>\n",
       "      <td>9.00</td>\n",
       "      <td>14.0</td>\n",
       "      <td>50.0</td>\n",
       "    </tr>\n",
       "    <tr>\n",
       "      <td>last_price</td>\n",
       "      <td>23699.0</td>\n",
       "      <td>6.541549e+06</td>\n",
       "      <td>1.088701e+07</td>\n",
       "      <td>12190.0</td>\n",
       "      <td>3400000.00</td>\n",
       "      <td>4650000.00</td>\n",
       "      <td>6800000.0</td>\n",
       "      <td>763000000.0</td>\n",
       "    </tr>\n",
       "    <tr>\n",
       "      <td>total_area</td>\n",
       "      <td>23699.0</td>\n",
       "      <td>6.034865e+01</td>\n",
       "      <td>3.565408e+01</td>\n",
       "      <td>12.0</td>\n",
       "      <td>40.00</td>\n",
       "      <td>52.00</td>\n",
       "      <td>69.9</td>\n",
       "      <td>900.0</td>\n",
       "    </tr>\n",
       "    <tr>\n",
       "      <td>rooms</td>\n",
       "      <td>23699.0</td>\n",
       "      <td>2.070636e+00</td>\n",
       "      <td>1.078405e+00</td>\n",
       "      <td>0.0</td>\n",
       "      <td>1.00</td>\n",
       "      <td>2.00</td>\n",
       "      <td>3.0</td>\n",
       "      <td>19.0</td>\n",
       "    </tr>\n",
       "    <tr>\n",
       "      <td>ceiling_height</td>\n",
       "      <td>14504.0</td>\n",
       "      <td>2.771499e+00</td>\n",
       "      <td>1.261056e+00</td>\n",
       "      <td>1.0</td>\n",
       "      <td>2.52</td>\n",
       "      <td>2.65</td>\n",
       "      <td>2.8</td>\n",
       "      <td>100.0</td>\n",
       "    </tr>\n",
       "    <tr>\n",
       "      <td>floors_total</td>\n",
       "      <td>23613.0</td>\n",
       "      <td>1.067382e+01</td>\n",
       "      <td>6.597173e+00</td>\n",
       "      <td>1.0</td>\n",
       "      <td>5.00</td>\n",
       "      <td>9.00</td>\n",
       "      <td>16.0</td>\n",
       "      <td>60.0</td>\n",
       "    </tr>\n",
       "    <tr>\n",
       "      <td>living_area</td>\n",
       "      <td>21796.0</td>\n",
       "      <td>3.445785e+01</td>\n",
       "      <td>2.203045e+01</td>\n",
       "      <td>2.0</td>\n",
       "      <td>18.60</td>\n",
       "      <td>30.00</td>\n",
       "      <td>42.3</td>\n",
       "      <td>409.7</td>\n",
       "    </tr>\n",
       "    <tr>\n",
       "      <td>floor</td>\n",
       "      <td>23699.0</td>\n",
       "      <td>5.892358e+00</td>\n",
       "      <td>4.885249e+00</td>\n",
       "      <td>1.0</td>\n",
       "      <td>2.00</td>\n",
       "      <td>4.00</td>\n",
       "      <td>8.0</td>\n",
       "      <td>33.0</td>\n",
       "    </tr>\n",
       "    <tr>\n",
       "      <td>kitchen_area</td>\n",
       "      <td>21421.0</td>\n",
       "      <td>1.056981e+01</td>\n",
       "      <td>5.905438e+00</td>\n",
       "      <td>1.3</td>\n",
       "      <td>7.00</td>\n",
       "      <td>9.10</td>\n",
       "      <td>12.0</td>\n",
       "      <td>112.0</td>\n",
       "    </tr>\n",
       "    <tr>\n",
       "      <td>balcony</td>\n",
       "      <td>12180.0</td>\n",
       "      <td>1.150082e+00</td>\n",
       "      <td>1.071300e+00</td>\n",
       "      <td>0.0</td>\n",
       "      <td>0.00</td>\n",
       "      <td>1.00</td>\n",
       "      <td>2.0</td>\n",
       "      <td>5.0</td>\n",
       "    </tr>\n",
       "    <tr>\n",
       "      <td>airports_nearest</td>\n",
       "      <td>18157.0</td>\n",
       "      <td>2.879367e+04</td>\n",
       "      <td>1.263088e+04</td>\n",
       "      <td>0.0</td>\n",
       "      <td>18585.00</td>\n",
       "      <td>26726.00</td>\n",
       "      <td>37273.0</td>\n",
       "      <td>84869.0</td>\n",
       "    </tr>\n",
       "    <tr>\n",
       "      <td>cityCenters_nearest</td>\n",
       "      <td>18180.0</td>\n",
       "      <td>1.419128e+04</td>\n",
       "      <td>8.608386e+03</td>\n",
       "      <td>181.0</td>\n",
       "      <td>9238.00</td>\n",
       "      <td>13098.50</td>\n",
       "      <td>16293.0</td>\n",
       "      <td>65968.0</td>\n",
       "    </tr>\n",
       "    <tr>\n",
       "      <td>parks_around3000</td>\n",
       "      <td>18181.0</td>\n",
       "      <td>6.114075e-01</td>\n",
       "      <td>8.020736e-01</td>\n",
       "      <td>0.0</td>\n",
       "      <td>0.00</td>\n",
       "      <td>0.00</td>\n",
       "      <td>1.0</td>\n",
       "      <td>3.0</td>\n",
       "    </tr>\n",
       "    <tr>\n",
       "      <td>parks_nearest</td>\n",
       "      <td>8079.0</td>\n",
       "      <td>4.908046e+02</td>\n",
       "      <td>3.423180e+02</td>\n",
       "      <td>1.0</td>\n",
       "      <td>288.00</td>\n",
       "      <td>455.00</td>\n",
       "      <td>612.0</td>\n",
       "      <td>3190.0</td>\n",
       "    </tr>\n",
       "    <tr>\n",
       "      <td>ponds_around3000</td>\n",
       "      <td>18181.0</td>\n",
       "      <td>7.702547e-01</td>\n",
       "      <td>9.383456e-01</td>\n",
       "      <td>0.0</td>\n",
       "      <td>0.00</td>\n",
       "      <td>1.00</td>\n",
       "      <td>1.0</td>\n",
       "      <td>3.0</td>\n",
       "    </tr>\n",
       "    <tr>\n",
       "      <td>ponds_nearest</td>\n",
       "      <td>9110.0</td>\n",
       "      <td>5.179809e+02</td>\n",
       "      <td>2.777206e+02</td>\n",
       "      <td>13.0</td>\n",
       "      <td>294.00</td>\n",
       "      <td>502.00</td>\n",
       "      <td>729.0</td>\n",
       "      <td>1344.0</td>\n",
       "    </tr>\n",
       "    <tr>\n",
       "      <td>days_exposition</td>\n",
       "      <td>20518.0</td>\n",
       "      <td>1.808886e+02</td>\n",
       "      <td>2.197280e+02</td>\n",
       "      <td>1.0</td>\n",
       "      <td>45.00</td>\n",
       "      <td>95.00</td>\n",
       "      <td>232.0</td>\n",
       "      <td>1580.0</td>\n",
       "    </tr>\n",
       "  </tbody>\n",
       "</table>\n",
       "</div>"
      ],
      "text/plain": [
       "                       count          mean           std      min         25%  \\\n",
       "total_images         23699.0  9.858475e+00  5.682529e+00      0.0        6.00   \n",
       "last_price           23699.0  6.541549e+06  1.088701e+07  12190.0  3400000.00   \n",
       "total_area           23699.0  6.034865e+01  3.565408e+01     12.0       40.00   \n",
       "rooms                23699.0  2.070636e+00  1.078405e+00      0.0        1.00   \n",
       "ceiling_height       14504.0  2.771499e+00  1.261056e+00      1.0        2.52   \n",
       "floors_total         23613.0  1.067382e+01  6.597173e+00      1.0        5.00   \n",
       "living_area          21796.0  3.445785e+01  2.203045e+01      2.0       18.60   \n",
       "floor                23699.0  5.892358e+00  4.885249e+00      1.0        2.00   \n",
       "kitchen_area         21421.0  1.056981e+01  5.905438e+00      1.3        7.00   \n",
       "balcony              12180.0  1.150082e+00  1.071300e+00      0.0        0.00   \n",
       "airports_nearest     18157.0  2.879367e+04  1.263088e+04      0.0    18585.00   \n",
       "cityCenters_nearest  18180.0  1.419128e+04  8.608386e+03    181.0     9238.00   \n",
       "parks_around3000     18181.0  6.114075e-01  8.020736e-01      0.0        0.00   \n",
       "parks_nearest         8079.0  4.908046e+02  3.423180e+02      1.0      288.00   \n",
       "ponds_around3000     18181.0  7.702547e-01  9.383456e-01      0.0        0.00   \n",
       "ponds_nearest         9110.0  5.179809e+02  2.777206e+02     13.0      294.00   \n",
       "days_exposition      20518.0  1.808886e+02  2.197280e+02      1.0       45.00   \n",
       "\n",
       "                            50%        75%          max  \n",
       "total_images               9.00       14.0         50.0  \n",
       "last_price           4650000.00  6800000.0  763000000.0  \n",
       "total_area                52.00       69.9        900.0  \n",
       "rooms                      2.00        3.0         19.0  \n",
       "ceiling_height             2.65        2.8        100.0  \n",
       "floors_total               9.00       16.0         60.0  \n",
       "living_area               30.00       42.3        409.7  \n",
       "floor                      4.00        8.0         33.0  \n",
       "kitchen_area               9.10       12.0        112.0  \n",
       "balcony                    1.00        2.0          5.0  \n",
       "airports_nearest       26726.00    37273.0      84869.0  \n",
       "cityCenters_nearest    13098.50    16293.0      65968.0  \n",
       "parks_around3000           0.00        1.0          3.0  \n",
       "parks_nearest            455.00      612.0       3190.0  \n",
       "ponds_around3000           1.00        1.0          3.0  \n",
       "ponds_nearest            502.00      729.0       1344.0  \n",
       "days_exposition           95.00      232.0       1580.0  "
      ]
     },
     "execution_count": 4,
     "metadata": {},
     "output_type": "execute_result"
    }
   ],
   "source": [
    "data.describe().T"
   ]
  },
  {
   "cell_type": "code",
   "execution_count": 5,
   "metadata": {},
   "outputs": [
    {
     "name": "stdout",
     "output_type": "stream",
     "text": [
      "<class 'pandas.core.frame.DataFrame'>\n",
      "RangeIndex: 23699 entries, 0 to 23698\n",
      "Data columns (total 22 columns):\n",
      "total_images            23699 non-null int64\n",
      "last_price              23699 non-null float64\n",
      "total_area              23699 non-null float64\n",
      "first_day_exposition    23699 non-null object\n",
      "rooms                   23699 non-null int64\n",
      "ceiling_height          14504 non-null float64\n",
      "floors_total            23613 non-null float64\n",
      "living_area             21796 non-null float64\n",
      "floor                   23699 non-null int64\n",
      "is_apartment            2775 non-null object\n",
      "studio                  23699 non-null bool\n",
      "open_plan               23699 non-null bool\n",
      "kitchen_area            21421 non-null float64\n",
      "balcony                 12180 non-null float64\n",
      "locality_name           23650 non-null object\n",
      "airports_nearest        18157 non-null float64\n",
      "cityCenters_nearest     18180 non-null float64\n",
      "parks_around3000        18181 non-null float64\n",
      "parks_nearest           8079 non-null float64\n",
      "ponds_around3000        18181 non-null float64\n",
      "ponds_nearest           9110 non-null float64\n",
      "days_exposition         20518 non-null float64\n",
      "dtypes: bool(2), float64(14), int64(3), object(3)\n",
      "memory usage: 3.7+ MB\n"
     ]
    }
   ],
   "source": [
    "data.info()"
   ]
  },
  {
   "cell_type": "markdown",
   "metadata": {},
   "source": [
    "### Вывод"
   ]
  },
  {
   "cell_type": "markdown",
   "metadata": {},
   "source": [
    "Таблица содержит информацию о 23699 объектах недвижимости по 22 метрикам. Имеются пропуски значений, необходима предобработка."
   ]
  },
  {
   "cell_type": "markdown",
   "metadata": {},
   "source": [
    "## Предобработка данных"
   ]
  },
  {
   "cell_type": "code",
   "execution_count": 6,
   "metadata": {},
   "outputs": [
    {
     "data": {
      "text/plain": [
       "total_images                0\n",
       "last_price                  0\n",
       "total_area                  0\n",
       "first_day_exposition        0\n",
       "rooms                       0\n",
       "ceiling_height           9195\n",
       "floors_total               86\n",
       "living_area              1903\n",
       "floor                       0\n",
       "is_apartment            20924\n",
       "studio                      0\n",
       "open_plan                   0\n",
       "kitchen_area             2278\n",
       "balcony                 11519\n",
       "locality_name              49\n",
       "airports_nearest         5542\n",
       "cityCenters_nearest      5519\n",
       "parks_around3000         5518\n",
       "parks_nearest           15620\n",
       "ponds_around3000         5518\n",
       "ponds_nearest           14589\n",
       "days_exposition          3181\n",
       "dtype: int64"
      ]
     },
     "execution_count": 6,
     "metadata": {},
     "output_type": "execute_result"
    }
   ],
   "source": [
    "data.duplicated().sum()\n",
    "data.isna().sum()"
   ]
  },
  {
   "cell_type": "markdown",
   "metadata": {},
   "source": [
    "Дубликатов в данных нет, пройдемся по столбцам с пропущенным значениям:\n",
    "1. высота потолков (ceiling_height) - пропусков очень много, почти 40%, однако это не самая важная характеристика недвижимости, оставляем как есть;\n",
    "2. количество этажей в доме (floors_total) - пропусков мало, но обосновать правило их заполнения проблематично, оставляем так;\n",
    "3. жилая площадь (living_area) - самая важная характеристика для жилой недвижимости, пропусков немного, примерно 8%, удаляем;\n",
    "4. площадь кухни (kitchen_area) - тоже важная характеристика, но пропуски могут содержаться в объявлениях студий и совместно с пропусками жилой площади, надо разбираться;\n",
    "5. балкон (balcony) - пропуски в большинстве случаев должны означать отсутствие, смело заменим на ноль;\n",
    "6. расположение (locality_name) - очень важная характеристика. Пропусков  мало, удаляем.\n",
    "\n",
    "Параметр is_apartment приведем к булеву типу, заменив пропуски на False (предложение апартаментов гораздо меньше, чем обычной жилой недвижимости и, скорее всего, NaN соответствует последнему типу жилья). Время переведем в формат времени. Остальные пропуски пока не трогаем. "
   ]
  },
  {
   "cell_type": "code",
   "execution_count": 7,
   "metadata": {},
   "outputs": [],
   "source": [
    "data = data.dropna(subset=['living_area'])\n",
    "data.loc[(data['kitchen_area'].isna()) & (data['studio'] == True), 'kitchen_area'] = 0\n",
    "data['kitchen_area'].isna().sum()\n",
    "data = data.dropna(subset=['kitchen_area'])"
   ]
  },
  {
   "cell_type": "markdown",
   "metadata": {},
   "source": [
    "После поиска пропусков параметра \"kitchen_area\" в объявлениях студий осталось 670 объявлений. К сожалению, их тоже пришлось удалить. Площадь кухни - слишком важный параметр. \n",
    "Возможно в данных были объявления комнат. Питер - самый красивый город, но при этом его центр - это царство \"коммуналок\"."
   ]
  },
  {
   "cell_type": "code",
   "execution_count": 8,
   "metadata": {},
   "outputs": [
    {
     "data": {
      "text/plain": [
       "0"
      ]
     },
     "execution_count": 8,
     "metadata": {},
     "output_type": "execute_result"
    }
   ],
   "source": [
    "data['balcony'] = data['balcony'].fillna(0)\n",
    "data['balcony'].isna().sum()"
   ]
  },
  {
   "cell_type": "code",
   "execution_count": 9,
   "metadata": {},
   "outputs": [
    {
     "data": {
      "text/plain": [
       "count    3.900000e+01\n",
       "mean     6.673978e+06\n",
       "std      4.557874e+06\n",
       "min      1.750000e+06\n",
       "25%      4.225000e+06\n",
       "50%      5.100000e+06\n",
       "75%      7.400000e+06\n",
       "max      2.400000e+07\n",
       "Name: last_price, dtype: float64"
      ]
     },
     "execution_count": 9,
     "metadata": {},
     "output_type": "execute_result"
    }
   ],
   "source": [
    "data[data['locality_name'].isna()]['last_price'].describe()"
   ]
  },
  {
   "cell_type": "markdown",
   "metadata": {},
   "source": [
    "Данные по стоимости недвижимости с пропущенной локацией выглядят корректно, однако таких объектов всего 44, можно удалить."
   ]
  },
  {
   "cell_type": "code",
   "execution_count": 10,
   "metadata": {},
   "outputs": [],
   "source": [
    "data = data.dropna(subset=['locality_name'])"
   ]
  },
  {
   "cell_type": "code",
   "execution_count": 11,
   "metadata": {},
   "outputs": [
    {
     "data": {
      "text/plain": [
       "False    21049\n",
       "True        33\n",
       "Name: is_apartment, dtype: int64"
      ]
     },
     "execution_count": 11,
     "metadata": {},
     "output_type": "execute_result"
    }
   ],
   "source": [
    "data.loc[data['is_apartment'].isna(), 'is_apartment'] = False\n",
    "data['is_apartment'].value_counts()\n"
   ]
  },
  {
   "cell_type": "code",
   "execution_count": 12,
   "metadata": {},
   "outputs": [],
   "source": [
    "data['first_day_exposition'] = pd.to_datetime(data['first_day_exposition'], \n",
    "                                              format='%Y-%m-%dT%H:%M:%S')"
   ]
  },
  {
   "cell_type": "markdown",
   "metadata": {},
   "source": [
    "Приведем время экспонирования объявления к целочисленному формату."
   ]
  },
  {
   "cell_type": "code",
   "execution_count": 13,
   "metadata": {},
   "outputs": [],
   "source": [
    "correct_exposition_rows = data.query('~days_exposition.isnull()').index\n",
    "data.loc[correct_exposition_rows, 'days_exposition'] = data.loc[correct_exposition_rows, 'days_exposition'].astype('int')"
   ]
  },
  {
   "cell_type": "code",
   "execution_count": 14,
   "metadata": {},
   "outputs": [
    {
     "data": {
      "text/plain": [
       "0       NaN\n",
       "1      81.0\n",
       "2     558.0\n",
       "4     121.0\n",
       "5      55.0\n",
       "6     155.0\n",
       "8     189.0\n",
       "9     289.0\n",
       "10    137.0\n",
       "11      7.0\n",
       "12     90.0\n",
       "13    366.0\n",
       "14    203.0\n",
       "15     19.0\n",
       "16    397.0\n",
       "17    571.0\n",
       "18    168.0\n",
       "19     97.0\n",
       "20     74.0\n",
       "21    310.0\n",
       "Name: days_exposition, dtype: float64"
      ]
     },
     "execution_count": 14,
     "metadata": {},
     "output_type": "execute_result"
    }
   ],
   "source": [
    "data['days_exposition'].head(20)"
   ]
  },
  {
   "cell_type": "code",
   "execution_count": null,
   "metadata": {},
   "outputs": [],
   "source": []
  },
  {
   "cell_type": "markdown",
   "metadata": {},
   "source": [
    "### Вывод"
   ]
  },
  {
   "cell_type": "markdown",
   "metadata": {},
   "source": [
    "Мы подготовили данные для дальнейшего анализа. Избавились от объектов без указания локации, жилой площади и площади кухни (последние два параметра во многих случаях отсутствовали совместно). Доля удаленных строк не превышает 10%. \n",
    "Далее заполнили пропуски. Для балконов - нулями. В булевом параметре \"is_apartment\" пропущенные значения заполнили значением False, поскольку, скорее всего, для квартир эту метрику не заполняли. \n",
    "\n",
    "В данных по-прежнему много пропусков. В частности, мы не трогали высоту потолков, количество этажей в доме,  удаленность от центра и аэропорта, поскольку в этих случаях сложно найти объяснение для заполнения пустых значений и есть риск \"зашумить\" информацию. "
   ]
  },
  {
   "cell_type": "markdown",
   "metadata": {},
   "source": [
    "## Расчёты и добавление результатов в таблицу"
   ]
  },
  {
   "cell_type": "markdown",
   "metadata": {},
   "source": [
    "Добавим в датафрейм столбцы:\n",
    "1. цена квадратного метра;\n",
    "2. день недели, месяц и год публикации;\n",
    "3. этаж (по типу - первый, последний, другой);\n",
    "4. отношение жилой площади к общей;\n",
    "5. отношение площади кухни к общей."
   ]
  },
  {
   "cell_type": "code",
   "execution_count": 15,
   "metadata": {},
   "outputs": [
    {
     "data": {
      "text/plain": [
       "другой       15516\n",
       "последний     2995\n",
       "первый        2571\n",
       "Name: floor_type, dtype: int64"
      ]
     },
     "execution_count": 15,
     "metadata": {},
     "output_type": "execute_result"
    }
   ],
   "source": [
    "data['meter_price'] = data['last_price'] / data['total_area']\n",
    "data['meter_price'].describe()\n",
    "data['year'] = data['first_day_exposition'].dt.year\n",
    "data['month'] = data['first_day_exposition'].dt.month\n",
    "data['weekday'] = data['first_day_exposition'].dt.weekday\n",
    "data['living_share'] = data['living_area'] / data['total_area']\n",
    "data['kitchen_share'] = data['kitchen_area'] / data['total_area']\n",
    "data.head()\n",
    "def floor_type(row):\n",
    "    if row['floor'] == 1:\n",
    "        return 'первый'\n",
    "    elif row['floor'] == row['floors_total']:\n",
    "        return 'последний'\n",
    "    else:\n",
    "        return 'другой'\n",
    "data['floor_type'] = data.apply(floor_type, axis = 1)\n",
    "data['floor_type'].value_counts()"
   ]
  },
  {
   "cell_type": "markdown",
   "metadata": {},
   "source": [
    "### Вывод\n",
    "Распределение квартир по этажам выглядит правдоподобно, хотя в группу \"другой\" могли попасть квартиры на последнем этаже в тех случаях, когда были пропущены значения высотности дома.\n",
    "\n",
    "Перейдем к исследованию данных."
   ]
  },
  {
   "cell_type": "markdown",
   "metadata": {},
   "source": [
    "## Исследовательский анализ данных"
   ]
  },
  {
   "cell_type": "markdown",
   "metadata": {},
   "source": [
    "### Основные метрики\n",
    "Изучим последовательно следующие метрики: площадь, цена, число комнат, высота потолков."
   ]
  },
  {
   "cell_type": "code",
   "execution_count": 16,
   "metadata": {},
   "outputs": [
    {
     "data": {
      "text/plain": [
       "<matplotlib.axes._subplots.AxesSubplot at 0x7fcb30faa510>"
      ]
     },
     "execution_count": 16,
     "metadata": {},
     "output_type": "execute_result"
    },
    {
     "data": {
      "image/png": "[encoded data removed]",
      "text/plain": [
       "<Figure size 432x288 with 1 Axes>"
      ]
     },
     "metadata": {
      "needs_background": "light"
     },
     "output_type": "display_data"
    }
   ],
   "source": [
    "plt.xlabel(\"площадь\")\n",
    "plt.ylabel('частота')\n",
    "plt.title('Распределение площади квартир')\n",
    "data['total_area'].hist(bins=100)\n"
   ]
  },
  {
   "cell_type": "code",
   "execution_count": 17,
   "metadata": {},
   "outputs": [
    {
     "data": {
      "text/plain": [
       "count    21082.000000\n",
       "mean        60.317433\n",
       "std         34.505588\n",
       "min         14.000000\n",
       "25%         40.100000\n",
       "50%         52.000000\n",
       "75%         70.000000\n",
       "max        900.000000\n",
       "Name: total_area, dtype: float64"
      ]
     },
     "execution_count": 17,
     "metadata": {},
     "output_type": "execute_result"
    }
   ],
   "source": [
    "data['total_area'].describe()"
   ]
  },
  {
   "cell_type": "code",
   "execution_count": 18,
   "metadata": {},
   "outputs": [
    {
     "data": {
      "text/plain": [
       "89"
      ]
     },
     "execution_count": 18,
     "metadata": {},
     "output_type": "execute_result"
    }
   ],
   "source": [
    "len(data[data['total_area'] > 250])"
   ]
  },
  {
   "cell_type": "code",
   "execution_count": 19,
   "metadata": {},
   "outputs": [
    {
     "data": {
      "image/png": "[encoded data removed]",
      "text/plain": [
       "<Figure size 432x288 with 1 Axes>"
      ]
     },
     "metadata": {
      "needs_background": "light"
     },
     "output_type": "display_data"
    }
   ],
   "source": [
    "data = data.query('total_area < 250')\n",
    "plt.xlabel(\"площадь\")\n",
    "plt.ylabel('частота')\n",
    "plt.title('Распределение площади квартир')\n",
    "data['total_area'].hist(bins=20)\n",
    "plt.show()"
   ]
  },
  {
   "cell_type": "markdown",
   "metadata": {},
   "source": [
    "Квартир площадью больше 250 $м^{2}$ всего 89. Исключим их из анализа, все-таки это слишком эксклюзивные предложения для жилой недвижимости, хотя в старом фонде квартиры площадью около 200 $м^{2}$ не редкость. \n",
    "Наиболее распространены квартиры площадью около 50 $м^{2}$.\n",
    "Теперь рассмотрим цену."
   ]
  },
  {
   "cell_type": "code",
   "execution_count": 20,
   "metadata": {},
   "outputs": [
    {
     "data": {
      "text/plain": [
       "count    2.098900e+04\n",
       "mean     6.197035e+06\n",
       "std      7.014136e+06\n",
       "min      1.219000e+04\n",
       "25%      3.490000e+06\n",
       "50%      4.650000e+06\n",
       "75%      6.700000e+06\n",
       "max      3.300000e+08\n",
       "Name: last_price, dtype: float64"
      ]
     },
     "execution_count": 20,
     "metadata": {},
     "output_type": "execute_result"
    },
    {
     "data": {
      "image/png": "[encoded data removed]",
      "text/plain": [
       "<Figure size 432x288 with 1 Axes>"
      ]
     },
     "metadata": {
      "needs_background": "light"
     },
     "output_type": "display_data"
    }
   ],
   "source": [
    "plt.xlabel(\"цена\")\n",
    "plt.ylabel('частота')\n",
    "plt.title('Распределение цен')\n",
    "data['last_price'].hist(bins=100)\n",
    "data['last_price'].describe()\n"
   ]
  },
  {
   "cell_type": "markdown",
   "metadata": {},
   "source": [
    "Очевидно, в стоимости жилья тоже присутствуют аномальные значения правее 4x$10^{7}$ ден. ед. Их следует удалить, поскольку суперэлитная недвижимость это отдельный сегмент рынка. Кроме того, для лучшего восприятия информации избавимся от 3 порядков, поделив цену на 1000."
   ]
  },
  {
   "cell_type": "code",
   "execution_count": 21,
   "metadata": {},
   "outputs": [
    {
     "data": {
      "text/plain": [
       "<matplotlib.axes._subplots.AxesSubplot at 0x7fcb30e34c90>"
      ]
     },
     "execution_count": 21,
     "metadata": {},
     "output_type": "execute_result"
    },
    {
     "data": {
      "image/png": "[encoded data removed]",
      "text/plain": [
       "<Figure size 432x288 with 1 Axes>"
      ]
     },
     "metadata": {
      "needs_background": "light"
     },
     "output_type": "display_data"
    }
   ],
   "source": [
    "len(data[data['last_price'] > 40000000])\n",
    "data = data.query('last_price < 40000000')\n",
    "data['last_price'] /= 1000\n",
    "plt.xlabel(\"цена\")\n",
    "plt.ylabel('частота')\n",
    "plt.title('Распределение цен')\n",
    "data['last_price'].hist(bins=30)"
   ]
  },
  {
   "cell_type": "markdown",
   "metadata": {},
   "source": [
    "Так гораздо лучше, перейдем к числу комнат."
   ]
  },
  {
   "cell_type": "code",
   "execution_count": 22,
   "metadata": {},
   "outputs": [
    {
     "data": {
      "text/plain": [
       "2     7099\n",
       "1     7079\n",
       "3     5206\n",
       "4     1015\n",
       "5      234\n",
       "0      128\n",
       "6       70\n",
       "7       32\n",
       "8        6\n",
       "11       2\n",
       "14       1\n",
       "10       1\n",
       "9        1\n",
       "Name: rooms, dtype: int64"
      ]
     },
     "execution_count": 22,
     "metadata": {},
     "output_type": "execute_result"
    }
   ],
   "source": [
    "data['rooms'].value_counts()"
   ]
  },
  {
   "cell_type": "markdown",
   "metadata": {},
   "source": [
    "В данных 128 объявлений с нулем комнат. Проверим, все ли они относятся к студиям. Также удалим предложения начиная с 9 комнатных квартир, поскольку их очень мало и они не оказывают существенного влияния на рынок."
   ]
  },
  {
   "cell_type": "code",
   "execution_count": 23,
   "metadata": {},
   "outputs": [
    {
     "data": {
      "text/plain": [
       "128"
      ]
     },
     "execution_count": 23,
     "metadata": {},
     "output_type": "execute_result"
    }
   ],
   "source": [
    "len(data.query('studio == True and rooms == 0'))"
   ]
  },
  {
   "cell_type": "code",
   "execution_count": 24,
   "metadata": {},
   "outputs": [
    {
     "data": {
      "text/html": [
       "<div>\n",
       "<style scoped>\n",
       "    .dataframe tbody tr th:only-of-type {\n",
       "        vertical-align: middle;\n",
       "    }\n",
       "\n",
       "    .dataframe tbody tr th {\n",
       "        vertical-align: top;\n",
       "    }\n",
       "\n",
       "    .dataframe thead th {\n",
       "        text-align: right;\n",
       "    }\n",
       "</style>\n",
       "<table border=\"1\" class=\"dataframe\">\n",
       "  <thead>\n",
       "    <tr style=\"text-align: right;\">\n",
       "      <th></th>\n",
       "      <th>total_images</th>\n",
       "      <th>last_price</th>\n",
       "      <th>total_area</th>\n",
       "      <th>first_day_exposition</th>\n",
       "      <th>rooms</th>\n",
       "      <th>ceiling_height</th>\n",
       "      <th>floors_total</th>\n",
       "      <th>living_area</th>\n",
       "      <th>floor</th>\n",
       "      <th>is_apartment</th>\n",
       "      <th>...</th>\n",
       "      <th>ponds_around3000</th>\n",
       "      <th>ponds_nearest</th>\n",
       "      <th>days_exposition</th>\n",
       "      <th>meter_price</th>\n",
       "      <th>year</th>\n",
       "      <th>month</th>\n",
       "      <th>weekday</th>\n",
       "      <th>living_share</th>\n",
       "      <th>kitchen_share</th>\n",
       "      <th>floor_type</th>\n",
       "    </tr>\n",
       "  </thead>\n",
       "  <tbody>\n",
       "    <tr>\n",
       "      <td>2389</td>\n",
       "      <td>5</td>\n",
       "      <td>2250.0</td>\n",
       "      <td>25.41</td>\n",
       "      <td>2016-06-07</td>\n",
       "      <td>1</td>\n",
       "      <td>NaN</td>\n",
       "      <td>12.0</td>\n",
       "      <td>17.08</td>\n",
       "      <td>8</td>\n",
       "      <td>False</td>\n",
       "      <td>...</td>\n",
       "      <td>2.0</td>\n",
       "      <td>485.0</td>\n",
       "      <td>26.0</td>\n",
       "      <td>88547.815821</td>\n",
       "      <td>2016</td>\n",
       "      <td>6</td>\n",
       "      <td>1</td>\n",
       "      <td>0.672176</td>\n",
       "      <td>0.0</td>\n",
       "      <td>другой</td>\n",
       "    </tr>\n",
       "    <tr>\n",
       "      <td>3187</td>\n",
       "      <td>13</td>\n",
       "      <td>3800.0</td>\n",
       "      <td>27.00</td>\n",
       "      <td>2016-05-17</td>\n",
       "      <td>1</td>\n",
       "      <td>NaN</td>\n",
       "      <td>14.0</td>\n",
       "      <td>18.00</td>\n",
       "      <td>8</td>\n",
       "      <td>False</td>\n",
       "      <td>...</td>\n",
       "      <td>0.0</td>\n",
       "      <td>NaN</td>\n",
       "      <td>45.0</td>\n",
       "      <td>140740.740741</td>\n",
       "      <td>2016</td>\n",
       "      <td>5</td>\n",
       "      <td>1</td>\n",
       "      <td>0.666667</td>\n",
       "      <td>0.0</td>\n",
       "      <td>другой</td>\n",
       "    </tr>\n",
       "    <tr>\n",
       "      <td>4180</td>\n",
       "      <td>4</td>\n",
       "      <td>4500.0</td>\n",
       "      <td>34.00</td>\n",
       "      <td>2016-04-25</td>\n",
       "      <td>1</td>\n",
       "      <td>2.8</td>\n",
       "      <td>10.0</td>\n",
       "      <td>21.00</td>\n",
       "      <td>10</td>\n",
       "      <td>False</td>\n",
       "      <td>...</td>\n",
       "      <td>1.0</td>\n",
       "      <td>433.0</td>\n",
       "      <td>62.0</td>\n",
       "      <td>132352.941176</td>\n",
       "      <td>2016</td>\n",
       "      <td>4</td>\n",
       "      <td>0</td>\n",
       "      <td>0.617647</td>\n",
       "      <td>0.0</td>\n",
       "      <td>последний</td>\n",
       "    </tr>\n",
       "    <tr>\n",
       "      <td>8683</td>\n",
       "      <td>10</td>\n",
       "      <td>3500.0</td>\n",
       "      <td>32.50</td>\n",
       "      <td>2016-05-05</td>\n",
       "      <td>1</td>\n",
       "      <td>3.0</td>\n",
       "      <td>23.0</td>\n",
       "      <td>29.90</td>\n",
       "      <td>11</td>\n",
       "      <td>False</td>\n",
       "      <td>...</td>\n",
       "      <td>1.0</td>\n",
       "      <td>564.0</td>\n",
       "      <td>45.0</td>\n",
       "      <td>107692.307692</td>\n",
       "      <td>2016</td>\n",
       "      <td>5</td>\n",
       "      <td>3</td>\n",
       "      <td>0.920000</td>\n",
       "      <td>0.0</td>\n",
       "      <td>другой</td>\n",
       "    </tr>\n",
       "    <tr>\n",
       "      <td>11026</td>\n",
       "      <td>1</td>\n",
       "      <td>2800.0</td>\n",
       "      <td>28.00</td>\n",
       "      <td>2016-05-04</td>\n",
       "      <td>1</td>\n",
       "      <td>NaN</td>\n",
       "      <td>26.0</td>\n",
       "      <td>19.00</td>\n",
       "      <td>6</td>\n",
       "      <td>False</td>\n",
       "      <td>...</td>\n",
       "      <td>0.0</td>\n",
       "      <td>NaN</td>\n",
       "      <td>45.0</td>\n",
       "      <td>100000.000000</td>\n",
       "      <td>2016</td>\n",
       "      <td>5</td>\n",
       "      <td>2</td>\n",
       "      <td>0.678571</td>\n",
       "      <td>0.0</td>\n",
       "      <td>другой</td>\n",
       "    </tr>\n",
       "    <tr>\n",
       "      <td>12935</td>\n",
       "      <td>10</td>\n",
       "      <td>2200.0</td>\n",
       "      <td>31.00</td>\n",
       "      <td>2016-05-15</td>\n",
       "      <td>1</td>\n",
       "      <td>2.5</td>\n",
       "      <td>8.0</td>\n",
       "      <td>22.30</td>\n",
       "      <td>5</td>\n",
       "      <td>False</td>\n",
       "      <td>...</td>\n",
       "      <td>NaN</td>\n",
       "      <td>NaN</td>\n",
       "      <td>44.0</td>\n",
       "      <td>70967.741935</td>\n",
       "      <td>2016</td>\n",
       "      <td>5</td>\n",
       "      <td>6</td>\n",
       "      <td>0.719355</td>\n",
       "      <td>0.0</td>\n",
       "      <td>другой</td>\n",
       "    </tr>\n",
       "    <tr>\n",
       "      <td>15142</td>\n",
       "      <td>2</td>\n",
       "      <td>2700.0</td>\n",
       "      <td>30.00</td>\n",
       "      <td>2016-05-10</td>\n",
       "      <td>1</td>\n",
       "      <td>NaN</td>\n",
       "      <td>21.0</td>\n",
       "      <td>26.00</td>\n",
       "      <td>6</td>\n",
       "      <td>False</td>\n",
       "      <td>...</td>\n",
       "      <td>NaN</td>\n",
       "      <td>NaN</td>\n",
       "      <td>55.0</td>\n",
       "      <td>90000.000000</td>\n",
       "      <td>2016</td>\n",
       "      <td>5</td>\n",
       "      <td>1</td>\n",
       "      <td>0.866667</td>\n",
       "      <td>0.0</td>\n",
       "      <td>другой</td>\n",
       "    </tr>\n",
       "    <tr>\n",
       "      <td>18732</td>\n",
       "      <td>4</td>\n",
       "      <td>2400.0</td>\n",
       "      <td>22.00</td>\n",
       "      <td>2016-05-06</td>\n",
       "      <td>1</td>\n",
       "      <td>NaN</td>\n",
       "      <td>10.0</td>\n",
       "      <td>15.00</td>\n",
       "      <td>6</td>\n",
       "      <td>False</td>\n",
       "      <td>...</td>\n",
       "      <td>NaN</td>\n",
       "      <td>NaN</td>\n",
       "      <td>45.0</td>\n",
       "      <td>109090.909091</td>\n",
       "      <td>2016</td>\n",
       "      <td>5</td>\n",
       "      <td>4</td>\n",
       "      <td>0.681818</td>\n",
       "      <td>0.0</td>\n",
       "      <td>другой</td>\n",
       "    </tr>\n",
       "    <tr>\n",
       "      <td>20086</td>\n",
       "      <td>0</td>\n",
       "      <td>1550.0</td>\n",
       "      <td>22.00</td>\n",
       "      <td>2016-05-11</td>\n",
       "      <td>1</td>\n",
       "      <td>2.7</td>\n",
       "      <td>15.0</td>\n",
       "      <td>10.94</td>\n",
       "      <td>14</td>\n",
       "      <td>False</td>\n",
       "      <td>...</td>\n",
       "      <td>NaN</td>\n",
       "      <td>NaN</td>\n",
       "      <td>45.0</td>\n",
       "      <td>70454.545455</td>\n",
       "      <td>2016</td>\n",
       "      <td>5</td>\n",
       "      <td>2</td>\n",
       "      <td>0.497273</td>\n",
       "      <td>0.0</td>\n",
       "      <td>другой</td>\n",
       "    </tr>\n",
       "    <tr>\n",
       "      <td>21702</td>\n",
       "      <td>9</td>\n",
       "      <td>2349.0</td>\n",
       "      <td>23.40</td>\n",
       "      <td>2016-05-19</td>\n",
       "      <td>1</td>\n",
       "      <td>2.7</td>\n",
       "      <td>20.0</td>\n",
       "      <td>16.00</td>\n",
       "      <td>8</td>\n",
       "      <td>False</td>\n",
       "      <td>...</td>\n",
       "      <td>NaN</td>\n",
       "      <td>NaN</td>\n",
       "      <td>34.0</td>\n",
       "      <td>100384.615385</td>\n",
       "      <td>2016</td>\n",
       "      <td>5</td>\n",
       "      <td>3</td>\n",
       "      <td>0.683761</td>\n",
       "      <td>0.0</td>\n",
       "      <td>другой</td>\n",
       "    </tr>\n",
       "    <tr>\n",
       "      <td>22652</td>\n",
       "      <td>5</td>\n",
       "      <td>2650.0</td>\n",
       "      <td>26.00</td>\n",
       "      <td>2015-06-24</td>\n",
       "      <td>1</td>\n",
       "      <td>NaN</td>\n",
       "      <td>14.0</td>\n",
       "      <td>15.00</td>\n",
       "      <td>11</td>\n",
       "      <td>False</td>\n",
       "      <td>...</td>\n",
       "      <td>NaN</td>\n",
       "      <td>NaN</td>\n",
       "      <td>373.0</td>\n",
       "      <td>101923.076923</td>\n",
       "      <td>2015</td>\n",
       "      <td>6</td>\n",
       "      <td>2</td>\n",
       "      <td>0.576923</td>\n",
       "      <td>0.0</td>\n",
       "      <td>другой</td>\n",
       "    </tr>\n",
       "  </tbody>\n",
       "</table>\n",
       "<p>11 rows × 29 columns</p>\n",
       "</div>"
      ],
      "text/plain": [
       "       total_images  last_price  total_area first_day_exposition  rooms  \\\n",
       "2389              5      2250.0       25.41           2016-06-07      1   \n",
       "3187             13      3800.0       27.00           2016-05-17      1   \n",
       "4180              4      4500.0       34.00           2016-04-25      1   \n",
       "8683             10      3500.0       32.50           2016-05-05      1   \n",
       "11026             1      2800.0       28.00           2016-05-04      1   \n",
       "12935            10      2200.0       31.00           2016-05-15      1   \n",
       "15142             2      2700.0       30.00           2016-05-10      1   \n",
       "18732             4      2400.0       22.00           2016-05-06      1   \n",
       "20086             0      1550.0       22.00           2016-05-11      1   \n",
       "21702             9      2349.0       23.40           2016-05-19      1   \n",
       "22652             5      2650.0       26.00           2015-06-24      1   \n",
       "\n",
       "       ceiling_height  floors_total  living_area  floor  is_apartment  ...  \\\n",
       "2389              NaN          12.0        17.08      8         False  ...   \n",
       "3187              NaN          14.0        18.00      8         False  ...   \n",
       "4180              2.8          10.0        21.00     10         False  ...   \n",
       "8683              3.0          23.0        29.90     11         False  ...   \n",
       "11026             NaN          26.0        19.00      6         False  ...   \n",
       "12935             2.5           8.0        22.30      5         False  ...   \n",
       "15142             NaN          21.0        26.00      6         False  ...   \n",
       "18732             NaN          10.0        15.00      6         False  ...   \n",
       "20086             2.7          15.0        10.94     14         False  ...   \n",
       "21702             2.7          20.0        16.00      8         False  ...   \n",
       "22652             NaN          14.0        15.00     11         False  ...   \n",
       "\n",
       "       ponds_around3000  ponds_nearest  days_exposition    meter_price  year  \\\n",
       "2389                2.0          485.0             26.0   88547.815821  2016   \n",
       "3187                0.0            NaN             45.0  140740.740741  2016   \n",
       "4180                1.0          433.0             62.0  132352.941176  2016   \n",
       "8683                1.0          564.0             45.0  107692.307692  2016   \n",
       "11026               0.0            NaN             45.0  100000.000000  2016   \n",
       "12935               NaN            NaN             44.0   70967.741935  2016   \n",
       "15142               NaN            NaN             55.0   90000.000000  2016   \n",
       "18732               NaN            NaN             45.0  109090.909091  2016   \n",
       "20086               NaN            NaN             45.0   70454.545455  2016   \n",
       "21702               NaN            NaN             34.0  100384.615385  2016   \n",
       "22652               NaN            NaN            373.0  101923.076923  2015   \n",
       "\n",
       "       month  weekday  living_share  kitchen_share  floor_type  \n",
       "2389       6        1      0.672176            0.0      другой  \n",
       "3187       5        1      0.666667            0.0      другой  \n",
       "4180       4        0      0.617647            0.0   последний  \n",
       "8683       5        3      0.920000            0.0      другой  \n",
       "11026      5        2      0.678571            0.0      другой  \n",
       "12935      5        6      0.719355            0.0      другой  \n",
       "15142      5        1      0.866667            0.0      другой  \n",
       "18732      5        4      0.681818            0.0      другой  \n",
       "20086      5        2      0.497273            0.0      другой  \n",
       "21702      5        3      0.683761            0.0      другой  \n",
       "22652      6        2      0.576923            0.0      другой  \n",
       "\n",
       "[11 rows x 29 columns]"
      ]
     },
     "execution_count": 24,
     "metadata": {},
     "output_type": "execute_result"
    }
   ],
   "source": [
    "data.query('studio == True and rooms != 0')"
   ]
  },
  {
   "cell_type": "markdown",
   "metadata": {},
   "source": [
    "Нет, 11 объявлений указывают одну комнату в студии. Исправим на ноль."
   ]
  },
  {
   "cell_type": "markdown",
   "metadata": {},
   "source": [
    "<div class=\"alert alert-block alert-success\">\n",
    "<b>Success:</b> Хорошо!"
   ]
  },
  {
   "cell_type": "code",
   "execution_count": 25,
   "metadata": {},
   "outputs": [],
   "source": [
    "data.loc[(data['studio']==True) & (data['rooms']!=0), 'rooms'] = 0"
   ]
  },
  {
   "cell_type": "code",
   "execution_count": 26,
   "metadata": {},
   "outputs": [
    {
     "data": {
      "text/plain": [
       "<matplotlib.axes._subplots.AxesSubplot at 0x7fcb30c050d0>"
      ]
     },
     "execution_count": 26,
     "metadata": {},
     "output_type": "execute_result"
    },
    {
     "data": {
      "image/png": "[encoded data removed]",
      "text/plain": [
       "<Figure size 432x288 with 1 Axes>"
      ]
     },
     "metadata": {
      "needs_background": "light"
     },
     "output_type": "display_data"
    }
   ],
   "source": [
    "data = data.query('rooms < 9')\n",
    "plt.xlabel(\"количество комнат\")\n",
    "plt.ylabel('частота')\n",
    "plt.title('Распределение числа комнат')\n",
    "data['rooms'].hist(bins=8)"
   ]
  },
  {
   "cell_type": "markdown",
   "metadata": {},
   "source": [
    "Гистограмма показывает, что самые частые объявления относятся к однушкам и двушкам. Неожиданно мало предложений студий. \n",
    "\n",
    "Перейдем к высоте потолков. В этой метрике было очень много пропусков. Поскольку нет никаких идей по их заполнению, рассмотрим распределение высоты потолков только в  тех объявлениях, где этот параметр указан."
   ]
  },
  {
   "cell_type": "code",
   "execution_count": 27,
   "metadata": {},
   "outputs": [
    {
     "data": {
      "text/html": [
       "<div>\n",
       "<style scoped>\n",
       "    .dataframe tbody tr th:only-of-type {\n",
       "        vertical-align: middle;\n",
       "    }\n",
       "\n",
       "    .dataframe tbody tr th {\n",
       "        vertical-align: top;\n",
       "    }\n",
       "\n",
       "    .dataframe thead th {\n",
       "        text-align: right;\n",
       "    }\n",
       "</style>\n",
       "<table border=\"1\" class=\"dataframe\">\n",
       "  <thead>\n",
       "    <tr style=\"text-align: right;\">\n",
       "      <th></th>\n",
       "      <th>total_images</th>\n",
       "      <th>last_price</th>\n",
       "      <th>total_area</th>\n",
       "      <th>first_day_exposition</th>\n",
       "      <th>rooms</th>\n",
       "      <th>ceiling_height</th>\n",
       "      <th>floors_total</th>\n",
       "      <th>living_area</th>\n",
       "      <th>floor</th>\n",
       "      <th>is_apartment</th>\n",
       "      <th>...</th>\n",
       "      <th>ponds_around3000</th>\n",
       "      <th>ponds_nearest</th>\n",
       "      <th>days_exposition</th>\n",
       "      <th>meter_price</th>\n",
       "      <th>year</th>\n",
       "      <th>month</th>\n",
       "      <th>weekday</th>\n",
       "      <th>living_share</th>\n",
       "      <th>kitchen_share</th>\n",
       "      <th>floor_type</th>\n",
       "    </tr>\n",
       "  </thead>\n",
       "  <tbody>\n",
       "    <tr>\n",
       "      <td>3148</td>\n",
       "      <td>14</td>\n",
       "      <td>2900.0</td>\n",
       "      <td>75.0</td>\n",
       "      <td>2018-11-12</td>\n",
       "      <td>3</td>\n",
       "      <td>32.0</td>\n",
       "      <td>3.0</td>\n",
       "      <td>53.0</td>\n",
       "      <td>2</td>\n",
       "      <td>False</td>\n",
       "      <td>...</td>\n",
       "      <td>NaN</td>\n",
       "      <td>NaN</td>\n",
       "      <td>NaN</td>\n",
       "      <td>38666.666667</td>\n",
       "      <td>2018</td>\n",
       "      <td>11</td>\n",
       "      <td>0</td>\n",
       "      <td>0.706667</td>\n",
       "      <td>0.106667</td>\n",
       "      <td>другой</td>\n",
       "    </tr>\n",
       "    <tr>\n",
       "      <td>4643</td>\n",
       "      <td>0</td>\n",
       "      <td>4300.0</td>\n",
       "      <td>45.0</td>\n",
       "      <td>2018-02-01</td>\n",
       "      <td>2</td>\n",
       "      <td>25.0</td>\n",
       "      <td>9.0</td>\n",
       "      <td>30.0</td>\n",
       "      <td>2</td>\n",
       "      <td>False</td>\n",
       "      <td>...</td>\n",
       "      <td>1.0</td>\n",
       "      <td>331.0</td>\n",
       "      <td>181.0</td>\n",
       "      <td>95555.555556</td>\n",
       "      <td>2018</td>\n",
       "      <td>2</td>\n",
       "      <td>3</td>\n",
       "      <td>0.666667</td>\n",
       "      <td>0.155556</td>\n",
       "      <td>другой</td>\n",
       "    </tr>\n",
       "    <tr>\n",
       "      <td>5076</td>\n",
       "      <td>0</td>\n",
       "      <td>3850.0</td>\n",
       "      <td>30.5</td>\n",
       "      <td>2018-10-03</td>\n",
       "      <td>1</td>\n",
       "      <td>24.0</td>\n",
       "      <td>5.0</td>\n",
       "      <td>19.5</td>\n",
       "      <td>1</td>\n",
       "      <td>True</td>\n",
       "      <td>...</td>\n",
       "      <td>1.0</td>\n",
       "      <td>578.0</td>\n",
       "      <td>7.0</td>\n",
       "      <td>126229.508197</td>\n",
       "      <td>2018</td>\n",
       "      <td>10</td>\n",
       "      <td>2</td>\n",
       "      <td>0.639344</td>\n",
       "      <td>0.180328</td>\n",
       "      <td>первый</td>\n",
       "    </tr>\n",
       "    <tr>\n",
       "      <td>5246</td>\n",
       "      <td>0</td>\n",
       "      <td>2500.0</td>\n",
       "      <td>54.0</td>\n",
       "      <td>2017-10-13</td>\n",
       "      <td>2</td>\n",
       "      <td>27.0</td>\n",
       "      <td>5.0</td>\n",
       "      <td>30.0</td>\n",
       "      <td>3</td>\n",
       "      <td>False</td>\n",
       "      <td>...</td>\n",
       "      <td>NaN</td>\n",
       "      <td>NaN</td>\n",
       "      <td>540.0</td>\n",
       "      <td>46296.296296</td>\n",
       "      <td>2017</td>\n",
       "      <td>10</td>\n",
       "      <td>4</td>\n",
       "      <td>0.555556</td>\n",
       "      <td>0.166667</td>\n",
       "      <td>другой</td>\n",
       "    </tr>\n",
       "    <tr>\n",
       "      <td>5669</td>\n",
       "      <td>4</td>\n",
       "      <td>4400.0</td>\n",
       "      <td>50.0</td>\n",
       "      <td>2017-08-08</td>\n",
       "      <td>2</td>\n",
       "      <td>26.0</td>\n",
       "      <td>9.0</td>\n",
       "      <td>21.3</td>\n",
       "      <td>3</td>\n",
       "      <td>False</td>\n",
       "      <td>...</td>\n",
       "      <td>0.0</td>\n",
       "      <td>NaN</td>\n",
       "      <td>267.0</td>\n",
       "      <td>88000.000000</td>\n",
       "      <td>2017</td>\n",
       "      <td>8</td>\n",
       "      <td>1</td>\n",
       "      <td>0.426000</td>\n",
       "      <td>0.140000</td>\n",
       "      <td>другой</td>\n",
       "    </tr>\n",
       "    <tr>\n",
       "      <td>5807</td>\n",
       "      <td>17</td>\n",
       "      <td>8150.0</td>\n",
       "      <td>80.0</td>\n",
       "      <td>2019-01-09</td>\n",
       "      <td>2</td>\n",
       "      <td>27.0</td>\n",
       "      <td>36.0</td>\n",
       "      <td>41.0</td>\n",
       "      <td>13</td>\n",
       "      <td>False</td>\n",
       "      <td>...</td>\n",
       "      <td>3.0</td>\n",
       "      <td>80.0</td>\n",
       "      <td>38.0</td>\n",
       "      <td>101875.000000</td>\n",
       "      <td>2019</td>\n",
       "      <td>1</td>\n",
       "      <td>2</td>\n",
       "      <td>0.512500</td>\n",
       "      <td>0.150000</td>\n",
       "      <td>другой</td>\n",
       "    </tr>\n",
       "    <tr>\n",
       "      <td>6246</td>\n",
       "      <td>6</td>\n",
       "      <td>3300.0</td>\n",
       "      <td>44.4</td>\n",
       "      <td>2019-03-25</td>\n",
       "      <td>2</td>\n",
       "      <td>25.0</td>\n",
       "      <td>5.0</td>\n",
       "      <td>31.3</td>\n",
       "      <td>5</td>\n",
       "      <td>False</td>\n",
       "      <td>...</td>\n",
       "      <td>2.0</td>\n",
       "      <td>73.0</td>\n",
       "      <td>NaN</td>\n",
       "      <td>74324.324324</td>\n",
       "      <td>2019</td>\n",
       "      <td>3</td>\n",
       "      <td>0</td>\n",
       "      <td>0.704955</td>\n",
       "      <td>0.128378</td>\n",
       "      <td>последний</td>\n",
       "    </tr>\n",
       "    <tr>\n",
       "      <td>9379</td>\n",
       "      <td>5</td>\n",
       "      <td>3950.0</td>\n",
       "      <td>42.0</td>\n",
       "      <td>2017-03-26</td>\n",
       "      <td>3</td>\n",
       "      <td>25.0</td>\n",
       "      <td>5.0</td>\n",
       "      <td>30.0</td>\n",
       "      <td>2</td>\n",
       "      <td>False</td>\n",
       "      <td>...</td>\n",
       "      <td>0.0</td>\n",
       "      <td>NaN</td>\n",
       "      <td>NaN</td>\n",
       "      <td>94047.619048</td>\n",
       "      <td>2017</td>\n",
       "      <td>3</td>\n",
       "      <td>6</td>\n",
       "      <td>0.714286</td>\n",
       "      <td>0.123810</td>\n",
       "      <td>другой</td>\n",
       "    </tr>\n",
       "    <tr>\n",
       "      <td>10773</td>\n",
       "      <td>8</td>\n",
       "      <td>3800.0</td>\n",
       "      <td>58.0</td>\n",
       "      <td>2017-10-13</td>\n",
       "      <td>2</td>\n",
       "      <td>27.0</td>\n",
       "      <td>10.0</td>\n",
       "      <td>30.1</td>\n",
       "      <td>3</td>\n",
       "      <td>False</td>\n",
       "      <td>...</td>\n",
       "      <td>NaN</td>\n",
       "      <td>NaN</td>\n",
       "      <td>71.0</td>\n",
       "      <td>65517.241379</td>\n",
       "      <td>2017</td>\n",
       "      <td>10</td>\n",
       "      <td>4</td>\n",
       "      <td>0.518966</td>\n",
       "      <td>0.139655</td>\n",
       "      <td>другой</td>\n",
       "    </tr>\n",
       "    <tr>\n",
       "      <td>11285</td>\n",
       "      <td>0</td>\n",
       "      <td>1950.0</td>\n",
       "      <td>37.0</td>\n",
       "      <td>2019-03-20</td>\n",
       "      <td>1</td>\n",
       "      <td>25.0</td>\n",
       "      <td>5.0</td>\n",
       "      <td>17.0</td>\n",
       "      <td>4</td>\n",
       "      <td>False</td>\n",
       "      <td>...</td>\n",
       "      <td>NaN</td>\n",
       "      <td>NaN</td>\n",
       "      <td>18.0</td>\n",
       "      <td>52702.702703</td>\n",
       "      <td>2019</td>\n",
       "      <td>3</td>\n",
       "      <td>2</td>\n",
       "      <td>0.459459</td>\n",
       "      <td>0.243243</td>\n",
       "      <td>другой</td>\n",
       "    </tr>\n",
       "    <tr>\n",
       "      <td>14382</td>\n",
       "      <td>9</td>\n",
       "      <td>1700.0</td>\n",
       "      <td>35.0</td>\n",
       "      <td>2015-12-04</td>\n",
       "      <td>1</td>\n",
       "      <td>25.0</td>\n",
       "      <td>5.0</td>\n",
       "      <td>20.0</td>\n",
       "      <td>2</td>\n",
       "      <td>False</td>\n",
       "      <td>...</td>\n",
       "      <td>NaN</td>\n",
       "      <td>NaN</td>\n",
       "      <td>206.0</td>\n",
       "      <td>48571.428571</td>\n",
       "      <td>2015</td>\n",
       "      <td>12</td>\n",
       "      <td>4</td>\n",
       "      <td>0.571429</td>\n",
       "      <td>0.228571</td>\n",
       "      <td>другой</td>\n",
       "    </tr>\n",
       "    <tr>\n",
       "      <td>20478</td>\n",
       "      <td>11</td>\n",
       "      <td>8000.0</td>\n",
       "      <td>45.0</td>\n",
       "      <td>2017-07-18</td>\n",
       "      <td>1</td>\n",
       "      <td>27.0</td>\n",
       "      <td>4.0</td>\n",
       "      <td>22.0</td>\n",
       "      <td>2</td>\n",
       "      <td>False</td>\n",
       "      <td>...</td>\n",
       "      <td>3.0</td>\n",
       "      <td>449.0</td>\n",
       "      <td>429.0</td>\n",
       "      <td>177777.777778</td>\n",
       "      <td>2017</td>\n",
       "      <td>7</td>\n",
       "      <td>1</td>\n",
       "      <td>0.488889</td>\n",
       "      <td>0.222222</td>\n",
       "      <td>другой</td>\n",
       "    </tr>\n",
       "    <tr>\n",
       "      <td>20507</td>\n",
       "      <td>12</td>\n",
       "      <td>5950.0</td>\n",
       "      <td>60.0</td>\n",
       "      <td>2018-02-19</td>\n",
       "      <td>2</td>\n",
       "      <td>22.6</td>\n",
       "      <td>14.0</td>\n",
       "      <td>35.0</td>\n",
       "      <td>11</td>\n",
       "      <td>False</td>\n",
       "      <td>...</td>\n",
       "      <td>0.0</td>\n",
       "      <td>NaN</td>\n",
       "      <td>40.0</td>\n",
       "      <td>99166.666667</td>\n",
       "      <td>2018</td>\n",
       "      <td>2</td>\n",
       "      <td>0</td>\n",
       "      <td>0.583333</td>\n",
       "      <td>0.216667</td>\n",
       "      <td>другой</td>\n",
       "    </tr>\n",
       "    <tr>\n",
       "      <td>21377</td>\n",
       "      <td>19</td>\n",
       "      <td>4900.0</td>\n",
       "      <td>42.0</td>\n",
       "      <td>2017-04-18</td>\n",
       "      <td>1</td>\n",
       "      <td>27.5</td>\n",
       "      <td>24.0</td>\n",
       "      <td>37.7</td>\n",
       "      <td>19</td>\n",
       "      <td>False</td>\n",
       "      <td>...</td>\n",
       "      <td>0.0</td>\n",
       "      <td>NaN</td>\n",
       "      <td>61.0</td>\n",
       "      <td>116666.666667</td>\n",
       "      <td>2017</td>\n",
       "      <td>4</td>\n",
       "      <td>1</td>\n",
       "      <td>0.897619</td>\n",
       "      <td>0.261905</td>\n",
       "      <td>другой</td>\n",
       "    </tr>\n",
       "    <tr>\n",
       "      <td>21824</td>\n",
       "      <td>20</td>\n",
       "      <td>2450.0</td>\n",
       "      <td>44.0</td>\n",
       "      <td>2019-02-12</td>\n",
       "      <td>2</td>\n",
       "      <td>27.0</td>\n",
       "      <td>2.0</td>\n",
       "      <td>38.0</td>\n",
       "      <td>2</td>\n",
       "      <td>False</td>\n",
       "      <td>...</td>\n",
       "      <td>NaN</td>\n",
       "      <td>NaN</td>\n",
       "      <td>NaN</td>\n",
       "      <td>55681.818182</td>\n",
       "      <td>2019</td>\n",
       "      <td>2</td>\n",
       "      <td>1</td>\n",
       "      <td>0.863636</td>\n",
       "      <td>0.195455</td>\n",
       "      <td>последний</td>\n",
       "    </tr>\n",
       "    <tr>\n",
       "      <td>22336</td>\n",
       "      <td>19</td>\n",
       "      <td>9999.0</td>\n",
       "      <td>92.4</td>\n",
       "      <td>2019-04-05</td>\n",
       "      <td>2</td>\n",
       "      <td>32.0</td>\n",
       "      <td>6.0</td>\n",
       "      <td>55.5</td>\n",
       "      <td>5</td>\n",
       "      <td>False</td>\n",
       "      <td>...</td>\n",
       "      <td>3.0</td>\n",
       "      <td>511.0</td>\n",
       "      <td>NaN</td>\n",
       "      <td>108214.285714</td>\n",
       "      <td>2019</td>\n",
       "      <td>4</td>\n",
       "      <td>4</td>\n",
       "      <td>0.600649</td>\n",
       "      <td>0.178571</td>\n",
       "      <td>другой</td>\n",
       "    </tr>\n",
       "    <tr>\n",
       "      <td>22869</td>\n",
       "      <td>0</td>\n",
       "      <td>15000.0</td>\n",
       "      <td>25.0</td>\n",
       "      <td>2018-07-25</td>\n",
       "      <td>1</td>\n",
       "      <td>100.0</td>\n",
       "      <td>5.0</td>\n",
       "      <td>14.0</td>\n",
       "      <td>5</td>\n",
       "      <td>True</td>\n",
       "      <td>...</td>\n",
       "      <td>3.0</td>\n",
       "      <td>30.0</td>\n",
       "      <td>19.0</td>\n",
       "      <td>600000.000000</td>\n",
       "      <td>2018</td>\n",
       "      <td>7</td>\n",
       "      <td>2</td>\n",
       "      <td>0.560000</td>\n",
       "      <td>0.440000</td>\n",
       "      <td>последний</td>\n",
       "    </tr>\n",
       "    <tr>\n",
       "      <td>22938</td>\n",
       "      <td>14</td>\n",
       "      <td>4000.0</td>\n",
       "      <td>98.0</td>\n",
       "      <td>2018-03-15</td>\n",
       "      <td>4</td>\n",
       "      <td>27.0</td>\n",
       "      <td>2.0</td>\n",
       "      <td>73.0</td>\n",
       "      <td>2</td>\n",
       "      <td>True</td>\n",
       "      <td>...</td>\n",
       "      <td>NaN</td>\n",
       "      <td>NaN</td>\n",
       "      <td>27.0</td>\n",
       "      <td>40816.326531</td>\n",
       "      <td>2018</td>\n",
       "      <td>3</td>\n",
       "      <td>3</td>\n",
       "      <td>0.744898</td>\n",
       "      <td>0.091837</td>\n",
       "      <td>последний</td>\n",
       "    </tr>\n",
       "  </tbody>\n",
       "</table>\n",
       "<p>18 rows × 29 columns</p>\n",
       "</div>"
      ],
      "text/plain": [
       "       total_images  last_price  total_area first_day_exposition  rooms  \\\n",
       "3148             14      2900.0        75.0           2018-11-12      3   \n",
       "4643              0      4300.0        45.0           2018-02-01      2   \n",
       "5076              0      3850.0        30.5           2018-10-03      1   \n",
       "5246              0      2500.0        54.0           2017-10-13      2   \n",
       "5669              4      4400.0        50.0           2017-08-08      2   \n",
       "5807             17      8150.0        80.0           2019-01-09      2   \n",
       "6246              6      3300.0        44.4           2019-03-25      2   \n",
       "9379              5      3950.0        42.0           2017-03-26      3   \n",
       "10773             8      3800.0        58.0           2017-10-13      2   \n",
       "11285             0      1950.0        37.0           2019-03-20      1   \n",
       "14382             9      1700.0        35.0           2015-12-04      1   \n",
       "20478            11      8000.0        45.0           2017-07-18      1   \n",
       "20507            12      5950.0        60.0           2018-02-19      2   \n",
       "21377            19      4900.0        42.0           2017-04-18      1   \n",
       "21824            20      2450.0        44.0           2019-02-12      2   \n",
       "22336            19      9999.0        92.4           2019-04-05      2   \n",
       "22869             0     15000.0        25.0           2018-07-25      1   \n",
       "22938            14      4000.0        98.0           2018-03-15      4   \n",
       "\n",
       "       ceiling_height  floors_total  living_area  floor  is_apartment  ...  \\\n",
       "3148             32.0           3.0         53.0      2         False  ...   \n",
       "4643             25.0           9.0         30.0      2         False  ...   \n",
       "5076             24.0           5.0         19.5      1          True  ...   \n",
       "5246             27.0           5.0         30.0      3         False  ...   \n",
       "5669             26.0           9.0         21.3      3         False  ...   \n",
       "5807             27.0          36.0         41.0     13         False  ...   \n",
       "6246             25.0           5.0         31.3      5         False  ...   \n",
       "9379             25.0           5.0         30.0      2         False  ...   \n",
       "10773            27.0          10.0         30.1      3         False  ...   \n",
       "11285            25.0           5.0         17.0      4         False  ...   \n",
       "14382            25.0           5.0         20.0      2         False  ...   \n",
       "20478            27.0           4.0         22.0      2         False  ...   \n",
       "20507            22.6          14.0         35.0     11         False  ...   \n",
       "21377            27.5          24.0         37.7     19         False  ...   \n",
       "21824            27.0           2.0         38.0      2         False  ...   \n",
       "22336            32.0           6.0         55.5      5         False  ...   \n",
       "22869           100.0           5.0         14.0      5          True  ...   \n",
       "22938            27.0           2.0         73.0      2          True  ...   \n",
       "\n",
       "       ponds_around3000  ponds_nearest  days_exposition    meter_price  year  \\\n",
       "3148                NaN            NaN              NaN   38666.666667  2018   \n",
       "4643                1.0          331.0            181.0   95555.555556  2018   \n",
       "5076                1.0          578.0              7.0  126229.508197  2018   \n",
       "5246                NaN            NaN            540.0   46296.296296  2017   \n",
       "5669                0.0            NaN            267.0   88000.000000  2017   \n",
       "5807                3.0           80.0             38.0  101875.000000  2019   \n",
       "6246                2.0           73.0              NaN   74324.324324  2019   \n",
       "9379                0.0            NaN              NaN   94047.619048  2017   \n",
       "10773               NaN            NaN             71.0   65517.241379  2017   \n",
       "11285               NaN            NaN             18.0   52702.702703  2019   \n",
       "14382               NaN            NaN            206.0   48571.428571  2015   \n",
       "20478               3.0          449.0            429.0  177777.777778  2017   \n",
       "20507               0.0            NaN             40.0   99166.666667  2018   \n",
       "21377               0.0            NaN             61.0  116666.666667  2017   \n",
       "21824               NaN            NaN              NaN   55681.818182  2019   \n",
       "22336               3.0          511.0              NaN  108214.285714  2019   \n",
       "22869               3.0           30.0             19.0  600000.000000  2018   \n",
       "22938               NaN            NaN             27.0   40816.326531  2018   \n",
       "\n",
       "       month  weekday  living_share  kitchen_share  floor_type  \n",
       "3148      11        0      0.706667       0.106667      другой  \n",
       "4643       2        3      0.666667       0.155556      другой  \n",
       "5076      10        2      0.639344       0.180328      первый  \n",
       "5246      10        4      0.555556       0.166667      другой  \n",
       "5669       8        1      0.426000       0.140000      другой  \n",
       "5807       1        2      0.512500       0.150000      другой  \n",
       "6246       3        0      0.704955       0.128378   последний  \n",
       "9379       3        6      0.714286       0.123810      другой  \n",
       "10773     10        4      0.518966       0.139655      другой  \n",
       "11285      3        2      0.459459       0.243243      другой  \n",
       "14382     12        4      0.571429       0.228571      другой  \n",
       "20478      7        1      0.488889       0.222222      другой  \n",
       "20507      2        0      0.583333       0.216667      другой  \n",
       "21377      4        1      0.897619       0.261905      другой  \n",
       "21824      2        1      0.863636       0.195455   последний  \n",
       "22336      4        4      0.600649       0.178571      другой  \n",
       "22869      7        2      0.560000       0.440000   последний  \n",
       "22938      3        3      0.744898       0.091837   последний  \n",
       "\n",
       "[18 rows x 29 columns]"
      ]
     },
     "execution_count": 27,
     "metadata": {},
     "output_type": "execute_result"
    }
   ],
   "source": [
    "data['ceiling_height'].describe()\n",
    "data.query('ceiling_height > 20')"
   ]
  },
  {
   "cell_type": "markdown",
   "metadata": {},
   "source": [
    "В жилье с потолками больше 20 м цены явно укладываются в норму. При этом их площадь тоже показывает, что речь не о дворцах на набережной Фонтанки или каких-то эксклюзивных предложениях. Если поделить высоту на 10, данные придут в норму. Так и сделаем."
   ]
  },
  {
   "cell_type": "code",
   "execution_count": 28,
   "metadata": {},
   "outputs": [],
   "source": [
    "wrong_ceilings = data.query('ceiling_height > 20').index\n",
    "data.loc[wrong_ceilings, 'ceiling_height'] /= 10"
   ]
  },
  {
   "cell_type": "code",
   "execution_count": 29,
   "metadata": {},
   "outputs": [
    {
     "data": {
      "text/plain": [
       "<matplotlib.axes._subplots.AxesSubplot at 0x7fcb30be5550>"
      ]
     },
     "execution_count": 29,
     "metadata": {},
     "output_type": "execute_result"
    },
    {
     "data": {
      "image/png": "[encoded data removed]",
      "text/plain": [
       "<Figure size 432x288 with 1 Axes>"
      ]
     },
     "metadata": {
      "needs_background": "light"
     },
     "output_type": "display_data"
    }
   ],
   "source": [
    "plt.xlabel(\"высота потолка\")\n",
    "plt.ylabel('частота')\n",
    "plt.title('Распределение высоты потолков')\n",
    "data['ceiling_height'].hist(bins=50)"
   ]
  },
  {
   "cell_type": "markdown",
   "metadata": {},
   "source": [
    "Посмотрим на распределение с высотой не более 5 м."
   ]
  },
  {
   "cell_type": "code",
   "execution_count": 30,
   "metadata": {},
   "outputs": [
    {
     "data": {
      "text/plain": [
       "<matplotlib.axes._subplots.AxesSubplot at 0x7fcb3058ca90>"
      ]
     },
     "execution_count": 30,
     "metadata": {},
     "output_type": "execute_result"
    },
    {
     "data": {
      "image/png": "[encoded data removed]",
      "text/plain": [
       "<Figure size 432x288 with 1 Axes>"
      ]
     },
     "metadata": {
      "needs_background": "light"
     },
     "output_type": "display_data"
    }
   ],
   "source": [
    "plt.xlabel(\"высота потолка\")\n",
    "plt.ylabel('частота')\n",
    "plt.title('Распределение высоты потолков')\n",
    "data['ceiling_height'].hist(bins=10, range=(2, 5))"
   ]
  },
  {
   "cell_type": "markdown",
   "metadata": {},
   "source": [
    "Теперь очевидно, что самые распространенный вариант жилья - с высотой потолка 2,5-2,7 м."
   ]
  },
  {
   "cell_type": "markdown",
   "metadata": {},
   "source": [
    "### Длительность экспонирования"
   ]
  },
  {
   "cell_type": "code",
   "execution_count": 31,
   "metadata": {},
   "outputs": [
    {
     "data": {
      "text/plain": [
       "count    18013.000000\n",
       "mean       183.960362\n",
       "std        220.740517\n",
       "min          1.000000\n",
       "25%         44.000000\n",
       "50%        101.000000\n",
       "75%        237.000000\n",
       "max       1580.000000\n",
       "Name: days_exposition, dtype: float64"
      ]
     },
     "execution_count": 31,
     "metadata": {},
     "output_type": "execute_result"
    }
   ],
   "source": [
    "data['days_exposition'].describe()"
   ]
  },
  {
   "cell_type": "code",
   "execution_count": 32,
   "metadata": {},
   "outputs": [
    {
     "data": {
      "text/plain": [
       "45.0      523\n",
       "60.0      344\n",
       "7.0       205\n",
       "30.0      200\n",
       "4.0       161\n",
       "         ... \n",
       "716.0       1\n",
       "1163.0      1\n",
       "1066.0      1\n",
       "986.0       1\n",
       "1477.0      1\n",
       "Name: days_exposition, Length: 1113, dtype: int64"
      ]
     },
     "execution_count": 32,
     "metadata": {},
     "output_type": "execute_result"
    }
   ],
   "source": [
    "data['days_exposition'].value_counts()"
   ]
  },
  {
   "cell_type": "code",
   "execution_count": 33,
   "metadata": {},
   "outputs": [
    {
     "data": {
      "text/plain": [
       "<matplotlib.axes._subplots.AxesSubplot at 0x7fcb302493d0>"
      ]
     },
     "execution_count": 33,
     "metadata": {},
     "output_type": "execute_result"
    },
    {
     "data": {
      "image/png": "[encoded data removed]",
      "text/plain": [
       "<Figure size 432x288 with 1 Axes>"
      ]
     },
     "metadata": {
      "needs_background": "light"
     },
     "output_type": "display_data"
    }
   ],
   "source": [
    "plt.xlabel(\"длительность экспонирования\")\n",
    "plt.ylabel('частота')\n",
    "plt.title('Распределение длительности экспонировния')\n",
    "data['days_exposition'].hist(bins=50)"
   ]
  },
  {
   "cell_type": "markdown",
   "metadata": {},
   "source": [
    "Ровная, без всяких скачков получилась гистограмма. \n",
    "\n",
    "Итак, среднее время продажи 183 дня, медиана - 101 день. Разница существенная, поскольку мы имеем дело с сверхслучайной величиной или распределением с \"толстым хвостом\". "
   ]
  },
  {
   "cell_type": "code",
   "execution_count": 34,
   "metadata": {},
   "outputs": [
    {
     "data": {
      "text/html": [
       "<div>\n",
       "<style scoped>\n",
       "    .dataframe tbody tr th:only-of-type {\n",
       "        vertical-align: middle;\n",
       "    }\n",
       "\n",
       "    .dataframe tbody tr th {\n",
       "        vertical-align: top;\n",
       "    }\n",
       "\n",
       "    .dataframe thead th {\n",
       "        text-align: right;\n",
       "    }\n",
       "</style>\n",
       "<table border=\"1\" class=\"dataframe\">\n",
       "  <thead>\n",
       "    <tr style=\"text-align: right;\">\n",
       "      <th></th>\n",
       "      <th>count</th>\n",
       "      <th>mean</th>\n",
       "      <th>std</th>\n",
       "      <th>min</th>\n",
       "      <th>25%</th>\n",
       "      <th>50%</th>\n",
       "      <th>75%</th>\n",
       "      <th>max</th>\n",
       "    </tr>\n",
       "  </thead>\n",
       "  <tbody>\n",
       "    <tr>\n",
       "      <td>total_images</td>\n",
       "      <td>8947.0</td>\n",
       "      <td>9.762714</td>\n",
       "      <td>5.729767</td>\n",
       "      <td>0.000000</td>\n",
       "      <td>6.000000</td>\n",
       "      <td>9.000000</td>\n",
       "      <td>14.000000</td>\n",
       "      <td>50.000000</td>\n",
       "    </tr>\n",
       "    <tr>\n",
       "      <td>last_price</td>\n",
       "      <td>8947.0</td>\n",
       "      <td>5242.926904</td>\n",
       "      <td>3426.242908</td>\n",
       "      <td>12.190000</td>\n",
       "      <td>3400.000000</td>\n",
       "      <td>4400.000000</td>\n",
       "      <td>6000.000000</td>\n",
       "      <td>39900.000000</td>\n",
       "    </tr>\n",
       "    <tr>\n",
       "      <td>total_area</td>\n",
       "      <td>8947.0</td>\n",
       "      <td>53.644875</td>\n",
       "      <td>22.264516</td>\n",
       "      <td>14.000000</td>\n",
       "      <td>38.350000</td>\n",
       "      <td>48.000000</td>\n",
       "      <td>62.600000</td>\n",
       "      <td>248.000000</td>\n",
       "    </tr>\n",
       "    <tr>\n",
       "      <td>rooms</td>\n",
       "      <td>8947.0</td>\n",
       "      <td>1.896166</td>\n",
       "      <td>0.918093</td>\n",
       "      <td>0.000000</td>\n",
       "      <td>1.000000</td>\n",
       "      <td>2.000000</td>\n",
       "      <td>3.000000</td>\n",
       "      <td>8.000000</td>\n",
       "    </tr>\n",
       "    <tr>\n",
       "      <td>ceiling_height</td>\n",
       "      <td>5296.0</td>\n",
       "      <td>2.688168</td>\n",
       "      <td>0.267612</td>\n",
       "      <td>1.000000</td>\n",
       "      <td>2.500000</td>\n",
       "      <td>2.600000</td>\n",
       "      <td>2.750000</td>\n",
       "      <td>10.000000</td>\n",
       "    </tr>\n",
       "    <tr>\n",
       "      <td>floors_total</td>\n",
       "      <td>8935.0</td>\n",
       "      <td>11.192054</td>\n",
       "      <td>6.630823</td>\n",
       "      <td>1.000000</td>\n",
       "      <td>5.000000</td>\n",
       "      <td>9.000000</td>\n",
       "      <td>16.000000</td>\n",
       "      <td>52.000000</td>\n",
       "    </tr>\n",
       "    <tr>\n",
       "      <td>living_area</td>\n",
       "      <td>8947.0</td>\n",
       "      <td>30.448477</td>\n",
       "      <td>14.968847</td>\n",
       "      <td>2.000000</td>\n",
       "      <td>18.000000</td>\n",
       "      <td>28.600000</td>\n",
       "      <td>38.000000</td>\n",
       "      <td>166.700000</td>\n",
       "    </tr>\n",
       "    <tr>\n",
       "      <td>floor</td>\n",
       "      <td>8947.0</td>\n",
       "      <td>6.195037</td>\n",
       "      <td>4.965955</td>\n",
       "      <td>1.000000</td>\n",
       "      <td>3.000000</td>\n",
       "      <td>5.000000</td>\n",
       "      <td>8.000000</td>\n",
       "      <td>33.000000</td>\n",
       "    </tr>\n",
       "    <tr>\n",
       "      <td>kitchen_area</td>\n",
       "      <td>8947.0</td>\n",
       "      <td>9.706155</td>\n",
       "      <td>4.428695</td>\n",
       "      <td>0.000000</td>\n",
       "      <td>7.000000</td>\n",
       "      <td>9.000000</td>\n",
       "      <td>11.000000</td>\n",
       "      <td>64.000000</td>\n",
       "    </tr>\n",
       "    <tr>\n",
       "      <td>balcony</td>\n",
       "      <td>8947.0</td>\n",
       "      <td>0.666257</td>\n",
       "      <td>0.971391</td>\n",
       "      <td>0.000000</td>\n",
       "      <td>0.000000</td>\n",
       "      <td>0.000000</td>\n",
       "      <td>1.000000</td>\n",
       "      <td>5.000000</td>\n",
       "    </tr>\n",
       "    <tr>\n",
       "      <td>airports_nearest</td>\n",
       "      <td>7060.0</td>\n",
       "      <td>28917.988102</td>\n",
       "      <td>12973.097409</td>\n",
       "      <td>0.000000</td>\n",
       "      <td>17919.500000</td>\n",
       "      <td>27338.500000</td>\n",
       "      <td>37746.750000</td>\n",
       "      <td>81607.000000</td>\n",
       "    </tr>\n",
       "    <tr>\n",
       "      <td>cityCenters_nearest</td>\n",
       "      <td>7066.0</td>\n",
       "      <td>14642.936315</td>\n",
       "      <td>8134.784261</td>\n",
       "      <td>287.000000</td>\n",
       "      <td>10585.000000</td>\n",
       "      <td>13428.500000</td>\n",
       "      <td>16384.500000</td>\n",
       "      <td>62706.000000</td>\n",
       "    </tr>\n",
       "    <tr>\n",
       "      <td>parks_around3000</td>\n",
       "      <td>7066.0</td>\n",
       "      <td>0.552222</td>\n",
       "      <td>0.758927</td>\n",
       "      <td>0.000000</td>\n",
       "      <td>0.000000</td>\n",
       "      <td>0.000000</td>\n",
       "      <td>1.000000</td>\n",
       "      <td>3.000000</td>\n",
       "    </tr>\n",
       "    <tr>\n",
       "      <td>parks_nearest</td>\n",
       "      <td>2925.0</td>\n",
       "      <td>482.240342</td>\n",
       "      <td>317.623201</td>\n",
       "      <td>1.000000</td>\n",
       "      <td>289.000000</td>\n",
       "      <td>451.000000</td>\n",
       "      <td>610.000000</td>\n",
       "      <td>3064.000000</td>\n",
       "    </tr>\n",
       "    <tr>\n",
       "      <td>ponds_around3000</td>\n",
       "      <td>7066.0</td>\n",
       "      <td>0.699264</td>\n",
       "      <td>0.890775</td>\n",
       "      <td>0.000000</td>\n",
       "      <td>0.000000</td>\n",
       "      <td>0.000000</td>\n",
       "      <td>1.000000</td>\n",
       "      <td>3.000000</td>\n",
       "    </tr>\n",
       "    <tr>\n",
       "      <td>ponds_nearest</td>\n",
       "      <td>3334.0</td>\n",
       "      <td>539.890222</td>\n",
       "      <td>274.142357</td>\n",
       "      <td>16.000000</td>\n",
       "      <td>330.000000</td>\n",
       "      <td>535.000000</td>\n",
       "      <td>750.750000</td>\n",
       "      <td>1344.000000</td>\n",
       "    </tr>\n",
       "    <tr>\n",
       "      <td>days_exposition</td>\n",
       "      <td>8947.0</td>\n",
       "      <td>44.239969</td>\n",
       "      <td>27.302009</td>\n",
       "      <td>1.000000</td>\n",
       "      <td>20.000000</td>\n",
       "      <td>44.000000</td>\n",
       "      <td>64.000000</td>\n",
       "      <td>99.000000</td>\n",
       "    </tr>\n",
       "    <tr>\n",
       "      <td>meter_price</td>\n",
       "      <td>8947.0</td>\n",
       "      <td>96321.225532</td>\n",
       "      <td>32817.134475</td>\n",
       "      <td>111.834862</td>\n",
       "      <td>78545.607001</td>\n",
       "      <td>94907.407407</td>\n",
       "      <td>111538.461538</td>\n",
       "      <td>640422.350472</td>\n",
       "    </tr>\n",
       "    <tr>\n",
       "      <td>year</td>\n",
       "      <td>8947.0</td>\n",
       "      <td>2017.608360</td>\n",
       "      <td>0.751606</td>\n",
       "      <td>2016.000000</td>\n",
       "      <td>2017.000000</td>\n",
       "      <td>2018.000000</td>\n",
       "      <td>2018.000000</td>\n",
       "      <td>2019.000000</td>\n",
       "    </tr>\n",
       "    <tr>\n",
       "      <td>month</td>\n",
       "      <td>8947.0</td>\n",
       "      <td>6.836370</td>\n",
       "      <td>3.463689</td>\n",
       "      <td>1.000000</td>\n",
       "      <td>3.000000</td>\n",
       "      <td>7.000000</td>\n",
       "      <td>10.000000</td>\n",
       "      <td>12.000000</td>\n",
       "    </tr>\n",
       "    <tr>\n",
       "      <td>weekday</td>\n",
       "      <td>8947.0</td>\n",
       "      <td>2.576283</td>\n",
       "      <td>1.782265</td>\n",
       "      <td>0.000000</td>\n",
       "      <td>1.000000</td>\n",
       "      <td>3.000000</td>\n",
       "      <td>4.000000</td>\n",
       "      <td>6.000000</td>\n",
       "    </tr>\n",
       "    <tr>\n",
       "      <td>living_share</td>\n",
       "      <td>8947.0</td>\n",
       "      <td>0.559300</td>\n",
       "      <td>0.103537</td>\n",
       "      <td>0.038462</td>\n",
       "      <td>0.488963</td>\n",
       "      <td>0.562500</td>\n",
       "      <td>0.629978</td>\n",
       "      <td>0.973262</td>\n",
       "    </tr>\n",
       "    <tr>\n",
       "      <td>kitchen_share</td>\n",
       "      <td>8947.0</td>\n",
       "      <td>0.190788</td>\n",
       "      <td>0.072792</td>\n",
       "      <td>0.000000</td>\n",
       "      <td>0.138723</td>\n",
       "      <td>0.178846</td>\n",
       "      <td>0.237249</td>\n",
       "      <td>0.739837</td>\n",
       "    </tr>\n",
       "  </tbody>\n",
       "</table>\n",
       "</div>"
      ],
      "text/plain": [
       "                      count          mean           std          min  \\\n",
       "total_images         8947.0      9.762714      5.729767     0.000000   \n",
       "last_price           8947.0   5242.926904   3426.242908    12.190000   \n",
       "total_area           8947.0     53.644875     22.264516    14.000000   \n",
       "rooms                8947.0      1.896166      0.918093     0.000000   \n",
       "ceiling_height       5296.0      2.688168      0.267612     1.000000   \n",
       "floors_total         8935.0     11.192054      6.630823     1.000000   \n",
       "living_area          8947.0     30.448477     14.968847     2.000000   \n",
       "floor                8947.0      6.195037      4.965955     1.000000   \n",
       "kitchen_area         8947.0      9.706155      4.428695     0.000000   \n",
       "balcony              8947.0      0.666257      0.971391     0.000000   \n",
       "airports_nearest     7060.0  28917.988102  12973.097409     0.000000   \n",
       "cityCenters_nearest  7066.0  14642.936315   8134.784261   287.000000   \n",
       "parks_around3000     7066.0      0.552222      0.758927     0.000000   \n",
       "parks_nearest        2925.0    482.240342    317.623201     1.000000   \n",
       "ponds_around3000     7066.0      0.699264      0.890775     0.000000   \n",
       "ponds_nearest        3334.0    539.890222    274.142357    16.000000   \n",
       "days_exposition      8947.0     44.239969     27.302009     1.000000   \n",
       "meter_price          8947.0  96321.225532  32817.134475   111.834862   \n",
       "year                 8947.0   2017.608360      0.751606  2016.000000   \n",
       "month                8947.0      6.836370      3.463689     1.000000   \n",
       "weekday              8947.0      2.576283      1.782265     0.000000   \n",
       "living_share         8947.0      0.559300      0.103537     0.038462   \n",
       "kitchen_share        8947.0      0.190788      0.072792     0.000000   \n",
       "\n",
       "                              25%           50%            75%            max  \n",
       "total_images             6.000000      9.000000      14.000000      50.000000  \n",
       "last_price            3400.000000   4400.000000    6000.000000   39900.000000  \n",
       "total_area              38.350000     48.000000      62.600000     248.000000  \n",
       "rooms                    1.000000      2.000000       3.000000       8.000000  \n",
       "ceiling_height           2.500000      2.600000       2.750000      10.000000  \n",
       "floors_total             5.000000      9.000000      16.000000      52.000000  \n",
       "living_area             18.000000     28.600000      38.000000     166.700000  \n",
       "floor                    3.000000      5.000000       8.000000      33.000000  \n",
       "kitchen_area             7.000000      9.000000      11.000000      64.000000  \n",
       "balcony                  0.000000      0.000000       1.000000       5.000000  \n",
       "airports_nearest     17919.500000  27338.500000   37746.750000   81607.000000  \n",
       "cityCenters_nearest  10585.000000  13428.500000   16384.500000   62706.000000  \n",
       "parks_around3000         0.000000      0.000000       1.000000       3.000000  \n",
       "parks_nearest          289.000000    451.000000     610.000000    3064.000000  \n",
       "ponds_around3000         0.000000      0.000000       1.000000       3.000000  \n",
       "ponds_nearest          330.000000    535.000000     750.750000    1344.000000  \n",
       "days_exposition         20.000000     44.000000      64.000000      99.000000  \n",
       "meter_price          78545.607001  94907.407407  111538.461538  640422.350472  \n",
       "year                  2017.000000   2018.000000    2018.000000    2019.000000  \n",
       "month                    3.000000      7.000000      10.000000      12.000000  \n",
       "weekday                  1.000000      3.000000       4.000000       6.000000  \n",
       "living_share             0.488963      0.562500       0.629978       0.973262  \n",
       "kitchen_share            0.138723      0.178846       0.237249       0.739837  "
      ]
     },
     "execution_count": 34,
     "metadata": {},
     "output_type": "execute_result"
    }
   ],
   "source": [
    "data.query('days_exposition < 100').describe().T"
   ]
  },
  {
   "cell_type": "markdown",
   "metadata": {},
   "source": [
    "В среднем за 100 дней и меньше расходятся двушки площадью чуть больше 50 $м^{2}$ с большой кухней по средней цене.\n",
    "Быстрой продажой можно считать до 40 дней, половина квартир продается в пределах 100 дней, 75% - в промежутке  до 230 дней. \n",
    "\n",
    "Сухой остаток - если квартиру не купили в первые дни, ее шанс \"застрять\" в объявлении с каждым днем увеличивается. "
   ]
  },
  {
   "cell_type": "markdown",
   "metadata": {},
   "source": [
    "Редкие и выбивающиеся значения рассмотрены в п. 4.1."
   ]
  },
  {
   "cell_type": "markdown",
   "metadata": {},
   "source": [
    "### Факторы стоимости\n",
    "\n",
    "Рассмотрим, какие факторы (площадь, число комнат, удалённость от центра, этаж и дата размещения объявления) оказывают наибольшее влияние на стоимость квартиры."
   ]
  },
  {
   "cell_type": "code",
   "execution_count": 35,
   "metadata": {},
   "outputs": [],
   "source": [
    "factors = ['total_area', 'rooms', 'cityCenters_nearest', 'floor_type', 'year', 'month', 'weekday', 'living_share', 'kitchen_share', 'last_price']"
   ]
  },
  {
   "cell_type": "code",
   "execution_count": 36,
   "metadata": {},
   "outputs": [
    {
     "data": {
      "text/html": [
       "<div>\n",
       "<style scoped>\n",
       "    .dataframe tbody tr th:only-of-type {\n",
       "        vertical-align: middle;\n",
       "    }\n",
       "\n",
       "    .dataframe tbody tr th {\n",
       "        vertical-align: top;\n",
       "    }\n",
       "\n",
       "    .dataframe thead th {\n",
       "        text-align: right;\n",
       "    }\n",
       "</style>\n",
       "<table border=\"1\" class=\"dataframe\">\n",
       "  <thead>\n",
       "    <tr style=\"text-align: right;\">\n",
       "      <th></th>\n",
       "      <th>total_area</th>\n",
       "      <th>rooms</th>\n",
       "      <th>cityCenters_nearest</th>\n",
       "      <th>year</th>\n",
       "      <th>month</th>\n",
       "      <th>weekday</th>\n",
       "      <th>living_share</th>\n",
       "      <th>kitchen_share</th>\n",
       "      <th>last_price</th>\n",
       "    </tr>\n",
       "  </thead>\n",
       "  <tbody>\n",
       "    <tr>\n",
       "      <td>total_area</td>\n",
       "      <td>1.000000</td>\n",
       "      <td>0.798162</td>\n",
       "      <td>-0.232920</td>\n",
       "      <td>-0.083213</td>\n",
       "      <td>0.004418</td>\n",
       "      <td>-0.010395</td>\n",
       "      <td>0.196843</td>\n",
       "      <td>-0.324954</td>\n",
       "      <td>0.784649</td>\n",
       "    </tr>\n",
       "    <tr>\n",
       "      <td>rooms</td>\n",
       "      <td>0.798162</td>\n",
       "      <td>1.000000</td>\n",
       "      <td>-0.169282</td>\n",
       "      <td>-0.049610</td>\n",
       "      <td>-0.001837</td>\n",
       "      <td>-0.002424</td>\n",
       "      <td>0.537116</td>\n",
       "      <td>-0.556581</td>\n",
       "      <td>0.504776</td>\n",
       "    </tr>\n",
       "    <tr>\n",
       "      <td>cityCenters_nearest</td>\n",
       "      <td>-0.232920</td>\n",
       "      <td>-0.169282</td>\n",
       "      <td>1.000000</td>\n",
       "      <td>0.020670</td>\n",
       "      <td>-0.015805</td>\n",
       "      <td>0.011415</td>\n",
       "      <td>-0.034572</td>\n",
       "      <td>0.018526</td>\n",
       "      <td>-0.340664</td>\n",
       "    </tr>\n",
       "    <tr>\n",
       "      <td>year</td>\n",
       "      <td>-0.083213</td>\n",
       "      <td>-0.049610</td>\n",
       "      <td>0.020670</td>\n",
       "      <td>1.000000</td>\n",
       "      <td>-0.256065</td>\n",
       "      <td>-0.005823</td>\n",
       "      <td>0.008346</td>\n",
       "      <td>0.013458</td>\n",
       "      <td>-0.037640</td>\n",
       "    </tr>\n",
       "    <tr>\n",
       "      <td>month</td>\n",
       "      <td>0.004418</td>\n",
       "      <td>-0.001837</td>\n",
       "      <td>-0.015805</td>\n",
       "      <td>-0.256065</td>\n",
       "      <td>1.000000</td>\n",
       "      <td>0.009819</td>\n",
       "      <td>-0.013568</td>\n",
       "      <td>0.007844</td>\n",
       "      <td>0.003800</td>\n",
       "    </tr>\n",
       "    <tr>\n",
       "      <td>weekday</td>\n",
       "      <td>-0.010395</td>\n",
       "      <td>-0.002424</td>\n",
       "      <td>0.011415</td>\n",
       "      <td>-0.005823</td>\n",
       "      <td>0.009819</td>\n",
       "      <td>1.000000</td>\n",
       "      <td>0.005970</td>\n",
       "      <td>-0.002282</td>\n",
       "      <td>-0.010604</td>\n",
       "    </tr>\n",
       "    <tr>\n",
       "      <td>living_share</td>\n",
       "      <td>0.196843</td>\n",
       "      <td>0.537116</td>\n",
       "      <td>-0.034572</td>\n",
       "      <td>0.008346</td>\n",
       "      <td>-0.013568</td>\n",
       "      <td>0.005970</td>\n",
       "      <td>1.000000</td>\n",
       "      <td>-0.724948</td>\n",
       "      <td>0.017385</td>\n",
       "    </tr>\n",
       "    <tr>\n",
       "      <td>kitchen_share</td>\n",
       "      <td>-0.324954</td>\n",
       "      <td>-0.556581</td>\n",
       "      <td>0.018526</td>\n",
       "      <td>0.013458</td>\n",
       "      <td>0.007844</td>\n",
       "      <td>-0.002282</td>\n",
       "      <td>-0.724948</td>\n",
       "      <td>1.000000</td>\n",
       "      <td>-0.100450</td>\n",
       "    </tr>\n",
       "    <tr>\n",
       "      <td>last_price</td>\n",
       "      <td>0.784649</td>\n",
       "      <td>0.504776</td>\n",
       "      <td>-0.340664</td>\n",
       "      <td>-0.037640</td>\n",
       "      <td>0.003800</td>\n",
       "      <td>-0.010604</td>\n",
       "      <td>0.017385</td>\n",
       "      <td>-0.100450</td>\n",
       "      <td>1.000000</td>\n",
       "    </tr>\n",
       "  </tbody>\n",
       "</table>\n",
       "</div>"
      ],
      "text/plain": [
       "                     total_area     rooms  cityCenters_nearest      year  \\\n",
       "total_area             1.000000  0.798162            -0.232920 -0.083213   \n",
       "rooms                  0.798162  1.000000            -0.169282 -0.049610   \n",
       "cityCenters_nearest   -0.232920 -0.169282             1.000000  0.020670   \n",
       "year                  -0.083213 -0.049610             0.020670  1.000000   \n",
       "month                  0.004418 -0.001837            -0.015805 -0.256065   \n",
       "weekday               -0.010395 -0.002424             0.011415 -0.005823   \n",
       "living_share           0.196843  0.537116            -0.034572  0.008346   \n",
       "kitchen_share         -0.324954 -0.556581             0.018526  0.013458   \n",
       "last_price             0.784649  0.504776            -0.340664 -0.037640   \n",
       "\n",
       "                        month   weekday  living_share  kitchen_share  \\\n",
       "total_area           0.004418 -0.010395      0.196843      -0.324954   \n",
       "rooms               -0.001837 -0.002424      0.537116      -0.556581   \n",
       "cityCenters_nearest -0.015805  0.011415     -0.034572       0.018526   \n",
       "year                -0.256065 -0.005823      0.008346       0.013458   \n",
       "month                1.000000  0.009819     -0.013568       0.007844   \n",
       "weekday              0.009819  1.000000      0.005970      -0.002282   \n",
       "living_share        -0.013568  0.005970      1.000000      -0.724948   \n",
       "kitchen_share        0.007844 -0.002282     -0.724948       1.000000   \n",
       "last_price           0.003800 -0.010604      0.017385      -0.100450   \n",
       "\n",
       "                     last_price  \n",
       "total_area             0.784649  \n",
       "rooms                  0.504776  \n",
       "cityCenters_nearest   -0.340664  \n",
       "year                  -0.037640  \n",
       "month                  0.003800  \n",
       "weekday               -0.010604  \n",
       "living_share           0.017385  \n",
       "kitchen_share         -0.100450  \n",
       "last_price             1.000000  "
      ]
     },
     "execution_count": 36,
     "metadata": {},
     "output_type": "execute_result"
    }
   ],
   "source": [
    "data[factors].corr()"
   ]
  },
  {
   "cell_type": "markdown",
   "metadata": {},
   "source": [
    "По последней строчке вывод очевидный - для стоимости существует сильная положительная корреляция с общей площадью и количеством комнат и отрицательная корреляция - с удалением от центра."
   ]
  },
  {
   "cell_type": "code",
   "execution_count": 37,
   "metadata": {},
   "outputs": [
    {
     "data": {
      "image/png": "[encoded data removed]",
      "text/plain": [
       "<Figure size 432x288 with 1 Axes>"
      ]
     },
     "metadata": {
      "needs_background": "light"
     },
     "output_type": "display_data"
    }
   ],
   "source": [
    "\n",
    "data.pivot_table(index='rooms', values='last_price', aggfunc='median').plot()\n",
    "plt.xlabel(\"число комнат\")\n",
    "plt.ylabel(\"цена\")\n",
    "plt.title(\"Зависимость цены от колическтва комнат\") \n",
    "plt.show()"
   ]
  },
  {
   "cell_type": "markdown",
   "metadata": {},
   "source": [
    "В ростом числа комнат растет медиана стоимости. "
   ]
  },
  {
   "cell_type": "code",
   "execution_count": 38,
   "metadata": {},
   "outputs": [
    {
     "data": {
      "text/plain": [
       "<matplotlib.axes._subplots.AxesSubplot at 0x7fcb3008d650>"
      ]
     },
     "execution_count": 38,
     "metadata": {},
     "output_type": "execute_result"
    },
    {
     "data": {
      "image/png": "[encoded data removed]",
      "text/plain": [
       "<Figure size 432x288 with 1 Axes>"
      ]
     },
     "metadata": {
      "needs_background": "light"
     },
     "output_type": "display_data"
    }
   ],
   "source": [
    "data.pivot_table(index='floor_type', values='last_price', aggfunc='median').plot(kind='bar')"
   ]
  },
  {
   "cell_type": "markdown",
   "metadata": {},
   "source": [
    "Очевидно, этаж оказывает влияние на стоимость квартиры - дешевле всего жилье на первом этаже, подороже - на последнем и самое дорогое - на других этажах."
   ]
  },
  {
   "cell_type": "code",
   "execution_count": 39,
   "metadata": {},
   "outputs": [
    {
     "data": {
      "text/plain": [
       "Text(0, 0.5, 'цена')"
      ]
     },
     "execution_count": 39,
     "metadata": {},
     "output_type": "execute_result"
    },
    {
     "data": {
      "image/png": "[encoded data removed]",
      "text/plain": [
       "<Figure size 432x288 with 1 Axes>"
      ]
     },
     "metadata": {
      "needs_background": "light"
     },
     "output_type": "display_data"
    }
   ],
   "source": [
    "\n",
    "data.plot(x='total_area', y='last_price', kind='scatter', alpha=0.1)\n",
    "plt.xlabel(\"общая площадь\")\n",
    "plt.ylabel('цена')"
   ]
  },
  {
   "cell_type": "markdown",
   "metadata": {},
   "source": [
    "В целом вывод такой - чем больше площадь, тем дороже."
   ]
  },
  {
   "cell_type": "code",
   "execution_count": 40,
   "metadata": {},
   "outputs": [
    {
     "data": {
      "image/png": "[encoded data removed]",
      "text/plain": [
       "<Figure size 432x288 with 1 Axes>"
      ]
     },
     "metadata": {
      "needs_background": "light"
     },
     "output_type": "display_data"
    }
   ],
   "source": [
    "data.pivot_table(index='year', values='last_price').plot(kind='bar')\n",
    "plt.show()"
   ]
  },
  {
   "cell_type": "code",
   "execution_count": 41,
   "metadata": {},
   "outputs": [
    {
     "data": {
      "text/plain": [
       "Text(0.5, 0, 'месяц')"
      ]
     },
     "execution_count": 41,
     "metadata": {},
     "output_type": "execute_result"
    },
    {
     "data": {
      "image/png": "[encoded data removed]",
      "text/plain": [
       "<Figure size 432x288 with 1 Axes>"
      ]
     },
     "metadata": {
      "needs_background": "light"
     },
     "output_type": "display_data"
    }
   ],
   "source": [
    "data.pivot_table(index='month', values='last_price').plot(kind='bar')\n",
    "plt.ylabel('цена')\n",
    "plt.xlabel('месяц')"
   ]
  },
  {
   "cell_type": "code",
   "execution_count": 42,
   "metadata": {},
   "outputs": [
    {
     "data": {
      "text/plain": [
       "<matplotlib.axes._subplots.AxesSubplot at 0x7fcb30131fd0>"
      ]
     },
     "execution_count": 42,
     "metadata": {},
     "output_type": "execute_result"
    },
    {
     "data": {
      "image/png": "[encoded data removed]",
      "text/plain": [
       "<Figure size 432x288 with 1 Axes>"
      ]
     },
     "metadata": {
      "needs_background": "light"
     },
     "output_type": "display_data"
    }
   ],
   "source": [
    "data.pivot_table(index='weekday', values='last_price').plot(kind='bar')"
   ]
  },
  {
   "cell_type": "markdown",
   "metadata": {},
   "source": [
    "Из представленных таблиц следует, что только год публикации оказывает существенное влияние на стоимость. Скорее всего, это связано с колебанием курса валют и экономической ситуацией. Самое дорогое жилье было в 2014 году, затем  подешевело и только в 2019 начало набирать цену."
   ]
  },
  {
   "cell_type": "code",
   "execution_count": 43,
   "metadata": {},
   "outputs": [
    {
     "data": {
      "text/plain": [
       "Text(0, 0.5, 'цена')"
      ]
     },
     "execution_count": 43,
     "metadata": {},
     "output_type": "execute_result"
    },
    {
     "data": {
      "image/png": "[encoded data removed]",
      "text/plain": [
       "<Figure size 432x288 with 1 Axes>"
      ]
     },
     "metadata": {
      "needs_background": "light"
     },
     "output_type": "display_data"
    }
   ],
   "source": [
    "\n",
    "data.plot(x='cityCenters_nearest', y='last_price', kind='scatter', alpha=0.1)\n",
    "plt.xlabel(\"расстояние до центра\")\n",
    "plt.ylabel('цена')"
   ]
  },
  {
   "cell_type": "markdown",
   "metadata": {},
   "source": [
    "Самые дорогие квартиры - в центре до удаленности примерно 10 км, затем цены заметно снижаются. На расстоянии 50 км видно скопление недорогих предложений - скорее всего это крупный пригород. \n",
    "\n",
    "Питер - бывшая столица царской России. И исторический центр у него (Петроградка, Васька, Адмиралтейский, Центральный, часть Выборгского районов) заметно больше, чем у Москвы (Садовое кольцо). Поэтому до 10 км все можно считать центром, что и отражается на стоимости."
   ]
  },
  {
   "cell_type": "markdown",
   "metadata": {},
   "source": [
    "### Топ-10 по предложению"
   ]
  },
  {
   "cell_type": "code",
   "execution_count": 44,
   "metadata": {},
   "outputs": [],
   "source": [
    "top_10_sup = data['locality_name'].value_counts().head(10)"
   ]
  },
  {
   "cell_type": "code",
   "execution_count": 45,
   "metadata": {},
   "outputs": [
    {
     "data": {
      "text/plain": [
       "Санкт-Петербург      13944\n",
       "посёлок Мурино         421\n",
       "посёлок Шушары         396\n",
       "Всеволожск             362\n",
       "Пушкин                 335\n",
       "Колпино                321\n",
       "Гатчина                290\n",
       "посёлок Парголово      290\n",
       "деревня Кудрово        232\n",
       "Выборг                 190\n",
       "Name: locality_name, dtype: int64"
      ]
     },
     "execution_count": 45,
     "metadata": {},
     "output_type": "execute_result"
    }
   ],
   "source": [
    "top_10_sup"
   ]
  },
  {
   "cell_type": "code",
   "execution_count": 46,
   "metadata": {},
   "outputs": [
    {
     "data": {
      "text/html": [
       "<div>\n",
       "<style scoped>\n",
       "    .dataframe tbody tr th:only-of-type {\n",
       "        vertical-align: middle;\n",
       "    }\n",
       "\n",
       "    .dataframe tbody tr th {\n",
       "        vertical-align: top;\n",
       "    }\n",
       "\n",
       "    .dataframe thead th {\n",
       "        text-align: right;\n",
       "    }\n",
       "</style>\n",
       "<table border=\"1\" class=\"dataframe\">\n",
       "  <thead>\n",
       "    <tr style=\"text-align: right;\">\n",
       "      <th></th>\n",
       "      <th>count</th>\n",
       "      <th>mean</th>\n",
       "    </tr>\n",
       "    <tr>\n",
       "      <th>locality_name</th>\n",
       "      <th></th>\n",
       "      <th></th>\n",
       "    </tr>\n",
       "  </thead>\n",
       "  <tbody>\n",
       "    <tr>\n",
       "      <td>Санкт-Петербург</td>\n",
       "      <td>13944</td>\n",
       "      <td>6991.899037</td>\n",
       "    </tr>\n",
       "    <tr>\n",
       "      <td>Пушкин</td>\n",
       "      <td>335</td>\n",
       "      <td>6317.953027</td>\n",
       "    </tr>\n",
       "    <tr>\n",
       "      <td>посёлок Парголово</td>\n",
       "      <td>290</td>\n",
       "      <td>4489.605031</td>\n",
       "    </tr>\n",
       "    <tr>\n",
       "      <td>деревня Кудрово</td>\n",
       "      <td>232</td>\n",
       "      <td>4397.358297</td>\n",
       "    </tr>\n",
       "    <tr>\n",
       "      <td>посёлок Шушары</td>\n",
       "      <td>396</td>\n",
       "      <td>4114.222977</td>\n",
       "    </tr>\n",
       "    <tr>\n",
       "      <td>Колпино</td>\n",
       "      <td>321</td>\n",
       "      <td>3862.771717</td>\n",
       "    </tr>\n",
       "    <tr>\n",
       "      <td>посёлок Мурино</td>\n",
       "      <td>421</td>\n",
       "      <td>3793.083430</td>\n",
       "    </tr>\n",
       "    <tr>\n",
       "      <td>Всеволожск</td>\n",
       "      <td>362</td>\n",
       "      <td>3789.911561</td>\n",
       "    </tr>\n",
       "    <tr>\n",
       "      <td>Гатчина</td>\n",
       "      <td>290</td>\n",
       "      <td>3493.687448</td>\n",
       "    </tr>\n",
       "    <tr>\n",
       "      <td>Выборг</td>\n",
       "      <td>190</td>\n",
       "      <td>3292.863158</td>\n",
       "    </tr>\n",
       "  </tbody>\n",
       "</table>\n",
       "</div>"
      ],
      "text/plain": [
       "                   count         mean\n",
       "locality_name                        \n",
       "Санкт-Петербург    13944  6991.899037\n",
       "Пушкин               335  6317.953027\n",
       "посёлок Парголово    290  4489.605031\n",
       "деревня Кудрово      232  4397.358297\n",
       "посёлок Шушары       396  4114.222977\n",
       "Колпино              321  3862.771717\n",
       "посёлок Мурино       421  3793.083430\n",
       "Всеволожск           362  3789.911561\n",
       "Гатчина              290  3493.687448\n",
       "Выборг               190  3292.863158"
      ]
     },
     "execution_count": 46,
     "metadata": {},
     "output_type": "execute_result"
    }
   ],
   "source": [
    "top_10 = data.query('locality_name in @top_10_sup.index').pivot_table(index='locality_name', values='last_price', aggfunc=['count','mean'])\n",
    "top_10.columns = ['count', 'mean']\n",
    "top_10.sort_values(by='mean', ascending=False)"
   ]
  },
  {
   "cell_type": "markdown",
   "metadata": {},
   "source": [
    "<div class=\"alert alert-block alert-warning\">\n",
    "<b>Remarks:</b> ✔нужно вывести сводную таблицу с средней ценой квадрата и числом объявлений"
   ]
  },
  {
   "cell_type": "markdown",
   "metadata": {},
   "source": [
    "В топ-10 самые дорогие квартиры - в Питере, на 10 месте - Выборг. \n"
   ]
  },
  {
   "cell_type": "markdown",
   "metadata": {},
   "source": [
    "### Анализ недвижимости в центре"
   ]
  },
  {
   "cell_type": "code",
   "execution_count": 47,
   "metadata": {},
   "outputs": [
    {
     "name": "stderr",
     "output_type": "stream",
     "text": [
      "/opt/conda/lib/python3.7/site-packages/ipykernel_launcher.py:2: SettingWithCopyWarning: \n",
      "A value is trying to be set on a copy of a slice from a DataFrame.\n",
      "Try using .loc[row_indexer,col_indexer] = value instead\n",
      "\n",
      "See the caveats in the documentation: http://pandas.pydata.org/pandas-docs/stable/user_guide/indexing.html#returning-a-view-versus-a-copy\n",
      "  \n"
     ]
    },
    {
     "data": {
      "text/plain": [
       "<matplotlib.axes._subplots.AxesSubplot at 0x7fcb2ff67c10>"
      ]
     },
     "execution_count": 47,
     "metadata": {},
     "output_type": "execute_result"
    },
    {
     "data": {
      "image/png": "[encoded data removed]",
      "text/plain": [
       "<Figure size 432x288 with 1 Axes>"
      ]
     },
     "metadata": {
      "needs_background": "light"
     },
     "output_type": "display_data"
    }
   ],
   "source": [
    "new_data = data.dropna(subset=['cityCenters_nearest'])\n",
    "new_data['center_distance'] = new_data['cityCenters_nearest'].astype(int)\n",
    "new_data.pivot_table(index='center_distance', values='last_price').plot( grid=True)"
   ]
  },
  {
   "cell_type": "markdown",
   "metadata": {},
   "source": [
    "Точно, центр - в радиусе до 10 км, там график практически не меняется! Проанализируем особенности предложений в этой локации."
   ]
  },
  {
   "cell_type": "code",
   "execution_count": 48,
   "metadata": {},
   "outputs": [
    {
     "data": {
      "text/plain": [
       "<matplotlib.axes._subplots.AxesSubplot at 0x7fcb30cff390>"
      ]
     },
     "execution_count": 48,
     "metadata": {},
     "output_type": "execute_result"
    },
    {
     "data": {
      "image/png": "[encoded data removed]",
      "text/plain": [
       "<Figure size 432x288 with 1 Axes>"
      ]
     },
     "metadata": {
      "needs_background": "light"
     },
     "output_type": "display_data"
    }
   ],
   "source": [
    "new_data = new_data.query('center_distance < 10000')\n",
    "plt.xlabel(\"высота потолков\")\n",
    "plt.ylabel('частота')\n",
    "plt.title('Распределение высоты потолков')\n",
    "new_data['ceiling_height'].hist(range=(2, 5))"
   ]
  },
  {
   "cell_type": "markdown",
   "metadata": {},
   "source": [
    "В центре города очень много жилья с высокими потолками - от 3 м. Это особенность старого Питера - в дореволюционных доходных домах квартиры с высокими потолками."
   ]
  },
  {
   "cell_type": "code",
   "execution_count": 49,
   "metadata": {},
   "outputs": [
    {
     "data": {
      "text/plain": [
       "<matplotlib.axes._subplots.AxesSubplot at 0x7fcb30c7e1d0>"
      ]
     },
     "execution_count": 49,
     "metadata": {},
     "output_type": "execute_result"
    },
    {
     "data": {
      "image/png": "[encoded data removed]",
      "text/plain": [
       "<Figure size 432x288 with 1 Axes>"
      ]
     },
     "metadata": {
      "needs_background": "light"
     },
     "output_type": "display_data"
    }
   ],
   "source": [
    "plt.xlabel(\"общая площадь\")\n",
    "plt.ylabel('частота')\n",
    "plt.title('Распределение общей площади')\n",
    "new_data['total_area'].hist()"
   ]
  },
  {
   "cell_type": "markdown",
   "metadata": {},
   "source": [
    "На гистограмме видна еще одна особенность квартир в центре - большая площадь, в среднем 60 $м^{2}$, много вариантом от 100 $м^{2}$."
   ]
  },
  {
   "cell_type": "code",
   "execution_count": 50,
   "metadata": {},
   "outputs": [
    {
     "data": {
      "text/plain": [
       "rooms\n",
       "0      21\n",
       "1     831\n",
       "2    1422\n",
       "3    1327\n",
       "4     480\n",
       "5     164\n",
       "6      57\n",
       "7      31\n",
       "8       6\n",
       "Name: rooms, dtype: int64"
      ]
     },
     "execution_count": 50,
     "metadata": {},
     "output_type": "execute_result"
    }
   ],
   "source": [
    "new_data.groupby('rooms')['rooms'].count()"
   ]
  },
  {
   "cell_type": "markdown",
   "metadata": {},
   "source": [
    "По количеству комнат преобладают двушки и трешки, довольно часто всречаются четырех - пятикомнатные квартиры и даже больше."
   ]
  },
  {
   "cell_type": "code",
   "execution_count": 51,
   "metadata": {},
   "outputs": [
    {
     "data": {
      "text/plain": [
       "count     4339.000000\n",
       "mean      9797.863039\n",
       "std       6410.256018\n",
       "min         12.190000\n",
       "25%       5600.000000\n",
       "50%       7930.000000\n",
       "75%      11791.500000\n",
       "max      39990.000000\n",
       "Name: last_price, dtype: float64"
      ]
     },
     "execution_count": 51,
     "metadata": {},
     "output_type": "execute_result"
    }
   ],
   "source": [
    "new_data['last_price'].describe()"
   ]
  },
  {
   "cell_type": "code",
   "execution_count": 52,
   "metadata": {},
   "outputs": [
    {
     "data": {
      "text/plain": [
       "<matplotlib.axes._subplots.AxesSubplot at 0x7fcb2fefb790>"
      ]
     },
     "execution_count": 52,
     "metadata": {},
     "output_type": "execute_result"
    },
    {
     "data": {
      "image/png": "[encoded data removed]",
      "text/plain": [
       "<Figure size 432x288 with 1 Axes>"
      ]
     },
     "metadata": {
      "needs_background": "light"
     },
     "output_type": "display_data"
    }
   ],
   "source": [
    "plt.xlabel(\"цена\")\n",
    "plt.ylabel('частота')\n",
    "plt.title('Распределение цен')\n",
    "new_data['last_price'].hist(bins=15)"
   ]
  },
  {
   "cell_type": "markdown",
   "metadata": {},
   "source": [
    "Жилье в центре дорогое - средняя стоимость около 10 млн."
   ]
  },
  {
   "cell_type": "markdown",
   "metadata": {},
   "source": [
    "# "
   ]
  },
  {
   "cell_type": "markdown",
   "metadata": {},
   "source": [
    "## Общий вывод"
   ]
  },
  {
   "cell_type": "markdown",
   "metadata": {},
   "source": [
    "Из представленных данных удалось выявить особенности рынка недвижимости Санкт-Петербурга. Установлено, что самый распространенный сегмент рынка - одно- и двух-комнатные квартиры. Очень сильный разброс цен, причем на цену влияет этаж - на первом и последнем она ниже.\n",
    "\n",
    "Особо выделяется центральная часть города, в радиусе до 10 км. В этой области преобладают большие квартиры старого фонда и бизнес-класса, что наложило отпечаток на распределение высоты потолков, площади и количества комнат.\n"
   ]
  },
  {
   "cell_type": "markdown",
   "metadata": {},
   "source": [
    "\n",
    "Самый распространенный сегмент рынка недвижимости - 1 и 2-х комн. квартиры. Средняя площадь составляет около 50 $м^{2}$, высота потолков 2,5-2,7 м. Объявления экспонируются долго, в среднем пол года. Менее чем за три  месяца продаются двушки плошадью примерно  50 $м^{2}$ с большой кухней. На стоимость недвижимости помимо площади оказывает влияние этаж - на первом и последнем цена до 10% ниже.  \n",
    "    \n",
    "Особо выделяется центр города - здесь квартиры больше, с высокими потолками. Среднее предложение - 2/3 комн. квартира площадью 60-80 $м^{2}$. Стоимость заметно выше, чем в среднем по городу, квартира обойдется в среднем в 10 млн. против 7 млн.\n",
    "    \n"
   ]
  }
 ],
 "metadata": {
  "ExecuteTimeLog": [
   {
    "duration": 880,
    "start_time": "2021-10-01T20:50:39.229Z"
   },
   {
    "duration": 89,
    "start_time": "2021-10-01T20:50:55.017Z"
   },
   {
    "duration": 115,
    "start_time": "2021-10-01T20:52:29.680Z"
   },
   {
    "duration": 1017,
    "start_time": "2021-10-02T11:02:41.602Z"
   },
   {
    "duration": 16,
    "start_time": "2021-10-02T11:03:08.128Z"
   },
   {
    "duration": 43,
    "start_time": "2021-10-02T11:09:21.213Z"
   },
   {
    "duration": 43,
    "start_time": "2021-10-02T11:10:14.597Z"
   },
   {
    "duration": 12,
    "start_time": "2021-10-02T11:10:47.905Z"
   },
   {
    "duration": 19,
    "start_time": "2021-10-02T11:16:37.919Z"
   },
   {
    "duration": 14,
    "start_time": "2021-10-02T11:20:19.828Z"
   },
   {
    "duration": 12,
    "start_time": "2021-10-02T11:20:28.512Z"
   },
   {
    "duration": 14,
    "start_time": "2021-10-02T11:26:04.801Z"
   },
   {
    "duration": 12,
    "start_time": "2021-10-02T11:27:43.714Z"
   },
   {
    "duration": 9,
    "start_time": "2021-10-02T11:28:16.378Z"
   },
   {
    "duration": 35,
    "start_time": "2021-10-02T11:29:00.949Z"
   },
   {
    "duration": 12,
    "start_time": "2021-10-02T11:33:01.709Z"
   },
   {
    "duration": 10,
    "start_time": "2021-10-02T11:33:32.753Z"
   },
   {
    "duration": 11,
    "start_time": "2021-10-02T11:33:40.915Z"
   },
   {
    "duration": 46,
    "start_time": "2021-10-02T11:42:58.008Z"
   },
   {
    "duration": 44,
    "start_time": "2021-10-02T11:43:49.505Z"
   },
   {
    "duration": 47,
    "start_time": "2021-10-02T11:44:26.700Z"
   },
   {
    "duration": 10,
    "start_time": "2021-10-02T11:49:56.049Z"
   },
   {
    "duration": 9,
    "start_time": "2021-10-02T12:02:21.603Z"
   },
   {
    "duration": 15,
    "start_time": "2021-10-02T12:03:22.254Z"
   },
   {
    "duration": 416,
    "start_time": "2021-10-02T12:06:43.217Z"
   },
   {
    "duration": 23,
    "start_time": "2021-10-02T12:06:49.449Z"
   },
   {
    "duration": 63,
    "start_time": "2021-10-02T12:10:05.736Z"
   },
   {
    "duration": 17,
    "start_time": "2021-10-02T12:11:05.548Z"
   },
   {
    "duration": 17,
    "start_time": "2021-10-02T12:11:22.726Z"
   },
   {
    "duration": 61,
    "start_time": "2021-10-02T12:13:05.639Z"
   },
   {
    "duration": 15,
    "start_time": "2021-10-02T12:18:42.661Z"
   },
   {
    "duration": 66,
    "start_time": "2021-10-02T12:18:51.789Z"
   },
   {
    "duration": 101,
    "start_time": "2021-10-02T12:21:41.975Z"
   },
   {
    "duration": 23,
    "start_time": "2021-10-02T12:22:42.051Z"
   },
   {
    "duration": 7,
    "start_time": "2021-10-02T12:30:42.725Z"
   },
   {
    "duration": 7316,
    "start_time": "2021-10-02T12:31:11.858Z"
   },
   {
    "duration": 317,
    "start_time": "2021-10-02T12:33:51.711Z"
   },
   {
    "duration": 4960,
    "start_time": "2021-10-02T12:36:30.843Z"
   },
   {
    "duration": 5459,
    "start_time": "2021-10-02T12:37:26.640Z"
   },
   {
    "duration": 4734,
    "start_time": "2021-10-02T12:38:14.559Z"
   },
   {
    "duration": 11390,
    "start_time": "2021-10-02T12:39:27.218Z"
   },
   {
    "duration": 1030,
    "start_time": "2021-10-02T12:39:58.452Z"
   },
   {
    "duration": 32,
    "start_time": "2021-10-02T12:39:59.485Z"
   },
   {
    "duration": 45,
    "start_time": "2021-10-02T12:39:59.520Z"
   },
   {
    "duration": 56,
    "start_time": "2021-10-02T12:39:59.567Z"
   },
   {
    "duration": 5,
    "start_time": "2021-10-02T12:40:06.686Z"
   },
   {
    "duration": 8,
    "start_time": "2021-10-02T12:40:13.295Z"
   },
   {
    "duration": 401,
    "start_time": "2021-10-02T12:43:15.720Z"
   },
   {
    "duration": 70,
    "start_time": "2021-10-02T12:43:26.298Z"
   },
   {
    "duration": 14,
    "start_time": "2021-10-02T12:45:05.048Z"
   },
   {
    "duration": 1475,
    "start_time": "2021-10-02T12:48:14.277Z"
   },
   {
    "duration": 14,
    "start_time": "2021-10-02T12:48:46.617Z"
   },
   {
    "duration": 10,
    "start_time": "2021-10-02T12:52:00.755Z"
   },
   {
    "duration": 14,
    "start_time": "2021-10-02T12:54:51.563Z"
   },
   {
    "duration": 6,
    "start_time": "2021-10-02T12:55:44.834Z"
   },
   {
    "duration": 12,
    "start_time": "2021-10-02T12:58:10.360Z"
   },
   {
    "duration": 902,
    "start_time": "2021-10-02T12:58:25.219Z"
   },
   {
    "duration": 19,
    "start_time": "2021-10-02T12:58:26.125Z"
   },
   {
    "duration": 85,
    "start_time": "2021-10-02T12:58:26.148Z"
   },
   {
    "duration": 27,
    "start_time": "2021-10-02T12:58:26.237Z"
   },
   {
    "duration": 7,
    "start_time": "2021-10-02T12:58:26.267Z"
   },
   {
    "duration": 46,
    "start_time": "2021-10-02T12:58:26.277Z"
   },
   {
    "duration": 16,
    "start_time": "2021-10-02T12:58:26.325Z"
   },
   {
    "duration": 15,
    "start_time": "2021-10-02T12:58:35.001Z"
   },
   {
    "duration": 14,
    "start_time": "2021-10-02T12:58:42.989Z"
   },
   {
    "duration": 950,
    "start_time": "2021-10-02T12:59:00.046Z"
   },
   {
    "duration": 10,
    "start_time": "2021-10-02T13:00:27.595Z"
   },
   {
    "duration": 936,
    "start_time": "2021-10-02T13:00:52.782Z"
   },
   {
    "duration": 16,
    "start_time": "2021-10-02T13:00:53.721Z"
   },
   {
    "duration": 44,
    "start_time": "2021-10-02T13:00:53.740Z"
   },
   {
    "duration": 47,
    "start_time": "2021-10-02T13:00:53.786Z"
   },
   {
    "duration": 7,
    "start_time": "2021-10-02T13:00:53.835Z"
   },
   {
    "duration": 15,
    "start_time": "2021-10-02T13:00:53.844Z"
   },
   {
    "duration": 13,
    "start_time": "2021-10-02T13:00:53.861Z"
   },
   {
    "duration": 7,
    "start_time": "2021-10-02T13:00:57.165Z"
   },
   {
    "duration": 15,
    "start_time": "2021-10-02T13:01:05.063Z"
   },
   {
    "duration": 14,
    "start_time": "2021-10-02T13:01:34.796Z"
   },
   {
    "duration": 15,
    "start_time": "2021-10-02T13:02:27.121Z"
   },
   {
    "duration": 19,
    "start_time": "2021-10-02T13:33:09.461Z"
   },
   {
    "duration": 24,
    "start_time": "2021-10-02T13:33:52.994Z"
   },
   {
    "duration": 12,
    "start_time": "2021-10-02T13:46:29.798Z"
   },
   {
    "duration": 14,
    "start_time": "2021-10-02T13:46:57.843Z"
   },
   {
    "duration": 401,
    "start_time": "2021-10-02T13:55:27.894Z"
   },
   {
    "duration": 349,
    "start_time": "2021-10-02T13:55:38.728Z"
   },
   {
    "duration": 21,
    "start_time": "2021-10-02T13:55:51.083Z"
   },
   {
    "duration": 7,
    "start_time": "2021-10-02T14:14:22.070Z"
   },
   {
    "duration": 11,
    "start_time": "2021-10-02T14:21:46.446Z"
   },
   {
    "duration": 860,
    "start_time": "2021-10-02T14:22:08.764Z"
   },
   {
    "duration": 16,
    "start_time": "2021-10-02T14:22:09.627Z"
   },
   {
    "duration": 51,
    "start_time": "2021-10-02T14:22:09.646Z"
   },
   {
    "duration": 23,
    "start_time": "2021-10-02T14:22:09.717Z"
   },
   {
    "duration": 10,
    "start_time": "2021-10-02T14:22:09.743Z"
   },
   {
    "duration": 23,
    "start_time": "2021-10-02T14:22:09.756Z"
   },
   {
    "duration": 43,
    "start_time": "2021-10-02T14:22:09.782Z"
   },
   {
    "duration": 26,
    "start_time": "2021-10-02T14:22:09.827Z"
   },
   {
    "duration": 17,
    "start_time": "2021-10-02T14:22:09.858Z"
   },
   {
    "duration": 32,
    "start_time": "2021-10-02T14:23:39.458Z"
   },
   {
    "duration": 7,
    "start_time": "2021-10-02T14:25:32.111Z"
   },
   {
    "duration": 18,
    "start_time": "2021-10-02T14:25:36.519Z"
   },
   {
    "duration": 5,
    "start_time": "2021-10-02T14:25:55.454Z"
   },
   {
    "duration": 16,
    "start_time": "2021-10-02T14:26:40.978Z"
   },
   {
    "duration": 14,
    "start_time": "2021-10-02T14:26:50.566Z"
   },
   {
    "duration": 16,
    "start_time": "2021-10-02T14:27:09.205Z"
   },
   {
    "duration": 19,
    "start_time": "2021-10-02T14:30:11.779Z"
   },
   {
    "duration": 43,
    "start_time": "2021-10-02T14:30:31.435Z"
   },
   {
    "duration": 19,
    "start_time": "2021-10-02T14:31:18.715Z"
   },
   {
    "duration": 32,
    "start_time": "2021-10-02T14:32:25.627Z"
   },
   {
    "duration": 24,
    "start_time": "2021-10-02T14:32:35.297Z"
   },
   {
    "duration": 53,
    "start_time": "2021-10-02T14:32:57.427Z"
   },
   {
    "duration": 6,
    "start_time": "2021-10-02T14:48:23.849Z"
   },
   {
    "duration": 102,
    "start_time": "2021-10-02T14:48:36.380Z"
   },
   {
    "duration": 123,
    "start_time": "2021-10-02T14:49:43.335Z"
   },
   {
    "duration": 1118,
    "start_time": "2021-10-02T14:51:40.806Z"
   },
   {
    "duration": 1545,
    "start_time": "2021-10-02T14:51:52.326Z"
   },
   {
    "duration": 1151,
    "start_time": "2021-10-02T14:52:20.055Z"
   },
   {
    "duration": 870,
    "start_time": "2021-10-02T14:52:43.657Z"
   },
   {
    "duration": 961,
    "start_time": "2021-10-02T14:54:26.822Z"
   },
   {
    "duration": 19,
    "start_time": "2021-10-02T14:54:27.786Z"
   },
   {
    "duration": 45,
    "start_time": "2021-10-02T14:54:27.819Z"
   },
   {
    "duration": 55,
    "start_time": "2021-10-02T14:54:27.868Z"
   },
   {
    "duration": 8,
    "start_time": "2021-10-02T14:54:27.925Z"
   },
   {
    "duration": 13,
    "start_time": "2021-10-02T14:54:27.936Z"
   },
   {
    "duration": 17,
    "start_time": "2021-10-02T14:54:27.951Z"
   },
   {
    "duration": 49,
    "start_time": "2021-10-02T14:54:27.971Z"
   },
   {
    "duration": 14,
    "start_time": "2021-10-02T14:54:28.024Z"
   },
   {
    "duration": 7725,
    "start_time": "2021-10-02T14:54:43.294Z"
   },
   {
    "duration": 32,
    "start_time": "2021-10-02T14:55:22.095Z"
   },
   {
    "duration": 31,
    "start_time": "2021-10-02T14:55:53.206Z"
   },
   {
    "duration": 886,
    "start_time": "2021-10-02T14:56:24.415Z"
   },
   {
    "duration": 274,
    "start_time": "2021-10-02T19:56:48.512Z"
   },
   {
    "duration": 789,
    "start_time": "2021-10-02T19:57:01.132Z"
   },
   {
    "duration": 11,
    "start_time": "2021-10-02T19:57:01.923Z"
   },
   {
    "duration": 57,
    "start_time": "2021-10-02T19:57:01.937Z"
   },
   {
    "duration": 23,
    "start_time": "2021-10-02T19:57:01.996Z"
   },
   {
    "duration": 7,
    "start_time": "2021-10-02T19:57:02.022Z"
   },
   {
    "duration": 34,
    "start_time": "2021-10-02T19:57:02.031Z"
   },
   {
    "duration": 18,
    "start_time": "2021-10-02T19:57:02.067Z"
   },
   {
    "duration": 21,
    "start_time": "2021-10-02T19:57:02.087Z"
   },
   {
    "duration": 11,
    "start_time": "2021-10-02T19:57:02.111Z"
   },
   {
    "duration": 601,
    "start_time": "2021-10-02T19:57:02.125Z"
   },
   {
    "duration": 250,
    "start_time": "2021-10-02T19:57:05.661Z"
   },
   {
    "duration": 247,
    "start_time": "2021-10-02T19:57:32.961Z"
   },
   {
    "duration": 234,
    "start_time": "2021-10-02T19:57:42.881Z"
   },
   {
    "duration": 184,
    "start_time": "2021-10-02T19:57:58.727Z"
   },
   {
    "duration": 927,
    "start_time": "2021-10-02T19:58:04.944Z"
   },
   {
    "duration": 1783,
    "start_time": "2021-10-02T19:58:29.025Z"
   },
   {
    "duration": 1275,
    "start_time": "2021-10-02T19:58:47.344Z"
   },
   {
    "duration": 1742,
    "start_time": "2021-10-02T20:02:04.166Z"
   },
   {
    "duration": 768,
    "start_time": "2021-10-02T20:03:25.706Z"
   },
   {
    "duration": 513,
    "start_time": "2021-10-02T20:03:35.584Z"
   },
   {
    "duration": 10,
    "start_time": "2021-10-02T20:03:54.964Z"
   },
   {
    "duration": 7,
    "start_time": "2021-10-02T20:11:29.470Z"
   },
   {
    "duration": 8,
    "start_time": "2021-10-02T20:11:45.589Z"
   },
   {
    "duration": 6,
    "start_time": "2021-10-02T20:12:15.660Z"
   },
   {
    "duration": 7,
    "start_time": "2021-10-02T20:14:01.540Z"
   },
   {
    "duration": 7,
    "start_time": "2021-10-02T20:14:10.589Z"
   },
   {
    "duration": 6,
    "start_time": "2021-10-02T20:16:57.667Z"
   },
   {
    "duration": 11,
    "start_time": "2021-10-02T20:20:59.428Z"
   },
   {
    "duration": 3788,
    "start_time": "2021-10-02T20:21:19.677Z"
   },
   {
    "duration": 313,
    "start_time": "2021-10-02T20:21:31.273Z"
   },
   {
    "duration": 231,
    "start_time": "2021-10-02T20:22:03.818Z"
   },
   {
    "duration": 210,
    "start_time": "2021-10-02T20:22:11.991Z"
   },
   {
    "duration": 187,
    "start_time": "2021-10-02T20:22:46.979Z"
   },
   {
    "duration": 208,
    "start_time": "2021-10-02T20:26:47.958Z"
   },
   {
    "duration": 186,
    "start_time": "2021-10-02T20:27:00.608Z"
   },
   {
    "duration": 372,
    "start_time": "2021-10-02T20:27:23.259Z"
   },
   {
    "duration": 929,
    "start_time": "2021-10-02T20:28:17.660Z"
   },
   {
    "duration": 190,
    "start_time": "2021-10-02T20:28:22.447Z"
   },
   {
    "duration": 151,
    "start_time": "2021-10-02T20:33:56.938Z"
   },
   {
    "duration": 135,
    "start_time": "2021-10-02T20:34:11.065Z"
   },
   {
    "duration": 188,
    "start_time": "2021-10-02T20:34:50.095Z"
   },
   {
    "duration": 312,
    "start_time": "2021-10-02T20:35:04.525Z"
   },
   {
    "duration": 292,
    "start_time": "2021-10-02T20:46:32.833Z"
   },
   {
    "duration": 317,
    "start_time": "2021-10-02T20:46:58.304Z"
   },
   {
    "duration": 326,
    "start_time": "2021-10-02T20:48:09.241Z"
   },
   {
    "duration": 216,
    "start_time": "2021-10-02T20:50:19.195Z"
   },
   {
    "duration": 317,
    "start_time": "2021-10-02T20:51:15.935Z"
   },
   {
    "duration": 316,
    "start_time": "2021-10-02T20:51:53.665Z"
   },
   {
    "duration": 380,
    "start_time": "2021-10-03T13:12:01.389Z"
   },
   {
    "duration": 1127,
    "start_time": "2021-10-03T13:12:12.889Z"
   },
   {
    "duration": 18,
    "start_time": "2021-10-03T13:12:14.019Z"
   },
   {
    "duration": 66,
    "start_time": "2021-10-03T13:12:14.041Z"
   },
   {
    "duration": 24,
    "start_time": "2021-10-03T13:12:14.111Z"
   },
   {
    "duration": 35,
    "start_time": "2021-10-03T13:12:14.137Z"
   },
   {
    "duration": 15,
    "start_time": "2021-10-03T13:12:14.174Z"
   },
   {
    "duration": 14,
    "start_time": "2021-10-03T13:12:14.191Z"
   },
   {
    "duration": 18,
    "start_time": "2021-10-03T13:12:14.208Z"
   },
   {
    "duration": 44,
    "start_time": "2021-10-03T13:12:14.229Z"
   },
   {
    "duration": 922,
    "start_time": "2021-10-03T13:12:14.275Z"
   },
   {
    "duration": 701,
    "start_time": "2021-10-03T13:12:15.200Z"
   },
   {
    "duration": 12,
    "start_time": "2021-10-03T13:12:15.903Z"
   },
   {
    "duration": 15,
    "start_time": "2021-10-03T13:12:15.917Z"
   },
   {
    "duration": 339,
    "start_time": "2021-10-03T13:12:15.934Z"
   },
   {
    "duration": 570,
    "start_time": "2021-10-03T13:12:16.275Z"
   },
   {
    "duration": 479,
    "start_time": "2021-10-03T13:12:16.847Z"
   },
   {
    "duration": 5,
    "start_time": "2021-10-03T13:12:17.329Z"
   },
   {
    "duration": 9,
    "start_time": "2021-10-03T13:12:45.731Z"
   },
   {
    "duration": 12,
    "start_time": "2021-10-03T13:14:11.390Z"
   },
   {
    "duration": 56,
    "start_time": "2021-10-03T13:15:15.435Z"
   },
   {
    "duration": 45,
    "start_time": "2021-10-03T13:15:32.655Z"
   },
   {
    "duration": 8,
    "start_time": "2021-10-03T13:16:34.032Z"
   },
   {
    "duration": 30,
    "start_time": "2021-10-03T13:19:36.957Z"
   },
   {
    "duration": 11,
    "start_time": "2021-10-03T13:19:54.420Z"
   },
   {
    "duration": 46,
    "start_time": "2021-10-03T13:20:03.992Z"
   },
   {
    "duration": 12,
    "start_time": "2021-10-03T13:21:25.703Z"
   },
   {
    "duration": 11,
    "start_time": "2021-10-03T13:21:50.971Z"
   },
   {
    "duration": 10,
    "start_time": "2021-10-03T13:24:01.066Z"
   },
   {
    "duration": 10,
    "start_time": "2021-10-03T13:26:20.447Z"
   },
   {
    "duration": 27,
    "start_time": "2021-10-03T13:26:36.786Z"
   },
   {
    "duration": 286,
    "start_time": "2021-10-03T13:29:20.545Z"
   },
   {
    "duration": 323,
    "start_time": "2021-10-03T13:29:38.605Z"
   },
   {
    "duration": 330,
    "start_time": "2021-10-03T13:33:22.739Z"
   },
   {
    "duration": 304,
    "start_time": "2021-10-03T13:33:28.597Z"
   },
   {
    "duration": 312,
    "start_time": "2021-10-03T13:33:35.028Z"
   },
   {
    "duration": 12,
    "start_time": "2021-10-03T13:41:26.918Z"
   },
   {
    "duration": 292,
    "start_time": "2021-10-03T13:42:02.591Z"
   },
   {
    "duration": 445,
    "start_time": "2021-10-03T13:42:13.941Z"
   },
   {
    "duration": 867,
    "start_time": "2021-10-03T13:42:23.871Z"
   },
   {
    "duration": 850,
    "start_time": "2021-10-03T13:42:35.158Z"
   },
   {
    "duration": 16,
    "start_time": "2021-10-03T13:42:39.789Z"
   },
   {
    "duration": 8413,
    "start_time": "2021-10-03T13:43:10.920Z"
   },
   {
    "duration": 52,
    "start_time": "2021-10-03T13:43:39.780Z"
   },
   {
    "duration": 51,
    "start_time": "2021-10-03T13:44:46.619Z"
   },
   {
    "duration": 40,
    "start_time": "2021-10-03T13:46:24.040Z"
   },
   {
    "duration": 49,
    "start_time": "2021-10-03T13:47:09.070Z"
   },
   {
    "duration": 369,
    "start_time": "2021-10-03T13:57:52.111Z"
   },
   {
    "duration": 873,
    "start_time": "2021-10-03T13:58:27.419Z"
   },
   {
    "duration": 19,
    "start_time": "2021-10-03T13:58:28.295Z"
   },
   {
    "duration": 72,
    "start_time": "2021-10-03T13:58:28.318Z"
   },
   {
    "duration": 25,
    "start_time": "2021-10-03T13:58:28.393Z"
   },
   {
    "duration": 9,
    "start_time": "2021-10-03T13:58:28.421Z"
   },
   {
    "duration": 45,
    "start_time": "2021-10-03T13:58:28.433Z"
   },
   {
    "duration": 13,
    "start_time": "2021-10-03T13:58:28.480Z"
   },
   {
    "duration": 21,
    "start_time": "2021-10-03T13:58:28.498Z"
   },
   {
    "duration": 45,
    "start_time": "2021-10-03T13:58:28.522Z"
   },
   {
    "duration": 922,
    "start_time": "2021-10-03T13:58:28.569Z"
   },
   {
    "duration": 727,
    "start_time": "2021-10-03T13:58:29.493Z"
   },
   {
    "duration": 12,
    "start_time": "2021-10-03T13:58:30.222Z"
   },
   {
    "duration": 31,
    "start_time": "2021-10-03T13:58:30.236Z"
   },
   {
    "duration": 327,
    "start_time": "2021-10-03T13:58:30.269Z"
   },
   {
    "duration": 575,
    "start_time": "2021-10-03T13:58:30.599Z"
   },
   {
    "duration": 394,
    "start_time": "2021-10-03T13:58:31.176Z"
   },
   {
    "duration": 8,
    "start_time": "2021-10-03T13:58:31.572Z"
   },
   {
    "duration": 16,
    "start_time": "2021-10-03T13:58:31.583Z"
   },
   {
    "duration": 77,
    "start_time": "2021-10-03T13:58:31.601Z"
   },
   {
    "duration": 10,
    "start_time": "2021-10-03T13:58:31.681Z"
   },
   {
    "duration": 334,
    "start_time": "2021-10-03T13:58:31.693Z"
   },
   {
    "duration": 52,
    "start_time": "2021-10-03T13:58:42.856Z"
   },
   {
    "duration": 19,
    "start_time": "2021-10-03T14:00:03.543Z"
   },
   {
    "duration": 9,
    "start_time": "2021-10-03T14:08:53.084Z"
   },
   {
    "duration": 10,
    "start_time": "2021-10-03T14:08:59.606Z"
   },
   {
    "duration": 11,
    "start_time": "2021-10-03T14:10:17.701Z"
   },
   {
    "duration": 26,
    "start_time": "2021-10-03T14:10:33.712Z"
   },
   {
    "duration": 318,
    "start_time": "2021-10-03T14:12:27.641Z"
   },
   {
    "duration": 435,
    "start_time": "2021-10-03T14:12:35.153Z"
   },
   {
    "duration": 12,
    "start_time": "2021-10-03T14:13:08.446Z"
   },
   {
    "duration": 40,
    "start_time": "2021-10-03T14:15:45.506Z"
   },
   {
    "duration": 57,
    "start_time": "2021-10-03T14:16:05.005Z"
   },
   {
    "duration": 38,
    "start_time": "2021-10-03T14:16:16.630Z"
   },
   {
    "duration": 301,
    "start_time": "2021-10-03T14:17:56.991Z"
   },
   {
    "duration": 293,
    "start_time": "2021-10-03T14:18:11.210Z"
   },
   {
    "duration": 12,
    "start_time": "2021-10-03T14:33:12.702Z"
   },
   {
    "duration": 396,
    "start_time": "2021-10-03T14:36:22.161Z"
   },
   {
    "duration": 9,
    "start_time": "2021-10-03T14:37:03.762Z"
   },
   {
    "duration": 912,
    "start_time": "2021-10-03T14:37:57.128Z"
   },
   {
    "duration": 15,
    "start_time": "2021-10-03T14:37:58.043Z"
   },
   {
    "duration": 51,
    "start_time": "2021-10-03T14:37:58.069Z"
   },
   {
    "duration": 44,
    "start_time": "2021-10-03T14:37:58.123Z"
   },
   {
    "duration": 9,
    "start_time": "2021-10-03T14:37:58.170Z"
   },
   {
    "duration": 16,
    "start_time": "2021-10-03T14:37:58.181Z"
   },
   {
    "duration": 13,
    "start_time": "2021-10-03T14:37:58.200Z"
   },
   {
    "duration": 57,
    "start_time": "2021-10-03T14:37:58.216Z"
   },
   {
    "duration": 13,
    "start_time": "2021-10-03T14:37:58.279Z"
   },
   {
    "duration": 14,
    "start_time": "2021-10-03T14:37:58.295Z"
   },
   {
    "duration": 1033,
    "start_time": "2021-10-03T14:37:58.311Z"
   },
   {
    "duration": 748,
    "start_time": "2021-10-03T14:37:59.346Z"
   },
   {
    "duration": 13,
    "start_time": "2021-10-03T14:38:00.096Z"
   },
   {
    "duration": 8,
    "start_time": "2021-10-03T14:38:00.112Z"
   },
   {
    "duration": 401,
    "start_time": "2021-10-03T14:38:00.123Z"
   },
   {
    "duration": 602,
    "start_time": "2021-10-03T14:38:00.526Z"
   },
   {
    "duration": 416,
    "start_time": "2021-10-03T14:38:01.131Z"
   },
   {
    "duration": 18,
    "start_time": "2021-10-03T14:38:01.549Z"
   },
   {
    "duration": 16,
    "start_time": "2021-10-03T14:38:01.571Z"
   },
   {
    "duration": 60,
    "start_time": "2021-10-03T14:38:01.590Z"
   },
   {
    "duration": 23,
    "start_time": "2021-10-03T14:38:01.652Z"
   },
   {
    "duration": 348,
    "start_time": "2021-10-03T14:38:01.679Z"
   },
   {
    "duration": 74,
    "start_time": "2021-10-03T14:38:02.030Z"
   },
   {
    "duration": 12,
    "start_time": "2021-10-03T14:38:02.107Z"
   },
   {
    "duration": 23,
    "start_time": "2021-10-03T14:38:02.123Z"
   },
   {
    "duration": 493,
    "start_time": "2021-10-03T14:38:02.149Z"
   },
   {
    "duration": 329,
    "start_time": "2021-10-03T14:38:02.646Z"
   },
   {
    "duration": 11,
    "start_time": "2021-10-03T14:38:10.155Z"
   },
   {
    "duration": 440,
    "start_time": "2021-10-03T14:38:35.160Z"
   },
   {
    "duration": 327,
    "start_time": "2021-10-03T14:38:41.040Z"
   },
   {
    "duration": 659,
    "start_time": "2021-10-03T14:38:58.731Z"
   },
   {
    "duration": 449,
    "start_time": "2021-10-03T14:39:12.681Z"
   },
   {
    "duration": 273,
    "start_time": "2021-10-04T18:25:49.349Z"
   },
   {
    "duration": 731,
    "start_time": "2021-10-04T18:26:01.481Z"
   },
   {
    "duration": 11,
    "start_time": "2021-10-04T18:26:02.214Z"
   },
   {
    "duration": 43,
    "start_time": "2021-10-04T18:26:02.228Z"
   },
   {
    "duration": 19,
    "start_time": "2021-10-04T18:26:02.273Z"
   },
   {
    "duration": 5,
    "start_time": "2021-10-04T18:26:02.294Z"
   },
   {
    "duration": 17,
    "start_time": "2021-10-04T18:26:02.301Z"
   },
   {
    "duration": 34,
    "start_time": "2021-10-04T18:26:02.320Z"
   },
   {
    "duration": 16,
    "start_time": "2021-10-04T18:26:02.356Z"
   },
   {
    "duration": 13,
    "start_time": "2021-10-04T18:26:02.376Z"
   },
   {
    "duration": 9,
    "start_time": "2021-10-04T18:26:02.392Z"
   },
   {
    "duration": 885,
    "start_time": "2021-10-04T18:26:02.403Z"
   },
   {
    "duration": 673,
    "start_time": "2021-10-04T18:26:03.290Z"
   },
   {
    "duration": 12,
    "start_time": "2021-10-04T18:26:03.965Z"
   },
   {
    "duration": 8,
    "start_time": "2021-10-04T18:26:03.979Z"
   },
   {
    "duration": 215,
    "start_time": "2021-10-04T18:26:03.988Z"
   },
   {
    "duration": 337,
    "start_time": "2021-10-04T18:26:04.205Z"
   },
   {
    "duration": 237,
    "start_time": "2021-10-04T18:26:04.543Z"
   },
   {
    "duration": 6,
    "start_time": "2021-10-04T18:26:04.782Z"
   },
   {
    "duration": 10,
    "start_time": "2021-10-04T18:26:04.790Z"
   },
   {
    "duration": 48,
    "start_time": "2021-10-04T18:26:04.802Z"
   },
   {
    "duration": 8,
    "start_time": "2021-10-04T18:26:04.852Z"
   },
   {
    "duration": 212,
    "start_time": "2021-10-04T18:26:04.861Z"
   },
   {
    "duration": 31,
    "start_time": "2021-10-04T18:26:05.075Z"
   },
   {
    "duration": 9,
    "start_time": "2021-10-04T18:26:05.108Z"
   },
   {
    "duration": 36,
    "start_time": "2021-10-04T18:26:05.118Z"
   },
   {
    "duration": 269,
    "start_time": "2021-10-04T18:26:05.156Z"
   },
   {
    "duration": 228,
    "start_time": "2021-10-04T18:26:05.429Z"
   },
   {
    "duration": 9,
    "start_time": "2021-10-04T18:26:05.659Z"
   },
   {
    "duration": 278,
    "start_time": "2021-10-04T18:26:05.671Z"
   },
   {
    "duration": 303,
    "start_time": "2021-10-04T18:26:05.951Z"
   },
   {
    "duration": 1397,
    "start_time": "2021-10-04T18:26:16.382Z"
   },
   {
    "duration": 151,
    "start_time": "2021-10-04T18:26:26.740Z"
   },
   {
    "duration": 12,
    "start_time": "2021-10-04T19:01:43.968Z"
   },
   {
    "duration": 3,
    "start_time": "2021-10-04T19:13:18.003Z"
   },
   {
    "duration": 12,
    "start_time": "2021-10-04T19:14:25.522Z"
   },
   {
    "duration": 14,
    "start_time": "2021-10-04T19:14:39.684Z"
   },
   {
    "duration": 3,
    "start_time": "2021-10-04T19:15:36.504Z"
   },
   {
    "duration": 15,
    "start_time": "2021-10-04T19:15:37.271Z"
   },
   {
    "duration": 15,
    "start_time": "2021-10-04T19:17:02.195Z"
   },
   {
    "duration": 82,
    "start_time": "2021-10-04T19:17:44.088Z"
   },
   {
    "duration": 3,
    "start_time": "2021-10-04T19:18:06.516Z"
   },
   {
    "duration": 19,
    "start_time": "2021-10-04T19:18:10.268Z"
   },
   {
    "duration": 19,
    "start_time": "2021-10-04T19:18:15.947Z"
   },
   {
    "duration": 26794,
    "start_time": "2021-10-04T19:24:15.710Z"
   },
   {
    "duration": 26861,
    "start_time": "2021-10-04T19:24:47.395Z"
   },
   {
    "duration": 4173137,
    "start_time": "2021-10-04T18:18:51.890Z"
   },
   {
    "duration": 6520,
    "start_time": "2021-10-04T19:29:00.808Z"
   },
   {
    "duration": 520,
    "start_time": "2021-10-04T19:31:59.993Z"
   },
   {
    "duration": 526,
    "start_time": "2021-10-04T19:32:36.732Z"
   },
   {
    "duration": 385,
    "start_time": "2021-10-04T19:33:24.384Z"
   },
   {
    "duration": 387,
    "start_time": "2021-10-04T19:33:35.455Z"
   },
   {
    "duration": 445,
    "start_time": "2021-10-04T19:33:40.273Z"
   },
   {
    "duration": 389,
    "start_time": "2021-10-04T19:33:44.662Z"
   },
   {
    "duration": 543,
    "start_time": "2021-10-04T19:34:57.698Z"
   },
   {
    "duration": 528,
    "start_time": "2021-10-04T19:35:04.593Z"
   },
   {
    "duration": 502,
    "start_time": "2021-10-04T19:35:09.863Z"
   },
   {
    "duration": 889,
    "start_time": "2021-10-05T17:44:15.978Z"
   },
   {
    "duration": 15,
    "start_time": "2021-10-05T17:44:16.870Z"
   },
   {
    "duration": 45,
    "start_time": "2021-10-05T17:44:16.888Z"
   },
   {
    "duration": 42,
    "start_time": "2021-10-05T17:44:16.935Z"
   },
   {
    "duration": 8,
    "start_time": "2021-10-05T17:44:16.979Z"
   },
   {
    "duration": 13,
    "start_time": "2021-10-05T17:44:16.989Z"
   },
   {
    "duration": 12,
    "start_time": "2021-10-05T17:44:17.005Z"
   },
   {
    "duration": 53,
    "start_time": "2021-10-05T17:44:17.020Z"
   },
   {
    "duration": 10,
    "start_time": "2021-10-05T17:44:17.076Z"
   },
   {
    "duration": 10,
    "start_time": "2021-10-05T17:44:17.088Z"
   },
   {
    "duration": 893,
    "start_time": "2021-10-05T17:44:17.100Z"
   },
   {
    "duration": 672,
    "start_time": "2021-10-05T17:44:17.995Z"
   },
   {
    "duration": 11,
    "start_time": "2021-10-05T17:44:18.669Z"
   },
   {
    "duration": 8,
    "start_time": "2021-10-05T17:44:18.682Z"
   },
   {
    "duration": 323,
    "start_time": "2021-10-05T17:44:18.692Z"
   },
   {
    "duration": 543,
    "start_time": "2021-10-05T17:44:19.017Z"
   },
   {
    "duration": 369,
    "start_time": "2021-10-05T17:44:19.562Z"
   },
   {
    "duration": 8,
    "start_time": "2021-10-05T17:44:19.933Z"
   },
   {
    "duration": 11,
    "start_time": "2021-10-05T17:44:19.958Z"
   },
   {
    "duration": 44,
    "start_time": "2021-10-05T17:44:19.971Z"
   },
   {
    "duration": 9,
    "start_time": "2021-10-05T17:44:20.017Z"
   },
   {
    "duration": 338,
    "start_time": "2021-10-05T17:44:20.029Z"
   },
   {
    "duration": 52,
    "start_time": "2021-10-05T17:44:20.372Z"
   },
   {
    "duration": 37,
    "start_time": "2021-10-05T17:44:20.428Z"
   },
   {
    "duration": 13,
    "start_time": "2021-10-05T17:44:20.468Z"
   },
   {
    "duration": 443,
    "start_time": "2021-10-05T17:44:20.483Z"
   },
   {
    "duration": 314,
    "start_time": "2021-10-05T17:44:20.930Z"
   },
   {
    "duration": 18,
    "start_time": "2021-10-05T17:44:21.246Z"
   },
   {
    "duration": 417,
    "start_time": "2021-10-05T17:44:21.266Z"
   },
   {
    "duration": 246,
    "start_time": "2021-10-05T17:44:21.685Z"
   },
   {
    "duration": 4,
    "start_time": "2021-10-05T17:44:21.933Z"
   },
   {
    "duration": 29,
    "start_time": "2021-10-05T17:44:25.324Z"
   },
   {
    "duration": 307,
    "start_time": "2021-10-05T17:58:12.892Z"
   },
   {
    "duration": 308,
    "start_time": "2021-10-05T18:00:32.194Z"
   },
   {
    "duration": 245,
    "start_time": "2021-10-05T18:02:17.544Z"
   },
   {
    "duration": 944,
    "start_time": "2021-10-05T18:06:26.228Z"
   },
   {
    "duration": 695,
    "start_time": "2021-10-05T18:07:20.187Z"
   },
   {
    "duration": 430,
    "start_time": "2021-10-05T18:10:51.899Z"
   },
   {
    "duration": 19,
    "start_time": "2021-10-05T18:10:59.277Z"
   },
   {
    "duration": 18,
    "start_time": "2021-10-05T18:12:12.287Z"
   },
   {
    "duration": 18,
    "start_time": "2021-10-05T18:13:10.703Z"
   },
   {
    "duration": 684,
    "start_time": "2021-10-05T18:18:35.353Z"
   },
   {
    "duration": 11,
    "start_time": "2021-10-05T18:33:11.567Z"
   },
   {
    "duration": 11,
    "start_time": "2021-10-05T18:33:29.882Z"
   },
   {
    "duration": 7,
    "start_time": "2021-10-05T18:34:57.767Z"
   },
   {
    "duration": 8,
    "start_time": "2021-10-05T18:35:36.567Z"
   },
   {
    "duration": 1270,
    "start_time": "2021-10-05T18:35:44.496Z"
   },
   {
    "duration": 7,
    "start_time": "2021-10-05T18:35:55.138Z"
   },
   {
    "duration": 7,
    "start_time": "2021-10-05T18:36:19.067Z"
   },
   {
    "duration": 9,
    "start_time": "2021-10-05T18:36:35.727Z"
   },
   {
    "duration": 340,
    "start_time": "2021-10-05T18:38:56.859Z"
   },
   {
    "duration": 336,
    "start_time": "2021-10-05T18:40:29.078Z"
   },
   {
    "duration": 418,
    "start_time": "2021-10-05T18:41:12.751Z"
   },
   {
    "duration": 405,
    "start_time": "2021-10-05T18:41:22.247Z"
   },
   {
    "duration": 60,
    "start_time": "2021-10-05T18:41:28.368Z"
   },
   {
    "duration": 27,
    "start_time": "2021-10-05T18:41:32.687Z"
   },
   {
    "duration": 420,
    "start_time": "2021-10-05T18:41:57.126Z"
   },
   {
    "duration": 27,
    "start_time": "2021-10-05T18:42:12.079Z"
   },
   {
    "duration": 25,
    "start_time": "2021-10-05T18:42:47.353Z"
   },
   {
    "duration": 27,
    "start_time": "2021-10-05T18:43:21.654Z"
   },
   {
    "duration": 405,
    "start_time": "2021-10-05T18:49:18.328Z"
   },
   {
    "duration": 519,
    "start_time": "2021-10-05T18:49:45.237Z"
   },
   {
    "duration": 14,
    "start_time": "2021-10-05T18:50:34.430Z"
   },
   {
    "duration": 10,
    "start_time": "2021-10-05T18:51:22.873Z"
   },
   {
    "duration": 6,
    "start_time": "2021-10-05T18:51:51.823Z"
   },
   {
    "duration": 20,
    "start_time": "2021-10-05T18:52:36.360Z"
   },
   {
    "duration": 335,
    "start_time": "2021-10-05T18:54:44.298Z"
   },
   {
    "duration": 9,
    "start_time": "2021-10-05T18:56:08.310Z"
   },
   {
    "duration": 21,
    "start_time": "2021-10-05T18:56:25.475Z"
   },
   {
    "duration": 17,
    "start_time": "2021-10-05T18:57:11.236Z"
   },
   {
    "duration": 12,
    "start_time": "2021-10-05T18:57:52.575Z"
   },
   {
    "duration": 1083,
    "start_time": "2021-10-05T18:58:42.507Z"
   },
   {
    "duration": 15,
    "start_time": "2021-10-05T18:58:43.593Z"
   },
   {
    "duration": 63,
    "start_time": "2021-10-05T18:58:43.611Z"
   },
   {
    "duration": 23,
    "start_time": "2021-10-05T18:58:43.677Z"
   },
   {
    "duration": 7,
    "start_time": "2021-10-05T18:58:43.702Z"
   },
   {
    "duration": 22,
    "start_time": "2021-10-05T18:58:43.711Z"
   },
   {
    "duration": 33,
    "start_time": "2021-10-05T18:58:43.734Z"
   },
   {
    "duration": 30,
    "start_time": "2021-10-05T18:58:43.770Z"
   },
   {
    "duration": 17,
    "start_time": "2021-10-05T18:58:43.804Z"
   },
   {
    "duration": 24,
    "start_time": "2021-10-05T18:58:43.823Z"
   },
   {
    "duration": 934,
    "start_time": "2021-10-05T18:58:43.849Z"
   },
   {
    "duration": 1110,
    "start_time": "2021-10-05T18:58:44.785Z"
   },
   {
    "duration": 15,
    "start_time": "2021-10-05T18:58:45.899Z"
   },
   {
    "duration": 9,
    "start_time": "2021-10-05T18:58:45.916Z"
   },
   {
    "duration": 421,
    "start_time": "2021-10-05T18:58:45.958Z"
   },
   {
    "duration": 553,
    "start_time": "2021-10-05T18:58:46.382Z"
   },
   {
    "duration": 370,
    "start_time": "2021-10-05T18:58:46.937Z"
   },
   {
    "duration": 8,
    "start_time": "2021-10-05T18:58:47.309Z"
   },
   {
    "duration": 17,
    "start_time": "2021-10-05T18:58:47.319Z"
   },
   {
    "duration": 60,
    "start_time": "2021-10-05T18:58:47.338Z"
   },
   {
    "duration": 22,
    "start_time": "2021-10-05T18:58:47.400Z"
   },
   {
    "duration": 333,
    "start_time": "2021-10-05T18:58:47.424Z"
   },
   {
    "duration": 51,
    "start_time": "2021-10-05T18:58:47.760Z"
   },
   {
    "duration": 13,
    "start_time": "2021-10-05T18:58:47.814Z"
   },
   {
    "duration": 40,
    "start_time": "2021-10-05T18:58:47.830Z"
   },
   {
    "duration": 667,
    "start_time": "2021-10-05T18:58:47.873Z"
   },
   {
    "duration": 574,
    "start_time": "2021-10-05T18:58:48.548Z"
   },
   {
    "duration": 14,
    "start_time": "2021-10-05T18:58:49.125Z"
   },
   {
    "duration": 662,
    "start_time": "2021-10-05T18:58:49.157Z"
   },
   {
    "duration": 256,
    "start_time": "2021-10-05T18:58:49.822Z"
   },
   {
    "duration": 4,
    "start_time": "2021-10-05T18:58:50.080Z"
   },
   {
    "duration": 35,
    "start_time": "2021-10-05T18:58:50.086Z"
   },
   {
    "duration": 409,
    "start_time": "2021-10-05T18:58:50.123Z"
   },
   {
    "duration": 258,
    "start_time": "2021-10-05T18:58:50.535Z"
   },
   {
    "duration": 712,
    "start_time": "2021-10-05T18:58:50.795Z"
   },
   {
    "duration": 18,
    "start_time": "2021-10-05T18:58:51.510Z"
   },
   {
    "duration": 37,
    "start_time": "2021-10-05T18:58:51.530Z"
   },
   {
    "duration": 19,
    "start_time": "2021-10-05T18:58:51.570Z"
   },
   {
    "duration": 704,
    "start_time": "2021-10-05T18:58:51.591Z"
   },
   {
    "duration": 8,
    "start_time": "2021-10-05T18:58:52.298Z"
   },
   {
    "duration": 10,
    "start_time": "2021-10-05T18:58:52.308Z"
   },
   {
    "duration": 56,
    "start_time": "2021-10-05T18:58:52.320Z"
   },
   {
    "duration": 17,
    "start_time": "2021-10-05T18:58:55.506Z"
   },
   {
    "duration": 44,
    "start_time": "2021-10-05T18:59:21.315Z"
   },
   {
    "duration": 450,
    "start_time": "2021-10-05T19:00:04.526Z"
   },
   {
    "duration": 843,
    "start_time": "2021-10-05T19:00:13.097Z"
   },
   {
    "duration": 24,
    "start_time": "2021-10-05T19:00:13.942Z"
   },
   {
    "duration": 43,
    "start_time": "2021-10-05T19:00:13.969Z"
   },
   {
    "duration": 46,
    "start_time": "2021-10-05T19:00:14.015Z"
   },
   {
    "duration": 7,
    "start_time": "2021-10-05T19:00:14.064Z"
   },
   {
    "duration": 22,
    "start_time": "2021-10-05T19:00:14.073Z"
   },
   {
    "duration": 11,
    "start_time": "2021-10-05T19:00:14.097Z"
   },
   {
    "duration": 47,
    "start_time": "2021-10-05T19:00:14.112Z"
   },
   {
    "duration": 11,
    "start_time": "2021-10-05T19:00:14.162Z"
   },
   {
    "duration": 12,
    "start_time": "2021-10-05T19:00:14.175Z"
   },
   {
    "duration": 883,
    "start_time": "2021-10-05T19:00:14.190Z"
   },
   {
    "duration": 702,
    "start_time": "2021-10-05T19:00:15.076Z"
   },
   {
    "duration": 11,
    "start_time": "2021-10-05T19:00:15.781Z"
   },
   {
    "duration": 8,
    "start_time": "2021-10-05T19:00:15.795Z"
   },
   {
    "duration": 332,
    "start_time": "2021-10-05T19:00:15.805Z"
   },
   {
    "duration": 542,
    "start_time": "2021-10-05T19:00:16.140Z"
   },
   {
    "duration": 383,
    "start_time": "2021-10-05T19:00:16.684Z"
   },
   {
    "duration": 8,
    "start_time": "2021-10-05T19:00:17.070Z"
   },
   {
    "duration": 19,
    "start_time": "2021-10-05T19:00:17.081Z"
   },
   {
    "duration": 69,
    "start_time": "2021-10-05T19:00:17.102Z"
   },
   {
    "duration": 9,
    "start_time": "2021-10-05T19:00:17.174Z"
   },
   {
    "duration": 321,
    "start_time": "2021-10-05T19:00:17.186Z"
   },
   {
    "duration": 62,
    "start_time": "2021-10-05T19:00:17.512Z"
   },
   {
    "duration": 11,
    "start_time": "2021-10-05T19:00:17.577Z"
   },
   {
    "duration": 10,
    "start_time": "2021-10-05T19:00:17.590Z"
   },
   {
    "duration": 444,
    "start_time": "2021-10-05T19:00:17.602Z"
   },
   {
    "duration": 301,
    "start_time": "2021-10-05T19:00:18.049Z"
   },
   {
    "duration": 11,
    "start_time": "2021-10-05T19:00:18.356Z"
   },
   {
    "duration": 419,
    "start_time": "2021-10-05T19:00:18.369Z"
   },
   {
    "duration": 240,
    "start_time": "2021-10-05T19:00:18.791Z"
   },
   {
    "duration": 3,
    "start_time": "2021-10-05T19:00:19.034Z"
   },
   {
    "duration": 47,
    "start_time": "2021-10-05T19:00:19.039Z"
   },
   {
    "duration": 311,
    "start_time": "2021-10-05T19:00:19.088Z"
   },
   {
    "duration": 312,
    "start_time": "2021-10-05T19:00:19.401Z"
   },
   {
    "duration": 677,
    "start_time": "2021-10-05T19:00:19.715Z"
   },
   {
    "duration": 22,
    "start_time": "2021-10-05T19:00:20.394Z"
   },
   {
    "duration": 46,
    "start_time": "2021-10-05T19:00:20.419Z"
   },
   {
    "duration": 18,
    "start_time": "2021-10-05T19:00:20.467Z"
   },
   {
    "duration": 684,
    "start_time": "2021-10-05T19:00:20.487Z"
   },
   {
    "duration": 8,
    "start_time": "2021-10-05T19:00:21.173Z"
   },
   {
    "duration": 15,
    "start_time": "2021-10-05T19:00:21.183Z"
   },
   {
    "duration": 36,
    "start_time": "2021-10-05T19:00:21.200Z"
   },
   {
    "duration": 44,
    "start_time": "2021-10-05T19:00:24.747Z"
   },
   {
    "duration": 387,
    "start_time": "2021-10-05T19:04:01.046Z"
   },
   {
    "duration": 362,
    "start_time": "2021-10-05T19:04:28.974Z"
   },
   {
    "duration": 11,
    "start_time": "2021-10-05T19:16:29.003Z"
   },
   {
    "duration": 318,
    "start_time": "2021-10-05T19:19:28.705Z"
   },
   {
    "duration": 299,
    "start_time": "2021-10-05T19:19:45.410Z"
   },
   {
    "duration": 313,
    "start_time": "2021-10-05T19:19:54.220Z"
   },
   {
    "duration": 301,
    "start_time": "2021-10-05T19:20:14.650Z"
   },
   {
    "duration": 288,
    "start_time": "2021-10-05T19:20:26.203Z"
   },
   {
    "duration": 350,
    "start_time": "2021-10-05T19:21:31.839Z"
   },
   {
    "duration": 10,
    "start_time": "2021-10-05T19:21:39.929Z"
   },
   {
    "duration": 7850,
    "start_time": "2021-10-05T19:25:07.618Z"
   },
   {
    "duration": 285,
    "start_time": "2021-10-05T19:25:17.474Z"
   },
   {
    "duration": 392,
    "start_time": "2021-10-05T19:25:37.147Z"
   },
   {
    "duration": 281,
    "start_time": "2021-10-05T19:25:49.683Z"
   },
   {
    "duration": 7848,
    "start_time": "2021-10-05T19:31:17.029Z"
   },
   {
    "duration": 963,
    "start_time": "2021-10-05T19:32:56.453Z"
   },
   {
    "duration": 39,
    "start_time": "2021-10-05T19:32:57.419Z"
   },
   {
    "duration": 47,
    "start_time": "2021-10-05T19:32:57.462Z"
   },
   {
    "duration": 54,
    "start_time": "2021-10-05T19:32:57.513Z"
   },
   {
    "duration": 9,
    "start_time": "2021-10-05T19:32:57.570Z"
   },
   {
    "duration": 18,
    "start_time": "2021-10-05T19:32:57.582Z"
   },
   {
    "duration": 14,
    "start_time": "2021-10-05T19:32:57.602Z"
   },
   {
    "duration": 49,
    "start_time": "2021-10-05T19:32:57.622Z"
   },
   {
    "duration": 11,
    "start_time": "2021-10-05T19:32:57.675Z"
   },
   {
    "duration": 8,
    "start_time": "2021-10-05T19:32:57.689Z"
   },
   {
    "duration": 924,
    "start_time": "2021-10-05T19:32:57.699Z"
   },
   {
    "duration": 695,
    "start_time": "2021-10-05T19:32:58.625Z"
   },
   {
    "duration": 12,
    "start_time": "2021-10-05T19:32:59.323Z"
   },
   {
    "duration": 26,
    "start_time": "2021-10-05T19:32:59.338Z"
   },
   {
    "duration": 320,
    "start_time": "2021-10-05T19:32:59.367Z"
   },
   {
    "duration": 578,
    "start_time": "2021-10-05T19:32:59.689Z"
   },
   {
    "duration": 416,
    "start_time": "2021-10-05T19:33:00.270Z"
   },
   {
    "duration": 9,
    "start_time": "2021-10-05T19:33:00.689Z"
   },
   {
    "duration": 20,
    "start_time": "2021-10-05T19:33:00.700Z"
   },
   {
    "duration": 62,
    "start_time": "2021-10-05T19:33:00.722Z"
   },
   {
    "duration": 9,
    "start_time": "2021-10-05T19:33:00.786Z"
   },
   {
    "duration": 336,
    "start_time": "2021-10-05T19:33:00.797Z"
   },
   {
    "duration": 60,
    "start_time": "2021-10-05T19:33:01.138Z"
   },
   {
    "duration": 13,
    "start_time": "2021-10-05T19:33:01.202Z"
   },
   {
    "duration": 10,
    "start_time": "2021-10-05T19:33:01.218Z"
   },
   {
    "duration": 447,
    "start_time": "2021-10-05T19:33:01.258Z"
   },
   {
    "duration": 338,
    "start_time": "2021-10-05T19:33:01.708Z"
   },
   {
    "duration": 17,
    "start_time": "2021-10-05T19:33:02.049Z"
   },
   {
    "duration": 464,
    "start_time": "2021-10-05T19:33:02.068Z"
   },
   {
    "duration": 251,
    "start_time": "2021-10-05T19:33:02.534Z"
   },
   {
    "duration": 4,
    "start_time": "2021-10-05T19:33:02.788Z"
   },
   {
    "duration": 60,
    "start_time": "2021-10-05T19:33:02.794Z"
   },
   {
    "duration": 321,
    "start_time": "2021-10-05T19:33:02.856Z"
   },
   {
    "duration": 320,
    "start_time": "2021-10-05T19:33:03.179Z"
   },
   {
    "duration": 707,
    "start_time": "2021-10-05T19:33:03.502Z"
   },
   {
    "duration": 21,
    "start_time": "2021-10-05T19:33:04.212Z"
   },
   {
    "duration": 41,
    "start_time": "2021-10-05T19:33:04.235Z"
   },
   {
    "duration": 27,
    "start_time": "2021-10-05T19:33:04.279Z"
   },
   {
    "duration": 680,
    "start_time": "2021-10-05T19:33:04.309Z"
   },
   {
    "duration": 9,
    "start_time": "2021-10-05T19:33:04.992Z"
   },
   {
    "duration": 26,
    "start_time": "2021-10-05T19:33:05.004Z"
   },
   {
    "duration": 53,
    "start_time": "2021-10-05T19:33:05.032Z"
   },
   {
    "duration": 379,
    "start_time": "2021-10-05T19:33:05.088Z"
   },
   {
    "duration": 317,
    "start_time": "2021-10-05T19:33:05.470Z"
   },
   {
    "duration": 300,
    "start_time": "2021-10-05T19:33:05.790Z"
   },
   {
    "duration": 24635,
    "start_time": "2021-10-05T19:34:19.140Z"
   },
   {
    "duration": 79689,
    "start_time": "2021-10-05T19:36:17.670Z"
   },
   {
    "duration": 9,
    "start_time": "2021-10-05T19:38:24.620Z"
   },
   {
    "duration": 321,
    "start_time": "2021-10-05T19:38:34.110Z"
   },
   {
    "duration": 8,
    "start_time": "2021-10-05T19:38:47.127Z"
   },
   {
    "duration": 13,
    "start_time": "2021-10-05T19:39:22.177Z"
   },
   {
    "duration": 306,
    "start_time": "2021-10-05T19:40:12.891Z"
   },
   {
    "duration": 305,
    "start_time": "2021-10-05T19:40:40.909Z"
   },
   {
    "duration": 11,
    "start_time": "2021-10-05T19:40:58.280Z"
   },
   {
    "duration": 315,
    "start_time": "2021-10-05T19:41:50.849Z"
   },
   {
    "duration": 26632,
    "start_time": "2021-10-05T19:42:32.392Z"
   },
   {
    "duration": 17,
    "start_time": "2021-10-05T19:43:31.340Z"
   },
   {
    "duration": 69328,
    "start_time": "2021-10-05T19:44:10.892Z"
   },
   {
    "duration": 419,
    "start_time": "2021-10-05T19:46:27.586Z"
   },
   {
    "duration": 27,
    "start_time": "2021-10-05T19:46:40.555Z"
   },
   {
    "duration": 8,
    "start_time": "2021-10-05T19:46:57.254Z"
   },
   {
    "duration": 520,
    "start_time": "2021-10-05T19:47:08.416Z"
   },
   {
    "duration": 7,
    "start_time": "2021-10-05T19:47:34.814Z"
   },
   {
    "duration": 9,
    "start_time": "2021-10-05T19:47:41.154Z"
   },
   {
    "duration": 302,
    "start_time": "2021-10-05T19:50:46.428Z"
   },
   {
    "duration": 11,
    "start_time": "2021-10-05T19:51:09.820Z"
   },
   {
    "duration": 324,
    "start_time": "2021-10-05T19:55:22.546Z"
   },
   {
    "duration": 643,
    "start_time": "2021-10-05T19:58:03.356Z"
   },
   {
    "duration": 337,
    "start_time": "2021-10-05T19:58:10.065Z"
   },
   {
    "duration": 339,
    "start_time": "2021-10-05T19:58:17.866Z"
   },
   {
    "duration": 374,
    "start_time": "2021-10-05T19:58:31.774Z"
   },
   {
    "duration": 359,
    "start_time": "2021-10-05T19:58:47.727Z"
   },
   {
    "duration": 321,
    "start_time": "2021-10-05T19:58:54.836Z"
   },
   {
    "duration": 422,
    "start_time": "2021-10-08T18:20:04.064Z"
   },
   {
    "duration": 931,
    "start_time": "2021-10-08T18:20:19.550Z"
   },
   {
    "duration": 129,
    "start_time": "2021-10-08T18:20:21.181Z"
   },
   {
    "duration": 37,
    "start_time": "2021-10-08T18:20:26.048Z"
   },
   {
    "duration": 33,
    "start_time": "2021-10-08T18:20:49.505Z"
   },
   {
    "duration": 16,
    "start_time": "2021-10-08T18:22:28.064Z"
   },
   {
    "duration": 401,
    "start_time": "2021-10-08T18:22:51.287Z"
   },
   {
    "duration": 34,
    "start_time": "2021-10-08T18:45:15.775Z"
   },
   {
    "duration": 35,
    "start_time": "2021-10-08T18:45:23.222Z"
   },
   {
    "duration": 37,
    "start_time": "2021-10-08T18:45:27.016Z"
   },
   {
    "duration": 35,
    "start_time": "2021-10-08T18:48:41.453Z"
   },
   {
    "duration": 306,
    "start_time": "2021-10-08T18:49:19.351Z"
   },
   {
    "duration": 318,
    "start_time": "2021-10-08T18:51:12.895Z"
   },
   {
    "duration": 35,
    "start_time": "2021-10-08T18:51:22.044Z"
   },
   {
    "duration": 37,
    "start_time": "2021-10-08T18:51:27.063Z"
   },
   {
    "duration": 35,
    "start_time": "2021-10-08T18:51:28.892Z"
   },
   {
    "duration": 106,
    "start_time": "2021-10-08T18:51:59.765Z"
   },
   {
    "duration": 103,
    "start_time": "2021-10-08T18:52:05.076Z"
   },
   {
    "duration": 102,
    "start_time": "2021-10-08T18:52:17.675Z"
   },
   {
    "duration": 94,
    "start_time": "2021-10-08T18:52:23.766Z"
   },
   {
    "duration": 43,
    "start_time": "2021-10-08T18:57:16.651Z"
   },
   {
    "duration": 24,
    "start_time": "2021-10-08T18:57:19.144Z"
   },
   {
    "duration": 7,
    "start_time": "2021-10-08T18:57:20.222Z"
   },
   {
    "duration": 13,
    "start_time": "2021-10-08T18:57:21.872Z"
   },
   {
    "duration": 11,
    "start_time": "2021-10-08T18:57:24.382Z"
   },
   {
    "duration": 16,
    "start_time": "2021-10-08T18:57:27.910Z"
   },
   {
    "duration": 11,
    "start_time": "2021-10-08T18:57:31.116Z"
   },
   {
    "duration": 339,
    "start_time": "2021-10-08T18:58:10.198Z"
   },
   {
    "duration": 433,
    "start_time": "2021-10-08T18:59:44.576Z"
   },
   {
    "duration": 348,
    "start_time": "2021-10-08T19:00:02.087Z"
   },
   {
    "duration": 9,
    "start_time": "2021-10-08T19:00:26.996Z"
   },
   {
    "duration": 7,
    "start_time": "2021-10-08T19:00:48.831Z"
   },
   {
    "duration": 14,
    "start_time": "2021-10-08T19:01:03.386Z"
   },
   {
    "duration": 7,
    "start_time": "2021-10-08T19:01:46.407Z"
   },
   {
    "duration": 10,
    "start_time": "2021-10-08T19:04:40.687Z"
   },
   {
    "duration": 8,
    "start_time": "2021-10-08T19:04:51.362Z"
   },
   {
    "duration": 8,
    "start_time": "2021-10-08T19:05:11.057Z"
   },
   {
    "duration": 329,
    "start_time": "2021-10-08T19:05:20.486Z"
   },
   {
    "duration": 9,
    "start_time": "2021-10-08T19:09:10.618Z"
   },
   {
    "duration": 9,
    "start_time": "2021-10-08T19:09:31.307Z"
   },
   {
    "duration": 7,
    "start_time": "2021-10-08T19:09:57.819Z"
   },
   {
    "duration": 7,
    "start_time": "2021-10-08T19:10:12.659Z"
   },
   {
    "duration": 329,
    "start_time": "2021-10-08T19:10:49.173Z"
   },
   {
    "duration": 12,
    "start_time": "2021-10-08T19:10:55.248Z"
   },
   {
    "duration": 11,
    "start_time": "2021-10-08T19:11:25.905Z"
   },
   {
    "duration": 9,
    "start_time": "2021-10-08T19:11:46.867Z"
   },
   {
    "duration": 10,
    "start_time": "2021-10-08T19:17:38.484Z"
   },
   {
    "duration": 54,
    "start_time": "2021-10-08T19:22:04.306Z"
   },
   {
    "duration": 8,
    "start_time": "2021-10-08T19:22:45.153Z"
   },
   {
    "duration": 59,
    "start_time": "2021-10-08T19:26:11.831Z"
   },
   {
    "duration": 54,
    "start_time": "2021-10-08T19:27:26.345Z"
   },
   {
    "duration": 15,
    "start_time": "2021-10-08T19:27:42.586Z"
   },
   {
    "duration": 59,
    "start_time": "2021-10-08T19:27:54.915Z"
   },
   {
    "duration": 36,
    "start_time": "2021-10-08T19:28:18.463Z"
   },
   {
    "duration": 54,
    "start_time": "2021-10-08T19:28:35.194Z"
   },
   {
    "duration": 13,
    "start_time": "2021-10-08T19:29:03.222Z"
   },
   {
    "duration": 108,
    "start_time": "2021-10-08T19:29:22.545Z"
   },
   {
    "duration": 15,
    "start_time": "2021-10-08T19:29:56.855Z"
   },
   {
    "duration": 17,
    "start_time": "2021-10-08T19:30:42.097Z"
   },
   {
    "duration": 65,
    "start_time": "2021-10-08T19:30:52.027Z"
   },
   {
    "duration": 75,
    "start_time": "2021-10-08T19:31:14.147Z"
   },
   {
    "duration": 338,
    "start_time": "2021-10-08T19:33:26.988Z"
   },
   {
    "duration": 333,
    "start_time": "2021-10-08T19:33:50.015Z"
   },
   {
    "duration": 112,
    "start_time": "2021-10-08T19:47:07.030Z"
   },
   {
    "duration": 549,
    "start_time": "2021-10-08T19:53:00.439Z"
   },
   {
    "duration": 566,
    "start_time": "2021-10-08T19:53:13.249Z"
   },
   {
    "duration": 559,
    "start_time": "2021-10-08T19:54:13.859Z"
   },
   {
    "duration": 250,
    "start_time": "2021-10-08T19:55:22.500Z"
   },
   {
    "duration": 543,
    "start_time": "2021-10-08T19:55:31.949Z"
   },
   {
    "duration": 12,
    "start_time": "2021-10-08T19:55:47.353Z"
   },
   {
    "duration": 9,
    "start_time": "2021-10-08T19:55:47.958Z"
   },
   {
    "duration": 303,
    "start_time": "2021-10-08T19:55:49.034Z"
   },
   {
    "duration": 306,
    "start_time": "2021-10-08T19:56:17.904Z"
   },
   {
    "duration": 114,
    "start_time": "2021-10-08T19:57:03.660Z"
   },
   {
    "duration": 109,
    "start_time": "2021-10-08T19:57:21.550Z"
   },
   {
    "duration": 947,
    "start_time": "2021-10-08T19:57:30.290Z"
   },
   {
    "duration": 105,
    "start_time": "2021-10-08T19:57:48.197Z"
   },
   {
    "duration": 956,
    "start_time": "2021-10-08T19:58:30.278Z"
   },
   {
    "duration": 861,
    "start_time": "2021-10-08T20:01:19.212Z"
   },
   {
    "duration": 313,
    "start_time": "2021-10-08T20:02:06.179Z"
   },
   {
    "duration": 548,
    "start_time": "2021-10-08T20:02:54.192Z"
   },
   {
    "duration": 429,
    "start_time": "2021-10-08T20:03:21.499Z"
   },
   {
    "duration": 8,
    "start_time": "2021-10-08T20:03:32.050Z"
   },
   {
    "duration": 11,
    "start_time": "2021-10-08T20:03:33.318Z"
   },
   {
    "duration": 43,
    "start_time": "2021-10-08T20:03:34.805Z"
   },
   {
    "duration": 10,
    "start_time": "2021-10-08T20:03:46.779Z"
   },
   {
    "duration": 326,
    "start_time": "2021-10-08T20:04:10.189Z"
   },
   {
    "duration": 293,
    "start_time": "2021-10-08T20:04:40.128Z"
   },
   {
    "duration": 47,
    "start_time": "2021-10-08T20:05:10.828Z"
   },
   {
    "duration": 12,
    "start_time": "2021-10-08T20:05:20.208Z"
   },
   {
    "duration": 422,
    "start_time": "2021-10-08T20:05:35.708Z"
   },
   {
    "duration": 301,
    "start_time": "2021-10-08T20:05:47.594Z"
   },
   {
    "duration": 542,
    "start_time": "2021-10-08T20:06:27.019Z"
   },
   {
    "duration": 241,
    "start_time": "2021-10-08T20:07:47.157Z"
   },
   {
    "duration": 13,
    "start_time": "2021-10-08T20:08:25.645Z"
   },
   {
    "duration": 14,
    "start_time": "2021-10-08T20:14:06.638Z"
   },
   {
    "duration": 62,
    "start_time": "2021-10-08T20:14:13.717Z"
   },
   {
    "duration": 14,
    "start_time": "2021-10-08T20:14:42.854Z"
   },
   {
    "duration": 16,
    "start_time": "2021-10-08T20:15:39.686Z"
   },
   {
    "duration": 25,
    "start_time": "2021-10-08T20:15:53.698Z"
   },
   {
    "duration": 28,
    "start_time": "2021-10-08T20:16:04.017Z"
   },
   {
    "duration": 877,
    "start_time": "2021-10-08T20:16:28.839Z"
   },
   {
    "duration": 119,
    "start_time": "2021-10-08T20:16:29.718Z"
   },
   {
    "duration": 43,
    "start_time": "2021-10-08T20:16:29.840Z"
   },
   {
    "duration": 113,
    "start_time": "2021-10-08T20:16:29.886Z"
   },
   {
    "duration": 16,
    "start_time": "2021-10-08T20:16:30.111Z"
   },
   {
    "duration": 45,
    "start_time": "2021-10-08T20:16:30.130Z"
   },
   {
    "duration": 22,
    "start_time": "2021-10-08T20:16:30.178Z"
   },
   {
    "duration": 7,
    "start_time": "2021-10-08T20:16:30.203Z"
   },
   {
    "duration": 14,
    "start_time": "2021-10-08T20:16:30.212Z"
   },
   {
    "duration": 44,
    "start_time": "2021-10-08T20:16:30.229Z"
   },
   {
    "duration": 26,
    "start_time": "2021-10-08T20:16:30.276Z"
   },
   {
    "duration": 11,
    "start_time": "2021-10-08T20:16:30.304Z"
   },
   {
    "duration": 23,
    "start_time": "2021-10-08T20:16:30.751Z"
   },
   {
    "duration": 926,
    "start_time": "2021-10-08T20:16:30.777Z"
   },
   {
    "duration": 598,
    "start_time": "2021-10-08T20:16:31.706Z"
   },
   {
    "duration": 11,
    "start_time": "2021-10-08T20:16:32.307Z"
   },
   {
    "duration": 8,
    "start_time": "2021-10-08T20:16:32.320Z"
   },
   {
    "duration": 344,
    "start_time": "2021-10-08T20:16:32.330Z"
   },
   {
    "duration": 566,
    "start_time": "2021-10-08T20:16:32.678Z"
   },
   {
    "duration": 384,
    "start_time": "2021-10-08T20:16:33.246Z"
   },
   {
    "duration": 8,
    "start_time": "2021-10-08T20:16:33.633Z"
   },
   {
    "duration": 12,
    "start_time": "2021-10-08T20:16:33.658Z"
   },
   {
    "duration": 41,
    "start_time": "2021-10-08T20:16:33.672Z"
   },
   {
    "duration": 9,
    "start_time": "2021-10-08T20:16:33.715Z"
   },
   {
    "duration": 334,
    "start_time": "2021-10-08T20:16:33.758Z"
   },
   {
    "duration": 52,
    "start_time": "2021-10-08T20:16:35.801Z"
   },
   {
    "duration": 26,
    "start_time": "2021-10-08T20:18:14.003Z"
   },
   {
    "duration": 17,
    "start_time": "2021-10-08T20:18:42.156Z"
   },
   {
    "duration": 18,
    "start_time": "2021-10-08T20:19:34.091Z"
   },
   {
    "duration": 27,
    "start_time": "2021-10-08T20:19:47.541Z"
   },
   {
    "duration": 50,
    "start_time": "2021-10-08T20:19:56.638Z"
   },
   {
    "duration": 466,
    "start_time": "2021-10-08T20:20:35.732Z"
   },
   {
    "duration": 49,
    "start_time": "2021-10-08T20:20:52.501Z"
   },
   {
    "duration": 4,
    "start_time": "2021-10-09T11:55:13.207Z"
   },
   {
    "duration": 108,
    "start_time": "2021-10-09T11:55:13.929Z"
   },
   {
    "duration": 37,
    "start_time": "2021-10-09T11:55:14.818Z"
   },
   {
    "duration": 100,
    "start_time": "2021-10-09T11:55:15.657Z"
   },
   {
    "duration": 16,
    "start_time": "2021-10-09T11:55:16.769Z"
   },
   {
    "duration": 45,
    "start_time": "2021-10-09T11:55:17.496Z"
   },
   {
    "duration": 20,
    "start_time": "2021-10-09T11:55:18.028Z"
   },
   {
    "duration": 8,
    "start_time": "2021-10-09T11:55:18.615Z"
   },
   {
    "duration": 13,
    "start_time": "2021-10-09T11:55:27.209Z"
   },
   {
    "duration": 12,
    "start_time": "2021-10-09T11:55:28.278Z"
   },
   {
    "duration": 17,
    "start_time": "2021-10-09T11:55:28.528Z"
   },
   {
    "duration": 13,
    "start_time": "2021-10-09T11:55:30.328Z"
   },
   {
    "duration": 20,
    "start_time": "2021-10-09T11:55:33.878Z"
   },
   {
    "duration": 66,
    "start_time": "2021-10-09T11:55:54.078Z"
   },
   {
    "duration": 19,
    "start_time": "2021-10-09T11:56:21.679Z"
   },
   {
    "duration": 827,
    "start_time": "2021-10-09T11:56:42.784Z"
   },
   {
    "duration": 116,
    "start_time": "2021-10-09T11:56:43.614Z"
   },
   {
    "duration": 35,
    "start_time": "2021-10-09T11:56:43.733Z"
   },
   {
    "duration": 103,
    "start_time": "2021-10-09T11:56:43.783Z"
   },
   {
    "duration": 15,
    "start_time": "2021-10-09T11:56:43.889Z"
   },
   {
    "duration": 42,
    "start_time": "2021-10-09T11:56:43.907Z"
   },
   {
    "duration": 51,
    "start_time": "2021-10-09T11:56:43.952Z"
   },
   {
    "duration": 7,
    "start_time": "2021-10-09T11:56:44.007Z"
   },
   {
    "duration": 16,
    "start_time": "2021-10-09T11:56:44.017Z"
   },
   {
    "duration": 16,
    "start_time": "2021-10-09T11:56:44.036Z"
   },
   {
    "duration": 17,
    "start_time": "2021-10-09T11:56:44.082Z"
   },
   {
    "duration": 10,
    "start_time": "2021-10-09T11:56:44.102Z"
   },
   {
    "duration": 23,
    "start_time": "2021-10-09T11:56:59.845Z"
   },
   {
    "duration": 422,
    "start_time": "2021-10-09T11:59:26.045Z"
   },
   {
    "duration": 15,
    "start_time": "2021-10-09T11:59:30.696Z"
   },
   {
    "duration": 15,
    "start_time": "2021-10-09T11:59:42.654Z"
   },
   {
    "duration": 16,
    "start_time": "2021-10-09T11:59:51.174Z"
   },
   {
    "duration": 59,
    "start_time": "2021-10-09T11:59:53.964Z"
   },
   {
    "duration": 34,
    "start_time": "2021-10-09T12:00:07.365Z"
   },
   {
    "duration": 5800,
    "start_time": "2021-10-09T12:00:47.384Z"
   },
   {
    "duration": 11,
    "start_time": "2021-10-09T12:01:00.461Z"
   },
   {
    "duration": 36,
    "start_time": "2021-10-09T12:01:03.254Z"
   },
   {
    "duration": 947,
    "start_time": "2021-10-09T12:02:02.865Z"
   },
   {
    "duration": 13,
    "start_time": "2021-10-09T12:03:07.384Z"
   },
   {
    "duration": 10,
    "start_time": "2021-10-09T12:03:08.134Z"
   },
   {
    "duration": 303,
    "start_time": "2021-10-09T12:03:09.314Z"
   },
   {
    "duration": 565,
    "start_time": "2021-10-09T12:03:11.322Z"
   },
   {
    "duration": 407,
    "start_time": "2021-10-09T12:03:12.285Z"
   },
   {
    "duration": 8,
    "start_time": "2021-10-09T12:03:18.334Z"
   },
   {
    "duration": 12,
    "start_time": "2021-10-09T12:03:21.364Z"
   },
   {
    "duration": 39,
    "start_time": "2021-10-09T12:03:23.155Z"
   },
   {
    "duration": 13,
    "start_time": "2021-10-09T12:03:30.004Z"
   },
   {
    "duration": 326,
    "start_time": "2021-10-09T12:03:30.575Z"
   },
   {
    "duration": 50,
    "start_time": "2021-10-09T12:03:36.852Z"
   },
   {
    "duration": 11,
    "start_time": "2021-10-09T12:03:45.325Z"
   },
   {
    "duration": 427,
    "start_time": "2021-10-09T12:03:45.765Z"
   },
   {
    "duration": 302,
    "start_time": "2021-10-09T12:03:49.845Z"
   },
   {
    "duration": 11,
    "start_time": "2021-10-09T12:04:03.017Z"
   },
   {
    "duration": 414,
    "start_time": "2021-10-09T12:04:03.030Z"
   },
   {
    "duration": 872,
    "start_time": "2021-10-09T12:04:38.669Z"
   },
   {
    "duration": 130,
    "start_time": "2021-10-09T12:04:39.544Z"
   },
   {
    "duration": 34,
    "start_time": "2021-10-09T12:04:39.677Z"
   },
   {
    "duration": 116,
    "start_time": "2021-10-09T12:04:39.714Z"
   },
   {
    "duration": 15,
    "start_time": "2021-10-09T12:04:39.833Z"
   },
   {
    "duration": 69,
    "start_time": "2021-10-09T12:04:39.851Z"
   },
   {
    "duration": 21,
    "start_time": "2021-10-09T12:04:39.922Z"
   },
   {
    "duration": 7,
    "start_time": "2021-10-09T12:04:39.947Z"
   },
   {
    "duration": 35,
    "start_time": "2021-10-09T12:04:39.957Z"
   },
   {
    "duration": 11,
    "start_time": "2021-10-09T12:04:39.995Z"
   },
   {
    "duration": 23,
    "start_time": "2021-10-09T12:04:40.008Z"
   },
   {
    "duration": 10,
    "start_time": "2021-10-09T12:04:40.034Z"
   },
   {
    "duration": 53,
    "start_time": "2021-10-09T12:04:40.046Z"
   },
   {
    "duration": 36,
    "start_time": "2021-10-09T12:04:40.101Z"
   },
   {
    "duration": 891,
    "start_time": "2021-10-09T12:04:40.140Z"
   },
   {
    "duration": 608,
    "start_time": "2021-10-09T12:04:41.033Z"
   },
   {
    "duration": 12,
    "start_time": "2021-10-09T12:04:41.644Z"
   },
   {
    "duration": 27,
    "start_time": "2021-10-09T12:04:41.658Z"
   },
   {
    "duration": 331,
    "start_time": "2021-10-09T12:04:41.687Z"
   },
   {
    "duration": 567,
    "start_time": "2021-10-09T12:04:42.021Z"
   },
   {
    "duration": 395,
    "start_time": "2021-10-09T12:04:42.590Z"
   },
   {
    "duration": 9,
    "start_time": "2021-10-09T12:04:42.987Z"
   },
   {
    "duration": 14,
    "start_time": "2021-10-09T12:04:43.000Z"
   },
   {
    "duration": 72,
    "start_time": "2021-10-09T12:04:43.016Z"
   },
   {
    "duration": 9,
    "start_time": "2021-10-09T12:04:43.090Z"
   },
   {
    "duration": 343,
    "start_time": "2021-10-09T12:04:43.101Z"
   },
   {
    "duration": 61,
    "start_time": "2021-10-09T12:04:43.447Z"
   },
   {
    "duration": 11,
    "start_time": "2021-10-09T12:04:43.510Z"
   },
   {
    "duration": 450,
    "start_time": "2021-10-09T12:04:43.524Z"
   },
   {
    "duration": 331,
    "start_time": "2021-10-09T12:04:43.977Z"
   },
   {
    "duration": 12,
    "start_time": "2021-10-09T12:04:44.310Z"
   },
   {
    "duration": 413,
    "start_time": "2021-10-09T12:04:44.324Z"
   },
   {
    "duration": 298,
    "start_time": "2021-10-09T12:05:05.681Z"
   },
   {
    "duration": 1675,
    "start_time": "2021-10-09T12:05:17.118Z"
   },
   {
    "duration": 414,
    "start_time": "2021-10-09T12:05:30.288Z"
   },
   {
    "duration": 111,
    "start_time": "2021-10-09T12:06:03.849Z"
   },
   {
    "duration": 10,
    "start_time": "2021-10-09T12:06:16.229Z"
   },
   {
    "duration": 857,
    "start_time": "2021-10-09T12:07:12.649Z"
   },
   {
    "duration": 117,
    "start_time": "2021-10-09T12:07:13.508Z"
   },
   {
    "duration": 36,
    "start_time": "2021-10-09T12:07:13.628Z"
   },
   {
    "duration": 107,
    "start_time": "2021-10-09T12:07:13.682Z"
   },
   {
    "duration": 16,
    "start_time": "2021-10-09T12:07:13.791Z"
   },
   {
    "duration": 44,
    "start_time": "2021-10-09T12:07:13.810Z"
   },
   {
    "duration": 46,
    "start_time": "2021-10-09T12:07:13.856Z"
   },
   {
    "duration": 7,
    "start_time": "2021-10-09T12:07:13.904Z"
   },
   {
    "duration": 14,
    "start_time": "2021-10-09T12:07:13.914Z"
   },
   {
    "duration": 12,
    "start_time": "2021-10-09T12:07:13.930Z"
   },
   {
    "duration": 53,
    "start_time": "2021-10-09T12:07:13.944Z"
   },
   {
    "duration": 12,
    "start_time": "2021-10-09T12:07:21.058Z"
   },
   {
    "duration": 23,
    "start_time": "2021-10-09T12:08:03.889Z"
   },
   {
    "duration": 16,
    "start_time": "2021-10-09T12:12:13.278Z"
   },
   {
    "duration": 15,
    "start_time": "2021-10-09T12:12:50.666Z"
   },
   {
    "duration": 15,
    "start_time": "2021-10-09T12:13:08.568Z"
   },
   {
    "duration": 8,
    "start_time": "2021-10-09T12:13:23.909Z"
   },
   {
    "duration": 898,
    "start_time": "2021-10-09T12:15:05.708Z"
   },
   {
    "duration": 606,
    "start_time": "2021-10-09T12:15:07.533Z"
   },
   {
    "duration": 12,
    "start_time": "2021-10-09T12:15:08.143Z"
   },
   {
    "duration": 30,
    "start_time": "2021-10-09T12:15:08.159Z"
   },
   {
    "duration": 320,
    "start_time": "2021-10-09T12:15:08.192Z"
   },
   {
    "duration": 553,
    "start_time": "2021-10-09T12:15:08.515Z"
   },
   {
    "duration": 381,
    "start_time": "2021-10-09T12:15:09.070Z"
   },
   {
    "duration": 9,
    "start_time": "2021-10-09T12:15:09.454Z"
   },
   {
    "duration": 11,
    "start_time": "2021-10-09T12:15:09.482Z"
   },
   {
    "duration": 55,
    "start_time": "2021-10-09T12:15:09.496Z"
   },
   {
    "duration": 9,
    "start_time": "2021-10-09T12:15:09.601Z"
   },
   {
    "duration": 310,
    "start_time": "2021-10-09T12:15:09.799Z"
   },
   {
    "duration": 48,
    "start_time": "2021-10-09T12:15:10.138Z"
   },
   {
    "duration": 12,
    "start_time": "2021-10-09T12:15:10.448Z"
   },
   {
    "duration": 404,
    "start_time": "2021-10-09T12:15:10.798Z"
   },
   {
    "duration": 299,
    "start_time": "2021-10-09T12:15:12.318Z"
   },
   {
    "duration": 13,
    "start_time": "2021-10-09T12:15:14.148Z"
   },
   {
    "duration": 11,
    "start_time": "2021-10-09T12:15:14.909Z"
   },
   {
    "duration": 436,
    "start_time": "2021-10-09T12:15:18.568Z"
   },
   {
    "duration": 530,
    "start_time": "2021-10-09T12:15:52.618Z"
   },
   {
    "duration": 191,
    "start_time": "2021-10-09T12:17:04.232Z"
   },
   {
    "duration": 107,
    "start_time": "2021-10-09T12:17:09.998Z"
   },
   {
    "duration": 4,
    "start_time": "2021-10-09T12:26:47.316Z"
   },
   {
    "duration": 28,
    "start_time": "2021-10-09T12:26:48.326Z"
   },
   {
    "duration": 305,
    "start_time": "2021-10-09T12:26:51.506Z"
   },
   {
    "duration": 232,
    "start_time": "2021-10-09T12:26:54.107Z"
   },
   {
    "duration": 548,
    "start_time": "2021-10-09T12:28:15.772Z"
   },
   {
    "duration": 667,
    "start_time": "2021-10-09T12:29:39.270Z"
   },
   {
    "duration": 908,
    "start_time": "2021-10-09T12:30:29.992Z"
   },
   {
    "duration": 19,
    "start_time": "2021-10-09T12:30:44.162Z"
   },
   {
    "duration": 254,
    "start_time": "2021-10-09T12:31:27.854Z"
   },
   {
    "duration": 310,
    "start_time": "2021-10-09T12:33:31.459Z"
   },
   {
    "duration": 253,
    "start_time": "2021-10-09T12:33:37.396Z"
   },
   {
    "duration": 647,
    "start_time": "2021-10-09T12:33:51.450Z"
   },
   {
    "duration": 8,
    "start_time": "2021-10-09T12:34:19.788Z"
   },
   {
    "duration": 6,
    "start_time": "2021-10-09T12:34:20.876Z"
   },
   {
    "duration": 26,
    "start_time": "2021-10-09T12:34:21.975Z"
   },
   {
    "duration": 26,
    "start_time": "2021-10-09T12:34:44.626Z"
   },
   {
    "duration": 448,
    "start_time": "2021-10-09T12:36:09.982Z"
   },
   {
    "duration": 38,
    "start_time": "2021-10-09T12:36:27.934Z"
   },
   {
    "duration": 29,
    "start_time": "2021-10-09T12:40:24.147Z"
   },
   {
    "duration": 307,
    "start_time": "2021-10-09T12:40:34.927Z"
   },
   {
    "duration": 317,
    "start_time": "2021-10-09T12:40:44.107Z"
   },
   {
    "duration": 38,
    "start_time": "2021-10-09T12:40:51.897Z"
   },
   {
    "duration": 37,
    "start_time": "2021-10-09T12:43:27.672Z"
   },
   {
    "duration": 37,
    "start_time": "2021-10-09T12:43:49.788Z"
   },
   {
    "duration": 371,
    "start_time": "2021-10-09T12:47:24.855Z"
   },
   {
    "duration": 289,
    "start_time": "2021-10-09T12:47:39.745Z"
   },
   {
    "duration": 581,
    "start_time": "2021-10-09T12:50:53.334Z"
   },
   {
    "duration": 368,
    "start_time": "2021-10-09T12:50:59.314Z"
   },
   {
    "duration": 325,
    "start_time": "2021-10-09T12:52:21.684Z"
   },
   {
    "duration": 338,
    "start_time": "2021-10-09T12:53:07.708Z"
   },
   {
    "duration": 8,
    "start_time": "2021-10-09T12:53:24.667Z"
   },
   {
    "duration": 11,
    "start_time": "2021-10-09T12:53:27.260Z"
   },
   {
    "duration": 338,
    "start_time": "2021-10-09T12:53:44.364Z"
   },
   {
    "duration": 1493,
    "start_time": "2021-10-09T18:31:57.844Z"
   },
   {
    "duration": 116,
    "start_time": "2021-10-09T18:32:02.945Z"
   },
   {
    "duration": 38,
    "start_time": "2021-10-09T18:32:06.173Z"
   },
   {
    "duration": 103,
    "start_time": "2021-10-09T18:32:06.524Z"
   },
   {
    "duration": 15,
    "start_time": "2021-10-09T18:32:07.314Z"
   },
   {
    "duration": 45,
    "start_time": "2021-10-09T18:32:09.256Z"
   },
   {
    "duration": 24,
    "start_time": "2021-10-09T18:32:09.303Z"
   },
   {
    "duration": 6,
    "start_time": "2021-10-09T18:32:09.330Z"
   },
   {
    "duration": 33,
    "start_time": "2021-10-09T18:32:09.339Z"
   },
   {
    "duration": 12,
    "start_time": "2021-10-09T18:32:10.304Z"
   },
   {
    "duration": 16,
    "start_time": "2021-10-09T18:32:11.065Z"
   },
   {
    "duration": 24,
    "start_time": "2021-10-09T18:32:37.755Z"
   },
   {
    "duration": 8,
    "start_time": "2021-10-09T18:32:38.484Z"
   },
   {
    "duration": 620,
    "start_time": "2021-10-09T18:32:46.424Z"
   },
   {
    "duration": 1464,
    "start_time": "2021-10-09T18:33:12.745Z"
   },
   {
    "duration": 120,
    "start_time": "2021-10-09T18:33:14.212Z"
   },
   {
    "duration": 45,
    "start_time": "2021-10-09T18:33:14.335Z"
   },
   {
    "duration": 117,
    "start_time": "2021-10-09T18:33:14.383Z"
   },
   {
    "duration": 16,
    "start_time": "2021-10-09T18:33:14.503Z"
   },
   {
    "duration": 66,
    "start_time": "2021-10-09T18:33:14.521Z"
   },
   {
    "duration": 24,
    "start_time": "2021-10-09T18:33:14.590Z"
   },
   {
    "duration": 8,
    "start_time": "2021-10-09T18:33:14.618Z"
   },
   {
    "duration": 47,
    "start_time": "2021-10-09T18:33:14.629Z"
   },
   {
    "duration": 17,
    "start_time": "2021-10-09T18:33:14.678Z"
   },
   {
    "duration": 20,
    "start_time": "2021-10-09T18:33:14.697Z"
   },
   {
    "duration": 10,
    "start_time": "2021-10-09T18:33:14.720Z"
   },
   {
    "duration": 40,
    "start_time": "2021-10-09T18:33:14.733Z"
   },
   {
    "duration": 9,
    "start_time": "2021-10-09T18:33:14.775Z"
   },
   {
    "duration": 896,
    "start_time": "2021-10-09T18:33:18.095Z"
   },
   {
    "duration": 573,
    "start_time": "2021-10-09T18:33:24.796Z"
   },
   {
    "duration": 12,
    "start_time": "2021-10-09T18:33:29.335Z"
   },
   {
    "duration": 9,
    "start_time": "2021-10-09T18:33:29.575Z"
   },
   {
    "duration": 329,
    "start_time": "2021-10-09T18:33:29.785Z"
   },
   {
    "duration": 618,
    "start_time": "2021-10-09T18:33:33.535Z"
   },
   {
    "duration": 385,
    "start_time": "2021-10-09T18:33:35.835Z"
   },
   {
    "duration": 10,
    "start_time": "2021-10-09T18:33:38.295Z"
   },
   {
    "duration": 12,
    "start_time": "2021-10-09T18:33:39.907Z"
   },
   {
    "duration": 45,
    "start_time": "2021-10-09T18:33:40.625Z"
   },
   {
    "duration": 10,
    "start_time": "2021-10-09T18:33:44.045Z"
   },
   {
    "duration": 352,
    "start_time": "2021-10-09T18:33:45.719Z"
   },
   {
    "duration": 48,
    "start_time": "2021-10-09T18:33:49.213Z"
   },
   {
    "duration": 11,
    "start_time": "2021-10-09T18:33:52.003Z"
   },
   {
    "duration": 449,
    "start_time": "2021-10-09T18:33:52.416Z"
   },
   {
    "duration": 328,
    "start_time": "2021-10-09T18:33:55.436Z"
   },
   {
    "duration": 12,
    "start_time": "2021-10-09T18:33:56.664Z"
   },
   {
    "duration": 11,
    "start_time": "2021-10-09T18:33:57.832Z"
   },
   {
    "duration": 487,
    "start_time": "2021-10-09T18:34:01.745Z"
   },
   {
    "duration": 151,
    "start_time": "2021-10-09T18:34:06.647Z"
   },
   {
    "duration": 4,
    "start_time": "2021-10-09T18:34:12.906Z"
   },
   {
    "duration": 26,
    "start_time": "2021-10-09T18:34:13.185Z"
   },
   {
    "duration": 618,
    "start_time": "2021-10-09T18:35:14.795Z"
   },
   {
    "duration": 441,
    "start_time": "2021-10-09T18:35:33.566Z"
   },
   {
    "duration": 338,
    "start_time": "2021-10-09T18:36:12.615Z"
   },
   {
    "duration": 301,
    "start_time": "2021-10-09T18:36:17.086Z"
   },
   {
    "duration": 400,
    "start_time": "2021-10-09T18:36:43.465Z"
   },
   {
    "duration": 237,
    "start_time": "2021-10-09T18:37:14.205Z"
   },
   {
    "duration": 950,
    "start_time": "2021-10-09T18:37:24.676Z"
   },
   {
    "duration": 706,
    "start_time": "2021-10-09T18:37:32.186Z"
   },
   {
    "duration": 289,
    "start_time": "2021-10-09T18:37:42.355Z"
   },
   {
    "duration": 539,
    "start_time": "2021-10-09T18:38:08.309Z"
   },
   {
    "duration": 505,
    "start_time": "2021-10-09T18:38:43.925Z"
   },
   {
    "duration": 255,
    "start_time": "2021-10-09T18:39:00.387Z"
   },
   {
    "duration": 318,
    "start_time": "2021-10-09T18:39:09.245Z"
   },
   {
    "duration": 272,
    "start_time": "2021-10-09T18:39:09.886Z"
   },
   {
    "duration": 915,
    "start_time": "2021-10-09T18:39:33.685Z"
   },
   {
    "duration": 657,
    "start_time": "2021-10-09T18:39:55.435Z"
   },
   {
    "duration": 338,
    "start_time": "2021-10-09T18:40:50.403Z"
   },
   {
    "duration": 325,
    "start_time": "2021-10-09T18:41:19.881Z"
   },
   {
    "duration": 1654,
    "start_time": "2021-10-30T13:40:04.355Z"
   },
   {
    "duration": 124,
    "start_time": "2021-10-30T13:40:06.012Z"
   },
   {
    "duration": 36,
    "start_time": "2021-10-30T13:40:06.139Z"
   },
   {
    "duration": 124,
    "start_time": "2021-10-30T13:40:06.177Z"
   },
   {
    "duration": 26,
    "start_time": "2021-10-30T13:40:06.303Z"
   },
   {
    "duration": 43,
    "start_time": "2021-10-30T13:40:06.331Z"
   },
   {
    "duration": 21,
    "start_time": "2021-10-30T13:40:06.377Z"
   },
   {
    "duration": 32,
    "start_time": "2021-10-30T13:40:06.402Z"
   },
   {
    "duration": 15,
    "start_time": "2021-10-30T13:40:06.437Z"
   },
   {
    "duration": 33,
    "start_time": "2021-10-30T13:40:06.454Z"
   },
   {
    "duration": 38,
    "start_time": "2021-10-30T13:40:06.490Z"
   },
   {
    "duration": 28,
    "start_time": "2021-10-30T13:40:06.530Z"
   },
   {
    "duration": 38,
    "start_time": "2021-10-30T13:40:06.560Z"
   },
   {
    "duration": 14,
    "start_time": "2021-10-30T13:40:06.601Z"
   },
   {
    "duration": 992,
    "start_time": "2021-10-30T13:40:06.617Z"
   },
   {
    "duration": 575,
    "start_time": "2021-10-30T13:40:07.612Z"
   },
   {
    "duration": 13,
    "start_time": "2021-10-30T13:40:08.189Z"
   },
   {
    "duration": 30,
    "start_time": "2021-10-30T13:40:08.205Z"
   },
   {
    "duration": 363,
    "start_time": "2021-10-30T13:40:08.238Z"
   },
   {
    "duration": 635,
    "start_time": "2021-10-30T13:40:08.604Z"
   },
   {
    "duration": 422,
    "start_time": "2021-10-30T13:40:09.242Z"
   },
   {
    "duration": 8,
    "start_time": "2021-10-30T13:40:09.667Z"
   },
   {
    "duration": 13,
    "start_time": "2021-10-30T13:40:09.683Z"
   },
   {
    "duration": 43,
    "start_time": "2021-10-30T13:40:09.728Z"
   },
   {
    "duration": 9,
    "start_time": "2021-10-30T13:40:09.773Z"
   },
   {
    "duration": 352,
    "start_time": "2021-10-30T13:40:09.784Z"
   },
   {
    "duration": 47,
    "start_time": "2021-10-30T13:40:10.138Z"
   },
   {
    "duration": 9,
    "start_time": "2021-10-30T13:40:10.188Z"
   },
   {
    "duration": 468,
    "start_time": "2021-10-30T13:40:10.200Z"
   },
   {
    "duration": 347,
    "start_time": "2021-10-30T13:40:10.671Z"
   },
   {
    "duration": 17,
    "start_time": "2021-10-30T13:40:11.020Z"
   },
   {
    "duration": 8,
    "start_time": "2021-10-30T13:40:11.040Z"
   },
   {
    "duration": 474,
    "start_time": "2021-10-30T13:40:11.050Z"
   },
   {
    "duration": 125,
    "start_time": "2021-10-30T13:40:11.529Z"
   },
   {
    "duration": 4,
    "start_time": "2021-10-30T13:40:11.656Z"
   },
   {
    "duration": 28,
    "start_time": "2021-10-30T13:40:11.662Z"
   },
   {
    "duration": 340,
    "start_time": "2021-10-30T13:40:11.692Z"
   },
   {
    "duration": 257,
    "start_time": "2021-10-30T13:40:12.034Z"
   },
   {
    "duration": 720,
    "start_time": "2021-10-30T13:40:12.293Z"
   },
   {
    "duration": 262,
    "start_time": "2021-10-30T13:40:13.015Z"
   },
   {
    "duration": 408,
    "start_time": "2021-10-30T13:40:13.279Z"
   },
   {
    "duration": 290,
    "start_time": "2021-10-30T13:40:13.689Z"
   },
   {
    "duration": 665,
    "start_time": "2021-10-30T13:40:13.982Z"
   },
   {
    "duration": 8,
    "start_time": "2021-10-30T13:40:14.649Z"
   },
   {
    "duration": 9,
    "start_time": "2021-10-30T13:40:14.659Z"
   },
   {
    "duration": 60,
    "start_time": "2021-10-30T13:40:14.671Z"
   },
   {
    "duration": 391,
    "start_time": "2021-10-30T13:40:14.733Z"
   },
   {
    "duration": 320,
    "start_time": "2021-10-30T13:40:15.126Z"
   },
   {
    "duration": 318,
    "start_time": "2021-10-30T13:40:15.449Z"
   },
   {
    "duration": 9,
    "start_time": "2021-10-30T13:40:15.769Z"
   },
   {
    "duration": 10,
    "start_time": "2021-10-30T13:40:15.780Z"
   },
   {
    "duration": 387,
    "start_time": "2021-10-30T13:40:15.793Z"
   }
  ],
  "kernelspec": {
   "display_name": "Python 3 (ipykernel)",
   "language": "python",
   "name": "python3"
  },
  "language_info": {
   "codemirror_mode": {
    "name": "ipython",
    "version": 3
   },
   "file_extension": ".py",
   "mimetype": "text/x-python",
   "name": "python",
   "nbconvert_exporter": "python",
   "pygments_lexer": "ipython3",
   "version": "3.9.5"
  },
  "toc": {
   "base_numbering": 1,
   "nav_menu": {},
   "number_sections": true,
   "sideBar": true,
   "skip_h1_title": true,
   "title_cell": "Содержание",
   "title_sidebar": "Contents",
   "toc_cell": true,
   "toc_position": {
    "height": "calc(100% - 180px)",
    "left": "10px",
    "top": "150px",
    "width": "165px"
   },
   "toc_section_display": true,
   "toc_window_display": true
  }
 },
 "nbformat": 4,
 "nbformat_minor": 2
}
