{
 "cells": [
  {
   "cell_type": "markdown",
   "metadata": {},
   "source": [
    "# Выбор локации для скважины"
   ]
  },
  {
   "cell_type": "markdown",
   "metadata": {},
   "source": [
    "Допустим, мы работаем в добывающей компании. Нужно решить, где бурить новую скважину.\n",
    "\n",
    "Нам предоставлены пробы нефти в трёх регионах: в каждом 10 000 месторождений, где измерили качество нефти и объём её запасов. Требуется построить модель машинного обучения, которая поможет определить регион, где добыча принесёт наибольшую прибыль. Для анализа возможной прибыли и рисков воспользуемся техникой *Bootstrap.*\n",
    "\n",
    "Шаги для выбора локации:\n",
    "\n",
    "- В избранном регионе ищут месторождения, для каждого определяют значения признаков;\n",
    "- Строят модель и оценивают объём запасов;\n",
    "- Выбирают месторождения с самым высокими оценками значений. Количество месторождений зависит от бюджета компании и стоимости разработки одной скважины;\n",
    "- Прибыль равна суммарной прибыли отобранных месторождений."
   ]
  },
  {
   "cell_type": "markdown",
   "metadata": {},
   "source": [
    "## Загрузка и подготовка данных"
   ]
  },
  {
   "cell_type": "code",
   "execution_count": 1,
   "metadata": {},
   "outputs": [],
   "source": [
    "import pandas as pd\n",
    "import numpy as np\n",
    "import matplotlib.pyplot as plt\n",
    "from sklearn.model_selection import train_test_split\n",
    "from sklearn.linear_model import LinearRegression\n",
    "from sklearn.metrics import mean_squared_error\n",
    "from sklearn.metrics import confusion_matrix\n",
    "from sklearn.metrics import f1_score\n",
    "from sklearn.metrics import accuracy_score"
   ]
  },
  {
   "cell_type": "code",
   "execution_count": 2,
   "metadata": {},
   "outputs": [],
   "source": [
    "df_0 = pd.read_csv('/datasets/geo_data_0.csv')\n",
    "df_1 = pd.read_csv('/datasets/geo_data_1.csv')\n",
    "df_2 = pd.read_csv('/datasets/geo_data_2.csv')"
   ]
  },
  {
   "cell_type": "code",
   "execution_count": 3,
   "metadata": {},
   "outputs": [
    {
     "name": "stdout",
     "output_type": "stream",
     "text": [
      "<class 'pandas.core.frame.DataFrame'>\n",
      "RangeIndex: 100000 entries, 0 to 99999\n",
      "Data columns (total 5 columns):\n",
      "id         100000 non-null object\n",
      "f0         100000 non-null float64\n",
      "f1         100000 non-null float64\n",
      "f2         100000 non-null float64\n",
      "product    100000 non-null float64\n",
      "dtypes: float64(4), object(1)\n",
      "memory usage: 3.8+ MB\n"
     ]
    }
   ],
   "source": [
    "df_0.info()"
   ]
  },
  {
   "cell_type": "code",
   "execution_count": 4,
   "metadata": {},
   "outputs": [
    {
     "data": {
      "text/html": [
       "<div>\n",
       "<style scoped>\n",
       "    .dataframe tbody tr th:only-of-type {\n",
       "        vertical-align: middle;\n",
       "    }\n",
       "\n",
       "    .dataframe tbody tr th {\n",
       "        vertical-align: top;\n",
       "    }\n",
       "\n",
       "    .dataframe thead th {\n",
       "        text-align: right;\n",
       "    }\n",
       "</style>\n",
       "<table border=\"1\" class=\"dataframe\">\n",
       "  <thead>\n",
       "    <tr style=\"text-align: right;\">\n",
       "      <th></th>\n",
       "      <th>id</th>\n",
       "      <th>f0</th>\n",
       "      <th>f1</th>\n",
       "      <th>f2</th>\n",
       "      <th>product</th>\n",
       "    </tr>\n",
       "  </thead>\n",
       "  <tbody>\n",
       "    <tr>\n",
       "      <td>0</td>\n",
       "      <td>txEyH</td>\n",
       "      <td>0.705745</td>\n",
       "      <td>-0.497823</td>\n",
       "      <td>1.221170</td>\n",
       "      <td>105.280062</td>\n",
       "    </tr>\n",
       "    <tr>\n",
       "      <td>1</td>\n",
       "      <td>2acmU</td>\n",
       "      <td>1.334711</td>\n",
       "      <td>-0.340164</td>\n",
       "      <td>4.365080</td>\n",
       "      <td>73.037750</td>\n",
       "    </tr>\n",
       "    <tr>\n",
       "      <td>2</td>\n",
       "      <td>409Wp</td>\n",
       "      <td>1.022732</td>\n",
       "      <td>0.151990</td>\n",
       "      <td>1.419926</td>\n",
       "      <td>85.265647</td>\n",
       "    </tr>\n",
       "    <tr>\n",
       "      <td>3</td>\n",
       "      <td>iJLyR</td>\n",
       "      <td>-0.032172</td>\n",
       "      <td>0.139033</td>\n",
       "      <td>2.978566</td>\n",
       "      <td>168.620776</td>\n",
       "    </tr>\n",
       "    <tr>\n",
       "      <td>4</td>\n",
       "      <td>Xdl7t</td>\n",
       "      <td>1.988431</td>\n",
       "      <td>0.155413</td>\n",
       "      <td>4.751769</td>\n",
       "      <td>154.036647</td>\n",
       "    </tr>\n",
       "  </tbody>\n",
       "</table>\n",
       "</div>"
      ],
      "text/plain": [
       "      id        f0        f1        f2     product\n",
       "0  txEyH  0.705745 -0.497823  1.221170  105.280062\n",
       "1  2acmU  1.334711 -0.340164  4.365080   73.037750\n",
       "2  409Wp  1.022732  0.151990  1.419926   85.265647\n",
       "3  iJLyR -0.032172  0.139033  2.978566  168.620776\n",
       "4  Xdl7t  1.988431  0.155413  4.751769  154.036647"
      ]
     },
     "execution_count": 4,
     "metadata": {},
     "output_type": "execute_result"
    }
   ],
   "source": [
    "df_0.head()"
   ]
  },
  {
   "cell_type": "code",
   "execution_count": 5,
   "metadata": {
    "scrolled": true
   },
   "outputs": [
    {
     "data": {
      "text/plain": [
       "99990"
      ]
     },
     "execution_count": 5,
     "metadata": {},
     "output_type": "execute_result"
    }
   ],
   "source": [
    "len(df_0['id'].unique())"
   ]
  },
  {
   "cell_type": "code",
   "execution_count": 6,
   "metadata": {},
   "outputs": [
    {
     "name": "stdout",
     "output_type": "stream",
     "text": [
      "<class 'pandas.core.frame.DataFrame'>\n",
      "RangeIndex: 100000 entries, 0 to 99999\n",
      "Data columns (total 5 columns):\n",
      "id         100000 non-null object\n",
      "f0         100000 non-null float64\n",
      "f1         100000 non-null float64\n",
      "f2         100000 non-null float64\n",
      "product    100000 non-null float64\n",
      "dtypes: float64(4), object(1)\n",
      "memory usage: 3.8+ MB\n"
     ]
    }
   ],
   "source": [
    "df_1.info()"
   ]
  },
  {
   "cell_type": "code",
   "execution_count": 7,
   "metadata": {},
   "outputs": [
    {
     "data": {
      "text/html": [
       "<div>\n",
       "<style scoped>\n",
       "    .dataframe tbody tr th:only-of-type {\n",
       "        vertical-align: middle;\n",
       "    }\n",
       "\n",
       "    .dataframe tbody tr th {\n",
       "        vertical-align: top;\n",
       "    }\n",
       "\n",
       "    .dataframe thead th {\n",
       "        text-align: right;\n",
       "    }\n",
       "</style>\n",
       "<table border=\"1\" class=\"dataframe\">\n",
       "  <thead>\n",
       "    <tr style=\"text-align: right;\">\n",
       "      <th></th>\n",
       "      <th>id</th>\n",
       "      <th>f0</th>\n",
       "      <th>f1</th>\n",
       "      <th>f2</th>\n",
       "      <th>product</th>\n",
       "    </tr>\n",
       "  </thead>\n",
       "  <tbody>\n",
       "    <tr>\n",
       "      <td>0</td>\n",
       "      <td>kBEdx</td>\n",
       "      <td>-15.001348</td>\n",
       "      <td>-8.276000</td>\n",
       "      <td>-0.005876</td>\n",
       "      <td>3.179103</td>\n",
       "    </tr>\n",
       "    <tr>\n",
       "      <td>1</td>\n",
       "      <td>62mP7</td>\n",
       "      <td>14.272088</td>\n",
       "      <td>-3.475083</td>\n",
       "      <td>0.999183</td>\n",
       "      <td>26.953261</td>\n",
       "    </tr>\n",
       "    <tr>\n",
       "      <td>2</td>\n",
       "      <td>vyE1P</td>\n",
       "      <td>6.263187</td>\n",
       "      <td>-5.948386</td>\n",
       "      <td>5.001160</td>\n",
       "      <td>134.766305</td>\n",
       "    </tr>\n",
       "    <tr>\n",
       "      <td>3</td>\n",
       "      <td>KcrkZ</td>\n",
       "      <td>-13.081196</td>\n",
       "      <td>-11.506057</td>\n",
       "      <td>4.999415</td>\n",
       "      <td>137.945408</td>\n",
       "    </tr>\n",
       "    <tr>\n",
       "      <td>4</td>\n",
       "      <td>AHL4O</td>\n",
       "      <td>12.702195</td>\n",
       "      <td>-8.147433</td>\n",
       "      <td>5.004363</td>\n",
       "      <td>134.766305</td>\n",
       "    </tr>\n",
       "  </tbody>\n",
       "</table>\n",
       "</div>"
      ],
      "text/plain": [
       "      id         f0         f1        f2     product\n",
       "0  kBEdx -15.001348  -8.276000 -0.005876    3.179103\n",
       "1  62mP7  14.272088  -3.475083  0.999183   26.953261\n",
       "2  vyE1P   6.263187  -5.948386  5.001160  134.766305\n",
       "3  KcrkZ -13.081196 -11.506057  4.999415  137.945408\n",
       "4  AHL4O  12.702195  -8.147433  5.004363  134.766305"
      ]
     },
     "execution_count": 7,
     "metadata": {},
     "output_type": "execute_result"
    }
   ],
   "source": [
    "df_1.head()"
   ]
  },
  {
   "cell_type": "code",
   "execution_count": 8,
   "metadata": {},
   "outputs": [
    {
     "data": {
      "text/plain": [
       "99996"
      ]
     },
     "execution_count": 8,
     "metadata": {},
     "output_type": "execute_result"
    }
   ],
   "source": [
    "len(df_1['id'].unique())"
   ]
  },
  {
   "cell_type": "code",
   "execution_count": 9,
   "metadata": {},
   "outputs": [
    {
     "name": "stdout",
     "output_type": "stream",
     "text": [
      "<class 'pandas.core.frame.DataFrame'>\n",
      "RangeIndex: 100000 entries, 0 to 99999\n",
      "Data columns (total 5 columns):\n",
      "id         100000 non-null object\n",
      "f0         100000 non-null float64\n",
      "f1         100000 non-null float64\n",
      "f2         100000 non-null float64\n",
      "product    100000 non-null float64\n",
      "dtypes: float64(4), object(1)\n",
      "memory usage: 3.8+ MB\n"
     ]
    }
   ],
   "source": [
    "df_2.info()"
   ]
  },
  {
   "cell_type": "code",
   "execution_count": 10,
   "metadata": {},
   "outputs": [
    {
     "data": {
      "text/html": [
       "<div>\n",
       "<style scoped>\n",
       "    .dataframe tbody tr th:only-of-type {\n",
       "        vertical-align: middle;\n",
       "    }\n",
       "\n",
       "    .dataframe tbody tr th {\n",
       "        vertical-align: top;\n",
       "    }\n",
       "\n",
       "    .dataframe thead th {\n",
       "        text-align: right;\n",
       "    }\n",
       "</style>\n",
       "<table border=\"1\" class=\"dataframe\">\n",
       "  <thead>\n",
       "    <tr style=\"text-align: right;\">\n",
       "      <th></th>\n",
       "      <th>id</th>\n",
       "      <th>f0</th>\n",
       "      <th>f1</th>\n",
       "      <th>f2</th>\n",
       "      <th>product</th>\n",
       "    </tr>\n",
       "  </thead>\n",
       "  <tbody>\n",
       "    <tr>\n",
       "      <td>0</td>\n",
       "      <td>fwXo0</td>\n",
       "      <td>-1.146987</td>\n",
       "      <td>0.963328</td>\n",
       "      <td>-0.828965</td>\n",
       "      <td>27.758673</td>\n",
       "    </tr>\n",
       "    <tr>\n",
       "      <td>1</td>\n",
       "      <td>WJtFt</td>\n",
       "      <td>0.262778</td>\n",
       "      <td>0.269839</td>\n",
       "      <td>-2.530187</td>\n",
       "      <td>56.069697</td>\n",
       "    </tr>\n",
       "    <tr>\n",
       "      <td>2</td>\n",
       "      <td>ovLUW</td>\n",
       "      <td>0.194587</td>\n",
       "      <td>0.289035</td>\n",
       "      <td>-5.586433</td>\n",
       "      <td>62.871910</td>\n",
       "    </tr>\n",
       "    <tr>\n",
       "      <td>3</td>\n",
       "      <td>q6cA6</td>\n",
       "      <td>2.236060</td>\n",
       "      <td>-0.553760</td>\n",
       "      <td>0.930038</td>\n",
       "      <td>114.572842</td>\n",
       "    </tr>\n",
       "    <tr>\n",
       "      <td>4</td>\n",
       "      <td>WPMUX</td>\n",
       "      <td>-0.515993</td>\n",
       "      <td>1.716266</td>\n",
       "      <td>5.899011</td>\n",
       "      <td>149.600746</td>\n",
       "    </tr>\n",
       "  </tbody>\n",
       "</table>\n",
       "</div>"
      ],
      "text/plain": [
       "      id        f0        f1        f2     product\n",
       "0  fwXo0 -1.146987  0.963328 -0.828965   27.758673\n",
       "1  WJtFt  0.262778  0.269839 -2.530187   56.069697\n",
       "2  ovLUW  0.194587  0.289035 -5.586433   62.871910\n",
       "3  q6cA6  2.236060 -0.553760  0.930038  114.572842\n",
       "4  WPMUX -0.515993  1.716266  5.899011  149.600746"
      ]
     },
     "execution_count": 10,
     "metadata": {},
     "output_type": "execute_result"
    }
   ],
   "source": [
    "df_2.head()"
   ]
  },
  {
   "cell_type": "code",
   "execution_count": 11,
   "metadata": {},
   "outputs": [
    {
     "data": {
      "text/plain": [
       "99996"
      ]
     },
     "execution_count": 11,
     "metadata": {},
     "output_type": "execute_result"
    }
   ],
   "source": [
    "len(df_2['id'].unique())"
   ]
  },
  {
   "cell_type": "markdown",
   "metadata": {},
   "source": [
    "Мы имеем 3 датасета, в каждом из которых содержится информация о 10 000 скважин. Пропусков в данных нет, но имеются дубликаты по номеру скважин (id). Правда, таких дубликатов всего доли процента."
   ]
  },
  {
   "cell_type": "markdown",
   "metadata": {},
   "source": [
    "## Обучение и проверка модели"
   ]
  },
  {
   "cell_type": "markdown",
   "metadata": {},
   "source": [
    "Разделим данные на обучающие и тестовые выборки и обучим модели для каждого региона."
   ]
  },
  {
   "cell_type": "code",
   "execution_count": 12,
   "metadata": {},
   "outputs": [],
   "source": [
    "features_0 = df_0[['f0', 'f1', 'f2']]\n",
    "target_0 = df_0['product']\n",
    "features_1 = df_1[['f0', 'f1', 'f2']]\n",
    "target_1 = df_1['product']\n",
    "features_2 = df_2[['f0', 'f1', 'f2']]\n",
    "target_2 = df_2['product']"
   ]
  },
  {
   "cell_type": "code",
   "execution_count": 13,
   "metadata": {},
   "outputs": [],
   "source": [
    "features_train_0, features_valid_0, target_train_0, target_valid_0 = train_test_split(\n",
    "    features_0, target_0, test_size=.25, random_state=123)\n",
    "features_train_1, features_valid_1, target_train_1, target_valid_1 = train_test_split(\n",
    "    features_1, target_1, test_size=.25, random_state=123)\n",
    "features_train_2, features_valid_2, target_train_2, target_valid_2 = train_test_split(\n",
    "    features_2, target_2, test_size=.25, random_state=123)"
   ]
  },
  {
   "cell_type": "code",
   "execution_count": 17,
   "metadata": {},
   "outputs": [],
   "source": [
    "def model_regr(features, target):\n",
    "    features_train, features_valid, target_train, target_valid = train_test_split(\n",
    "        features, target, test_size=.25, random_state=123)\n",
    "    model = LinearRegression()\n",
    "    model.fit(features_train, target_train)\n",
    "    predictions = model.predict(features_valid)\n",
    "    print('Предсказанные средние запасы в регионе:', predictions.mean())\n",
    "    mse = mean_squared_error(target_valid, predictions)\n",
    "    print('RMSE модели', mse**.5)\n",
    "    return model"
   ]
  },
  {
   "cell_type": "code",
   "execution_count": 18,
   "metadata": {},
   "outputs": [
    {
     "name": "stdout",
     "output_type": "stream",
     "text": [
      "Истинные средние запасы в регионе: 92.50000000000001\n",
      "Предсказанные средние запасы в регионе: 92.54936189116309\n",
      "RMSE модели 37.64786282376176\n"
     ]
    }
   ],
   "source": [
    "# Проверим нулевой регион\n",
    "print('Истинные средние запасы в регионе:', df_0['product'].mean())\n",
    "model_0 = model_regr(features_0, target_0<div class=\"alert alert-block alert-warning\">"
   ]
  },
  {
   "cell_type": "code",
   "execution_count": 19,
   "metadata": {},
   "outputs": [
    {
     "name": "stdout",
     "output_type": "stream",
     "text": [
      "Истинные средние запасы в регионе: 68.82500000000002\n",
      "Предсказанные средние запасы в регионе: 69.28001860653976\n",
      "RMSE модели 0.8954139804944304\n"
     ]
    }
   ],
   "source": [
    "# Проверим первый регион\n",
    "print('Истинные средние запасы в регионе:', df_1['product'].mean())\n",
    "model_1 = model_regr(features_1, target_1)"
   ]
  },
  {
   "cell_type": "code",
   "execution_count": 20,
   "metadata": {},
   "outputs": [
    {
     "name": "stdout",
     "output_type": "stream",
     "text": [
      "Истинные средние запасы в регионе: 95.00000000000004\n",
      "Предсказанные средние запасы в регионе: 95.09859933591373\n",
      "RMSE модели 40.12803006598514\n"
     ]
    }
   ],
   "source": [
    "# Проверим второй регион\n",
    "print('Истинные средние запасы в регионе:', df_2['product'].mean())\n",
    "model_2 = model_regr(features_2, target_2)"
   ]
  },
  {
   "cell_type": "markdown",
   "metadata": {},
   "source": [
    "Линейные модели почень хорошо предсказывают средние запасы в месторождении для всех трех районов, однако в нулевом и втором регионе большие среднеквадратичные отклонения целевого признака. Модель для первого района выдает очень маленькую ошибку RMSE"
   ]
  },
  {
   "cell_type": "markdown",
   "metadata": {},
   "source": [
    "## Подготовка к расчёту прибыли"
   ]
  },
  {
   "cell_type": "code",
   "execution_count": 21,
   "metadata": {},
   "outputs": [],
   "source": [
    "TOTAL_EXPENSES = 10000000000\n",
    "OIL_PRICE = 450000\n",
    "LOSES_LEVEL = 0.025"
   ]
  },
  {
   "cell_type": "markdown",
   "metadata": {},
   "source": [
    "Посчитаем быджет на разработку одной скважины в регионе."
   ]
  },
  {
   "cell_type": "code",
   "execution_count": 26,
   "metadata": {},
   "outputs": [],
   "source": [
    "WELL_EXPENSES = TOTAL_EXPENSES / 200"
   ]
  },
  {
   "cell_type": "code",
   "execution_count": 27,
   "metadata": {},
   "outputs": [],
   "source": [
    "ENOUGH_STOCK = WELL_EXPENSES / OIL_PRICE"
   ]
  },
  {
   "cell_type": "code",
   "execution_count": 28,
   "metadata": {},
   "outputs": [
    {
     "data": {
      "text/plain": [
       "111.11111111111111"
      ]
     },
     "execution_count": 28,
     "metadata": {},
     "output_type": "execute_result"
    }
   ],
   "source": [
    "ENOUGH_STOCK"
   ]
  },
  {
   "cell_type": "code",
   "execution_count": 29,
   "metadata": {},
   "outputs": [
    {
     "data": {
      "text/plain": [
       "<matplotlib.axes._subplots.AxesSubplot at 0x7f2a89cd78d0>"
      ]
     },
     "execution_count": 29,
     "metadata": {},
     "output_type": "execute_result"
    },
    {
     "data": {
      "image/png": "[encoded data removed]",
      "text/plain": [
       "<Figure size 432x288 with 1 Axes>"
      ]
     },
     "metadata": {
      "needs_background": "light"
     },
     "output_type": "display_data"
    }
   ],
   "source": [
    "df_0['product'].hist()"
   ]
  },
  {
   "cell_type": "code",
   "execution_count": 30,
   "metadata": {},
   "outputs": [
    {
     "data": {
      "text/plain": [
       "count    100000.000000\n",
       "mean         92.500000\n",
       "std          44.288691\n",
       "min           0.000000\n",
       "25%          56.497507\n",
       "50%          91.849972\n",
       "75%         128.564089\n",
       "max         185.364347\n",
       "Name: product, dtype: float64"
      ]
     },
     "execution_count": 30,
     "metadata": {},
     "output_type": "execute_result"
    }
   ],
   "source": [
    "df_0['product'].describe()"
   ]
  },
  {
   "cell_type": "code",
   "execution_count": 31,
   "metadata": {
    "scrolled": true
   },
   "outputs": [
    {
     "data": {
      "text/plain": [
       "<matplotlib.axes._subplots.AxesSubplot at 0x7f2a88796810>"
      ]
     },
     "execution_count": 31,
     "metadata": {},
     "output_type": "execute_result"
    },
    {
     "data": {
      "image/png": "[encoded data removed]",
      "text/plain": [
       "<Figure size 432x288 with 1 Axes>"
      ]
     },
     "metadata": {
      "needs_background": "light"
     },
     "output_type": "display_data"
    }
   ],
   "source": [
    "df_1['product'].hist()"
   ]
  },
  {
   "cell_type": "code",
   "execution_count": 32,
   "metadata": {},
   "outputs": [
    {
     "data": {
      "text/plain": [
       "count    100000.000000\n",
       "mean         68.825000\n",
       "std          45.944423\n",
       "min           0.000000\n",
       "25%          26.953261\n",
       "50%          57.085625\n",
       "75%         107.813044\n",
       "max         137.945408\n",
       "Name: product, dtype: float64"
      ]
     },
     "execution_count": 32,
     "metadata": {},
     "output_type": "execute_result"
    }
   ],
   "source": [
    "df_1['product'].describe()"
   ]
  },
  {
   "cell_type": "code",
   "execution_count": 33,
   "metadata": {},
   "outputs": [
    {
     "data": {
      "text/plain": [
       "<matplotlib.axes._subplots.AxesSubplot at 0x7f2a7e282510>"
      ]
     },
     "execution_count": 33,
     "metadata": {},
     "output_type": "execute_result"
    },
    {
     "data": {
      "image/png": "[encoded data removed]",
      "text/plain": [
       "<Figure size 432x288 with 1 Axes>"
      ]
     },
     "metadata": {
      "needs_background": "light"
     },
     "output_type": "display_data"
    }
   ],
   "source": [
    "df_2['product'].hist()"
   ]
  },
  {
   "cell_type": "code",
   "execution_count": 34,
   "metadata": {},
   "outputs": [
    {
     "data": {
      "text/plain": [
       "count    100000.000000\n",
       "mean         95.000000\n",
       "std          44.749921\n",
       "min           0.000000\n",
       "25%          59.450441\n",
       "50%          94.925613\n",
       "75%         130.595027\n",
       "max         190.029838\n",
       "Name: product, dtype: float64"
      ]
     },
     "execution_count": 34,
     "metadata": {},
     "output_type": "execute_result"
    }
   ],
   "source": [
    "df_2['product'].describe()"
   ]
  },
  {
   "cell_type": "markdown",
   "metadata": {},
   "source": [
    "Для того, чтобы окупилась разработка скважины, запасы нефти должны превышать 111 тыс. баррелей. Таких скважин всех меньше в первом районе (менее 25%). Более перспективные - нулевой и второй районы."
   ]
  },
  {
   "cell_type": "markdown",
   "metadata": {},
   "source": [
    "## Расчёт прибыли и рисков "
   ]
  },
  {
   "cell_type": "code",
   "execution_count": 36,
   "metadata": {},
   "outputs": [],
   "source": [
    "def profit(target, predicted):\n",
    "    predicted = pd.Series(predicted, index=target.index)\n",
    "    stock_of_wells = target[predicted.sort_values(ascending=False).index][:200].sum()\n",
    "    return (stock_of_wells*OIL_PRICE - TOTAL_EXPENSES) / 1000000\n",
    "    "
   ]
  },
  {
   "cell_type": "code",
   "execution_count": 37,
   "metadata": {},
   "outputs": [],
   "source": [
    "df_0_sample = df_0.sample(n=500, random_state=1)\n",
    "df_1_sample = df_1.sample(n=500, random_state=1)\n",
    "df_2_sample = df_2.sample(n=500, random_state=1)"
   ]
  },
  {
   "cell_type": "code",
   "execution_count": 38,
   "metadata": {},
   "outputs": [],
   "source": [
    "predicted_0 = model_0.predict(df_0_sample[['f0', 'f1', 'f2']])"
   ]
  },
  {
   "cell_type": "code",
   "execution_count": 39,
   "metadata": {
    "scrolled": true
   },
   "outputs": [
    {
     "data": {
      "text/plain": [
       "903.8510827823372"
      ]
     },
     "execution_count": 39,
     "metadata": {},
     "output_type": "execute_result"
    }
   ],
   "source": [
    "profit_0 = profit(df_0_sample['product'], predicted_0)\n",
    "profit_0"
   ]
  },
  {
   "cell_type": "code",
   "execution_count": 40,
   "metadata": {},
   "outputs": [],
   "source": [
    "predicted_1 = model_1.predict(df_1_sample[['f0', 'f1', 'f2']])"
   ]
  },
  {
   "cell_type": "code",
   "execution_count": 41,
   "metadata": {
    "scrolled": true
   },
   "outputs": [
    {
     "data": {
      "text/plain": [
       "626.0328957964897"
      ]
     },
     "execution_count": 41,
     "metadata": {},
     "output_type": "execute_result"
    }
   ],
   "source": [
    "profit_1 = profit(df_1_sample['product'], predicted_1)\n",
    "profit_1"
   ]
  },
  {
   "cell_type": "code",
   "execution_count": 42,
   "metadata": {},
   "outputs": [],
   "source": [
    "predicted_2 = model_2.predict(df_2_sample[['f0', 'f1', 'f2']])"
   ]
  },
  {
   "cell_type": "code",
   "execution_count": 43,
   "metadata": {
    "scrolled": true
   },
   "outputs": [
    {
     "data": {
      "text/plain": [
       "462.4590274405041"
      ]
     },
     "execution_count": 43,
     "metadata": {},
     "output_type": "execute_result"
    }
   ],
   "source": [
    "profit_2 = profit(df_2_sample['product'], predicted_2)\n",
    "profit_2"
   ]
  },
  {
   "cell_type": "markdown",
   "metadata": {},
   "source": [
    "Совершенно неожиданно наибольшую прибыль предсказывает модель для нулевого региона (около 900 млн), далее идет первый регион - с самыми низкими суммарными и средними  запасами. Здесь прибыль составляет около 626 млн рублей. Для третьего района это значение почти на треть ниже - 462 млн. Возможно, в первом регионе аномально большая доля богатых нефтью месторождений, которые при случайном выборе 500 и дальнейшем прогнозировании 200 наиболее из них перспективных дают большую прибыль, поэтому он на втором месте несмотря на низкие суммарные запасы."
   ]
  },
  {
   "cell_type": "markdown",
   "metadata": {},
   "source": [
    "Теперь последовательно почитаем риски с помощью техники Bootstrap для каждого района."
   ]
  },
  {
   "cell_type": "code",
   "execution_count": 54,
   "metadata": {},
   "outputs": [],
   "source": [
    "def wells_predict(df, model):\n",
    "    state = np.random.RandomState(12345)\n",
    "    values = []\n",
    "    loses = 0\n",
    "    for i in range(1000):\n",
    "        df_sample = df.sample(n=500, random_state=state)\n",
    "        predicted = model.predict(df_sample[['f0', 'f1', 'f2']])\n",
    "        profit_model = profit(df_sample['product'], predicted)\n",
    "        values.append(profit_model)\n",
    "    values = pd.Series(values)\n",
    "    print(\"Средняя прибыль:\", values.mean())\n",
    "    print(\"95% доверительный интервал для прибыли:\", values.quantile(0.025), \";\", values.quantile(0.975))\n",
    "    print(\"Вероятность убытков\", (values < 0).mean())"
   ]
  },
  {
   "cell_type": "code",
   "execution_count": 55,
   "metadata": {},
   "outputs": [
    {
     "name": "stdout",
     "output_type": "stream",
     "text": [
      "Средняя прибыль: 419.9430133621183\n",
      "95% доверительный интервал для прибыли: -87.62683518190397 ; 908.0298339328756\n",
      "Вероятность убытков 0.056\n"
     ]
    }
   ],
   "source": [
    "# Прогноз для 0-го региона\n",
    "wells_predict(df_0, model_0)"
   ]
  },
  {
   "cell_type": "code",
   "execution_count": 56,
   "metadata": {},
   "outputs": [
    {
     "name": "stdout",
     "output_type": "stream",
     "text": [
      "Средняя прибыль: 452.0495129047899\n",
      "95% доверительный интервал для прибыли: 39.56621898618857 ; 861.6660787133532\n",
      "Вероятность убытков 0.014\n"
     ]
    }
   ],
   "source": [
    "# Прогноз для 1-го региона\n",
    "wells_predict(df_1, model_2)"
   ]
  },
  {
   "cell_type": "code",
   "execution_count": 57,
   "metadata": {},
   "outputs": [
    {
     "name": "stdout",
     "output_type": "stream",
     "text": [
      "Средняя прибыль: 376.2954043362683\n",
      "95% доверительный интервал для прибыли: -100.34080768746279 ; 866.4506422704231\n",
      "Вероятность убытков 0.068\n"
     ]
    }
   ],
   "source": [
    "# Прогноз для 2-го региона\n",
    "wells_predict(df_2, model_2)"
   ]
  },
  {
   "cell_type": "markdown",
   "metadata": {},
   "source": [
    "В нулевом и втором районах риски получить убытки составляют 6 и 7 процентов соответственно. При этом нижняя граница доверительного интервала прибыли отрицательная.  \n",
    "Как это ни странно, самый перспективный район - первый. Здесь риск получить убытки менее 2%, 95%-й доверительный интервал распределения прибыли не содержит отрицательных значений, а ее среднее значение составляет 452 млн."
   ]
  }
 ],
 "metadata": {
  "ExecuteTimeLog": [
   {
    "duration": 1092,
    "start_time": "2021-12-14T18:19:59.700Z"
   },
   {
    "duration": 331,
    "start_time": "2021-12-14T18:21:58.780Z"
   },
   {
    "duration": 347,
    "start_time": "2021-12-14T18:22:16.150Z"
   },
   {
    "duration": 10,
    "start_time": "2021-12-14T18:23:56.270Z"
   },
   {
    "duration": 12,
    "start_time": "2021-12-14T18:24:14.757Z"
   },
   {
    "duration": 317,
    "start_time": "2021-12-15T18:35:43.228Z"
   },
   {
    "duration": 1408,
    "start_time": "2021-12-15T18:35:47.949Z"
   },
   {
    "duration": 456,
    "start_time": "2021-12-15T18:35:49.360Z"
   },
   {
    "duration": 15,
    "start_time": "2021-12-15T18:35:49.818Z"
   },
   {
    "duration": 17,
    "start_time": "2021-12-15T18:35:49.835Z"
   },
   {
    "duration": 339,
    "start_time": "2021-12-15T18:35:50.199Z"
   },
   {
    "duration": 261,
    "start_time": "2021-12-15T18:35:55.388Z"
   },
   {
    "duration": 250,
    "start_time": "2021-12-15T18:36:01.638Z"
   },
   {
    "duration": 254,
    "start_time": "2021-12-15T18:36:05.348Z"
   },
   {
    "duration": 6,
    "start_time": "2021-12-15T18:36:23.148Z"
   },
   {
    "duration": 22,
    "start_time": "2021-12-15T18:36:27.177Z"
   },
   {
    "duration": 2156,
    "start_time": "2021-12-15T18:36:34.818Z"
   },
   {
    "duration": 242,
    "start_time": "2021-12-15T18:36:52.788Z"
   },
   {
    "duration": 23,
    "start_time": "2021-12-15T18:37:23.588Z"
   },
   {
    "duration": 12,
    "start_time": "2021-12-15T18:44:47.327Z"
   },
   {
    "duration": 13,
    "start_time": "2021-12-15T18:45:02.886Z"
   },
   {
    "duration": 22,
    "start_time": "2021-12-15T18:45:18.097Z"
   },
   {
    "duration": 13,
    "start_time": "2021-12-15T18:45:49.817Z"
   },
   {
    "duration": 11,
    "start_time": "2021-12-15T18:45:56.118Z"
   },
   {
    "duration": 22,
    "start_time": "2021-12-15T18:46:12.797Z"
   },
   {
    "duration": 4,
    "start_time": "2021-12-15T18:54:02.747Z"
   },
   {
    "duration": 3,
    "start_time": "2021-12-15T19:02:04.486Z"
   },
   {
    "duration": 6184,
    "start_time": "2021-12-15T19:06:04.673Z"
   },
   {
    "duration": 7,
    "start_time": "2021-12-15T19:06:26.674Z"
   },
   {
    "duration": 7,
    "start_time": "2021-12-15T19:06:57.634Z"
   },
   {
    "duration": 15,
    "start_time": "2021-12-15T19:07:18.832Z"
   },
   {
    "duration": 45,
    "start_time": "2021-12-15T19:08:23.159Z"
   },
   {
    "duration": 14,
    "start_time": "2021-12-15T19:09:29.608Z"
   },
   {
    "duration": 103,
    "start_time": "2021-12-15T19:18:40.218Z"
   },
   {
    "duration": 315,
    "start_time": "2021-12-15T19:20:55.554Z"
   },
   {
    "duration": 4,
    "start_time": "2021-12-15T19:21:12.855Z"
   },
   {
    "duration": 293,
    "start_time": "2021-12-15T19:21:38.705Z"
   },
   {
    "duration": 2134,
    "start_time": "2021-12-15T19:21:54.576Z"
   },
   {
    "duration": 483,
    "start_time": "2021-12-15T19:21:56.713Z"
   },
   {
    "duration": 26,
    "start_time": "2021-12-15T19:21:57.199Z"
   },
   {
    "duration": 23,
    "start_time": "2021-12-15T19:21:57.228Z"
   },
   {
    "duration": 26,
    "start_time": "2021-12-15T19:21:57.255Z"
   },
   {
    "duration": 46,
    "start_time": "2021-12-15T19:21:57.283Z"
   },
   {
    "duration": 19,
    "start_time": "2021-12-15T19:21:57.332Z"
   },
   {
    "duration": 35,
    "start_time": "2021-12-15T19:21:57.354Z"
   },
   {
    "duration": 18,
    "start_time": "2021-12-15T19:21:57.421Z"
   },
   {
    "duration": 14,
    "start_time": "2021-12-15T19:21:57.442Z"
   },
   {
    "duration": 57,
    "start_time": "2021-12-15T19:21:57.459Z"
   },
   {
    "duration": 18,
    "start_time": "2021-12-15T19:21:57.520Z"
   },
   {
    "duration": 47,
    "start_time": "2021-12-15T19:22:00.639Z"
   },
   {
    "duration": 555,
    "start_time": "2021-12-15T19:22:00.803Z"
   },
   {
    "duration": 20,
    "start_time": "2021-12-15T19:22:13.204Z"
   },
   {
    "duration": 23,
    "start_time": "2021-12-15T19:25:06.673Z"
   },
   {
    "duration": 13,
    "start_time": "2021-12-15T19:25:35.834Z"
   },
   {
    "duration": 46,
    "start_time": "2021-12-15T19:25:36.273Z"
   },
   {
    "duration": 38,
    "start_time": "2021-12-15T19:25:37.392Z"
   },
   {
    "duration": 25,
    "start_time": "2021-12-15T19:25:38.592Z"
   },
   {
    "duration": 39,
    "start_time": "2021-12-15T19:26:54.292Z"
   },
   {
    "duration": 21,
    "start_time": "2021-12-15T19:29:43.444Z"
   },
   {
    "duration": 35,
    "start_time": "2021-12-15T19:30:11.284Z"
   },
   {
    "duration": 20,
    "start_time": "2021-12-15T19:33:13.833Z"
   },
   {
    "duration": 18,
    "start_time": "2021-12-15T19:33:43.313Z"
   },
   {
    "duration": 109,
    "start_time": "2021-12-15T19:34:08.913Z"
   },
   {
    "duration": 1863,
    "start_time": "2021-12-16T18:16:18.765Z"
   },
   {
    "duration": 522,
    "start_time": "2021-12-16T18:16:20.631Z"
   },
   {
    "duration": 15,
    "start_time": "2021-12-16T18:16:21.156Z"
   },
   {
    "duration": 17,
    "start_time": "2021-12-16T18:16:21.174Z"
   },
   {
    "duration": 47,
    "start_time": "2021-12-16T18:16:21.193Z"
   },
   {
    "duration": 14,
    "start_time": "2021-12-16T18:16:21.243Z"
   },
   {
    "duration": 12,
    "start_time": "2021-12-16T18:16:21.259Z"
   },
   {
    "duration": 61,
    "start_time": "2021-12-16T18:16:21.274Z"
   },
   {
    "duration": 14,
    "start_time": "2021-12-16T18:16:21.338Z"
   },
   {
    "duration": 13,
    "start_time": "2021-12-16T18:16:21.355Z"
   },
   {
    "duration": 59,
    "start_time": "2021-12-16T18:16:21.370Z"
   },
   {
    "duration": 16,
    "start_time": "2021-12-16T18:16:21.433Z"
   },
   {
    "duration": 72,
    "start_time": "2021-12-16T18:16:21.452Z"
   },
   {
    "duration": 99,
    "start_time": "2021-12-16T18:16:21.526Z"
   },
   {
    "duration": 198,
    "start_time": "2021-12-16T18:16:21.628Z"
   },
   {
    "duration": 196,
    "start_time": "2021-12-16T18:16:21.831Z"
   },
   {
    "duration": 4,
    "start_time": "2021-12-16T18:16:24.384Z"
   },
   {
    "duration": 3,
    "start_time": "2021-12-16T18:21:18.620Z"
   },
   {
    "duration": 3,
    "start_time": "2021-12-16T18:28:08.880Z"
   },
   {
    "duration": 5,
    "start_time": "2021-12-16T18:33:08.611Z"
   },
   {
    "duration": 4,
    "start_time": "2021-12-16T18:39:26.321Z"
   },
   {
    "duration": 3,
    "start_time": "2021-12-16T18:39:26.992Z"
   },
   {
    "duration": 5,
    "start_time": "2021-12-16T18:39:28.552Z"
   },
   {
    "duration": 324,
    "start_time": "2021-12-16T18:40:44.702Z"
   },
   {
    "duration": 16,
    "start_time": "2021-12-16T18:41:18.193Z"
   },
   {
    "duration": 448,
    "start_time": "2021-12-16T18:41:29.163Z"
   },
   {
    "duration": 15,
    "start_time": "2021-12-16T18:41:40.784Z"
   },
   {
    "duration": 317,
    "start_time": "2021-12-16T18:42:26.363Z"
   },
   {
    "duration": 316,
    "start_time": "2021-12-16T18:42:35.404Z"
   },
   {
    "duration": 310,
    "start_time": "2021-12-16T18:42:47.304Z"
   },
   {
    "duration": 322,
    "start_time": "2021-12-16T18:42:51.836Z"
   },
   {
    "duration": 15,
    "start_time": "2021-12-16T18:46:14.456Z"
   },
   {
    "duration": 17,
    "start_time": "2021-12-16T18:46:56.873Z"
   },
   {
    "duration": 15,
    "start_time": "2021-12-16T18:47:14.944Z"
   },
   {
    "duration": 100,
    "start_time": "2021-12-16T18:49:52.327Z"
   },
   {
    "duration": 80,
    "start_time": "2021-12-16T18:50:08.033Z"
   },
   {
    "duration": 76,
    "start_time": "2021-12-16T18:50:13.432Z"
   },
   {
    "duration": 89,
    "start_time": "2021-12-16T18:50:16.632Z"
   },
   {
    "duration": 4,
    "start_time": "2021-12-16T19:32:24.200Z"
   },
   {
    "duration": 4,
    "start_time": "2021-12-16T19:32:55.511Z"
   },
   {
    "duration": 120,
    "start_time": "2021-12-16T19:36:13.658Z"
   },
   {
    "duration": 8,
    "start_time": "2021-12-16T19:36:27.999Z"
   },
   {
    "duration": 9,
    "start_time": "2021-12-16T19:36:49.458Z"
   },
   {
    "duration": 17,
    "start_time": "2021-12-16T19:37:16.338Z"
   },
   {
    "duration": 18,
    "start_time": "2021-12-16T19:37:19.818Z"
   },
   {
    "duration": 9,
    "start_time": "2021-12-16T19:40:24.379Z"
   },
   {
    "duration": 334,
    "start_time": "2021-12-16T19:40:39.778Z"
   },
   {
    "duration": 303,
    "start_time": "2021-12-16T19:40:43.339Z"
   },
   {
    "duration": 2137,
    "start_time": "2021-12-16T19:40:56.833Z"
   },
   {
    "duration": 10,
    "start_time": "2021-12-16T19:41:38.452Z"
   },
   {
    "duration": 322,
    "start_time": "2021-12-16T19:41:39.147Z"
   },
   {
    "duration": 5,
    "start_time": "2021-12-16T19:41:49.607Z"
   },
   {
    "duration": 17,
    "start_time": "2021-12-16T19:43:12.533Z"
   },
   {
    "duration": 4,
    "start_time": "2021-12-16T19:47:40.374Z"
   },
   {
    "duration": 10,
    "start_time": "2021-12-16T19:47:47.089Z"
   },
   {
    "duration": 8,
    "start_time": "2021-12-16T19:50:14.290Z"
   },
   {
    "duration": 9,
    "start_time": "2021-12-16T19:50:20.840Z"
   },
   {
    "duration": 4,
    "start_time": "2021-12-16T19:59:27.955Z"
   },
   {
    "duration": 20,
    "start_time": "2021-12-16T19:59:28.744Z"
   },
   {
    "duration": 7,
    "start_time": "2021-12-16T19:59:29.285Z"
   },
   {
    "duration": 12,
    "start_time": "2021-12-16T19:59:29.895Z"
   },
   {
    "duration": 5,
    "start_time": "2021-12-16T20:06:25.151Z"
   },
   {
    "duration": 15,
    "start_time": "2021-12-16T20:06:41.523Z"
   },
   {
    "duration": 6,
    "start_time": "2021-12-16T20:07:53.031Z"
   },
   {
    "duration": 12,
    "start_time": "2021-12-16T20:08:08.240Z"
   },
   {
    "duration": 6,
    "start_time": "2021-12-16T20:08:43.409Z"
   },
   {
    "duration": 7,
    "start_time": "2021-12-16T20:09:15.611Z"
   },
   {
    "duration": 11,
    "start_time": "2021-12-16T20:09:40.190Z"
   },
   {
    "duration": 8,
    "start_time": "2021-12-16T20:10:33.091Z"
   },
   {
    "duration": 613,
    "start_time": "2021-12-16T20:10:33.491Z"
   },
   {
    "duration": 4,
    "start_time": "2021-12-16T20:11:01.281Z"
   },
   {
    "duration": 15,
    "start_time": "2021-12-16T20:11:01.791Z"
   },
   {
    "duration": 7,
    "start_time": "2021-12-16T20:11:05.961Z"
   },
   {
    "duration": 639,
    "start_time": "2021-12-16T20:11:07.021Z"
   },
   {
    "duration": 7,
    "start_time": "2021-12-16T20:11:15.911Z"
   },
   {
    "duration": 10,
    "start_time": "2021-12-16T20:11:16.361Z"
   },
   {
    "duration": 10,
    "start_time": "2021-12-16T20:11:29.261Z"
   },
   {
    "duration": 10,
    "start_time": "2021-12-16T20:13:11.501Z"
   },
   {
    "duration": 12,
    "start_time": "2021-12-16T20:13:38.477Z"
   },
   {
    "duration": 4,
    "start_time": "2021-12-16T20:15:31.872Z"
   },
   {
    "duration": 14,
    "start_time": "2021-12-16T20:15:34.101Z"
   },
   {
    "duration": 11,
    "start_time": "2021-12-16T20:15:36.041Z"
   },
   {
    "duration": 4,
    "start_time": "2021-12-16T20:16:02.122Z"
   },
   {
    "duration": 18,
    "start_time": "2021-12-16T20:16:04.881Z"
   },
   {
    "duration": 10,
    "start_time": "2021-12-16T20:16:06.479Z"
   },
   {
    "duration": 7,
    "start_time": "2021-12-16T20:16:07.751Z"
   },
   {
    "duration": 16,
    "start_time": "2021-12-16T20:18:34.906Z"
   },
   {
    "duration": 10,
    "start_time": "2021-12-16T20:18:35.575Z"
   },
   {
    "duration": 8,
    "start_time": "2021-12-16T20:18:37.503Z"
   },
   {
    "duration": 7,
    "start_time": "2021-12-16T20:19:18.694Z"
   },
   {
    "duration": 8,
    "start_time": "2021-12-16T20:19:19.305Z"
   },
   {
    "duration": 6,
    "start_time": "2021-12-16T20:19:53.815Z"
   },
   {
    "duration": 7,
    "start_time": "2021-12-16T20:19:54.055Z"
   },
   {
    "duration": 7,
    "start_time": "2021-12-16T20:20:33.665Z"
   },
   {
    "duration": 7,
    "start_time": "2021-12-16T20:20:33.855Z"
   },
   {
    "duration": 5,
    "start_time": "2021-12-16T20:21:52.296Z"
   },
   {
    "duration": 16,
    "start_time": "2021-12-16T20:21:52.615Z"
   },
   {
    "duration": 11,
    "start_time": "2021-12-16T20:21:54.015Z"
   },
   {
    "duration": 4,
    "start_time": "2021-12-16T20:22:42.713Z"
   },
   {
    "duration": 7,
    "start_time": "2021-12-16T20:22:51.112Z"
   },
   {
    "duration": 7,
    "start_time": "2021-12-16T20:22:57.830Z"
   },
   {
    "duration": 5,
    "start_time": "2021-12-16T20:23:03.812Z"
   },
   {
    "duration": 8,
    "start_time": "2021-12-16T20:23:06.532Z"
   },
   {
    "duration": 7,
    "start_time": "2021-12-16T20:23:20.253Z"
   },
   {
    "duration": 9,
    "start_time": "2021-12-16T20:23:26.952Z"
   },
   {
    "duration": 5,
    "start_time": "2021-12-16T20:24:54.852Z"
   },
   {
    "duration": 16,
    "start_time": "2021-12-16T20:24:55.093Z"
   },
   {
    "duration": 6,
    "start_time": "2021-12-16T20:24:55.572Z"
   },
   {
    "duration": 8,
    "start_time": "2021-12-16T20:24:56.890Z"
   },
   {
    "duration": 5,
    "start_time": "2021-12-16T20:24:58.572Z"
   },
   {
    "duration": 7,
    "start_time": "2021-12-16T20:24:59.372Z"
   },
   {
    "duration": 8,
    "start_time": "2021-12-16T20:25:00.053Z"
   },
   {
    "duration": 8,
    "start_time": "2021-12-16T20:25:00.532Z"
   },
   {
    "duration": 1375,
    "start_time": "2021-12-16T20:26:22.328Z"
   },
   {
    "duration": 1236,
    "start_time": "2021-12-16T20:26:23.705Z"
   },
   {
    "duration": 15,
    "start_time": "2021-12-16T20:26:28.263Z"
   },
   {
    "duration": 16,
    "start_time": "2021-12-16T20:26:28.463Z"
   },
   {
    "duration": 21,
    "start_time": "2021-12-16T20:26:28.643Z"
   },
   {
    "duration": 13,
    "start_time": "2021-12-16T20:26:28.823Z"
   },
   {
    "duration": 13,
    "start_time": "2021-12-16T20:26:29.013Z"
   },
   {
    "duration": 21,
    "start_time": "2021-12-16T20:26:29.261Z"
   },
   {
    "duration": 14,
    "start_time": "2021-12-16T20:26:29.352Z"
   },
   {
    "duration": 13,
    "start_time": "2021-12-16T20:26:29.525Z"
   },
   {
    "duration": 22,
    "start_time": "2021-12-16T20:26:29.723Z"
   },
   {
    "duration": 14,
    "start_time": "2021-12-16T20:26:38.883Z"
   },
   {
    "duration": 47,
    "start_time": "2021-12-16T20:26:39.523Z"
   },
   {
    "duration": 78,
    "start_time": "2021-12-16T20:26:41.245Z"
   },
   {
    "duration": 19,
    "start_time": "2021-12-16T20:26:48.733Z"
   },
   {
    "duration": 23,
    "start_time": "2021-12-16T20:26:53.623Z"
   },
   {
    "duration": 3,
    "start_time": "2021-12-16T20:27:12.003Z"
   },
   {
    "duration": 4,
    "start_time": "2021-12-16T20:27:13.783Z"
   },
   {
    "duration": 4,
    "start_time": "2021-12-16T20:27:14.953Z"
   },
   {
    "duration": 6,
    "start_time": "2021-12-16T20:27:15.652Z"
   },
   {
    "duration": 312,
    "start_time": "2021-12-16T20:27:17.433Z"
   },
   {
    "duration": 14,
    "start_time": "2021-12-16T20:27:19.512Z"
   },
   {
    "duration": 322,
    "start_time": "2021-12-16T20:27:23.283Z"
   },
   {
    "duration": 15,
    "start_time": "2021-12-16T20:27:26.812Z"
   },
   {
    "duration": 305,
    "start_time": "2021-12-16T20:27:34.923Z"
   },
   {
    "duration": 15,
    "start_time": "2021-12-16T20:27:35.230Z"
   },
   {
    "duration": 5,
    "start_time": "2021-12-16T20:27:43.144Z"
   },
   {
    "duration": 16,
    "start_time": "2021-12-16T20:27:44.313Z"
   },
   {
    "duration": 6,
    "start_time": "2021-12-16T20:27:45.353Z"
   },
   {
    "duration": 8,
    "start_time": "2021-12-16T20:27:47.113Z"
   },
   {
    "duration": 6,
    "start_time": "2021-12-16T20:28:11.413Z"
   },
   {
    "duration": 7,
    "start_time": "2021-12-16T20:28:12.211Z"
   },
   {
    "duration": 6,
    "start_time": "2021-12-16T20:28:15.752Z"
   },
   {
    "duration": 9,
    "start_time": "2021-12-16T20:28:16.661Z"
   },
   {
    "duration": 6,
    "start_time": "2021-12-16T20:48:12.896Z"
   },
   {
    "duration": 16,
    "start_time": "2021-12-16T20:48:14.887Z"
   },
   {
    "duration": 6,
    "start_time": "2021-12-16T20:48:15.845Z"
   },
   {
    "duration": 10,
    "start_time": "2021-12-16T20:48:16.667Z"
   },
   {
    "duration": 7,
    "start_time": "2021-12-16T20:48:17.886Z"
   },
   {
    "duration": 9,
    "start_time": "2021-12-16T20:48:18.723Z"
   },
   {
    "duration": 7,
    "start_time": "2021-12-16T20:48:19.926Z"
   },
   {
    "duration": 9,
    "start_time": "2021-12-16T20:48:20.756Z"
   },
   {
    "duration": 492,
    "start_time": "2021-12-16T21:05:29.082Z"
   },
   {
    "duration": 7700,
    "start_time": "2021-12-16T21:05:38.749Z"
   },
   {
    "duration": 8247,
    "start_time": "2021-12-16T21:09:31.420Z"
   },
   {
    "duration": 7892,
    "start_time": "2021-12-16T21:09:49.150Z"
   },
   {
    "duration": 7553,
    "start_time": "2021-12-16T21:10:41.809Z"
   },
   {
    "duration": 1442,
    "start_time": "2021-12-19T14:54:51.770Z"
   },
   {
    "duration": 490,
    "start_time": "2021-12-19T14:54:53.215Z"
   },
   {
    "duration": 17,
    "start_time": "2021-12-19T14:54:53.709Z"
   },
   {
    "duration": 31,
    "start_time": "2021-12-19T14:54:53.729Z"
   },
   {
    "duration": 22,
    "start_time": "2021-12-19T14:54:53.763Z"
   },
   {
    "duration": 14,
    "start_time": "2021-12-19T14:54:53.787Z"
   },
   {
    "duration": 13,
    "start_time": "2021-12-19T14:54:53.804Z"
   },
   {
    "duration": 24,
    "start_time": "2021-12-19T14:54:53.862Z"
   },
   {
    "duration": 18,
    "start_time": "2021-12-19T14:54:53.889Z"
   },
   {
    "duration": 12,
    "start_time": "2021-12-19T14:54:53.910Z"
   },
   {
    "duration": 22,
    "start_time": "2021-12-19T14:54:53.960Z"
   },
   {
    "duration": 13,
    "start_time": "2021-12-19T14:54:53.984Z"
   },
   {
    "duration": 81,
    "start_time": "2021-12-19T14:54:53.999Z"
   },
   {
    "duration": 82,
    "start_time": "2021-12-19T14:54:54.082Z"
   },
   {
    "duration": 104,
    "start_time": "2021-12-19T14:54:54.258Z"
   },
   {
    "duration": 113,
    "start_time": "2021-12-19T14:54:54.366Z"
   },
   {
    "duration": 99,
    "start_time": "2021-12-19T14:54:54.561Z"
   },
   {
    "duration": 33,
    "start_time": "2021-12-19T14:56:48.050Z"
   },
   {
    "duration": 35,
    "start_time": "2021-12-19T14:57:28.482Z"
   },
   {
    "duration": 33,
    "start_time": "2021-12-19T14:58:04.517Z"
   },
   {
    "duration": 4,
    "start_time": "2021-12-19T15:03:27.903Z"
   },
   {
    "duration": 3,
    "start_time": "2021-12-19T15:03:30.945Z"
   },
   {
    "duration": 457,
    "start_time": "2021-12-19T15:03:32.223Z"
   },
   {
    "duration": 310,
    "start_time": "2021-12-19T15:03:32.954Z"
   },
   {
    "duration": 3,
    "start_time": "2021-12-19T15:03:58.641Z"
   },
   {
    "duration": 4,
    "start_time": "2021-12-19T15:04:03.815Z"
   },
   {
    "duration": 3,
    "start_time": "2021-12-19T15:04:04.313Z"
   },
   {
    "duration": 7,
    "start_time": "2021-12-19T15:04:05.000Z"
   },
   {
    "duration": 448,
    "start_time": "2021-12-19T15:04:07.775Z"
   },
   {
    "duration": 16,
    "start_time": "2021-12-19T15:04:08.225Z"
   },
   {
    "duration": 367,
    "start_time": "2021-12-19T15:04:08.243Z"
   },
   {
    "duration": 18,
    "start_time": "2021-12-19T15:04:08.613Z"
   },
   {
    "duration": 370,
    "start_time": "2021-12-19T15:04:08.633Z"
   },
   {
    "duration": 16,
    "start_time": "2021-12-19T15:04:12.625Z"
   },
   {
    "duration": 5,
    "start_time": "2021-12-19T15:04:48.237Z"
   },
   {
    "duration": 5,
    "start_time": "2021-12-19T15:05:12.781Z"
   },
   {
    "duration": 17,
    "start_time": "2021-12-19T15:05:14.252Z"
   },
   {
    "duration": 7,
    "start_time": "2021-12-19T15:05:15.260Z"
   },
   {
    "duration": 10,
    "start_time": "2021-12-19T15:05:16.358Z"
   },
   {
    "duration": 6,
    "start_time": "2021-12-19T15:05:20.551Z"
   },
   {
    "duration": 10,
    "start_time": "2021-12-19T15:05:21.519Z"
   },
   {
    "duration": 7,
    "start_time": "2021-12-19T15:05:22.250Z"
   },
   {
    "duration": 10,
    "start_time": "2021-12-19T15:05:22.790Z"
   },
   {
    "duration": 384,
    "start_time": "2021-12-19T15:13:07.958Z"
   },
   {
    "duration": 9,
    "start_time": "2021-12-19T15:13:35.428Z"
   },
   {
    "duration": 1113,
    "start_time": "2021-12-19T15:14:16.323Z"
   },
   {
    "duration": 6,
    "start_time": "2021-12-19T15:15:31.260Z"
   },
   {
    "duration": 665,
    "start_time": "2021-12-19T15:15:32.186Z"
   },
   {
    "duration": 5,
    "start_time": "2021-12-19T15:17:28.799Z"
   },
   {
    "duration": 756,
    "start_time": "2021-12-19T15:18:10.518Z"
   },
   {
    "duration": 8398,
    "start_time": "2021-12-19T15:18:26.715Z"
   },
   {
    "duration": 9745,
    "start_time": "2021-12-19T15:18:43.583Z"
   },
   {
    "duration": 9411,
    "start_time": "2021-12-19T15:18:53.331Z"
   },
   {
    "duration": 6,
    "start_time": "2021-12-19T15:20:26.906Z"
   },
   {
    "duration": 8480,
    "start_time": "2021-12-19T15:20:28.965Z"
   },
   {
    "duration": 8339,
    "start_time": "2021-12-19T15:21:04.213Z"
   },
   {
    "duration": 8356,
    "start_time": "2021-12-19T15:21:12.559Z"
   }
  ],
  "kernelspec": {
   "display_name": "Python 3 (ipykernel)",
   "language": "python",
   "name": "python3"
  },
  "language_info": {
   "codemirror_mode": {
    "name": "ipython",
    "version": 3
   },
   "file_extension": ".py",
   "mimetype": "text/x-python",
   "name": "python",
   "nbconvert_exporter": "python",
   "pygments_lexer": "ipython3",
   "version": "3.9.5"
  },
  "toc": {
   "base_numbering": 1,
   "nav_menu": {},
   "number_sections": true,
   "sideBar": true,
   "skip_h1_title": true,
   "title_cell": "Table of Contents",
   "title_sidebar": "Contents",
   "toc_cell": false,
   "toc_position": {},
   "toc_section_display": true,
   "toc_window_display": false
  }
 },
 "nbformat": 4,
 "nbformat_minor": 2
}
